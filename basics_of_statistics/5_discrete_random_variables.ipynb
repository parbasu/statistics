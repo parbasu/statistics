{
 "cells": [
  {
   "cell_type": "code",
   "execution_count": 1,
   "metadata": {},
   "outputs": [],
   "source": [
    "#we use the following libraries\n",
    "\n",
    "import math\n",
    "import numpy as np\n",
    "import pandas as pd\n",
    "import seaborn as sns\n",
    "import matplotlib.pyplot as plt"
   ]
  },
  {
   "cell_type": "markdown",
   "metadata": {},
   "source": [
    "**Discrete Random Variables and Their Probability Distributions**\n",
    "\n",
    "A **random variable** is a variable whose value depends on chance, accordingly its value is associated with a probability. A **discrete random variable** is a random variable whose possible values can be listed. A **probability distribution** is a listing of the possible values and corresponding probabilities of a discrete random variable, often represented by a formula.\n",
    "\n",
    "A graph of the probability distribution that displays the probability of each value, represented by a vertical bar whose height equals the probability and possible values of a discrete random variable on the horizontal axis is called **probability histogram** or **proportion histogram**.\n",
    "\n",
    "The **sum of the probabilities of a discrete random variable** for any discrete random variable $X$ is written as\n",
    "\n",
    "$$\\sum_{i=1}^{N} \\text{P}(X = x_i) = 1$$\n",
    "\n",
    "In a large number of independent observations of a random variable $X$ the probability histogram will approximate the probability histogram for $X$.\n",
    "\n",
    "**Discrete Random Variables - An Example**\n",
    "\n",
    "Let us elaborate the concept of **discrete random variables** by an exercise.\n",
    "\n",
    "Say, our population under investigation consists of all students, all lecturers and all administrative staff members at FU Berlin. We randomly pick on of those individuals and ask him/her about his/her number of siblings. Consequently, the answer, the number of siblings of a randomly selected individual is a discrete random variable, denoted as $X$. The actual value (number of siblings) of $X$ depends on chance, but we may still list all values of $X$, e.g. 0 sibling, 1 sibling, 2 siblings, and so on. For simplification purposes we limit the number of siblings in this exercise to 5.\n",
    "\n",
    "According the the website of FU Berlin there are 30,600 students, 5,750 doctoral students, 341 professors and 4,270 staff members associated to FU Berlin. In total there are 40,961 individuals (please note, that the actual numbers might change over time) at FU Berlin.\n",
    "\n",
    "As we do not have any idea of the associated probability for a particular number of sibling, we start some experiments:\n",
    "\n",
    "We pick **one** randomly chosen individual and ask for the number of siblings.\n",
    "\n",
    "The answer is: 0\n",
    "\n",
    "We pick **ten** randomly chosen individuals and ask them about siblings.\n",
    "\n",
    "The answers are: 4, 0, 2, 0, 2, 2, 1, 2, 0, 3\n",
    "\n",
    "We pick *one hundred* individuals and ask for siblings.\n",
    "\n",
    "The answers are: 2, 0, 1, 2, 2, 0, 0, 0, 1, 3, 1, 2, 1, 0, 2, 0, 0, 2, 1, 1, 1, 1, 2, 2, 1, 2, 2, 0, 1, 1, 2, 4, 0, 3, 2, 0, 1, 2, 2, 2, 1, 2, 1, 1, 2, 1, 2, 2, 2, 1, 1, 1, 1, 1, 1, 2, 1, 1, 2, 2, 1, 1, 0, 2, 0, 1, 0, 1, 2, 1, 2, 1, 2, 2, 2, 1, 0, 2, 2, 4, 1, 2, 1, 1, 1, 1, 1, 0, 2, 1, 0, 1, 0, 1, 1, 2, 0, 2, 0, 0\n",
    "\n",
    "You see, the form of notation is getting quite fast confusing if we increase the number of individuals we interrogate. Thus, we decide to note the **frequency**, and the corresponding **relative frequency** of the values given for the classes 0, 1, 2, 3, 4, 5 (to be explicit: the last class corresponds to 5 or more siblings), and present the experiment in form of a nicely formatted table.\n",
    "\n",
    "We pick 1,000 individuals and ask them about siblings.\n",
    "\n",
    "\\begin{array}{c|lcr}\n",
    "\\text{Siblings} & \\text{Frequency} & \\text{Relative}\\\\\n",
    "\\ x & f & \\text{frequency}\\\\\n",
    "\\hline\n",
    "0 & 205 & 0.205  \\\\\n",
    "1 & 419 & 0.419  \\\\\n",
    "2 & 280 & 0.28 \\\\\n",
    "3 & 65 & 0.065  \\\\\n",
    "4 & 29 & 0.029  \\\\\n",
    "5 & 2 & 0.002 \\\\\n",
    "\\hline\n",
    " & 1000 & 1\n",
    "\\end{array}\n",
    "\n",
    "After we listed all possible values and calculated the corresponding relative frequencies, we still do not know exactly the probabilities of the discrete random variable X for the whole population of 40,961 individuals, associated to FU Berlin. However, after talking to 1,000 randomly chosen individuals we are quite confident that such a large number of interviews - compared to the number of the whole population (40,961) - will give us a good approximation of the probabilities of the discrete random variable $X$ (number of siblings) for the whole population.\n",
    "\n",
    "In a next step, we draw a **proportion histogram** (of the sample), which displays the possible values of a discrete random variable $X$ on the horizontal axis and the proportions of those values on the vertical axis. A proportion histogram may serve as an approximation to the probability distribution too. Please note, that the **sum of the probabilities** as well as the **sum of the proportions** of any discrete random variables is 1.\n",
    "\n",
    "![proportion_hist_FU_siblings](proportion_hist_FU_siblings.png)"
   ]
  },
  {
   "cell_type": "markdown",
   "metadata": {},
   "source": [
    "In many real life applications we do not know the population’s probability distribution - **and we never will**. This is mainly because in many applications the population is much to large, or there is no chance to get reliable data, nor we have the money nor the time for exhaustive data collection. However, by increasing the number of independent observations of a random variable $X$, the proportion histogram of the sample will approximate better and better the probability histogram of the whole population. To prove this claim we scale up our experiment:\n",
    "\n",
    "We sequentially pick 10, 100 and 1,000 randomly chosen individuals associated with FU Berlin and ask them about the number of siblings. We will plot each of our three experiments and finally compare it to the actual/real probability distribution (Please note that this example is a toy example and does not represent the real number of sibling in the population of individuals at the FU Berlin)\n",
    "\n",
    "![diff_samples_siblings](diff_samples_siblings.png)\n",
    "\n",
    "The graphs confirm our hypothesis, by increasing the number of observations the proportion histogram of the sample will approximate better and better the probability histogram of the whole population."
   ]
  },
  {
   "cell_type": "markdown",
   "metadata": {},
   "source": [
    "**The Mean and Standard Deviation of a Discrete Random Variable**\n",
    "\n",
    "**Mean of a Discrete Random Variable**\n",
    "\n",
    "The **mean of a discrete random variable** $X$ is denoted $\\mu_X$ or, when no confusion will arise, simply $\\mu$. The terms **expected value**, $E(X)$, and **expectation** are commonly used in place of the term mean.\n",
    "\n",
    "$$E(X) = \\sum_{i=1}^{N}x_i \\text{P}(X=x_i)$$\n",
    "\n",
    "In a large number of indepedent observations of a random variable $X$, the $E(X)$ of those observations - the sample - will approximate the mean, $\\mu$, of the population. The larger the number of observations, the closer $E(X)$ is to $\\mu$.\n",
    "\n",
    "Let us recall our experiment from the previous section, when we picked 1,000 individuals and asked for the number of siblings. Let us again take a look at the table, summarizing the experiment\n",
    "\n",
    "\\begin{array}{c|lcr}\n",
    "\\text{Siblings} & \\text{Frequency} & \\text{Relative}\\\\\n",
    "\\ x & f & \\text{frequency}\\\\\n",
    "\\hline\n",
    "0 & 205 & 0.205  \\\\\n",
    "1 & 419 & 0.419  \\\\\n",
    "2 & 280 & 0.28 \\\\\n",
    "3 & 65 & 0.065  \\\\\n",
    "4 & 29 & 0.029  \\\\\n",
    "5 & 2 & 0.002 \\\\\n",
    "\\hline\n",
    " & 1000 & 1\n",
    "\\end{array}\n",
    "\n",
    "Let us calculate the expected value (mean) for that experiment\n",
    "\n",
    "\\begin{align}\n",
    "\\\\ \n",
    "& E(X) = \\sum_{i=1}^{N}x_iP(X=x_i) \\\\\n",
    "& = 0 \\cdot P(X=0) + 1 \\cdot P(X=1)+ 2 \\cdot P(X=2) + 3 \\cdot P(X=3) +4 \\cdot P(X=4)+ 5 \\cdot P(X \\ge 5) \\\\\n",
    "& = 0 \\cdot 0.205 + 1 \\cdot 0.419 + 2 \\cdot 0.28+ 3 \\cdot 0.065  + 4 \\cdot 0.029  + 5 \\cdot 0.002  \\\\\n",
    "& = 1.3\n",
    "\\end{align}\n",
    "\n",
    "The resulting expected value of 1.3 is close to the mean μ, which we calculate by using the population’s probabilities (real probabilities are taken from the lower right figure in the previous section).\n",
    "\n",
    "$$ \\mu=1⋅0.2+2⋅0.425+3⋅0.275+4⋅0.07+5⋅0.025=1.31$$\n"
   ]
  },
  {
   "cell_type": "code",
   "execution_count": 2,
   "metadata": {},
   "outputs": [
    {
     "name": "stdout",
     "output_type": "stream",
     "text": [
      "[4 2 6 4 2 6 1 5 1 6]\n"
     ]
    },
    {
     "data": {
      "image/png": "[encoded data removed]",
      "text/plain": [
       "<Figure size 432x288 with 1 Axes>"
      ]
     },
     "metadata": {
      "needs_background": "light"
     },
     "output_type": "display_data"
    }
   ],
   "source": [
    "# six-sided die in Python\n",
    "\n",
    "# Pick a seed for the random number generator\n",
    "np.random.seed(101)\n",
    "\n",
    "# Generate random integers between 1 and 6 for a sample size of 10\n",
    "n_sims = 10\n",
    "print(np.random.randint(1, 7, n_sims))\n",
    "\n",
    "# Generate random integers between 1 and 6 for a sample size of 10000\n",
    "n_sims = 10_000\n",
    "x = np.random.randint(1, 7, n_sims)\n",
    "\n",
    "# Plot the histogram\n",
    "sns.distplot(x, kde = False)\n",
    "plt.title(\"Histogram of simulated dice rolls\")\n",
    "plt.xlim([0,7]);\n",
    "\n",
    "pass"
   ]
  },
  {
   "cell_type": "code",
   "execution_count": 3,
   "metadata": {},
   "outputs": [
    {
     "data": {
      "image/png": "[encoded data removed]",
      "text/plain": [
       "<Figure size 432x288 with 1 Axes>"
      ]
     },
     "metadata": {},
     "output_type": "display_data"
    }
   ],
   "source": [
    "# Graphing the expected value\n",
    "\n",
    "sns.set()\n",
    "\n",
    "np.random.seed(101)\n",
    "\n",
    "trials = []\n",
    "mean_of_trials = []\n",
    "\n",
    "for i in range(1,1000):\n",
    "    trials.append(i)\n",
    "    mean_of_trials.append(np.random.randint(1, 7, i).mean())\n",
    "    \n",
    "plt.plot(trials, mean_of_trials)\n",
    "plt.axhline(3.5, color='red', label = 'Expected Value')\n",
    "plt.legend()\n",
    "\n",
    "pass"
   ]
  },
  {
   "cell_type": "markdown",
   "metadata": {},
   "source": [
    "The graph shows that after some initial volatile behavior, the curve finally flattens  and approximated the $E(X)$ of $3.5$"
   ]
  },
  {
   "cell_type": "markdown",
   "metadata": {},
   "source": [
    "**Standard Deviation of a Discrete Random Variable**\n",
    "\n",
    "The standard deviation of a discrete random variable $X$ is denoted $\\sigma_X$ or, when no confusion will arise, simply $\\sigma$. It is defined as\n",
    "\n",
    "$$\\sigma = \\sqrt{ \\sum_{i=1}^{N} (x_i - \\mu)^2 \\text{P} (X = x_i)}$$"
   ]
  },
  {
   "cell_type": "code",
   "execution_count": 4,
   "metadata": {},
   "outputs": [
    {
     "name": "stdout",
     "output_type": "stream",
     "text": [
      "3.512 1.7092688495377197\n"
     ]
    }
   ],
   "source": [
    "# std in python\n",
    "\n",
    "np.random.seed(101)\n",
    "\n",
    "mean = np.random.randint(1,7, 500).mean()\n",
    "std = np.random.randint(1,7, 500).std()\n",
    "\n",
    "print(mean,std)"
   ]
  },
  {
   "cell_type": "markdown",
   "metadata": {},
   "source": [
    "Roughly speaking, our experiment showed that after $500$ rolls, on average, the value of a dice number is $1.71$ from the experimental mean of $3.5$."
   ]
  },
  {
   "cell_type": "markdown",
   "metadata": {},
   "source": [
    "**The Binomial Distribution**\n",
    "\n",
    "Many applications of probability and statistics concern the repetition of an experiment. We call each repetition a **trial**, and we are particularly interested in cases in which the experiment (each trial) has **only two possible outcomes**: Success or failure, true or false, 0 or 1.\n",
    "\n",
    "To analyze repeated trials of an experiment that has two possible outcomes, we require knowledge of **factorials**, **binomial coefficients**, and **Bernoulli trials**.\n",
    "\n",
    "On the basis of those prerequisites we learn about the the **binomial distribution**, which is a **probability distribution** for the number of successes in a sequence of **Bernoulli trials**\n",
    "\n",
    "**The Binomial Probability Formula**\n",
    "\n",
    "In $n$ Bernoulli trials, the number of outcomes that contain exactly $x$ successes equals the binomial coefficient $n \\choose x$.\n",
    "\n",
    "Let $X$ denote the total number of successes in $n$ Bernoulli trials with success probability $p$. Then the probability distribution of the random variable $X$ is given by:\n",
    "\n",
    "$$P(X = x) = {n \\choose x}p^x(1 - p)^{n-x}, \\qquad x = 0, 1, 2, . . . , n$$\n",
    "\n",
    "The random variable $X$ is called a **binomial random variable** and is said to have the binomial distribution with parameters $n$ and $p$.\n",
    "\n",
    "Let us consider an example taken form the real world.\n",
    "\n",
    "Let us suppose that long term statistics tell us, that the chance for passing the final statistics exam is 0.3. \n",
    "\n",
    "Let us consider a class of 25 students. What is the chance that exactly 3 students of that particular class will pass the final statistics exam?\n",
    "\n"
   ]
  },
  {
   "cell_type": "code",
   "execution_count": 5,
   "metadata": {},
   "outputs": [
    {
     "data": {
      "text/plain": [
       "0.02427998871170025"
      ]
     },
     "execution_count": 5,
     "metadata": {},
     "output_type": "execute_result"
    }
   ],
   "source": [
    "# binomial in python\n",
    "\n",
    "from scipy.stats import binom\n",
    "\n",
    "binom.pmf(3, 25, 0.3)"
   ]
  },
  {
   "cell_type": "markdown",
   "metadata": {},
   "source": [
    "The probability that exactly 3 out of 25 students $P(X=3)$ will pass the final statistics exam is quite low. What about the probability that exactly 15 out of 25 students $P(X=15)$ will pass the final statistics exam. "
   ]
  },
  {
   "cell_type": "code",
   "execution_count": 6,
   "metadata": {},
   "outputs": [
    {
     "data": {
      "text/plain": [
       "0.001324897424235183"
      ]
     },
     "execution_count": 6,
     "metadata": {},
     "output_type": "execute_result"
    }
   ],
   "source": [
    "binom.pmf(15, 25, 0.3)"
   ]
  },
  {
   "cell_type": "markdown",
   "metadata": {},
   "source": [
    "The probability of $P(X=15)$ is approximately 0.1%. We can continue with our experiments to find out all the probabilities of **exactly one outcome** for $k=0,1,2,...,n$. Please note that for our particular example it is not very informative to know the probability to pass the exam of exactly one particular number $k$ of students. For us it is of higher informational interest if we could answer the question what is the probability that $k$ or less students $P(X≤k)$ will pass the exam, or equally interesting that $k$ or more students $P(X≥k)$ will pass the exam."
   ]
  },
  {
   "cell_type": "markdown",
   "metadata": {},
   "source": [
    "What is the probability that $9$ or less students will pass the final statistics exam $P(X≤9)$. So we are interested in the probability that $0$ out of $25$, or $1$ out of $25$, or $2$ out of $25$, …, or $9$ out of $25$ students will pass the exam. To calculate this probability we need to calculate  $P(X=0)+P(X=1)+P(X=2)+...+P(X=9)$."
   ]
  },
  {
   "cell_type": "code",
   "execution_count": 7,
   "metadata": {},
   "outputs": [
    {
     "data": {
      "text/plain": [
       "0.8105639764950543"
      ]
     },
     "execution_count": 7,
     "metadata": {},
     "output_type": "execute_result"
    }
   ],
   "source": [
    "binom.cdf(9,25,0.3)"
   ]
  },
  {
   "cell_type": "markdown",
   "metadata": {},
   "source": [
    "The probability that 9 or less students will pass the statistics exam $P(X≤9)$ is $81.1$%. In turn the means that the probability that $10$ or more students will pass the exam is $P(X>9)=1−P(X≤9)$ or only $18.9$%"
   ]
  },
  {
   "cell_type": "markdown",
   "metadata": {},
   "source": [
    "**Visualizing the Binomial Distribution**\n",
    "\n",
    "![binom_distribution](binom_distribution.png)\n",
    "\n",
    "In addition we visualize the discussed probabilities form above: $P(X=3), P(X=15), P(X≤9), P(X>9)$ and and the **corresponding cummulative binomial probability distribution function** \n",
    "\n",
    "![binom_dist_lower_upper](binom_dist_lower_upper.png)\n",
    "\n",
    "![cdf_binom](cdf_binom.png)\n",
    "\n",
    "In order to conclude this section, and in order to give you some intuition of the shapes of different binomial probability distributions, three different binomial probability and its corresponding cumulative binomial provability distributions for $p=0.1$, $p=0.5$, $p=0.9$ are given below.\n",
    "\n",
    "![cdf_binom_p1](cdf_binom_p1.png)\n",
    "![cdf_binom_p2](cdf_binom_p2.png)\n",
    "![cdf_binom_p3](cdf_binom_p3.png)"
   ]
  },
  {
   "cell_type": "markdown",
   "metadata": {},
   "source": [
    "**Mean and Standard Deviation of a Binomial Random Variable**\n",
    "\n",
    "The mean and standard deviation of a binomial random variable with parameters $n$ and $p$ are\n",
    "\n",
    "$$\\mu = np$$\n",
    "\n",
    "and\n",
    "\n",
    "$$\\sigma = np(1 - p)$$\n",
    "\n",
    "respectively.\n",
    "\n",
    "Let us recall the example, from the previous section. The probability to pass the final statistic exam is $0.3$. We consider a class of $25$ students. The random variable $X$, which corresponds to success in the exam is a binomial random variable, and follows a binomial distribution with parameters $n=25$ and $p=0.3$. Thus the mean, μ, and the standard deviation, $\\sigma$, can be computed as follows:\n",
    "\n",
    "$$\\mu = np = 25 \\times 0.3 = 7.5$$\n",
    "\n",
    "and\n",
    "\n",
    "$$\\sigma = np(1 - p) = 25 \\times 0.3 \\times (1-0.3) = 5.25$$\n",
    "\n",
    "The following plot visualizes the binomial distribution with parameters $n=25$ and $p=0.3$, and its mean $\\mu$ and standard deviation $\\sigma$.\n",
    "\n",
    "![hist_mean_std_binom](hist_mean_std_binom.png)"
   ]
  },
  {
   "cell_type": "markdown",
   "metadata": {},
   "source": [
    "**Binomial Approximation to the Hypergeometric Distribution**\n",
    "\n",
    "We often want to determine the proportion (percentage) of members of a finite population that have a specified attribute. Generally, the population under consideration is too large for the population proportion to be found by taking a census. Suppose that a simple random sample of size $n$ is taken from a population in which the proportion of members that have a specified attribute is $p$. Then a random variable of primary importance in the estimation of $p$ is the number of members sampled that have the specified attribute, which we denote $X$. The exact probability distribution of $X$ depends on whether the sampling is done **with** or **without replacement**. If sampling is done with replacement, the sampling process constitutes Bernoulli trials: Each selection of a member from the population corresponds to a trial. A success occurs on a trial if the member selected in that trial has the specified attribute; otherwise, a failure occurs. The trials are **independent** because the sampling is done with replacement. The success probability remains the same from trial to trial, it always equals the proportion of the population that has the specified attribute. Therefore the random variable $X$ has the **binomial distribution** with parameters $n$ (the sample size) and $p$ (the population proportion).\n",
    "\n",
    "In reality, however, sampling is ordinarily done **without replacement**. Under these circumstances, the sampling process does not constitute Bernoulli trials because the trials are **not independent** and the success probability varies from trial to trial. In other words, the random variable $X$ does not have a binomial distribution. Its distribution is referred to as a hypergeometric distribution.\n",
    "\n",
    "In practice, however, a hyper-geometric distribution can usually be approximated by a binomial distribution. The reason is that, if the **sample size does not exceed $5$% of the population size**, there is little difference between sampling with and without replacement.\n",
    "\n",
    "**Sampling and the Binomial Distribution**\n",
    "\n",
    "Suppose that a simple random sample of size $n$ is taken from a finite population in which the proportion of members that have a specified attribute is p. Then the number of members sampled that have the specified attribute\n",
    "\n",
    "- has exactly a binomial distribution with parameters $n$ and $p$ if the sampling is done with replacement and\n",
    "\n",
    "- has approximately a binomial distribution with parameters $n$ and $p$ if the sampling is done without replacement and the sample size does not exceed $5$% of the population size.\n",
    "\n",
    "\n"
   ]
  },
  {
   "cell_type": "markdown",
   "metadata": {},
   "source": [
    "**The Poisson Distribution**\n",
    "\n",
    "Another important discrete probability distribution is the **Poisson distribution**. The Poisson distribution is often used to describe the probability of a number of events occurring in a given time or space interval, with the probability of occurrence of these events being very small. However, since the number of trials is very large, these events do actually occur.\n",
    "\n",
    "The random variable $X$, called a **poisson random variable**, is considered the number of occurrences (or arrivals) of such events in a given interval in time or space. A Poisson random variable has infinitely many possible values, namely, all whole numbers.\n",
    "\n",
    "Assuming that $\\lambda$ is the expected value of such arrivals in a time interval of fixed length, the probability of observing exactly $x$ events is given by the probability mass function\n",
    "\n",
    "$$P(X = x) = e^{-\\lambda}\\frac{\\lambda x}{x!}, \\qquad x = 0, 1, 2, . . . ,$$\n",
    "\n",
    "here $\\lambda$ is a positive real number, which represents the average number of events occurring during a fixed time interval, and $ e \\approx 2.7182818$. Thus, any particular Poisson distribution is identified by one parameter, usually denoted $\\lambda$. For example, if the event occurs on average $10$ times per second, in $60$ seconds the event will occur on average $600$ times and $\\lambda = 600$.\n",
    "\n",
    "**The Poisson Distribution - An Example**\n",
    "\n",
    "We focus on the one-hundred-year flood, a concept that is widely used in river engineering to design flood control measures.\n",
    "\n",
    "Let us recall the mathematical notation of a **poisson random variable**:\n",
    "\n",
    "$$P(X = x) = e^{-\\lambda}\\frac{\\lambda x}{x!}, \\qquad x = 0, 1, 2, . . . ,$$\n",
    "\n",
    "where $\\lambda$ is a positive real number, which represents the average number of events occurring during a fixed time interval, and $e \\approx 2.7182818$.\n",
    "\n",
    "The *100-year flood* is a shorthand term for a flood with an annual exceedance probability of 1% and an average recurrence interval of 100 years. However, the term can be confusing for people because, not unreasonably, as they imagine the term describes floods, which occur once every 100-years. However, this is not true. A flood with an annual exceedance probability of 1% indicates that with a probability of 0.01 a flood of a magnitude corresponding to a 100 year flood occurs in **any** given year.\n",
    "\n",
    "Putting this in the context of a Poisson distribution the expected value, $E(x)=\\lambda$, of such a flood during the fixed interval of 100 years is set to $\\lambda =100 \\times 0.01=1$. Consequently, the Poisson random variable $X$ is the number of occurrences, which of course may take several values depending our question. We may be interested in the probability that such an flood event will not occur during the 100-year interval $P(X=0)$, or we want to know the probability the such an flood event will occur exactly once during the 100-year interval, thus $P(X=1)$, or we want to know the probability that two or more of such flood events occur during the 100-year interval, thus $P(X≥2)$. Plugging these values in the equation from above yields\n",
    "\n",
    "$$P(X = 0) = e^{-1}\\frac{1 \\times 0}{0!},$$\n",
    "\n",
    "$$P(X = 1) = e^{-1}\\frac{1 \\times 1}{1!}, $$\n",
    "\n",
    "$$P(X \\ge 2) = 1 - P(X = 1) - P(X = 0). $$"
   ]
  },
  {
   "cell_type": "code",
   "execution_count": 8,
   "metadata": {},
   "outputs": [
    {
     "name": "stdout",
     "output_type": "stream",
     "text": [
      "0.36787944117144233\n",
      "0.36787944117144233\n",
      "0.26424111765711533\n"
     ]
    }
   ],
   "source": [
    "#poisson in python\n",
    "\n",
    "from scipy.stats import poisson\n",
    "\n",
    "print(poisson.pmf(0,1))\n",
    "\n",
    "print(poisson.pmf(1,1))\n",
    "\n",
    "print(1 - poisson.cdf(1,1))"
   ]
  },
  {
   "cell_type": "markdown",
   "metadata": {},
   "source": [
    "The results indicate that the probability that no flood $P(X=0)$ of a magnitude corresponding to a $100$ year flood will occur during a period of $100$ years is $0.37$, which is interestingly as likely as the occurrence of exactly one flood $P(X=1)$. The probability that two or more $P(X≥2)$ of such flood events occur during the 100-year interval is $0.26$, and thus lower. However, please note that the probability that two or more $P(X≥2)$ of such flood events occur during the $100$-year interval is approximately $26$%!\n",
    "\n",
    "![poisson_flood](poisson_flood.png)"
   ]
  },
  {
   "cell_type": "markdown",
   "metadata": {},
   "source": [
    "**Shape, Mean and Standard Deviation of a Poisson Distribution**\n",
    "\n",
    "All Poisson distributions are **right skewed**. The **mean**, $\\mu$, and the **standard deviation**, $\\sigma$, of a Poisson random variable with parameter $\\lambda$ are \n",
    "\n",
    "$$ \\mu = \\lambda$$\n",
    "\n",
    "and\n",
    "\n",
    "$$\\sigma = \\sqrt{\\lambda}$$.\n",
    "\n",
    "**Poisson Approximation to the Binomial Distribution**\n",
    "\n",
    "For those situations in which $n$ is large and $p$ is very small, the Poisson distribution can be used to approximate the binomial distribution. Recall the binomial probability distribution:\n",
    "\n",
    "$$P(X = x) = {n \\choose x}p^x(1-p)^{n-x}, \\qquad x = 0, 1, 2, . . . , n$$\n",
    "\n",
    "As in the “100 year flood” example above, $n$ is a large number (100) and $p$ is a small number (0.01). Plugging into the equation from above $P(x=1)$ yields\n",
    "\n",
    "\\begin{align}\n",
    "\\ P(X = 1) & = {100 \\choose 1}\\times 0.01^1\\times (1 - 0.01)^{100 -1} \\\\\n",
    " & = 100\\times 0.01\\times 0.3697296  \\\\ \n",
    " & = 0.3697296\n",
    "\\end{align}\n",
    "\n",
    "This result is very close to the result obtained by <mark> poisson.pmf(1,1) </mark>, which is 0.36787944117144233. The appropriate Poisson distribution is the one whose mean is the same as that of the binomial distribution; that is, $\\lambda = np$, which in our example is $\\lambda = 100 \\times 0.01 = 1$.\n",
    "\n",
    "In order to conclude this section, and in order to give you some intuition of the shapes of different Poisson probability distributions, three different Poisson probability and its corresponding cumulative Poisson probability distributions for $\\lambda = 2.5, \\lambda = 7$ and $\\lambda = 12$ are given below.\n",
    "\n",
    "![possion_lambda1](possion_lambda1.png)\n",
    "\n",
    "**Shape, Mean and Standard Deviation of a Poisson Distribution**\n",
    "\n",
    "All Poisson distributions are **right skewed**. The **mean**, $\\mu$, and the **standard deviation**, $\\sigma$, of a Poisson random variable with parameter $\\lambda$ are \n",
    "\n",
    "$$ \\mu = \\lambda$$\n",
    "\n",
    "and\n",
    "\n",
    "$$\\sigma = \\sqrt{\\lambda}$$.\n",
    "\n",
    "**Poisson Approximation to the Binomial Distribution**\n",
    "\n",
    "For those situations in which $n$ is large and $p$ is very small, the Poisson distribution can be used to approximate the binomial distribution. Recall the binomial probability distribution:\n",
    "\n",
    "$$P(X = x) = {n \\choose x}p^x(1-p)^{n-x}, \\qquad x = 0, 1, 2, . . . , n$$\n",
    "\n",
    "As in the “100 year flood” example above, $n$ is a large number (100) and $p$ is a small number (0.01). Plugging into the equation from above $P(X=1)$ yields\n",
    "\n",
    "\\begin{align}\n",
    "\\ P(X = 1) & = {100 \\choose 1}\\times 0.01^1\\times (1 - 0.01)^{100 -1} \\\\\n",
    " & = 100\\times 0.01\\times 0.3697296  \\\\ \n",
    " & = 0.3697296\n",
    "\\end{align}\n",
    "\n",
    "This result is very close to the result obtained by <mark> poisson.pmf(1,1) </mark>, which is 0.36787944117144233. The appropriate Poisson distribution is the one whose mean is the same as that of the binomial distribution; that is, $\\lambda = np$, which in our example is $\\lambda = 100 \\times 0.01 = 1$.\n",
    "\n",
    "In order to conclude this section, and in order to give you some intuition of the shapes of different Poisson probability distributions, three different Poisson probability and its corresponding cumulative Poisson probability distributions for $\\lambda = 2.5, \\lambda = 7$ and $\\lambda = 12$ are given below.\n",
    "\n",
    "![possion_lambda1](possion_lambda1.png)\n",
    "![possion_lambda2](possion_lambda2.png)\n",
    "![possion_lambda3](possion_lambda3.png)\n"
   ]
  },
  {
   "cell_type": "code",
   "execution_count": null,
   "metadata": {},
   "outputs": [],
   "source": []
  }
 ],
 "metadata": {
  "kernelspec": {
   "display_name": "Python 3",
   "language": "python",
   "name": "python3"
  },
  "language_info": {
   "codemirror_mode": {
    "name": "ipython",
    "version": 3
   },
   "file_extension": ".py",
   "mimetype": "text/x-python",
   "name": "python",
   "nbconvert_exporter": "python",
   "pygments_lexer": "ipython3",
   "version": "3.8.3"
  }
 },
 "nbformat": 4,
 "nbformat_minor": 4
}
