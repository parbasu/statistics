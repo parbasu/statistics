{
 "cells": [
  {
   "cell_type": "code",
   "execution_count": 1,
   "metadata": {},
   "outputs": [],
   "source": [
    "#we use the following libraries\n",
    "\n",
    "import math\n",
    "import numpy as np\n",
    "import pandas as pd\n",
    "import seaborn as sns\n",
    "import matplotlib.pyplot as plt"
   ]
  },
  {
   "cell_type": "markdown",
   "metadata": {},
   "source": [
    "**Inferential Statistics and Confidence Intervals**\n",
    "\n",
    "**Inferential statistics** consists of methods that use sample results to make decisions or predictions about a population. This area of applied statistics is fundamental in all situations, when knowledge about the population is limited or even missing at all, which is the case for most real life applications. In addition, in many cases it is just too expensive, very time consuming, or virtually impossible to collect data of every member of a population. Therefore, a sample is taken from the population and an appropriate sample statistic is calculated. Then, based on the value of the sample statistic, a value is assigned to the corresponding (unknown) population parameter.\n",
    "\n",
    "This procedure, by which a numerical value is assigned to a population parameter based on the information collected from a sample is called **estimation**. The numerical value is called an **estimate** of the population parameter. The sample statistic used to estimate a population parameter is called an **estimator**.\n",
    "\n",
    "**The Point Estimate**\n",
    "\n",
    "Given a sample, the value of the computed sample statistic gives a **point estimate** of the corresponding population parameter. For example, the sample mean $(\\bar{x})$, is a point estimate of the corresponding population mean, $\\mu$, or the sample standard deviation $s$ is a point estimate for the population standard deviation $\\sigma$. However, one should note that any randomly selected sample from a population is expected to yield a different value of the sample statistic (**sampling error**). In other words the sample mean $\\bar{x}$ and the sample standard deviation s will vary from sample to sample, whereas the population mean $\\mu$ and the population standard deviation $\\sigma$ are fixed. Consequently, the point estimate almost always differs from the true value of the population. Therefore, any point estimate should be accompanied with information that indicates the accuracy of that estimate."
   ]
  },
  {
   "cell_type": "markdown",
   "metadata": {},
   "source": [
    "**The Interval Estimate**\n",
    "\n",
    "Instead of assigning a single value to a population parameter, an **interval estimation** gives a probabilistic statement, relating the given interval to the probability that this interval actually contains the true (unknown) population parameter.\n",
    "\n",
    "The **level of confidence** is chosen a priori and thus depends on the users preferences. It is denoted by \n",
    "\n",
    "$$100(1-\\alpha)\\%$$\n",
    "\n",
    "Although any value of confidence level can be chosen, the most common values are $90$%,$95$%, and $99$%. When expressed as probability, the confidence level is called the **confidence coefficient** and is denoted by $(1-\\alpha)$. Most common confidence coefficients are $0.90,0.95$ and $0.99$, respectively.\n",
    "\n",
    "A $100(1-\\alpha)$% **confidence interval** is an interval estimate around a population parameter $\\theta$ (here $\\theta$ is a placeholder for any population parameter of interest such as the mean $\\mu$, or the standard deviation $\\sigma$, among others) that, under repeated random samples of size $N$, is expected to include $\\theta$'s true value $100(1-\\alpha)$% of the time.\n",
    "\n",
    "The actual number added to and subtracted from the point estimate is called the **margin of error**.\n",
    "\n",
    "$$CI : \\text{Point estimate} \\pm \\text{Margin of error}$$\n",
    "\n",
    "The margin of error constitutes of two entities. First, the so called **critical value**, and second, a measure of variability of the **sampling distribution**. The critical value is a numerical value that corresponds to the a priori set level of confidence. It is sometimes denoted as $z^{\\star}$ or $z^{\\star}_{\\alpha/2}$. The measure of variability is the **standard error**, denoted as $\\frac{\\sigma}{\\sqrt{n}}$.\n",
    "\n",
    "Thus, the margin of error (ME) is expressed as\n",
    "\n",
    "$$ME = z^{\\star} \\times \\frac{\\sigma}{\\sqrt{n}}$$\n",
    "\n",
    "Let us look at a figure for a better comprehension.\n",
    "\n",
    "![margin_of_error](margin_of_error.png)\n",
    "\n",
    "Accordingly, the full equation for the confidence interval is given by\n",
    "\n",
    "$$CI: \\text{Point estimate} \\pm z^*_{\\alpha/2} \\times \\frac{\\sigma}{\\sqrt{n}}$$"
   ]
  },
  {
   "cell_type": "code",
   "execution_count": 2,
   "metadata": {
    "scrolled": true
   },
   "outputs": [
    {
     "name": "stdout",
     "output_type": "stream",
     "text": [
      "-1.6448536269514729\n",
      "1.6448536269514722\n",
      "-1.9599639845400545\n",
      "1.959963984540054\n",
      "-2.575829303548901\n",
      "2.5758293035489004\n"
     ]
    }
   ],
   "source": [
    "from scipy.stats import norm\n",
    "\n",
    "# Confidence level of 90% (alpha = 0.1)\n",
    "\n",
    "print(norm.ppf(0.05,loc=0,scale=1))\n",
    "print(norm.ppf(0.95,loc=0,scale=1))\n",
    "\n",
    "# Confidence level of 95% (alpha = 0.05)\n",
    "print(norm.ppf(0.025,loc=0,scale=1))\n",
    "print(norm.ppf(0.975,loc=0,scale=1))\n",
    "\n",
    "\n",
    "# Confidence level of 99% (alpha = 0.001)\n",
    "print(norm.ppf(0.005,loc=0,scale=1))\n",
    "print(norm.ppf(0.995,loc=0,scale=1))"
   ]
  },
  {
   "cell_type": "markdown",
   "metadata": {},
   "source": [
    "So we have:\n",
    "\n",
    "$$CI_{90\\%}: \\text{Point estimate} \\pm 1.64 \\times \\frac{\\sigma}{\\sqrt{n}}$$\n",
    "\n",
    "$$CI_{95\\%}: \\text{Point estimate} \\pm 1.96 \\times \\frac{\\sigma}{\\sqrt{n}}$$\n",
    "\n",
    "$$CI_{99\\%}: \\text{Point estimate} \\pm 2.58 \\times \\frac{\\sigma}{\\sqrt{n}}$$"
   ]
  },
  {
   "cell_type": "markdown",
   "metadata": {},
   "source": [
    "**The Width of a Confidence Interval and the Trade-Off between Precision and Accuracy**\n",
    "\n",
    "**A thought experiment**\n",
    "\n",
    "A thought experiment\n",
    "Consider the mean daily temperature in Berlin for a nice summer day in June. Let us say we measure a mean daily temperature of $19^∘C$. Now the task is to estimate the mean temperature of tomorrow.\n",
    "\n",
    "There are of course several more or less sophisticated approaches to achieve this task. One may look up the data archives and base the estimation on descriptive statistics, or one may even apply a very sophisticated modeling approach with tons of model parameters, or one may just make a guess based on common sense. However, no matter what approach is chosen the result will always be an estimate, associated with a some level of uncertainty.\n",
    "\n",
    "To reflect that uncertainty we do not present a point estimate of tomorrows temperature but an interval estimate. In order to achieve a high **accuracy** of our estimate, which means we want to be very confident that our interval contains the actual value, we apply a very large margin of error. For example we a state that tomorrows temperature is $19±20^∘C$. Based on common sense we would probably agree that is is very likely that the mean daily temperature of any summer day in June in Berlin is between $−1$ and $39^∘C$.\n",
    "\n",
    "Although the interval is very large and it may even contain all mean daily temperatures in June for Berlin in the weather observation history, there is still a small chance that we are wrong. Imagine any natural or man-made cataclysmic event such as a huge volcanic eruption, an asteroid impact or a nuclear war; in those fortunately very unlike cases even such a huge margin of error may not guarantee that tomorrows mean temperature is within the given interval. Nonetheless, it is important to note that **in order to achieve a high accuracy we increase the confidence level and thus the width of the confidence interval.**\n",
    "\n",
    "OK, we state that tomorrow’s temperature is in the range of $19±20^∘C$. However, is such a statement, although of high accuracy, of any value? Does this estimate help us to decide what clothes to wear tomorrow? No, not at all!\n",
    "\n",
    "Thus, in many applications we are not interested in **accuracy** alone, but we are also interested in the **precision** of an estimate. A guess of tomorrows temperature of higher precision would be $$19±2^∘C$$. Such a prediction definitely helps us to decide which cloths to wear; however, the chance that we are wrong is much higher. Thus, it is important to memorize that by **increasing the precision we narrow down the width of the confidence interval and thus decrease the confidence level**. This trade off between accuracy and precision when selecting a proper confidence level is very important in real life applications."
   ]
  },
  {
   "cell_type": "markdown",
   "metadata": {},
   "source": [
    "**Estimation of a Population Mean - The $z$-Distribution**\n",
    "\n",
    "The estimation of a population mean given a random sample is a very common task. If the population standard deviation $(\\sigma)$ is known, the construction of a confidence interval for the population mean $(\\mu)$ is based on the normally distributed sampling distribution of the sample means (assured by the **central limit theorem**). Recall that if the population from which the sample is taken is not normally distributed, the sample size, $n$, should be $>30$.\n",
    "\n",
    "The $100(1-\\alpha)$% confidence interval for $\\mu$ is given by \n",
    "\n",
    "$$CI: \\bar x \\pm z^*_{\\alpha/2}\\times \\sigma_{\\bar x}$$\n",
    "\n",
    "where\n",
    "\n",
    "$$\\sigma_{\\bar x} = \\frac{\\sigma}{\\sqrt{n}}$$\n",
    "\n",
    "The value of $z^{\\star}_{\\alpha / 2}$, corresponds to the critical value. The critical value is a quantity that is related to the desired level of confidence. Typical values for $z^{\\star}_{\\alpha /2}$ are $1.64$,$1.96$, and $2.58$, corresponding to a confidence level of $90$%, $95$% and $99$%. The critical is multiplied with the standard error, given by $\\sigma_{\\bar}$, in order to widen or narrowing the margin of error.\n",
    "\n",
    "The standard error $(\\sigma_{\\bar{x}})$ is given by the ratio of the standard deviation of the population $(\\sigma)$ and the square root of the sample size $n$. It describes the degree to which the computed sample statistic may be expected to differ from one sample to another. The product of the critical value and the standard error is called the **margin of error**. It is the quantity that is subtracted from and added to the value of $\\bar{x}$ to obtain the confidence interval for $\\mu$."
   ]
  },
  {
   "cell_type": "markdown",
   "metadata": {},
   "source": [
    "**The One-Mean $z$-Interval Procedure**\n",
    "\n",
    "In order to better understand the estimation of a population mean and the construction of a confidence interval we discuss the procedure based on a data set. Therefore we load the *students* data set."
   ]
  },
  {
   "cell_type": "code",
   "execution_count": 3,
   "metadata": {},
   "outputs": [],
   "source": [
    "students_df = pd.read_csv(\"https://userpage.fu-berlin.de/soga/200/2010_data_sets/students.csv\")"
   ]
  },
  {
   "cell_type": "markdown",
   "metadata": {},
   "source": [
    "In this section we focus on the height of female students. Let us assume that the height measurements given in the data set are a very good approximation for population of interest, which is the height of female students in *cm*. The <mark> height </mark> variable of female students is roughly normally distributed - which is supported by the symmetric bell shape of the population histogram."
   ]
  },
  {
   "cell_type": "code",
   "execution_count": 4,
   "metadata": {},
   "outputs": [
    {
     "data": {
      "image/png": "[encoded data removed]",
      "text/plain": [
       "<Figure size 720x360 with 1 Axes>"
      ]
     },
     "metadata": {},
     "output_type": "display_data"
    }
   ],
   "source": [
    "sns.set(rc={'figure.figsize':(10,5)})\n",
    "\n",
    "female_df = students_df[students_df['gender'] == 'Female']\n",
    "\n",
    "sns.distplot(female_df['height'], kde=False)\n",
    "\n",
    "pass"
   ]
  },
  {
   "cell_type": "markdown",
   "metadata": {},
   "source": [
    "Based on the data given, we first compute the population mean $\\mu$ and the population standard deviation $\\sigma$."
   ]
  },
  {
   "cell_type": "code",
   "execution_count": 5,
   "metadata": {},
   "outputs": [
    {
     "data": {
      "text/plain": [
       "163.65328467153284"
      ]
     },
     "execution_count": 5,
     "metadata": {},
     "output_type": "execute_result"
    }
   ],
   "source": [
    "mean_height = female_df['height'].mean()\n",
    "mean_height"
   ]
  },
  {
   "cell_type": "code",
   "execution_count": 6,
   "metadata": {},
   "outputs": [
    {
     "data": {
      "text/plain": [
       "7.919725792052591"
      ]
     },
     "execution_count": 6,
     "metadata": {},
     "output_type": "execute_result"
    }
   ],
   "source": [
    "std_height = female_df['height'].std()\n",
    "std_height"
   ]
  },
  {
   "cell_type": "markdown",
   "metadata": {},
   "source": [
    "We then constructed a probability distribution defined by the previously calculated parameters $\\mu$ and $\\sigma$ and plot it on top of the histogram."
   ]
  },
  {
   "cell_type": "code",
   "execution_count": 7,
   "metadata": {},
   "outputs": [
    {
     "data": {
      "image/png": "[encoded data removed]",
      "text/plain": [
       "<Figure size 720x360 with 1 Axes>"
      ]
     },
     "metadata": {},
     "output_type": "display_data"
    }
   ],
   "source": [
    "from scipy.stats import norm\n",
    "\n",
    "\n",
    "sns.set(rc={'figure.figsize':(10,5)})\n",
    "\n",
    "x = np.linspace(female_df['height'].min(), female_df['height'].max())\n",
    "y_norm = norm.pdf(x, loc=mean_height, scale=std_height)\n",
    "\n",
    "female_df = students_df[students_df['gender'] == 'Female']\n",
    "\n",
    "sns.distplot(female_df['height'], kde=True, bins = 30, kde_kws={'alpha':0.5}, color='blue')\n",
    "plt.plot(x,y_norm, color='red')\n",
    "\n",
    "\n",
    "pass"
   ]
  },
  {
   "cell_type": "markdown",
   "metadata": {},
   "source": [
    "Now we take a random sample with a sample size of $n=10$ from the probability distribution."
   ]
  },
  {
   "cell_type": "code",
   "execution_count": 8,
   "metadata": {},
   "outputs": [
    {
     "data": {
      "text/plain": [
       "166.1"
      ]
     },
     "execution_count": 8,
     "metadata": {},
     "output_type": "execute_result"
    }
   ],
   "source": [
    "sample_size = 10\n",
    "my_sample = np.random.choice(female_df['height'], sample_size)\n",
    "x_bar = np.mean(my_sample)\n",
    "x_bar"
   ]
  },
  {
   "cell_type": "markdown",
   "metadata": {},
   "source": [
    "Our random sample yields a sample mean $\\bar{x}$ of $161.02$. This is our point estimate for the population parameter of interest, which in this case is the mean height of female students $(\\mu)$.\n",
    "\n",
    "How accurate is our point estimate?"
   ]
  },
  {
   "cell_type": "code",
   "execution_count": 9,
   "metadata": {},
   "outputs": [
    {
     "data": {
      "text/plain": [
       "False"
      ]
     },
     "execution_count": 9,
     "metadata": {},
     "output_type": "execute_result"
    }
   ],
   "source": [
    "x_bar == mean_height"
   ]
  },
  {
   "cell_type": "markdown",
   "metadata": {},
   "source": [
    "OK, we expected that!\n",
    "\n",
    "Let us calculate some interval estimtes by constructing the $90$%,$95$% and $99$% confidence intervals. Recall the equation for a confidence interval.\n",
    "\n",
    "$$CI: \\text{Point estimate} \\pm z^*_{\\alpha/2} \\times \\frac{\\sigma}{\\sqrt{n}}$$\n",
    "\n",
    "The critical value $z^{\\star}{\\alpha/2}$ evaluates to $1.64,1.96,$ and $2.58$ for confidence levels of 90%, 95% and 99%, respectively.\n",
    "\n",
    "Applied to our height data the equation yields\n",
    "\n",
    "$$CI_{90\\%}: 161.02 \\pm 1.64 \\times \\frac{7.92}{\\sqrt{10}} = 161.02 \\pm 4.12$$\n",
    "\n",
    "Thus, we can state that we are $90$% confident that the mean height of students (the population parameter $\\mu$) is between $156.9$ and $165.14$ cm.\n",
    "\n",
    "$$CI_{95\\%}: 161.02 \\pm 1.96 \\times \\frac{7.92}{\\sqrt{10}} = 161.02 \\pm 4.91$$\n",
    "\n",
    "Thus, we can state that we are $90$% confident that the mean height of students (the population parameter $\\mu$) is between $156.9$ and $165.14$ cm.\n",
    "\n",
    "\n",
    "$$CI_{99\\%}: 161.02 \\pm 2.58 \\times \\frac{7.92}{\\sqrt{10}} = 161.02 \\pm 6.45$$\n",
    "\n",
    "Thus, we can state that we are $90$% confident that the mean height of students (the population parameter $\\mu$) is between $156.9$ and $165.14$ cm.\n",
    "\n",
    "It is obvious that **if we want to have a higher confidence that the unknown population parameter is contained in the interval, the margin of error becomes larger**.\n",
    "\n",
    "Just for a sanity check, let us investigate if we actually captured the true population value within our interval estimations. It is important to remember that the confidence interval does not assign a probability to our sample mean, but it states that under repeated random sampling, the confidence interval is expected to include the population mean $100(1-\\alpha)$% of the time. In order to test that claim we write a simple Python function"
   ]
  },
  {
   "cell_type": "code",
   "execution_count": 10,
   "metadata": {},
   "outputs": [],
   "source": [
    "students_df = pd.read_csv(\"https://userpage.fu-berlin.de/soga/200/2010_data_sets/students.csv\")\n",
    "\n",
    "female_df = students_df[students_df['gender'] == 'Female']\n",
    "\n",
    "mean_height = female_df['height'].mean()\n",
    "std_height = female_df['height'].std()\n",
    "\n",
    "sample_size = 10\n",
    "\n",
    "trials = [10,50,100,1000,1000]\n",
    "\n",
    "# will come back to this later\n",
    "# def CI_eval(pop_mean, sigma, n, estimate, alpha)"
   ]
  },
  {
   "cell_type": "markdown",
   "metadata": {},
   "source": [
    "**Estimation of a Population Mean - The $t$-Distribution**\n",
    "\n",
    "So far we relied on $\\sigma$, the population standard deviation, to infer the population mean. The population parameter $\\sigma$ is used to calculate the standard error $(SE = \\frac{\\sigma}{\\sqrt{n}})$ which is one constituent of the margin of error. However, what if we do not know the population standard deviation, as is usually the case?\n",
    "\n",
    "One may use the sample standard deviation, denoted by $s$, as an estimate for the population standard deviation.\n",
    "\n",
    "$$\\text{if } s \\approx \\sigma \\text{ then } SE = \\frac{s}{\\sqrt{n}}$$\n",
    "\n",
    "However, we should note that in contrast to $\\sigma$ the sample standard deviation, $s$, will vary from sample to sample and that $s < \\sigma$. One may increase the sample size $n$, and thus $s$ will become a better estimate for $\\sigma$. However, no matter what, as long as we do not know $\\sigma$ we have to estimate two quantities when carrying out the inference procedure: both the mean , $\\mu$ and the standard deviation $\\sigma$. That is why using $s$ as an estimate for $\\sigma$ tends to add more uncertainty to the estimation of the mean $\\mu$. To counteract that extra uncertainty we apply the so called **$t$-distribution** or **Student's $t$-Distribution** to calculate the margin of error $(ME)$.\n",
    "\n",
    "The procedure to obtain a confidence interval for a population mean when the population standard deviation $\\sigma$ is unknown is essentially the same as if the population standard deviation is known, except that now the $t$-distribution and the sample standard deviation $s$ are invoked instead of the standard normal distribution ($z$-scores) and the population standard deviation $\\sigma$, respectively.\n",
    "\n",
    "Recall the construction of a confidence interval\n",
    "\n",
    "$$ CI : \\text{point estimate} \\pm ME$$\n",
    "\n",
    "The margin of error $(ME)$ constitutes of the critical value and a measure for the variability of the sampling distribution. The critical value is $t^{*}_{df,\\alpha/2}$ for the given confidence level and degrees of freedom. It's value is obtained from a $t$-distribution for $n-1$ degrees of freedom. The measure for the variability of the sampling distribution is the **standard error**, $SE$. As the population standard deviation $\\sigma$ is not known, it is replaced by the sample standard deviation $s$, thus resulting in $SE = \\frac{s}{\\sqrt{n}}$.\n",
    "\n",
    "Consequently, the $100(1-\\alpha)$% confidence interval for $\\mu$ is \n",
    "\n",
    "$$CI : \\bar{x} \\pm t^{\\star}_{df,\\alpha/2} \\frac{s}{\\sqrt{n}}$$\n",
    "\n",
    "Let us construct some confidence intervals for practice. For the purpose of this exercise $df$ is set to $12$."
   ]
  },
  {
   "cell_type": "code",
   "execution_count": 11,
   "metadata": {},
   "outputs": [
    {
     "data": {
      "text/plain": [
       "3.0545395883368704"
      ]
     },
     "execution_count": 11,
     "metadata": {},
     "output_type": "execute_result"
    }
   ],
   "source": [
    "import scipy.stats as stats\n",
    "\n",
    "# Confidence level of 90% (alpha = 0.1)\n",
    "stats.t.ppf(0.05, 12)\n",
    "stats.t.ppf(0.95,12)\n",
    "\n",
    "# Confidence level of 95% (alpha = 0.05)\n",
    "stats.t.ppf(0.025, 12)\n",
    "stats.t.ppf(0.975,12)\n",
    "\n",
    "# Confidence level of 99% (alpha = 0.01)\n",
    "stats.t.ppf(0.005, 12)\n",
    "stats.t.ppf(0.995,12)"
   ]
  },
  {
   "cell_type": "markdown",
   "metadata": {},
   "source": [
    "$$CI_{90\\%}: \\text{Point estimate} \\pm 1.78 \\times \\frac{s}{\\sqrt{n}}$$\n",
    "\n",
    "$$CI_{95\\%}: \\text{Point estimate} \\pm 2.18 \\times \\frac{s}{\\sqrt{n}}$$\n",
    "\n",
    "$$CI_{99\\%}: \\text{Point estimate} \\pm 3.05 \\times \\frac{s}{\\sqrt{n}}$$"
   ]
  },
  {
   "cell_type": "markdown",
   "metadata": {},
   "source": [
    "**The One-Mean t-Interval Procedure**\n",
    "\n",
    "We practice the *The One-Mean $t$-Interval Procedure* to construct confidence intervals with a data set. Therefore we load the *students* data set. \n",
    "\n",
    "In this section we focus again on the height of female students. Let us assume that the height measurements given in the data set are a very good approximation to population of interest, so that we sample from the probability density function based on mean and the standard deviation of the data set.\n"
   ]
  },
  {
   "cell_type": "code",
   "execution_count": 12,
   "metadata": {},
   "outputs": [
    {
     "name": "stdout",
     "output_type": "stream",
     "text": [
      "163.65328467153284 7.919725792052591\n"
     ]
    }
   ],
   "source": [
    "students_df = pd.read_csv((\"https://userpage.fu-berlin.de/soga/200/2010_data_sets/students.csv\"))\n",
    "\n",
    "female_df = students_df[students_df['gender']=='Female']\n",
    "\n",
    "female_height = female_df['height']\n",
    "\n",
    "mean = female_height.mean()\n",
    "std = female_height.std()\n",
    "\n",
    "print(mean, std)"
   ]
  },
  {
   "cell_type": "markdown",
   "metadata": {},
   "source": [
    "We take a random sample with a sample size of $n=6$ from the probability distribution, defined by the mean and standard deviation of the  <mark> height </mark> variable, and calculate the sample mean $\\bar{x}$ and the sample standard deviation $s$."
   ]
  },
  {
   "cell_type": "code",
   "execution_count": 13,
   "metadata": {},
   "outputs": [
    {
     "name": "stdout",
     "output_type": "stream",
     "text": [
      "161.83333333333334 6.517071598672384\n"
     ]
    }
   ],
   "source": [
    "np.random.seed(30)\n",
    "\n",
    "sample_size = 6\n",
    "\n",
    "my_sample = np.random.choice(female_height, sample_size)\n",
    "\n",
    "x_bar = np.mean(my_sample)\n",
    "\n",
    "sd = np.std(my_sample)\n",
    "\n",
    "print(x_bar, sd)"
   ]
  },
  {
   "cell_type": "markdown",
   "metadata": {},
   "source": [
    "Our random sample yields a sample mean $\\bar{x}$ of approximately $161.83$ and a sample standard deviation $s$ of approximately $6.52$. These are our point estimates for the population of interest, which in this case is the height of female students in our data set.\n",
    "\n",
    "How accurate is our estimate?"
   ]
  },
  {
   "cell_type": "code",
   "execution_count": 14,
   "metadata": {},
   "outputs": [
    {
     "data": {
      "text/plain": [
       "False"
      ]
     },
     "execution_count": 14,
     "metadata": {},
     "output_type": "execute_result"
    }
   ],
   "source": [
    "x_bar == mean"
   ]
  },
  {
   "cell_type": "code",
   "execution_count": 15,
   "metadata": {},
   "outputs": [
    {
     "data": {
      "text/plain": [
       "False"
      ]
     },
     "execution_count": 15,
     "metadata": {},
     "output_type": "execute_result"
    }
   ],
   "source": [
    "sd == std"
   ]
  },
  {
   "cell_type": "markdown",
   "metadata": {},
   "source": [
    "OK, we expected that! Let us calculate interval estimates by constructing the 90%, 95% and 99% confidence intervals. Recall the equation for a confidence interval and how to calculate the degree of freedom.\n",
    "\n",
    "$$CI: \\text{Point estimate} \\pm t^*_{df,\\,\\alpha/2} \\times \\frac{s}{\\sqrt{n}}$$\n",
    "\n",
    "$$df = n-1$$\n",
    "\n",
    "The critical value $t^{\\star}_{5, \\alpha/2}$ evaluates to $2.02,2.57,$ and $4.03$ for confidence levels of 90%, 95% and 99%, respectively.\n",
    "\n",
    "Applied to our height data the equation yields\n",
    "\n",
    "$$ CI_{90\\%}: 167.38 \\pm 2.02 \\times \\frac{10.82}{\\sqrt{6}} = 167.38 \\pm 8.9$$\n",
    "\n",
    "Thus, we can state that we are 90% confident that the mean height of female students (the population parameter $\\mu$) is between 158.48 and 176.28 cm.\n",
    "\n",
    "$$CI_{95\\%}: 167.38 \\pm 2.57 \\times \\frac{10.82}{\\sqrt{6}} = 167.38 \\pm 11.36$$\n",
    "\n",
    "Thus, we can state that we are 95% confident that the mean height of female students is between 156.02 and 178.74 cm.\n",
    "\n",
    "$$CI_{99\\%}: 167.38 \\pm 4.03 \\times \\frac{10.82}{\\sqrt{6}} = 167.38 \\pm 17.82$$\n",
    "\n",
    "Thus, we can state that we are 99% confident that the mean height of female students is between 149.56 and 185.2 cm.\n",
    "\n",
    "It is obvious that if we want to have a higher confidence that the unknown population parameter is contained in the interval, the margin of error is larger.\n",
    "\n",
    "It is important to remember that the confidence interval does not assign a probability to our sample mean, but it states that under repeated random sampling, the confidence interval is expected to include the population mean $100(1−\\alpha)$% of the time. "
   ]
  },
  {
   "cell_type": "code",
   "execution_count": null,
   "metadata": {},
   "outputs": [],
   "source": []
  }
 ],
 "metadata": {
  "kernelspec": {
   "display_name": "Python 3",
   "language": "python",
   "name": "python3"
  },
  "language_info": {
   "codemirror_mode": {
    "name": "ipython",
    "version": 3
   },
   "file_extension": ".py",
   "mimetype": "text/x-python",
   "name": "python",
   "nbconvert_exporter": "python",
   "pygments_lexer": "ipython3",
   "version": "3.8.3"
  }
 },
 "nbformat": 4,
 "nbformat_minor": 4
}
