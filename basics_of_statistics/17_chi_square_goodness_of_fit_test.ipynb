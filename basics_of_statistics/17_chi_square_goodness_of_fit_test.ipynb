{
 "cells": [
  {
   "cell_type": "markdown",
   "metadata": {},
   "source": [
    "**Chi-Square Tests**\n",
    "\n",
    "In addition to inferential methods for hypothesis tests for population parameters, such as the mean, $\\mu$, and the standard deviation, $\\sigma$, there are statistical methods to make inferences about the distribution of a variable. These inferential procedures rely on the chi-square ($\\chi^2$) distribution, and thus are called $\\chi^2$-**tests**.\n",
    "\n",
    "In the following section we discuss the **chi-square goodness-of-fit test,** a hypothesis test that is applied to make inferences about the distribution of a variable and the **chi-square independence test**, a hypothesis test that is applied to decide whether an association exists between two variables of a population."
   ]
  },
  {
   "cell_type": "markdown",
   "metadata": {},
   "source": [
    "**$\\chi^2$-Distribution**\n",
    "\n",
    "**Basic properties of $\\chi^2$-Curves**\n",
    "\n",
    "- The total area under a $\\chi^2$-curve equals $1$.\n",
    "- A $\\chi^2$-curve starts at $0$ on the horizontal axis and extends indefinitely to the right, approaching, but never touching, the horizontal axis as it does so.\n",
    "- A $\\chi^2$-curve is right skewed.\n",
    "- As the number of degrees of freedom becomes larger, $\\chi^2$- curves look increasingly like normal curves.\n",
    "\n",
    "![chi_square_diff](chi_square_diff.png)"
   ]
  },
  {
   "cell_type": "markdown",
   "metadata": {},
   "source": [
    "**Chi-Square Goodness-of-Fit Test**\n",
    "\n",
    "The $\\chi^2$ **goodness-of-fit test** is applied to perform hypothesis tests about the distribution of qualitative (categorical) variable or discrete quantitative variable that has only finitely many possible values.\n",
    "\n",
    "The basic logic of the $\\chi^2$ goodness-of-fit test is to compare the frequencies of two variables. We compare **observed frequencies** of a sample with **expected frequencies**.\n",
    "\n",
    "Consider a simple example:\n",
    "\n",
    "On September $22, 2013$ the German Federal Election $2013$ was held. More than $44$ million people turned out to vote. $41.5$% of German voters decided to vote for the Christian Democratic Union (CDU) and $25.7$% for the Social Democratic Party (SPD). For the sake of simplicity we subsume the remaining percentage of votes ($32.8$%) as Others.\n",
    "\n",
    "Based on that data, we may build a frequency table.\n",
    "\n",
    "\\begin{array}{|l|c|}\n",
    "\\hline\n",
    "\\ \\text{Party}  & \\text{Percentage} & \\text{Relative frequency}\\\\\n",
    "\\hline\n",
    "\\ \\text{CDU}  & 41.5 & 0.415 \\\\\n",
    "\\ \\text{SPD}  & 25.7 & 0.257 \\\\\n",
    "\\ \\text{Others} & 32.8 & 0.328 \\\\\n",
    "\\hline \n",
    "\\  & 100 & 1 \\\\\n",
    "\\hline \n",
    "\\end{array}"
   ]
  },
  {
   "cell_type": "markdown",
   "metadata": {},
   "source": [
    "The third column of the table above corresponds to the **relative frequencies** of the German population/voters. For this exercise we take a random sample. We ask $123$ students of FU Berlin about their party affiliation and record the following answers"
   ]
  },
  {
   "cell_type": "code",
   "execution_count": 2,
   "metadata": {},
   "outputs": [],
   "source": [
    "##  [1] \"SPD\"    \"CDU\"    \"Others\" \"CDU\"    \"CDU\"    \"CDU\"    \"CDU\"   \n",
    "##   [8] \"CDU\"    \"CDU\"    \"SPD\"    \"CDU\"    \"Others\" \"SPD\"    \"CDU\"   \n",
    "##  [15] \"SPD\"    \"Others\" \"CDU\"    \"Others\" \"CDU\"    \"CDU\"    \"Others\"\n",
    "##  [22] \"Others\" \"SPD\"    \"CDU\"    \"CDU\"    \"CDU\"    \"Others\" \"CDU\"   \n",
    "##  [29] \"CDU\"    \"CDU\"    \"Others\" \"CDU\"    \"CDU\"    \"SPD\"    \"Others\"\n",
    "##  [36] \"CDU\"    \"CDU\"    \"CDU\"    \"CDU\"    \"SPD\"    \"CDU\"    \"Others\"\n",
    "##  [43] \"CDU\"    \"CDU\"    \"Others\" \"SPD\"    \"Others\" \"CDU\"    \"SPD\"   \n",
    "##  [50] \"SPD\"    \"Others\" \"SPD\"    \"Others\" \"Others\" \"SPD\"    \"SPD\"   \n",
    "##  [57] \"CDU\"    \"Others\" \"Others\" \"Others\" \"CDU\"    \"CDU\"    \"CDU\"   \n",
    "##  [64] \"SPD\"    \"Others\" \"SPD\"    \"Others\" \"Others\" \"CDU\"    \"SPD\"   \n",
    "##  [71] \"CDU\"    \"SPD\"    \"Others\" \"CDU\"    \"Others\" \"CDU\"    \"Others\"\n",
    "##  [78] \"CDU\"    \"Others\" \"SPD\"    \"CDU\"    \"CDU\"    \"Others\" \"Others\"\n",
    "##  [85] \"CDU\"    \"Others\" \"Others\" \"SPD\"    \"CDU\"    \"Others\" \"CDU\"   \n",
    "##  [92] \"Others\" \"CDU\"    \"CDU\"    \"CDU\"    \"CDU\"    \"SPD\"    \"SPD\"   \n",
    "##  [99] \"Others\" \"Others\" \"SPD\"    \"CDU\"    \"Others\" \"CDU\"    \"Others\"\n",
    "## [106] \"Others\" \"SPD\"    \"SPD\"    \"CDU\"    \"Others\" \"CDU\"    \"CDU\"   \n",
    "## [113] \"SPD\"    \"CDU\"    \"Others\" \"CDU\"    \"CDU\"    \"CDU\"    \"CDU\"   \n",
    "## [120] \"CDU\"    \"Others\" \"Others\" \"SPD\""
   ]
  },
  {
   "cell_type": "markdown",
   "metadata": {},
   "source": [
    "In the next step we count the occurrence of each category (party) in our sample. These quantities are the **observed frequencies**."
   ]
  },
  {
   "cell_type": "code",
   "execution_count": 3,
   "metadata": {},
   "outputs": [],
   "source": [
    "## sample.FUB\n",
    "##    CDU Others    SPD \n",
    "##     57     40     26"
   ]
  },
  {
   "cell_type": "markdown",
   "metadata": {},
   "source": [
    "In the next step we compute the **expected frequency**, denoted $E$, for each category.\n",
    "\n",
    "$$E= n \\times p,$$\n",
    "\n",
    "where $n$ is the sample size and $p$ is the corresponding relative frequency taken from the table above.\n",
    "\n",
    "$$E_{CDU} = n\\times p = 123 \\times 0.415 = 51.045$$\n",
    "\n",
    "$$E_{SPD} = n\\times p = 123 \\times 0.257 = 31.611$$\n",
    "\n",
    "$$E_{Others} = n\\times p = 123 \\times 0.382 = 46.986$$\n",
    "\n",
    "Note that although we deal with individual counts, represented by integer values, the **expected frequency**, $E$, is a floating point number. That is fine.\n",
    "\n",
    "Now we put the **observed frequencies** and the **expected frequencies** together into one table.\n",
    "\n",
    "\\begin{array}{|l|c|}\n",
    "\\hline\n",
    "\\ \\text{Party}  & \\text{Observed frequency} & \\text{Expected frequency}\\\\\n",
    "\\hline\n",
    "\\ \\text{CDU}  & 57 & 51.045 \\\\\n",
    "\\ \\text{SPD}  & 26 & 31.611 \\\\\n",
    "\\ \\text{Others} & 40 & 46.986 \\\\\n",
    "\\hline \n",
    "\\  & 123 & 129.642 \\\\\n",
    "\\hline \n",
    "\\end{array}"
   ]
  },
  {
   "cell_type": "markdown",
   "metadata": {},
   "source": [
    "Great! Once we know about the expected frequencies we have to check two assumptions. First, we have to make sure that all expected frequencies are $1$ or greater, and second, at most $20$% of the expected frequencies are less than $5$. By looking at the table we may confirm that both assumptions are fulfilled.\n",
    "\n",
    "Now we have all ingredients we need, except the test statistic, to perform a $\\chi^2$ goodness-of-fit test.\n",
    "\n",
    "The $\\chi^2$ test statistic for a goodness-of-fit is given by \n",
    "\n",
    "$$\\chi^2=\\sum \\frac{(O-E)^2}{E}\\text{,}$$\n",
    "\n",
    "wher $O$ corresponds to the observed frequencies and $E$ is the expected frequencies. The test statistic $\\chi^2$ approximates a *chi-square* distribution if the null hypothesis is true. The number of degrees of freedom is $1$ less than the number of possible values (categories) for the variable under consideration.\n",
    "\n",
    "$$df = c-1$$\n",
    "\n",
    "Based on the observed and expected frequencies given in the table above it is fairly straightforward to calculate the $\\chi^2$-value, however, to make the calculation more clear, we put together all the necessary computation steps into one table.\n",
    "\n",
    "\\begin{array}{|l|c|}\n",
    "\\hline\n",
    "\\ \\text{Religion}  & \\text{Observed} & \\text{Expected} & \\text{Difference} & \\text{Square of difference} & \\chi^2\\text{subtotal}\\\\\n",
    "\\ & \\text{frequency} & \\text{frequency} & O-E & (O-E)^2 & (O-E)^2/E\\\\\n",
    "\\hline\n",
    "\\ \\text{CDU}  & 57 & 51.045 & 5.955 & 35.462025 & 0.6947208\\\\\n",
    "\\ \\text{SPD}  & 26 & 31.611 & -5.611 & 31.483321 & 0.9959609\\\\\n",
    "\\ \\text{Others} & 26 & 46.986 & -6.986 & 48.804196 & 1.0386965\\\\\n",
    "\\hline \n",
    "\\  & 123 & 129.642 & -6.642 & & 2.7293783\\\\\n",
    "\\hline \n",
    "\\end{array}"
   ]
  },
  {
   "cell_type": "markdown",
   "metadata": {},
   "source": [
    "In our example the $\\chi^2$ test statistic for a goodness-of-fit evaluates to\n",
    "\n",
    "$$\\chi^2=\\sum \\frac{(O-E)^2}{E} \\approx2.729$$\n",
    "\n",
    "If the null hypothesis is true, the observed and expected frequencies are roughly equal. This results in a small value of the $\\chi^2$ test statistic, thus, supporting $H_0$. If, howeverm the value of $\\chi^2$ test statistic is large, data provides evidence against $H_0$."
   ]
  },
  {
   "cell_type": "markdown",
   "metadata": {},
   "source": [
    "**$\\chi^2$ goodness-of-fit test: An Example**\n",
    "\n",
    "In order to get some hands-on experience we apply the $\\chi^2$ **goodness-of-fit test** in an exercise. Therefore we load the *students* data set.\n",
    "\n",
    "Recall, $\\chi^2$ goodness-of-fit tests are applied for qualitative (categorical) variables or a discrete quantitative variables. In the *students* data set are several categorical variables, such as *gender*, *religion*, *major*, *minor* and *graduated*, among others.\n",
    "\n",
    "In order to showcase the $\\chi^2$ **goodness-of-fit test** we examine if the religion is equally distributed among students compared to the distribution of the relgion among the population of the European Union. The data on continental scale is provided by the report \"Discrimination in the EU in 2012\" ([European Union: European Commission, Special Eurobarometer, 393, p. 233](https://ec.europa.eu/commfrontoffice/publicopinion/archives/ebs/ebs_393_en.pdf)). The report provides data for 8 categories: 48% of the people are ascribed as Catholic, 16% as Non believer/Agnostic, 12% as Protestant, 8% as Orthodox, 7% as Atheist, 4% as Other Christian, 3% as Other religion/None stated and 2% as Muslim. We plot the data in form of a pie chart for a better understanding.\n",
    "\n"
   ]
  },
  {
   "cell_type": "code",
   "execution_count": 4,
   "metadata": {},
   "outputs": [],
   "source": [
    "import pandas as pd\n",
    "\n",
    "students_df = pd.read_csv(\"https://userpage.fu-berlin.de/soga/200/2010_data_sets/students.csv\")\n",
    "\n",
    "data = [48,16,12,8,7,4,3,2]\n",
    "\n",
    "data_labels = ['Catholic','Non believer/\\nAgnostic','Protestant',\n",
    "                 'Orthodox','Atheist','Other Christian',\n",
    "                 'Other religion/None stated', 'Muslim']"
   ]
  },
  {
   "cell_type": "code",
   "execution_count": 5,
   "metadata": {
    "scrolled": true
   },
   "outputs": [
    {
     "data": {
      "image/png": "[encoded data removed]",
      "text/plain": [
       "<Figure size 432x288 with 1 Axes>"
      ]
     },
     "metadata": {},
     "output_type": "display_data"
    }
   ],
   "source": [
    "import matplotlib.pyplot as plt\n",
    "import seaborn as sns\n",
    "\n",
    "sns.set()\n",
    "\n",
    "plt.pie(data,labels=data_labels)\n",
    "\n",
    "pass"
   ]
  },
  {
   "cell_type": "markdown",
   "metadata": {},
   "source": [
    "**Data preparation**"
   ]
  },
  {
   "cell_type": "markdown",
   "metadata": {},
   "source": [
    "**We start with data exploration and data preparation.**\n",
    "\n",
    "First, we want to know which categories are available in the data set. "
   ]
  },
  {
   "cell_type": "code",
   "execution_count": 6,
   "metadata": {},
   "outputs": [
    {
     "data": {
      "text/plain": [
       "array(['Muslim', 'Other', 'Protestant', 'Catholic', 'Orthodox'],\n",
       "      dtype=object)"
      ]
     },
     "execution_count": 6,
     "metadata": {},
     "output_type": "execute_result"
    }
   ],
   "source": [
    "students_df['religion'].unique()"
   ]
  },
  {
   "cell_type": "markdown",
   "metadata": {},
   "source": [
    "In the *students* data there are $5$ different categories, compared to $8$ categories provided by the report of the EU. Thus, in order to make comparison, we recode the categories of the *religion* variable to finally get to $5$ categories: “Catholic”, “Muslim”, “Orthodox”, “Protestant”, and “Other”. Be careful not to mix-up categories during that step!"
   ]
  },
  {
   "cell_type": "code",
   "execution_count": 7,
   "metadata": {},
   "outputs": [
    {
     "data": {
      "text/html": [
       "<div>\n",
       "<style scoped>\n",
       "    .dataframe tbody tr th:only-of-type {\n",
       "        vertical-align: middle;\n",
       "    }\n",
       "\n",
       "    .dataframe tbody tr th {\n",
       "        vertical-align: top;\n",
       "    }\n",
       "\n",
       "    .dataframe thead th {\n",
       "        text-align: right;\n",
       "    }\n",
       "</style>\n",
       "<table border=\"1\" class=\"dataframe\">\n",
       "  <thead>\n",
       "    <tr style=\"text-align: right;\">\n",
       "      <th></th>\n",
       "      <th>relative_frequency</th>\n",
       "    </tr>\n",
       "    <tr>\n",
       "      <th>religion</th>\n",
       "      <th></th>\n",
       "    </tr>\n",
       "  </thead>\n",
       "  <tbody>\n",
       "    <tr>\n",
       "      <th>Catholic</th>\n",
       "      <td>0.48</td>\n",
       "    </tr>\n",
       "    <tr>\n",
       "      <th>Muslim</th>\n",
       "      <td>0.02</td>\n",
       "    </tr>\n",
       "    <tr>\n",
       "      <th>Orthodox</th>\n",
       "      <td>0.08</td>\n",
       "    </tr>\n",
       "    <tr>\n",
       "      <th>Other</th>\n",
       "      <td>0.30</td>\n",
       "    </tr>\n",
       "    <tr>\n",
       "      <th>Protestant</th>\n",
       "      <td>0.12</td>\n",
       "    </tr>\n",
       "  </tbody>\n",
       "</table>\n",
       "</div>"
      ],
      "text/plain": [
       "            relative_frequency\n",
       "religion                      \n",
       "Catholic                  0.48\n",
       "Muslim                    0.02\n",
       "Orthodox                  0.08\n",
       "Other                     0.30\n",
       "Protestant                0.12"
      ]
     },
     "execution_count": 7,
     "metadata": {},
     "output_type": "execute_result"
    }
   ],
   "source": [
    "# set category names\n",
    "\n",
    "data_labels = [\"Catholic\", \"Muslim\", \"Orthodox\", \"Other\", \"Protestant\"]\n",
    "\n",
    "# recode European data according to category names\n",
    "\n",
    "import numpy as np\n",
    "\n",
    "data_raw = [48, 2, 8, np.sum([16, 7, 4, 3]),  12]\n",
    "\n",
    "data_raw = [x/100 for x in data_raw]\n",
    "\n",
    "\n",
    "data_df = pd.DataFrame({'relative_frequency' : data_raw})\n",
    "\n",
    "data_df['religion'] = data_labels\n",
    "\n",
    "data_df.set_index('religion', inplace=True)\n",
    "\n",
    "data_df.sort_index(inplace=True)\n",
    "\n",
    "data_df"
   ]
  },
  {
   "cell_type": "markdown",
   "metadata": {},
   "source": [
    "Now we take a random sample. We pick at random $256$ students and count the number of students in each particular category of the *religion* variable. Recall this quantity corresponds to the **observed frequencies**."
   ]
  },
  {
   "cell_type": "code",
   "execution_count": 8,
   "metadata": {},
   "outputs": [],
   "source": [
    "students_sample = students_df['religion'].sample(n=256)"
   ]
  },
  {
   "cell_type": "code",
   "execution_count": 9,
   "metadata": {},
   "outputs": [
    {
     "data": {
      "text/plain": [
       "Catholic      105\n",
       "Muslim         10\n",
       "Orthodox       19\n",
       "Other          71\n",
       "Protestant     51\n",
       "Name: religion, dtype: int64"
      ]
     },
     "execution_count": 9,
     "metadata": {},
     "output_type": "execute_result"
    }
   ],
   "source": [
    "student_df = students_sample.value_counts().sort_index()\n",
    "\n",
    "student_df = student_df\n",
    "\n",
    "student_df"
   ]
  },
  {
   "cell_type": "code",
   "execution_count": 10,
   "metadata": {},
   "outputs": [
    {
     "data": {
      "text/html": [
       "<div>\n",
       "<style scoped>\n",
       "    .dataframe tbody tr th:only-of-type {\n",
       "        vertical-align: middle;\n",
       "    }\n",
       "\n",
       "    .dataframe tbody tr th {\n",
       "        vertical-align: top;\n",
       "    }\n",
       "\n",
       "    .dataframe thead th {\n",
       "        text-align: right;\n",
       "    }\n",
       "</style>\n",
       "<table border=\"1\" class=\"dataframe\">\n",
       "  <thead>\n",
       "    <tr style=\"text-align: right;\">\n",
       "      <th></th>\n",
       "      <th>relative_frequency</th>\n",
       "      <th>observed_frequencies</th>\n",
       "    </tr>\n",
       "    <tr>\n",
       "      <th>religion</th>\n",
       "      <th></th>\n",
       "      <th></th>\n",
       "    </tr>\n",
       "  </thead>\n",
       "  <tbody>\n",
       "    <tr>\n",
       "      <th>Catholic</th>\n",
       "      <td>0.48</td>\n",
       "      <td>105</td>\n",
       "    </tr>\n",
       "    <tr>\n",
       "      <th>Muslim</th>\n",
       "      <td>0.02</td>\n",
       "      <td>10</td>\n",
       "    </tr>\n",
       "    <tr>\n",
       "      <th>Orthodox</th>\n",
       "      <td>0.08</td>\n",
       "      <td>19</td>\n",
       "    </tr>\n",
       "    <tr>\n",
       "      <th>Other</th>\n",
       "      <td>0.30</td>\n",
       "      <td>71</td>\n",
       "    </tr>\n",
       "    <tr>\n",
       "      <th>Protestant</th>\n",
       "      <td>0.12</td>\n",
       "      <td>51</td>\n",
       "    </tr>\n",
       "  </tbody>\n",
       "</table>\n",
       "</div>"
      ],
      "text/plain": [
       "            relative_frequency  observed_frequencies\n",
       "religion                                            \n",
       "Catholic                  0.48                   105\n",
       "Muslim                    0.02                    10\n",
       "Orthodox                  0.08                    19\n",
       "Other                     0.30                    71\n",
       "Protestant                0.12                    51"
      ]
     },
     "execution_count": 10,
     "metadata": {},
     "output_type": "execute_result"
    }
   ],
   "source": [
    "data = pd.concat([data_df['relative_frequency'], student_df], axis=1)\n",
    "\n",
    "data.rename(columns={'religion': 'observed_frequencies'}, inplace=True)\n",
    "\n",
    "data"
   ]
  },
  {
   "cell_type": "markdown",
   "metadata": {},
   "source": [
    "In the next step we calculate the **expected frequencies**. Recall the equation:\n",
    "\n",
    "$$E = n \\times p$$\n",
    "\n",
    "We insert the expected frequencies as a new column in *data*"
   ]
  },
  {
   "cell_type": "code",
   "execution_count": 11,
   "metadata": {},
   "outputs": [
    {
     "data": {
      "text/html": [
       "<div>\n",
       "<style scoped>\n",
       "    .dataframe tbody tr th:only-of-type {\n",
       "        vertical-align: middle;\n",
       "    }\n",
       "\n",
       "    .dataframe tbody tr th {\n",
       "        vertical-align: top;\n",
       "    }\n",
       "\n",
       "    .dataframe thead th {\n",
       "        text-align: right;\n",
       "    }\n",
       "</style>\n",
       "<table border=\"1\" class=\"dataframe\">\n",
       "  <thead>\n",
       "    <tr style=\"text-align: right;\">\n",
       "      <th></th>\n",
       "      <th>relative_frequency</th>\n",
       "      <th>observed_frequencies</th>\n",
       "      <th>expected frequencies</th>\n",
       "    </tr>\n",
       "    <tr>\n",
       "      <th>religion</th>\n",
       "      <th></th>\n",
       "      <th></th>\n",
       "      <th></th>\n",
       "    </tr>\n",
       "  </thead>\n",
       "  <tbody>\n",
       "    <tr>\n",
       "      <th>Catholic</th>\n",
       "      <td>0.48</td>\n",
       "      <td>105</td>\n",
       "      <td>122.88</td>\n",
       "    </tr>\n",
       "    <tr>\n",
       "      <th>Muslim</th>\n",
       "      <td>0.02</td>\n",
       "      <td>10</td>\n",
       "      <td>5.12</td>\n",
       "    </tr>\n",
       "    <tr>\n",
       "      <th>Orthodox</th>\n",
       "      <td>0.08</td>\n",
       "      <td>19</td>\n",
       "      <td>20.48</td>\n",
       "    </tr>\n",
       "    <tr>\n",
       "      <th>Other</th>\n",
       "      <td>0.30</td>\n",
       "      <td>71</td>\n",
       "      <td>76.80</td>\n",
       "    </tr>\n",
       "    <tr>\n",
       "      <th>Protestant</th>\n",
       "      <td>0.12</td>\n",
       "      <td>51</td>\n",
       "      <td>30.72</td>\n",
       "    </tr>\n",
       "  </tbody>\n",
       "</table>\n",
       "</div>"
      ],
      "text/plain": [
       "            relative_frequency  observed_frequencies  expected frequencies\n",
       "religion                                                                  \n",
       "Catholic                  0.48                   105                122.88\n",
       "Muslim                    0.02                    10                  5.12\n",
       "Orthodox                  0.08                    19                 20.48\n",
       "Other                     0.30                    71                 76.80\n",
       "Protestant                0.12                    51                 30.72"
      ]
     },
     "execution_count": 11,
     "metadata": {},
     "output_type": "execute_result"
    }
   ],
   "source": [
    "n = 256\n",
    "\n",
    "data['expected frequencies'] = data['relative_frequency']*256\n",
    "\n",
    "data"
   ]
  },
  {
   "cell_type": "markdown",
   "metadata": {},
   "source": [
    "Once we know about the expected frequencies we have to check for two assumptions. First, we have to make sure all expected frequencies are $1$ or greater, and second, at most $20$% of the expected frequencies are less than $5$. By looking at the table we may confirm that both assumptions are fulfilled.\n",
    "\n",
    "Perfect, now we are done! The data set is ready to be analysed with the $\\chi^2$ goodness-of-fit test. Recall the question we are interested in: **Is the religion equally distributed among students compared to the distribution of the religion among the population of the European Union**."
   ]
  },
  {
   "cell_type": "markdown",
   "metadata": {},
   "source": [
    "**Hypothesis Testing**\n",
    "\n",
    "In order to conduct the $\\chi^2$ goodness-of-fit test we follow the step-wise implementation procedure for hypothesis testing. The $\\chi^2$ goodness-of-fit test follows the same step-wise procedure as hypothesis tests for the population mean.\n",
    "\n",
    "\\begin{array}{l}\n",
    "\\hline\n",
    "\\ \\text{Step 1}  & \\text{State the null hypothesis } H_0 \\text{ and alternative hypothesis } H_A \\text{.}\\\\\n",
    "\\ \\text{Step 2}  & \\text{Decide on the significance level, } \\alpha\\text{.} \\\\\n",
    "\\ \\text{Step 3}  & \\text{Compute the value of the test statistic.} \\\\\n",
    "\\ \\text{Step 4} &\\text{Determine the p-value.} \\\\\n",
    "\\ \\text{Step 5} & \\text{If } p \\le \\alpha \\text{, reject }H_0 \\text{; otherwise, do not reject } H_0 \\text{.} \\\\\n",
    "\\ \\text{Step 6} &\\text{Interpret the result of the hypothesis test.} \\\\\n",
    "\\hline \n",
    "\\end{array}"
   ]
  },
  {
   "cell_type": "markdown",
   "metadata": {},
   "source": [
    "**Step 1: State the null hypothesis $H_0$ and alternative hypothesis $H_A$**\n",
    "\n",
    "The null hypothesis states that the religion is equally distributed among students compared to the distribution of the religion among the population of the European Union.\n",
    "\n",
    "$$H_0: \\quad \\text{The variable has the specified distribution}$$\n",
    "\n",
    "**Alternative hypothesis**\n",
    "\n",
    "$$H_A: \\quad \\text{The variable does not have the specified distribution}$$\n",
    "\n",
    "**Step 2: Decide on the significance level, $\\alpha$**\n",
    "\n",
    "$$\\alpha = 0.01$$"
   ]
  },
  {
   "cell_type": "code",
   "execution_count": 12,
   "metadata": {},
   "outputs": [],
   "source": [
    "alpha = 0.01"
   ]
  },
  {
   "cell_type": "markdown",
   "metadata": {},
   "source": [
    "**Step 3 and 4: Compute the value of the test statistic and the $p$-value.**\n",
    "\n",
    "For illustration purposes we manually compute the test statistic in Python. Recall the equation for the test statistic from above:\n",
    "\n",
    "$$\\chi^2=\\sum \\frac{(O-E)^2}{E}$$"
   ]
  },
  {
   "cell_type": "code",
   "execution_count": 13,
   "metadata": {},
   "outputs": [
    {
     "data": {
      "text/plain": [
       "21.185872395833336"
      ]
     },
     "execution_count": 13,
     "metadata": {},
     "output_type": "execute_result"
    }
   ],
   "source": [
    "# compute the value of the test statistic \n",
    "\n",
    "x2 = ((data['observed_frequencies']-data['expected frequencies'])**2)/(data['expected frequencies'])\n",
    "\n",
    "x2 = x2.sum()\n",
    "\n",
    "x2"
   ]
  },
  {
   "cell_type": "code",
   "execution_count": 16,
   "metadata": {},
   "outputs": [
    {
     "data": {
      "text/plain": [
       "0.0"
      ]
     },
     "execution_count": 16,
     "metadata": {},
     "output_type": "execute_result"
    }
   ],
   "source": [
    "# compute df\n",
    "\n",
    "df = data.shape[0] -1\n",
    "\n",
    "# compute the p value\n",
    "\n",
    "from scipy.stats import chi\n",
    "\n",
    "p = 1 - chi.cdf(x2, df=df)\n",
    "\n",
    "p"
   ]
  },
  {
   "cell_type": "markdown",
   "metadata": {},
   "source": [
    "**Step $5$: If $p\\leq \\alpha$, reject $H_0$; otherwise, do not reject $H_0$.**\n",
    "\n",
    "The $p$-value is less than the specified significance level of $0.01$; we reject $H_0$. The test results are statistically significant at the $1$% level and provide very strong evidence against the null hypothesis.\n",
    "\n",
    "**Step $6$: Interpret the result of the hypothesis test.**\n",
    "\n",
    "$p=0$. At the $1$% significance level, the data provides very strong evidence to conclude that the religion distribution among students differs from the religion distribution of the population of the European Union."
   ]
  },
  {
   "cell_type": "code",
   "execution_count": 15,
   "metadata": {},
   "outputs": [
    {
     "data": {
      "text/plain": [
       "Power_divergenceResult(statistic=21.185872395833336, pvalue=0.0002908973117237481)"
      ]
     },
     "execution_count": 15,
     "metadata": {},
     "output_type": "execute_result"
    }
   ],
   "source": [
    "from scipy.stats import chisquare\n",
    "\n",
    "chisquare(data['observed_frequencies'],data['expected frequencies'])"
   ]
  },
  {
   "cell_type": "code",
   "execution_count": null,
   "metadata": {},
   "outputs": [],
   "source": []
  }
 ],
 "metadata": {
  "kernelspec": {
   "display_name": "Python 3",
   "language": "python",
   "name": "python3"
  },
  "language_info": {
   "codemirror_mode": {
    "name": "ipython",
    "version": 3
   },
   "file_extension": ".py",
   "mimetype": "text/x-python",
   "name": "python",
   "nbconvert_exporter": "python",
   "pygments_lexer": "ipython3",
   "version": "3.8.3"
  }
 },
 "nbformat": 4,
 "nbformat_minor": 4
}
