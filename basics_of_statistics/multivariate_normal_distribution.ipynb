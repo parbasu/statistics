{
 "cells": [
  {
   "cell_type": "markdown",
   "metadata": {},
   "source": [
    "**Definition** Suppose that $X$ is an $m \\times n$ matrix of real-valued random variables, whose $(i,j)$ entry is denoted $X_{ij}$. The **expected value** $\\mathbb{E}(X)$ is defined to be the $m \\times n$ matrix whose $(i,j)$ entry is $\\mathbb{E}(X_{ij})$, the expected value of $X_{ij}$."
   ]
  },
  {
   "cell_type": "markdown",
   "metadata": {},
   "source": [
    "**Properties** \n",
    "\n",
    "- $\\mathbb{E}(X+Y) = \\mathbb{E}(X) + \\mathbb{E}(Y)$ if $X$ and $Y$ are random $m \\times n$ matrices.\n",
    "\n",
    "- Suppose that $X$ is a random $n \\times p$ matrix\n",
    "  - $\\mathbb{E}(aX) = a \\mathbb{E}(X)$ if $a \\in \\mathbb{R}^{m \\times n}$.\n",
    "  - $\\mathbb{E}(Xa) = \\mathbb{E}(X)a$ if $a \\in \\mathbb{R}^{p \\times n}$.\n",
    "  \n"
   ]
  },
  {
   "cell_type": "markdown",
   "metadata": {},
   "source": [
    "**Proposition** $\\mathbb{E}(XY)= \\mathbb{E}(X) \\mathbb{E}(Y)$ if $X$ is a random $m \\times n$ matrix, $Y$ is a random $n \\times p$ matrix, and $X$ and $Y$ are independent."
   ]
  },
  {
   "cell_type": "markdown",
   "metadata": {},
   "source": [
    "**Covariance Matrices**\n",
    "\n",
    "\n",
    "**Definition** Suppose that $X$ is a random vector in $\\mathbb{R}^m$ and $Y$ is a random vector in $\\mathbb{R}^n$. The **covariance matrix** of $X$ and $Y$ is the $m \\times n$ matrix $\\text{cov}(X,Y) $ whose $(i,j)$ entry is $\\text{cov}(X_i, Y_j)$ the ordinary covariance of $X_i$ and $Y_j$.\n",
    "\n",
    "**Properties**\n",
    "\n",
    "- $\\text{cov}(X,Y) = \\mathbb{E}([X-\\mathbb{E}(X)][Y-\\mathbb{E}(Y)]^T)$\n",
    "\n",
    "- $\\text{cov}(X,Y) = \\mathbb{E}(XY^T) - \\mathbb{E}(X) \\mathbb{E}(Y)^T$\n",
    "\n",
    "- $\\text{cov}(X,Y)= \\text{cov}(X,Y)^T$\n",
    "\n",
    "- Satisifies additive and scaling properties similar to what stated above."
   ]
  },
  {
   "cell_type": "markdown",
   "metadata": {},
   "source": [
    "**Definition** Suppose that $X$ is a random vector in $\\mathbb{R}^n$. The covariance matrix of $X$ with itself is called the **variance-covariance matrix** of $X$:\n",
    "\n",
    "$$\\text{vc}(X) = \\text{cov}(X,X).$$\n",
    "\n",
    "**Properties**\n",
    "\n",
    "- $\\text{vc}(X)$ is a symmetric $n \\times n$ matrix with $(\\text{var}(X_1), \\dots, \\text{var}(X_n))$ on the diagonal."
   ]
  },
  {
   "cell_type": "markdown",
   "metadata": {},
   "source": [
    "### The General Multivariate Normal Distribution"
   ]
  },
  {
   "cell_type": "markdown",
   "metadata": {},
   "source": [
    "**Definition** Suppose that $Z=(Z_1, \\dots, Z_n)$ is a vector of independent random variables, each with the standard normal distribution. Then $Z$ is said to have the $n$-dimensional **standard normal distribution**.\n",
    "\n",
    "- $\\mathbb{E}(Z) = 0$\n",
    "\n",
    "- $\\text{vc}(Z) = I$ (the $n \\times n$ identity matrix)\n",
    "\n",
    "$Z$ has probability density function $\\phi_n$ given by\n",
    "\n",
    "$$\\phi_n (z) = \\frac{1}{(2 \\pi)^{n/2}} \\exp(-\\frac{1}{2} z \\cdot z).$$"
   ]
  },
  {
   "cell_type": "markdown",
   "metadata": {},
   "source": [
    "**Definition** Suppose that $Z$ has the $n$-dimensional standard normal distribution. Suppose also that $\\mu \\in \\mathbb{R}^n$ and that $A \\in \\mathbb{R}^{n \\times n}$ is invertible. The random vector $X = \\mu + A Z$ is said to have an **$n$-dimensional normal distribution**\n",
    "\n",
    "- $\\mathbb{E}(X) = \\mu$\n",
    "\n",
    "- $\\text{vc}(X) = AA^T$"
   ]
  },
  {
   "cell_type": "markdown",
   "metadata": {},
   "source": [
    "**Proposition** Suppose that $X$ has an $n$-dimensional normal distribution with expected value vector $\\mu$ and variance-covariance matrix $V$. The probability density function $f$ of $X$ is given by\n",
    "\n",
    "$$f(x) = \\frac{1}{(2\\pi)^{n/2} \\sqrt{\\det(V)}} \\exp[ -\\frac{1}{2} (x - \\mu) \\cdot V^{-1} (x- \\mu)], \\ x \\in \\mathbb{R}^n$$"
   ]
  },
  {
   "cell_type": "code",
   "execution_count": null,
   "metadata": {},
   "outputs": [],
   "source": []
  }
 ],
 "metadata": {
  "kernelspec": {
   "display_name": "Python 3",
   "language": "python",
   "name": "python3"
  },
  "language_info": {
   "codemirror_mode": {
    "name": "ipython",
    "version": 3
   },
   "file_extension": ".py",
   "mimetype": "text/x-python",
   "name": "python",
   "nbconvert_exporter": "python",
   "pygments_lexer": "ipython3",
   "version": "3.8.3"
  }
 },
 "nbformat": 4,
 "nbformat_minor": 4
}
