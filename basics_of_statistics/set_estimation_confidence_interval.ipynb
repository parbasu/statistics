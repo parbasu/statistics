{
 "cells": [
  {
   "cell_type": "markdown",
   "metadata": {},
   "source": [
    "## Setup"
   ]
  },
  {
   "cell_type": "markdown",
   "metadata": {},
   "source": [
    "Our starting is a random experiment with an underlying sample space and probability measure $\\mathbb{P}$.\n",
    "\n",
    "In the basic statistical model, we have an observable random variable $X$ taking values in a set $S$. For example, $X$ could be a random sample of size $n$, that is, $X = (X_1, \\dots, X_n)$, where the $X_i$'s are independent and identically distributed.\n",
    "\n",
    "Suppose also that the distribution of $X$ depends on a parameter $\\theta$ taking values in a parameter space $\\Theta$. The parameter may also be vector-valued, in which case $\\Theta \\subseteq \\mathbb{R}^k$ for some $k \\in \\mathbb{N}_{+}$ and the parameter vector has the form $\\theta = (\\theta_1, \\theta_2, \\dots, \\theta_k)$."
   ]
  },
  {
   "cell_type": "markdown",
   "metadata": {},
   "source": [
    "## Confidence Sets"
   ]
  },
  {
   "cell_type": "markdown",
   "metadata": {},
   "source": [
    "**Definition** A **confidence set** is a subset $C(X)$ of the parameter space $\\Theta$ that depends only on the data variable $X$, and no unknown parameters. The **confidence level** is the smallest probability that $\\theta \\in C(X)$:\n",
    "\n",
    "$$\\min_{\\theta \\in \\Theta} \\{ \\mathbb{P}[ \\theta \\in C(X)] \\}.$$"
   ]
  },
  {
   "cell_type": "markdown",
   "metadata": {},
   "source": [
    "Thus, in a sense, a confidence set is a *set-valued statistic*. A confidence set is an estimator of $\\theta$ in the sense that we hope that $\\theta \\in C(X)$ with high probability, so that the confidence level is high. Note that since the distribution of $X$ depends on $\\theta$, there is a dependence on $\\theta$ in the probability measure $\\mathbb{P}$ in the definition of confidence level. However, we usually suppress this, just to keep the notation simple. Usually, we try to construct a confidence set for $\\theta$ with a prescribed confidence level $1-\\alpha$ where $0 < \\alpha < 1$. Typical confidence levels are $0.9,0.95$ and $0.99$. Sometimes the best we can do is to construct a confidence set whose confidence level is *at least* $1-\\alpha$; this is called a **conservative** $1-\\alpha$ confidence set for $\\theta$."
   ]
  },
  {
   "cell_type": "markdown",
   "metadata": {},
   "source": [
    "Suppose that $C(X)$ is $1-\\alpha$ level confidence set for a parameter $\\theta$. Note that when we run the experiment and observe the data $x$, the *computed* confidence set is $C(x)$. The true value of $\\theta$ is either in this set, or is not, and we usually will never know. However, by the law of large numbers, if we were to repeat the confidence experiment over and over, the proportion of sets that contain $\\theta$ would converge to $\\mathbb{P}[\\theta \\in C(X)] = 1 - \\alpha$. This is the precise meaning of the term **confidence**. In the usual terminology of statistics, the random set $C(X)$ is the **estimator**; the deterministic set $C(x)$ based on an observed value $x$ is the **estimate**."
   ]
  },
  {
   "cell_type": "markdown",
   "metadata": {},
   "source": [
    "Next, note that the quality of a confidence set, as an estimator of $\\theta$, is based on two factors: the confidence level and the **precision** as measured by the \"size\" of the set. A good estimator has small size (and hence gives a precise estimate of $\\theta$) and large confidence. However, for a given $X$, there is usually a tradeoff between confidence level and precision-increasing the confidence level comes only at the expense of increasing the size of the set, and decreasing the size of the set comes only at the expense of decreasing the confidence level. \n",
    "\n",
    "Considering the extreme cases may give us some insight. First, suppose that $C(X) = \\Theta$. This set estimator has maximum confidence $1$, but no precision and hence it is worthless (we already knew that $\\theta \\in \\Theta$). At the other extreme, suppose that $C(X)$ is a singleton set. This set estimator has the best possible precision, but typically for continous distributions, would have confidence $0$. In between these extremes, hopefully, are set estimators that have high confidence and high precision."
   ]
  },
  {
   "cell_type": "markdown",
   "metadata": {},
   "source": [
    "## Pivot Variables\n",
    "\n",
    "**Definition** Suppose that $V$ is a function from $S \\times \\Theta$ into a set $T$. The random variable $V(X, \\theta)$ is a **pivot variable** for $\\theta$ if its distribution does not depend on $\\theta$. Specifically, $\\mathbb{P}[V(X, \\theta) \\in B]$ is constant in $\\theta \\in \\Theta$ for each $B \\subseteq T$."
   ]
  },
  {
   "cell_type": "markdown",
   "metadata": {},
   "source": [
    "The basic idea is that we try to combine $X$ and $\\theta$ algebraically is such a way that we factor out the dependence on $\\theta$ in the distribution of the resulting random variable $V(X,\\theta)$. If we know the distribution of the pivot variable, then for a given $\\alpha$, we can try to find $B \\subseteq T$ (that does not depend on $\\theta$) such that $\\mathbb{P}_{\\theta}[V(X,\\theta) \\in B] = 1 - \\alpha$. It then follows that a $1-\\alpha$ confidence set for the parameter is given by $C(X) = \\{ \\theta \\in \\Theta \\mid V(X, \\theta) \\in B\\}$.\n",
    "\n",
    "Suppose now that our pivot variable $V(X, \\theta)$ is a real-value, which for simplicity, we will assume has a continuous distribution. For $p \\in (0,1)$, let $v(p)$ denote the quantile of order $p$ for the pivot variable $V(X, \\theta)$, By the very meaning of pivot variable $v(p)$ does not depend on $\\theta$."
   ]
  },
  {
   "cell_type": "markdown",
   "metadata": {},
   "source": [
    "**Proposition** For any $p \\in (0,1)$, a $1-\\alpha$ level confidence set for $\\theta$ is\n",
    "\n",
    "$$\\{ \\theta \\in \\Theta \\mid v(\\alpha - p \\alpha) < V(X, \\theta) < v(1-p\\alpha)\\}$$\n",
    "\n",
    "*Proof.* By definition, the probability of the event is $(1-p\\alpha) - (\\alpha - p\\alpha) = 1 -\\alpha$."
   ]
  },
  {
   "cell_type": "markdown",
   "metadata": {},
   "source": [
    "## Example"
   ]
  },
  {
   "cell_type": "markdown",
   "metadata": {},
   "source": [
    "Assume that $X = (X_1, \\dots, X_n)$ is a random sample from the normal distribution with mean $\\mu$ and standard deviation $\\sigma$. Suppose $\\sigma$ is known. Now $Z = \\frac{M- \\mu}{\\sigma / \\sqrt{n}}$, where $M$ is the sample mean, has the standard normal distribution. For $p \\in (0,1)$, let $z(p)$ denote the quantile of order $p$ for the standard normal distribution. For $\\alpha \\in (0,1)$, the following is  a $1- \\alpha$ confidence interval for $\\mu$\n",
    "\n",
    "$$[M - z(1- \\alpha/2)\\frac{\\sigma}{\\sqrt{n}}, M + z(1- \\alpha/2)\\frac{\\sigma}{\\sqrt{n}} ].$$"
   ]
  },
  {
   "cell_type": "code",
   "execution_count": null,
   "metadata": {},
   "outputs": [],
   "source": []
  }
 ],
 "metadata": {
  "kernelspec": {
   "display_name": "Python 3",
   "language": "python",
   "name": "python3"
  },
  "language_info": {
   "codemirror_mode": {
    "name": "ipython",
    "version": 3
   },
   "file_extension": ".py",
   "mimetype": "text/x-python",
   "name": "python",
   "nbconvert_exporter": "python",
   "pygments_lexer": "ipython3",
   "version": "3.8.3"
  }
 },
 "nbformat": 4,
 "nbformat_minor": 4
}
