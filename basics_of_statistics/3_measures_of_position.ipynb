{
 "cells": [
  {
   "cell_type": "code",
   "execution_count": 1,
   "metadata": {},
   "outputs": [],
   "source": [
    "#we use the following libraries\n",
    "\n",
    "import math\n",
    "import numpy as np\n",
    "import pandas as pd\n",
    "import seaborn as sns\n",
    "import matplotlib.pyplot as plt"
   ]
  },
  {
   "cell_type": "markdown",
   "metadata": {},
   "source": [
    "**Measures of Position**\n",
    "\n",
    "A measure of position determined the position of a single value in relation to other values or a population data set. Unlike the mean and the standard deviation, descriptive measures based on **quantiles** are not sensitive to the influence of a few extreme observations. For this reason, descriptive measures based on quantiles are often preferred over those based on the mean and standard deviation.\n",
    "\n",
    "Quantiles are cut points dividing the range of the data into contiguous intervals with equal probabilities. Certain quantiles are particularly important: The **median** of a data set divides the data into equal parts: the bottom 50% and the top 50%. **Quartiles** divide the data into four equal parts and *percentiles* divide it into $100$ equal parts. Note that the median is also the 50th percentile. **Deciles** divide a data set into $10$ equal parts, and the **quintiles** divide a data set into $5$ equal parts. There is always one less quantile than the number of groups created (e.g. There are **3** quartiles dividing the data into **4** equal parts!).\n",
    "\n",
    "**Quartiles and Interquartile Range**\n",
    "\n",
    "**Quartiles** divide a ranked data set into **four equal parts**. These three measures are denoted **first quartile (denoted Q1)**, **second quartile (denoted by Q2)**, and **third quartile (denoted by Q3)**. The second quartile is the same as the median of a data set. The first quartile is the value of the middle term among the observations that are less than the median, and the third quartile is the value of the middle term among the observations that are greater than the median.\n",
    "\n",
    "![quartile](quartile.png)\n",
    "\n",
    "Approximately 25% of the values in ranked data set are less than Q1 and about 75% are greater than Q1. The second quartile, Q2, divides a ranked data set into two equal parts; hence the second quartile and the median are the same. Approximately 75% of the data values are less than Q3 and about 25% are greater than Q3. The difference between the third quartile and the first quartile for a data set is called the **interquartile range (IQR)**.\n",
    "\n",
    "\n",
    "<center> IQR = Q3-Q1 </center>   \n",
    "\n",
    "\n",
    "**Calculating Quantiles**\n",
    "\n",
    "Given a set of values $x_1, x_2, \\dots x_n$ we can define the\n",
    "quantiles for any fraction $p$ as follows.\n",
    "\n",
    "Sort the values in order\n",
    "$$x_{(1)} \\leq x_{(2)} \\leq \\cdots \\leq x_{(n)}.$$\n",
    "\n",
    "The values $x(1), . . . , x(n)$ are called the **order statistics** of the original sample. Take the order statistics to be the quantiles which correspond to the fractions:\n",
    "\n",
    "$$p_i = \\frac{i-1}{n-1} \\ (i = 1,\\dots,n)$$\n",
    "\n",
    "In general, to define the quantile which corresponds to the fraction $p$ to be the linear interpolation between the two nearest $p_i$.\n",
    "\n",
    "If $p$ lies a fraction of $f$ from $p_i$ to $p_{i+1}$ define the $p$th quantile to be:\n",
    "\n",
    "$$Q(p) = (1 − f)Q(p_i) + fQ(p_i+1)$$\n",
    "\n",
    "As special cases, we have:\n",
    "\n",
    "- Median: $Q(0.5)$\n",
    "- Lower Quartile: $Q(0.25)$\n",
    "- Upper Quartile: $Q(0.75)$\n",
    "\n",
    "The function $Q$ defined in this way is called the Quantile Function."
   ]
  },
  {
   "cell_type": "code",
   "execution_count": 2,
   "metadata": {},
   "outputs": [
    {
     "data": {
      "text/html": [
       "<div>\n",
       "<style scoped>\n",
       "    .dataframe tbody tr th:only-of-type {\n",
       "        vertical-align: middle;\n",
       "    }\n",
       "\n",
       "    .dataframe tbody tr th {\n",
       "        vertical-align: top;\n",
       "    }\n",
       "\n",
       "    .dataframe thead th {\n",
       "        text-align: right;\n",
       "    }\n",
       "</style>\n",
       "<table border=\"1\" class=\"dataframe\">\n",
       "  <thead>\n",
       "    <tr style=\"text-align: right;\">\n",
       "      <th></th>\n",
       "      <th>stud.id</th>\n",
       "      <th>name</th>\n",
       "      <th>gender</th>\n",
       "      <th>age</th>\n",
       "      <th>height</th>\n",
       "      <th>weight</th>\n",
       "      <th>religion</th>\n",
       "      <th>nc.score</th>\n",
       "      <th>semester</th>\n",
       "      <th>major</th>\n",
       "      <th>minor</th>\n",
       "      <th>score1</th>\n",
       "      <th>score2</th>\n",
       "      <th>online.tutorial</th>\n",
       "      <th>graduated</th>\n",
       "      <th>salary</th>\n",
       "    </tr>\n",
       "  </thead>\n",
       "  <tbody>\n",
       "    <tr>\n",
       "      <th>1</th>\n",
       "      <td>833917</td>\n",
       "      <td>Gonzales, Christina</td>\n",
       "      <td>Female</td>\n",
       "      <td>19</td>\n",
       "      <td>160</td>\n",
       "      <td>64.8</td>\n",
       "      <td>Muslim</td>\n",
       "      <td>1.91</td>\n",
       "      <td>1st</td>\n",
       "      <td>Political Science</td>\n",
       "      <td>Social Sciences</td>\n",
       "      <td>NaN</td>\n",
       "      <td>NaN</td>\n",
       "      <td>0</td>\n",
       "      <td>0</td>\n",
       "      <td>NaN</td>\n",
       "    </tr>\n",
       "    <tr>\n",
       "      <th>2</th>\n",
       "      <td>898539</td>\n",
       "      <td>Lozano, T'Hani</td>\n",
       "      <td>Female</td>\n",
       "      <td>19</td>\n",
       "      <td>172</td>\n",
       "      <td>73.0</td>\n",
       "      <td>Other</td>\n",
       "      <td>1.56</td>\n",
       "      <td>2nd</td>\n",
       "      <td>Social Sciences</td>\n",
       "      <td>Mathematics and Statistics</td>\n",
       "      <td>NaN</td>\n",
       "      <td>NaN</td>\n",
       "      <td>0</td>\n",
       "      <td>0</td>\n",
       "      <td>NaN</td>\n",
       "    </tr>\n",
       "    <tr>\n",
       "      <th>3</th>\n",
       "      <td>379678</td>\n",
       "      <td>Williams, Hanh</td>\n",
       "      <td>Female</td>\n",
       "      <td>22</td>\n",
       "      <td>168</td>\n",
       "      <td>70.6</td>\n",
       "      <td>Protestant</td>\n",
       "      <td>1.24</td>\n",
       "      <td>3rd</td>\n",
       "      <td>Social Sciences</td>\n",
       "      <td>Mathematics and Statistics</td>\n",
       "      <td>45.0</td>\n",
       "      <td>46.0</td>\n",
       "      <td>0</td>\n",
       "      <td>0</td>\n",
       "      <td>NaN</td>\n",
       "    </tr>\n",
       "    <tr>\n",
       "      <th>4</th>\n",
       "      <td>807564</td>\n",
       "      <td>Nem, Denzel</td>\n",
       "      <td>Male</td>\n",
       "      <td>19</td>\n",
       "      <td>183</td>\n",
       "      <td>79.7</td>\n",
       "      <td>Other</td>\n",
       "      <td>1.37</td>\n",
       "      <td>2nd</td>\n",
       "      <td>Environmental Sciences</td>\n",
       "      <td>Mathematics and Statistics</td>\n",
       "      <td>NaN</td>\n",
       "      <td>NaN</td>\n",
       "      <td>0</td>\n",
       "      <td>0</td>\n",
       "      <td>NaN</td>\n",
       "    </tr>\n",
       "    <tr>\n",
       "      <th>5</th>\n",
       "      <td>383291</td>\n",
       "      <td>Powell, Heather</td>\n",
       "      <td>Female</td>\n",
       "      <td>21</td>\n",
       "      <td>175</td>\n",
       "      <td>71.4</td>\n",
       "      <td>Catholic</td>\n",
       "      <td>1.46</td>\n",
       "      <td>1st</td>\n",
       "      <td>Environmental Sciences</td>\n",
       "      <td>Mathematics and Statistics</td>\n",
       "      <td>NaN</td>\n",
       "      <td>NaN</td>\n",
       "      <td>0</td>\n",
       "      <td>0</td>\n",
       "      <td>NaN</td>\n",
       "    </tr>\n",
       "    <tr>\n",
       "      <th>6</th>\n",
       "      <td>256074</td>\n",
       "      <td>Perez, Jadrian</td>\n",
       "      <td>Male</td>\n",
       "      <td>19</td>\n",
       "      <td>189</td>\n",
       "      <td>85.8</td>\n",
       "      <td>Catholic</td>\n",
       "      <td>1.34</td>\n",
       "      <td>2nd</td>\n",
       "      <td>Political Science</td>\n",
       "      <td>Mathematics and Statistics</td>\n",
       "      <td>NaN</td>\n",
       "      <td>NaN</td>\n",
       "      <td>0</td>\n",
       "      <td>0</td>\n",
       "      <td>NaN</td>\n",
       "    </tr>\n",
       "    <tr>\n",
       "      <th>7</th>\n",
       "      <td>754591</td>\n",
       "      <td>Clardy, Anita</td>\n",
       "      <td>Female</td>\n",
       "      <td>21</td>\n",
       "      <td>156</td>\n",
       "      <td>65.9</td>\n",
       "      <td>Protestant</td>\n",
       "      <td>1.11</td>\n",
       "      <td>2nd</td>\n",
       "      <td>Political Science</td>\n",
       "      <td>Social Sciences</td>\n",
       "      <td>NaN</td>\n",
       "      <td>NaN</td>\n",
       "      <td>0</td>\n",
       "      <td>0</td>\n",
       "      <td>NaN</td>\n",
       "    </tr>\n",
       "    <tr>\n",
       "      <th>8</th>\n",
       "      <td>146494</td>\n",
       "      <td>Allen, Rebecca Marie</td>\n",
       "      <td>Female</td>\n",
       "      <td>21</td>\n",
       "      <td>167</td>\n",
       "      <td>65.7</td>\n",
       "      <td>Other</td>\n",
       "      <td>2.03</td>\n",
       "      <td>3rd</td>\n",
       "      <td>Political Science</td>\n",
       "      <td>Economics and Finance</td>\n",
       "      <td>58.0</td>\n",
       "      <td>62.0</td>\n",
       "      <td>0</td>\n",
       "      <td>0</td>\n",
       "      <td>NaN</td>\n",
       "    </tr>\n",
       "    <tr>\n",
       "      <th>9</th>\n",
       "      <td>723584</td>\n",
       "      <td>Tracy, Robert</td>\n",
       "      <td>Male</td>\n",
       "      <td>18</td>\n",
       "      <td>195</td>\n",
       "      <td>94.4</td>\n",
       "      <td>Other</td>\n",
       "      <td>1.29</td>\n",
       "      <td>3rd</td>\n",
       "      <td>Economics and Finance</td>\n",
       "      <td>Environmental Sciences</td>\n",
       "      <td>57.0</td>\n",
       "      <td>67.0</td>\n",
       "      <td>0</td>\n",
       "      <td>0</td>\n",
       "      <td>NaN</td>\n",
       "    </tr>\n",
       "    <tr>\n",
       "      <th>10</th>\n",
       "      <td>314281</td>\n",
       "      <td>Nimmons, Laura</td>\n",
       "      <td>Female</td>\n",
       "      <td>18</td>\n",
       "      <td>165</td>\n",
       "      <td>66.0</td>\n",
       "      <td>Orthodox</td>\n",
       "      <td>1.19</td>\n",
       "      <td>2nd</td>\n",
       "      <td>Environmental Sciences</td>\n",
       "      <td>Mathematics and Statistics</td>\n",
       "      <td>NaN</td>\n",
       "      <td>NaN</td>\n",
       "      <td>0</td>\n",
       "      <td>0</td>\n",
       "      <td>NaN</td>\n",
       "    </tr>\n",
       "  </tbody>\n",
       "</table>\n",
       "</div>"
      ],
      "text/plain": [
       "    stud.id                  name  gender  age  height  weight    religion  \\\n",
       "1    833917   Gonzales, Christina  Female   19     160    64.8      Muslim   \n",
       "2    898539        Lozano, T'Hani  Female   19     172    73.0       Other   \n",
       "3    379678        Williams, Hanh  Female   22     168    70.6  Protestant   \n",
       "4    807564           Nem, Denzel    Male   19     183    79.7       Other   \n",
       "5    383291       Powell, Heather  Female   21     175    71.4    Catholic   \n",
       "6    256074        Perez, Jadrian    Male   19     189    85.8    Catholic   \n",
       "7    754591         Clardy, Anita  Female   21     156    65.9  Protestant   \n",
       "8    146494  Allen, Rebecca Marie  Female   21     167    65.7       Other   \n",
       "9    723584         Tracy, Robert    Male   18     195    94.4       Other   \n",
       "10   314281        Nimmons, Laura  Female   18     165    66.0    Orthodox   \n",
       "\n",
       "    nc.score semester                   major                       minor  \\\n",
       "1       1.91      1st       Political Science             Social Sciences   \n",
       "2       1.56      2nd         Social Sciences  Mathematics and Statistics   \n",
       "3       1.24      3rd         Social Sciences  Mathematics and Statistics   \n",
       "4       1.37      2nd  Environmental Sciences  Mathematics and Statistics   \n",
       "5       1.46      1st  Environmental Sciences  Mathematics and Statistics   \n",
       "6       1.34      2nd       Political Science  Mathematics and Statistics   \n",
       "7       1.11      2nd       Political Science             Social Sciences   \n",
       "8       2.03      3rd       Political Science       Economics and Finance   \n",
       "9       1.29      3rd   Economics and Finance      Environmental Sciences   \n",
       "10      1.19      2nd  Environmental Sciences  Mathematics and Statistics   \n",
       "\n",
       "    score1  score2  online.tutorial  graduated  salary  \n",
       "1      NaN     NaN                0          0     NaN  \n",
       "2      NaN     NaN                0          0     NaN  \n",
       "3     45.0    46.0                0          0     NaN  \n",
       "4      NaN     NaN                0          0     NaN  \n",
       "5      NaN     NaN                0          0     NaN  \n",
       "6      NaN     NaN                0          0     NaN  \n",
       "7      NaN     NaN                0          0     NaN  \n",
       "8     58.0    62.0                0          0     NaN  \n",
       "9     57.0    67.0                0          0     NaN  \n",
       "10     NaN     NaN                0          0     NaN  "
      ]
     },
     "execution_count": 2,
     "metadata": {},
     "output_type": "execute_result"
    }
   ],
   "source": [
    "#FU Berlin student data set. \n",
    "\n",
    "students_df = pd.read_csv(\"students.csv\")\n",
    "\n",
    "students_df.head(10)"
   ]
  },
  {
   "cell_type": "code",
   "execution_count": 3,
   "metadata": {},
   "outputs": [
    {
     "name": "stdout",
     "output_type": "stream",
     "text": [
      "1.46 2.04 2.78 4.0\n"
     ]
    }
   ],
   "source": [
    "print(students_df['nc.score'].quantile(0.25),\n",
    "students_df['nc.score'].quantile(0.5),\n",
    "students_df['nc.score'].quantile(0.75),\n",
    "students_df['nc.score'].quantile(1))"
   ]
  },
  {
   "cell_type": "code",
   "execution_count": 4,
   "metadata": {},
   "outputs": [
    {
     "data": {
      "text/plain": [
       "count    8239.000000\n",
       "mean        2.166481\n",
       "std         0.811548\n",
       "min         1.000000\n",
       "25%         1.460000\n",
       "50%         2.040000\n",
       "75%         2.780000\n",
       "max         4.000000\n",
       "Name: nc.score, dtype: float64"
      ]
     },
     "execution_count": 4,
     "metadata": {},
     "output_type": "execute_result"
    }
   ],
   "source": [
    "# summary statistics\n",
    "\n",
    "students_df['nc.score'].describe()"
   ]
  },
  {
   "cell_type": "code",
   "execution_count": 5,
   "metadata": {},
   "outputs": [
    {
     "data": {
      "image/png": "[encoded data removed]",
      "text/plain": [
       "<Figure size 842.4x595.44 with 1 Axes>"
      ]
     },
     "metadata": {},
     "output_type": "display_data"
    }
   ],
   "source": [
    "sns.set(rc={'figure.figsize':(11.7,8.27)})\n",
    "\n",
    "sns.distplot(a=students_df['nc.score'], kde= False)\n",
    "plt.axvline(students_df['nc.score'].quantile(0.25),color='blue', label = '1st')\n",
    "plt.axvline(students_df['nc.score'].quantile(0.5),color='lime',label = '2nd')\n",
    "plt.axvline(students_df['nc.score'].quantile(0.7),color='red', label = '3rd')\n",
    "plt.legend()\n",
    "plt.xlabel('Numerus Clausus score')\n",
    "plt.ylabel('Frequency')\n",
    "\n",
    "pass\n"
   ]
  },
  {
   "cell_type": "markdown",
   "metadata": {},
   "source": [
    "**The Five Number Summary**"
   ]
  },
  {
   "cell_type": "markdown",
   "metadata": {},
   "source": [
    "From the three quartiles (Q1,Q2,Q3), we can obtain a measure of center (the median, Q2) and measures of variation of the two middle quarters of the data, Q2-Q1 for the second quarter and $Q3-Q2$ for the third quarter. But the three quartiles do no tell us anything about the variation of the first and fourth quarters.\n",
    "\n",
    "To gain that information, we include the minimum and maximum observations as well. The variation of the first quarter can be measured as the difference between the minimum and the first quartile, Q1 - Min, and the variation of the fourth quarter can be measured as the the difference between the third quartile and the maximum, Max - Q3. Thus the minimum, maximum, and quartiles together provide, among other things, information on center and variation.\n",
    "\n",
    "The so called **Tukey Five-Number Summary** of a data set consists of the Min, Q1, Q2, Q3, and Max of the data set."
   ]
  },
  {
   "cell_type": "markdown",
   "metadata": {},
   "source": [
    "**Percentiles and Percentile Rank**\n",
    "\n",
    "**Percentiles** divide a ranked data set into $100$ equal parts. Each (ranked) data set has $99$ percentiles that divide it into $100$ parts. The $k^{th}$ percentile is denoted $P_k$, where $k$ is a interger in the range $1$ to $99$. For instance, the $25^{th}$ percentile is denoted by $P_{25}$.\n",
    "\n",
    "Thus, the $k^{th}$ percentile $P_k$ can be defined as a value in a data set such that about $k\\%$ of the measurements are smaller than the value of $P_k$ and about $(100-k)$ of the measurements are greater than the value of $P_k$.\n",
    "\n",
    "The approximate value of the $k^{th}$ percentile, denoted by $P_k$, is \n",
    "\n",
    "$$ P_k = \\frac{kn}{100}$$\n",
    "\n",
    "where $k$ denotes the number of the percentile and $n$ represents the sample size."
   ]
  },
  {
   "cell_type": "code",
   "execution_count": 6,
   "metadata": {},
   "outputs": [
    {
     "name": "stdout",
     "output_type": "stream",
     "text": [
      "the 38th percentile's position is number 3131\n",
      "the 50th percentile's position is number 4120\n",
      "the 73th percentile's position is number 6015\n",
      "1.74\n",
      "2.04\n",
      "2.71\n",
      "1.74\n",
      "2.04\n",
      "2.71\n"
     ]
    }
   ],
   "source": [
    "# percentiles in python\n",
    "\n",
    "#percentile \n",
    "\n",
    "perc = [38,50,73]\n",
    "\n",
    "n = len(students_df['nc.score'])\n",
    "\n",
    "for k in perc:\n",
    "    print('the {0}th percentile\\'s position is number {1}'.format(k, math.ceil(k*n/100)))\n",
    "          \n",
    "# select value based on number in the ordered vector\n",
    "for k in perc:\n",
    "    print(sorted(students_df['nc.score'])[math.ceil(k*n/100)])\n",
    " \n",
    "# we get the same result as above\n",
    "for k in perc:\n",
    "    print(students_df['nc.score'].quantile(k/100))\n",
    "\n"
   ]
  },
  {
   "cell_type": "markdown",
   "metadata": {},
   "source": [
    "That worked out fine! One may check if the median of <mark> nc.score </mark> variable corresponds to the $50^{th}$ percentile ($2.04$) as calculated above.\n",
    "\n",
    "We can also calculate the **percentile rank** for a particular value $x_i$ of a data set by the following equation:\n",
    "\n",
    "$$ \\text{Percentile rank of $x_i$} = \\frac{\\text{Number of values less than $x_i$}}{ \\text{Total number of values in the data set}}$$\n",
    "\n",
    "The percentile rank of $x_i$ gives the percentage of values in the data set that are less than $x_i$. "
   ]
  },
  {
   "cell_type": "code",
   "execution_count": 7,
   "metadata": {},
   "outputs": [
    {
     "data": {
      "text/plain": [
       "1.74"
      ]
     },
     "execution_count": 7,
     "metadata": {},
     "output_type": "execute_result"
    }
   ],
   "source": [
    "# percentile python\n",
    "\n",
    "np.percentile(students_df['nc.score'], 38)"
   ]
  },
  {
   "cell_type": "markdown",
   "metadata": {},
   "source": [
    "**Outliers and Boxplots**\n",
    "\n",
    "**Outliers**\n",
    "\n",
    "In data analysis, the identification of outliers and thus, observations that fall well outside the overall pattern of the data is very important. An outlier requires special attention. It may be the result of a measurement or recording error, an observation from a different population, or an unusual extreme observation. Note that an extreme observation need not be an outlier; it may instead be an indication of skewness.\n",
    "\n",
    "It we observe an outlier, we should try to determine its cause. If an outlier is caused by a measurement or recording error, or if for some other reason it clearly does not belong to the data set, the outlier can simply be removed. However, if no explanation for an outlier is apparent, the decision whether to retain it in the data set is a difficult judgement call.\n",
    "\n",
    "As a diagnostic tool for spotting observations that may be outliers we may use quartiles and the IQR. Therefore, we define the **lower limit** and the **upper limit** of a data set. The lower limit is the number that lies $1.5 \\times IQRs$ below the first quartile; the upper limit is the number that lies $1.5 \\times IQRs$ above the third quartile. Observations that lie below the lower limit or above the upper limit are potential outliers\n",
    "\n",
    "$$ \\text{Lower limit} = Q1 - 1.5 \\times IQR$$\n",
    "\n",
    "$$ \\text{Upper limit} = Q3 + 1.5 \\times IQR $$\n",
    "\n",
    "**Boxplots**\n",
    "\n",
    "A boxplot, also called a **box-and-whisker diagram** is based on the five-number summary and can be used to provide a graphical display of the center and variation of a data set. Several types of boxplots are in common use.\n",
    "\n",
    "Box-and-whisker plots give a graphic presentation of data using five measures: the median, the first quartile, the third quartile, and the smallest and the largest values in the data set between the lower and the upper limits. The spacing between the different parts of the box indicates the degree of dispersion (spread) and skewness in the data. We can compare different distributions by making box-and-whisker plots for each of them. It also helps to detect outliers. Box plots can be drawn either horizontally or vertically.\n",
    "\n",
    "![box-whisker](box-whisker-plot.png)\n",
    "\n",
    "The edges of the box are always the first and third quartiles, and the band inside the box is always the second quartile (the median). The lines extending from the boxes(whiskers) indicating variability outside the upper and lower quartiles. To construct a boxplot, we also need the concept of adjacent values. The **adjacent values** of a data set are the most extreme observations that are not potential outliers. Outliers may be plotted as individual points. Note that, if a data set has no potential outliers, the adjacent values are the minimum and maximum observations.‚"
   ]
  },
  {
   "cell_type": "code",
   "execution_count": 8,
   "metadata": {},
   "outputs": [
    {
     "data": {
      "image/png": "[encoded data removed]",
      "text/plain": [
       "<Figure size 410.4x307.44 with 1 Axes>"
      ]
     },
     "metadata": {},
     "output_type": "display_data"
    }
   ],
   "source": [
    "#boxplots in python\n",
    "\n",
    "sns.set(rc={'figure.figsize':(5.7,4.27)})\n",
    "\n",
    "\n",
    "sns.boxplot(x=students_df['nc.score'], orient = 'h') # orient = 'v'\n",
    "plt.xlabel('Scores')\n",
    "plt.title('Numerus clausus')\n",
    "\n",
    "pass"
   ]
  },
  {
   "cell_type": "markdown",
   "metadata": {},
   "source": [
    "Boxplots are a very powerful technique for exploratory data analysis, as it is very easy to condition the variables of interest, in our case <mark> nc.score </mark> variable, on other variables.\n",
    "\n",
    "Let us plot a boxplot of the <mark> nc.score </mark>  variable conditioned of the <mark> semester </mark> variable. The <mark> semester </mark>  variable corresponds to the semester the particular student is studying. For your information: the minimum period of study for the study programs under investigation is set to $4$ semesters."
   ]
  },
  {
   "cell_type": "code",
   "execution_count": 9,
   "metadata": {},
   "outputs": [
    {
     "data": {
      "image/png": "[encoded data removed]",
      "text/plain": [
       "<Figure size 410.4x451.44 with 1 Axes>"
      ]
     },
     "metadata": {},
     "output_type": "display_data"
    }
   ],
   "source": [
    "# multiple boxplots in python\n",
    "\n",
    "sns.set(rc={'figure.figsize':(5.7,6.27)})\n",
    "\n",
    "\n",
    "sns.boxplot(x=students_df['nc.score'], y=students_df['semester'], orient = 'h') # orient = 'v'\n",
    "plt.xlabel('Scores')\n",
    "plt.ylabel('')\n",
    "plt.title('Numerus clausus for students of different semesters')\n",
    "\n",
    "pass"
   ]
  },
  {
   "cell_type": "markdown",
   "metadata": {},
   "source": [
    "The plot suggests that students of higher semesters tend to score lower on the *numerus clausus*. Or in other words, those students who finish their studies within the minimum period of study, tend to have a higher *numerus clausus* score.\n",
    "\n",
    "However, we are not yet finished. We want to know if gender has any effect on that observation. For this we use a notch plot."
   ]
  },
  {
   "cell_type": "code",
   "execution_count": 10,
   "metadata": {},
   "outputs": [
    {
     "data": {
      "image/png": "[encoded data removed]",
      "text/plain": [
       "<Figure size 410.4x667.44 with 1 Axes>"
      ]
     },
     "metadata": {},
     "output_type": "display_data"
    }
   ],
   "source": [
    "# notch plot in python\n",
    "\n",
    "sns.set(rc={'figure.figsize':(5.7,9.27)})\n",
    "\n",
    "\n",
    "sns.boxplot(x=students_df['nc.score'], y=students_df['semester'], hue = students_df['gender'], palette=['blue','red'], orient = 'h', notch='true') # orient = 'v'\n",
    "plt.xlabel('Scores')\n",
    "plt.ylabel('')\n",
    "plt.legend(bbox_to_anchor=(1.04,1), loc=\"upper left\")\n",
    "plt.title('Numerus clausus for students of different semesters and gender')\n",
    "\n",
    "pass"
   ]
  },
  {
   "cell_type": "markdown",
   "metadata": {},
   "source": [
    "The plot is not as easy to interpret. Though, it seems that the above made observation is confirmed: students of higher semester tend to score lower on the *numerus clausus*. However the impact of gender on the *numerus clausus* scores is not clear. We will have to apply methods of inferential **statistics** to assess, whether these differences are *statistically significant*, or whether these fluctuations around the median may be also caused solely by chance.\n",
    "\n",
    "To wrap this section up, and in order to see a boxplot with outliers too, we plot the <mark> height </mark> variable against the <mark> gender </mark> variable. "
   ]
  },
  {
   "cell_type": "code",
   "execution_count": 11,
   "metadata": {},
   "outputs": [
    {
     "data": {
      "image/png": "[encoded data removed]",
      "text/plain": [
       "<Figure size 410.4x667.44 with 1 Axes>"
      ]
     },
     "metadata": {},
     "output_type": "display_data"
    }
   ],
   "source": [
    "#boxplots with outliers\n",
    "\n",
    "# notch plot in python\n",
    "\n",
    "sns.set(rc={'figure.figsize':(5.7,9.27)})\n",
    "\n",
    "\n",
    "sns.boxplot(x=students_df['gender'], y=students_df['height']) # orient = 'v'\n",
    "plt.xlabel('')\n",
    "plt.ylabel('Height in cm')\n",
    "plt.title('The heights of students based on gender')\n",
    "\n",
    "pass"
   ]
  },
  {
   "cell_type": "markdown",
   "metadata": {},
   "source": [
    "Obviously, and certainly not that unexpected, there is a difference in the height of the students among the different groups(male or female). Female students tend to be smaller than male student, however if we look at the extremes, there are large and small individuals in both groups. However, as mentioned above we will first have to test the data for *statistical significance* to be more confident, that this observed difference in height is not just observed by chance."
   ]
  },
  {
   "cell_type": "markdown",
   "metadata": {},
   "source": [
    "# Technical discussion regarding quantiles"
   ]
  },
  {
   "cell_type": "markdown",
   "metadata": {},
   "source": [
    "## Quantiles for Random Variables\n",
    "\n",
    "**Definition.** Let $X$ be random variable taking values in $\\mathbb{R}$. For $q \\in (0,1)$, a number $y \\in \\mathbb{R}$ is called a $q$-quantile or a quantile of order $q$ for $X$ if the following conditions are met:\n",
    "\n",
    "$$\\mathbb{P}[X < y] \\leq q  \\text{   and }  \\mathbb{P}[X > y] \\leq 1-q$$\n",
    "\n",
    "or equivalently\n",
    "\n",
    "$$\\mathbb{P}[X < y] \\leq q  \\text{   and }  \\mathbb{P}[X \\leq y] \\geq q.$$\n",
    "\n",
    "**Examples.**\n",
    "\n",
    "- Let $X$ take the value 0 with probability $1$. Then $0$ is a quantile of order $q$ for all $q \\in (0,1).$\n",
    "\n",
    "- Let $X$ be the standard normal. Then $0$ is the unique $0.5$-quantile.\n",
    "\n",
    "**Remarks.**\n",
    "\n",
    "- $q$-quantiles always exist but they may not be unique.\n",
    "\n",
    "- If $X$ is supported on an interval and has a continuous strictly  increasing cumulative distribution function then the quantiles are unique.\n",
    "\n",
    "- One could relax the defintion to include $q=0,1$ but these quantiles might not always exist. For example, in the case of the standard normal there is no $y \\in \\mathbb{R}$ such that $\\mathbb{P}[X < y] = 0$. But one could still think in terms of infimum and supremum (minimum and maximum when bounded), so in the case of the standard normal, the 0-quantile would be $- \\infty$ and the $1$-quantile would be $\\infty$."
   ]
  },
  {
   "cell_type": "markdown",
   "metadata": {},
   "source": [
    "# Quantiles for Datasets\n",
    "\n",
    "Given a dataset $D = (x_1, \\dots, x_n)$ of real numbers, with $n \\geq 1$, how do we define quantiles for $D$?\n",
    "\n",
    "We will present two different definitions, but both of them satisfy the following properties\n",
    "\n",
    "1. The minimum is a $0$-quantile.\n",
    "\n",
    "2. The maximum is a $1$-quantile.\n",
    "\n",
    "3. The median value is  a $0.5$-quantile\n",
    "\n",
    "4. For $D = (x_1 < \\cdots < x_n), n \\geq 2$, the number $x_i$ should be a $\\frac{i-1}{n-1}$-quantile.\n",
    "\n",
    "## Empirical Quantiles\n",
    "\n",
    "The simplest probabiltiy distribtuion we could assign to $D$ is the empirical distirbution. So $X$ takes the value $x_i$ with probability $k/n$ where $k$ is the number of times $x_i$ appears in $D$.\n",
    "\n",
    "**Definition.** An empirical $q$-quantile for $D$ is a $q$-quantile for $X$ with the above stated distribution. This means that the following conditions should be met:\n",
    "\n",
    "$$\\frac{ \\# \\{ x \\in D | x < y \\}}{ \\# D} \\leq q \\text{ and } \\frac{\\# \\{x \\in D | x > y \\}}{ \\# D} \\leq 1-q.$$\n",
    "\n",
    "**Remark.**\n",
    "\n",
    "- Empirical quantiles satisfy the above stated four properties.\n",
    "\n",
    "**Definition** For any number $n$ and $0 \\leq q \\leq 1$, we define the quantile indices\n",
    "\n",
    "$$ k_{q}^{\\text{min}} (n) = \\lceil qn \\rceil  \\text{ and } k_{q}^{\\text{max}}(n) = \\lfloor qn \\rfloor +1.$$\n",
    "\n",
    "For a dataset $D$ of length $n$ we define the minimal and maximum empirical $q$-quantiles as $x_{(k_{q}^{\\text{min}} (n))}$ and $x_{(k_{q}^{\\text{max}} (n))}$ respectively, where $x_{(k)}$ is the $k$-th entry in $D$ after it is sorted.\n",
    "\n",
    "Furthermore, we call\n",
    "\n",
    "$$Q_{\\text{emp}} (D; q) = \\frac{1}{2} (x_{(k_{q}^{\\text{min}} (n))} + x_{(k_{q}^{\\text{max}} (n))})$$\n",
    "\n",
    "the central empirical $q$-quantile.\n",
    "\n",
    "**Propostion** For a dataset $D$, the following statments are equivalent:\n",
    "\n",
    "- $p$% of all samples in $D$ were less than or equal to $y$.\n",
    "\n",
    "- The minimal $p/100$-quantile was greater than or equal to $y$.\n",
    "\n"
   ]
  },
  {
   "cell_type": "markdown",
   "metadata": {},
   "source": [
    "## Interpolated Quantiles\n",
    "\n",
    "We first sort the dataset $D = (x_1, \\dots, x_n)$, $n \\geq 2$,\n",
    "\n",
    "$$x_{(1)} \\leq x_{(2)} \\leq \\cdots \\leq x_{(n)}.$$\n",
    "\n",
    "\n",
    "**Definition.** $x_{(i)}$ is taken to be the quantile of order $q_i = \\frac{i-1}{n-1}$ for $1 \\leq i \\leq n$. If $q$ lies a fraction $\\gamma \\in (0,1)$ of the way from $q_i$ to $q_{i+1}$ define the $q$-quantile to be\n",
    "\n",
    "$$(1-\\gamma)x_{i} + \\gamma x_{i+1} $$\n",
    "\n",
    "**Propostion.** The interpolated $q$-quantile $Q_{\\text{int}}(D;q)$ is a continous, piecewise linear function in $q$, with break point at $q = \\frac{i-1}{n-1}$ at which the following values are assumed:\n",
    "\n",
    "$$Q_{\\text{int}}(D; \\frac{i-1}{n-1}) = x_{(i)} \\text{ for } i =1, \\dots, n.$$ \n",
    "\n",
    "**Examples.**\n",
    "\n",
    "- Quantiles for the dataset $(1.3,2.2,2.7,3.1,3.3,3.7)$.\n",
    "\n",
    "![](quantile_linear_interpolation.png)\n",
    "\n",
    "**Remarks**\n",
    "\n",
    "- The interpolated quantile satisfies the four properties stated before.\n"
   ]
  },
  {
   "cell_type": "markdown",
   "metadata": {},
   "source": [
    "**Proposition.** Empirical quantile and interpolated quantiles are more than one sample apart:\n",
    "\n",
    "$$ \\mid Q_{\\text{emp}} (D ; q) - Q_{\\text{int}} (D; q) \\mid \\leq \\max \\{ x_{(k+1)} - x_{(k)} \\mid k = 1, \\dots, n \\}. $$\n",
    "\n",
    "**Example**. There are certain cases where the interpolated and empirical quantiles are far apart. A common example where this is the case is are long tailed distributions with outliers, and we are interested in high quantiles like $0.99, 0.999$. In these regions samples are sparse and far apart. In the following diagram we compare empricial vs interpolated quantiles for a [Pareto distribution](https://en.wikipedia.org/wiki/Pareto_distribution).\n",
    "\n",
    "![](empirical_interpolated_pareto.png)\n",
    "\n",
    "**Remark**\n",
    "\n",
    "- The interpolated quantile function is continuous and piecewise linear while the empirical quantile function is piecewise constant with discrete jumps. So the interpolated quantile function is is more suitable for use in QQ-plots.\n",
    "\n",
    "- The empirical quantile is helpful in giving exact answers to practical problem of bounding ratios of samples above/below a threshold. \n",
    "\n",
    "- In many case there is not much difference between both versions. When samples are close together so will be the quantiles in that area. When samples are far apart, like in the long tail of a distribution, the differences can be very substantial.\n",
    "\n",
    "- The Python libraries Numpy, Pandas and SciPy do not have options for calculating empirical quantiles. **They by default calculate interpolated quantiles.**\n",
    "\n",
    "### References\n",
    "\n",
    "1. https://www.randomservices.org/random/dist/CDF.html\n",
    "\n",
    "2. https://www.stat.auckland.ac.nz/~ihaka/787/lectures-quantiles.pdf\n",
    "\n",
    "3. https://www.heinrichhartmann.com/math/quantiles.html"
   ]
  },
  {
   "cell_type": "code",
   "execution_count": null,
   "metadata": {},
   "outputs": [],
   "source": []
  }
 ],
 "metadata": {
  "kernelspec": {
   "display_name": "Python 3",
   "language": "python",
   "name": "python3"
  },
  "language_info": {
   "codemirror_mode": {
    "name": "ipython",
    "version": 3
   },
   "file_extension": ".py",
   "mimetype": "text/x-python",
   "name": "python",
   "nbconvert_exporter": "python",
   "pygments_lexer": "ipython3",
   "version": "3.8.3"
  }
 },
 "nbformat": 4,
 "nbformat_minor": 4
}
