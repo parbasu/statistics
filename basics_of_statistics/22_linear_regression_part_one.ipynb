{
 "cells": [
  {
   "cell_type": "markdown",
   "metadata": {},
   "source": [
    "**Linear Regression**\n",
    "\n",
    "**Regression** analysis is a statistical process for estimating the relationships between two or more variables. The relationship is modeled as $y\\sim x$ or $y=f(x)$. Both model descriptions indicate that the variable $y$ is a function of $x$. Therefore the variable $y$ is denoted as **response variable** or **dependent variable**, whereas the variable $x$ is denoted as **predictor variable** or **independent variable**."
   ]
  },
  {
   "cell_type": "markdown",
   "metadata": {},
   "source": [
    "**Simple Linear Regression**\n",
    "\n",
    "In this section we discuss a special type of regression, which is called a **simple linear regression.** In this special case of regression analysis the relationship between the response variable $y$ and the predictor variable $x$ is given in the form of **linear** equation\n",
    "\n",
    "$$y= a + bx,$$\n",
    "\n",
    "where $a$ and $b$ are constants. The number $a$ is called **intercept** and defines the point of intersection of the regression line and the $y$-axis ($x=0$). The number $b$ is called **regression coefficient**. It is a measure of the slope of the **regression line**. Thus, $b$ indicates how much the $y$-value changes when the $x$-value increases by $1$ unit. The adjective simple refers to the fact that the outcome variable is related to a single predictor. The model is considered as a deterministic model, as it gives an exact relationship between $x$ and $y$."
   ]
  },
  {
   "cell_type": "markdown",
   "metadata": {},
   "source": [
    "Let us consider a simple example. Given a population of $n=3$ points with cartesian coordinates $(x_i,y_i)$ of $(1,6)$, $(2,8)$ and $(3,10)$. These points plot on a straight line and thus, can be described by a linear equation model in the form of $y=a+bx$, where the intercept $a=4$ and $b=2$.\n",
    "\n",
    "![simple_linear](simple_linear.png)"
   ]
  },
  {
   "cell_type": "markdown",
   "metadata": {},
   "source": [
    "In many cases however, the relationship between two variables $x$ and $y$ is not exact. This is due to the fact, that the response variable $y$ is affected by other unknown and/or random processes, that are not fully captured by the predictor variable $x$. In such a case the data points do not line up on a straight line. However, the data still may follow an underlying linear relationship. In order to take these unknowns into consideration a **random error term**, denoted by $\\epsilon$, is added to the linear model equation, thus resulting in a **probabilistic model** in contrast to the deterministic model from above.\n",
    "\n",
    "$$y= a + bx + \\epsilon$$\n",
    "\n",
    "where the error term $\\epsilon_i$ is assumed to consist of independent normal distributed values, $e_i \\sim N(0,\\sigma^2)$.\n",
    "\n",
    "In linear regression modelling following assumptions are made about the model\n",
    "\n",
    "- The random error term $\\epsilon$ has a mean equal to zero for each $x$.\n",
    "\n",
    "- The errors associated with different observations are independent.\n",
    "\n",
    "- For any given $x$, the distribution of errors is normal.\n",
    "\n",
    "- The distribution errors for each $x$ has the same (constant) standard deviation, which is denoted by $\\sigma_{\\epsilon}$."
   ]
  },
  {
   "cell_type": "markdown",
   "metadata": {},
   "source": [
    "Let us consider another example. This time we take a random sample of sample size $n=8$ from a population. In order to emphasize that the values of the intercept and slope are calculated from sample data, $a$ and $b$ are denoted by $\\beta_0$ and $\\beta_1$, respectively. In addition, the error term $\\epsilon$ is denoted as $e$. Thus, $\\beta_0,\\beta_1$ and $e$ are estimates based on sample data for the the population parameters $a,b$ and $\\epsilon$.\n",
    "\n",
    "$$\\hat{y} = \\beta_0 + \\beta_1 x + e,$$\n",
    "\n",
    "where $\\hat{y}$ is the **estimated or predicted value of** $y$ for any given value of $x$."
   ]
  },
  {
   "cell_type": "markdown",
   "metadata": {},
   "source": [
    "![regression_line_error](regression_line_error.png)\n",
    "\n",
    "The error $e_i$ for each particular pair of values $(x_i,y_i)$ also called **residual**, is computed by the difference of the observed value $y_i$ and the predicted value given by $\\hat{y}$.\n",
    "\n",
    "$$e_i = y_i - \\hat{y}_i$$\n",
    "\n",
    "Depending on the data $e_i$ is a negative number if $y_i$ plots below the regression line or it is positive number if $y_i$ plots above the regression line."
   ]
  },
  {
   "cell_type": "markdown",
   "metadata": {},
   "source": [
    "**Parameter Estimation**\n",
    "\n",
    "Now, as we relaxed the constraints of the deterministic model and introduced an error term $\\epsilon$, we run into another problem. There are infinitely many regression lines that fulfill the specifications of the probabilistic model.\n",
    "\n",
    "![many_lines](many_lines.png)"
   ]
  },
  {
   "cell_type": "markdown",
   "metadata": {},
   "source": [
    "Obviously, we need a strategy to select that particular regression line, which corresponds to the *best* model in order to describe the data. In this section we discuss on one of the most popular methods to achieve that tast, the so called **ordinary least squares method (OLS).**\n",
    "\n",
    "As mentioned in the previous section for each particular pair of values $(x_i,y_i)$ the error $e_i$ is calculated by $y_i - \\hat{y}_i$. In order to get the best fitting line for the given data the **error sum of squares**, denoted by $SSE$, is minimized.\n",
    "\n",
    "$$\\min \\text{SSE} = \\sum_{i=1}^{n} e_i^2 = \\sum_{i=1}^{n} (y_i - \\hat{y}_i)^2$$\n",
    "\n",
    "For the simple linear model there exists an analytic solution for $\\beta_1$\n",
    "\n",
    "$$\\hat{\\beta_1} = \\frac{\\sum_{i=1}^n ((x_i- \\bar x) (y_i-\\bar y))}{\\sum_{i=1}^n (x_i-\\bar x)^2} = \\frac{cov(x,y)}{var(x)}$$\n",
    "\n",
    "and $\\beta_0:$\n",
    "\n",
    "$$\\hat{\\beta}_0 = \\bar{y} - \\hat{\\beta}_1 \\bar{x}$$\n",
    "\n",
    "The OLS gives the maximum likelihood estimate for $\\hat{\\beta}$ when the parameters have equal variance and are uncorrelated, and the residuals $\\epsilon$ are uncorrelated and follow a Gaussian distribution."
   ]
  },
  {
   "cell_type": "markdown",
   "metadata": {},
   "source": [
    "**Simple Linear Regression - An example**\n",
    "\n",
    "In order to get some hands-on experience we apply the **simple linear regression** in an exercise. Therefore we load the *students* data set."
   ]
  },
  {
   "cell_type": "code",
   "execution_count": 2,
   "metadata": {},
   "outputs": [],
   "source": [
    "import pandas as pd\n",
    "\n",
    "students_df = pd.read_csv(\"https://userpage.fu-berlin.de/soga/200/2010_data_sets/students.csv\")"
   ]
  },
  {
   "cell_type": "markdown",
   "metadata": {},
   "source": [
    "In order to showcase the **simple linear regression** we examine the relationship between two variables, the height of students, as the predictor variable and the weight of students as response variable."
   ]
  },
  {
   "cell_type": "markdown",
   "metadata": {},
   "source": [
    "**Data preparation**\n",
    "\n",
    "For data preparation we randomly sample $12$ students from the data set and build a data frame with two variables of interest (*height* and *weight*). Further we plot the data in form of a scatter plot to visualize the underlying relationship between the two variables."
   ]
  },
  {
   "cell_type": "code",
   "execution_count": 3,
   "metadata": {},
   "outputs": [],
   "source": [
    "n = 12\n",
    "\n",
    "data = students_df[['height','weight']].sample(n)"
   ]
  },
  {
   "cell_type": "code",
   "execution_count": 8,
   "metadata": {},
   "outputs": [
    {
     "data": {
      "image/png": "[encoded data removed]",
      "text/plain": [
       "<Figure size 432x288 with 1 Axes>"
      ]
     },
     "metadata": {
      "needs_background": "light"
     },
     "output_type": "display_data"
    }
   ],
   "source": [
    "import seaborn as sns\n",
    "\n",
    "sns.scatterplot(data['height'],data['weight'])\n",
    "\n",
    "pass"
   ]
  },
  {
   "cell_type": "markdown",
   "metadata": {},
   "source": [
    "The visual inspection confirms our assumption that the relationship between the height and the weight variable is roughly linear. In other words, with increasing height the individual student tends to have a higher weight."
   ]
  },
  {
   "cell_type": "markdown",
   "metadata": {},
   "source": [
    "**Parameter estimation**\n",
    "\n",
    "Solving for $\\beta_0$ and $\\beta_1$ of a simple linear model may be calculated analytically. Recall the equation for a linear model from sample data\n",
    "\n",
    "$$\\hat y = \\beta_0 + \\beta_1 x + e,$$\n",
    "\n",
    "for $\\beta_1$\n",
    "\n",
    "$$\\hat{\\beta_1} = \\frac{\\sum_{i=1}^n ((x_i- \\bar x) (y_i-\\bar y))}{\\sum_{i=1}^n (x_i-\\bar x)^2} = \\frac{cov(x,y)}{var(x)},$$\n",
    "\n",
    "and $\\beta_0$\n",
    "\n",
    "$$\\hat{\\beta_0} = \\bar y -\\hat{\\beta_1} \\bar x$$\n",
    "\n",
    "For a better understanding we use Python to calculate the individual terms."
   ]
  },
  {
   "cell_type": "code",
   "execution_count": 16,
   "metadata": {},
   "outputs": [
    {
     "data": {
      "text/plain": [
       "0.8199843427514054"
      ]
     },
     "execution_count": 16,
     "metadata": {},
     "output_type": "execute_result"
    }
   ],
   "source": [
    "# calculate b1\n",
    "\n",
    "x = data['height']\n",
    "y = data['weight']\n",
    "\n",
    "x_bar = x.mean()\n",
    "y_bar = y.mean()\n",
    "\n",
    "b1=((x-x_bar)*(y-y_bar)).sum() / ((x-x_bar)**2).sum()\n",
    "\n",
    "b1"
   ]
  },
  {
   "cell_type": "code",
   "execution_count": 21,
   "metadata": {},
   "outputs": [
    {
     "data": {
      "text/plain": [
       "0.8199843427514053"
      ]
     },
     "execution_count": 21,
     "metadata": {},
     "output_type": "execute_result"
    }
   ],
   "source": [
    "# alternative\n",
    "\n",
    "import numpy as np\n",
    "\n",
    "np.cov(data['height'],data['weight'],ddof=1)[0,1] /np.var(data['height'],ddof=1)"
   ]
  },
  {
   "cell_type": "markdown",
   "metadata": {},
   "source": [
    "A perfect match!\n",
    "\n",
    "Further, we calculate $\\beta_0$."
   ]
  },
  {
   "cell_type": "code",
   "execution_count": 22,
   "metadata": {},
   "outputs": [
    {
     "data": {
      "text/plain": [
       "-68.3089175147676"
      ]
     },
     "execution_count": 22,
     "metadata": {},
     "output_type": "execute_result"
    }
   ],
   "source": [
    "# calculate b0\n",
    "\n",
    "b0 = y_bar - b1*x_bar\n",
    "\n",
    "b0"
   ]
  },
  {
   "cell_type": "markdown",
   "metadata": {},
   "source": [
    "Thus we can write down the regression model\n",
    "\n",
    "$$\\text{weight} = -68.31 + 0.82 \\times \\text{ height}$$\n",
    "\n",
    "Now, based on that equation we may determine the weight of a student given its height. Let us predict the weight of a student with height of $156$ cm.\n",
    "\n",
    "$$\\text{weight}_{156} = -68.31 + 0.82 \\times 156 \\approx 59.61 \\text{ kg}$$"
   ]
  },
  {
   "cell_type": "code",
   "execution_count": 24,
   "metadata": {},
   "outputs": [
    {
     "data": {
      "text/plain": [
       "LinregressResult(slope=0.8199843427514054, intercept=-68.3089175147676, rvalue=0.9631634226933022, pvalue=5.021056404241975e-07, stderr=0.07239747850578908)"
      ]
     },
     "execution_count": 24,
     "metadata": {},
     "output_type": "execute_result"
    }
   ],
   "source": [
    "from scipy.stats import linregress\n",
    "\n",
    "linregress(data['height'], data['weight'])"
   ]
  },
  {
   "cell_type": "code",
   "execution_count": 28,
   "metadata": {},
   "outputs": [
    {
     "data": {
      "text/html": [
       "<table class=\"simpletable\">\n",
       "<caption>OLS Regression Results</caption>\n",
       "<tr>\n",
       "  <th>Dep. Variable:</th>         <td>weight</td>      <th>  R-squared (uncentered):</th>      <td>   0.997</td>\n",
       "</tr>\n",
       "<tr>\n",
       "  <th>Model:</th>                   <td>OLS</td>       <th>  Adj. R-squared (uncentered):</th> <td>   0.996</td>\n",
       "</tr>\n",
       "<tr>\n",
       "  <th>Method:</th>             <td>Least Squares</td>  <th>  F-statistic:       </th>          <td>   3203.</td>\n",
       "</tr>\n",
       "<tr>\n",
       "  <th>Date:</th>             <td>Sun, 18 Oct 2020</td> <th>  Prob (F-statistic):</th>          <td>6.47e-15</td>\n",
       "</tr>\n",
       "<tr>\n",
       "  <th>Time:</th>                 <td>15:17:06</td>     <th>  Log-Likelihood:    </th>          <td> -34.952</td>\n",
       "</tr>\n",
       "<tr>\n",
       "  <th>No. Observations:</th>      <td>    12</td>      <th>  AIC:               </th>          <td>   71.90</td>\n",
       "</tr>\n",
       "<tr>\n",
       "  <th>Df Residuals:</th>          <td>    11</td>      <th>  BIC:               </th>          <td>   72.39</td>\n",
       "</tr>\n",
       "<tr>\n",
       "  <th>Df Model:</th>              <td>     1</td>      <th>                     </th>              <td> </td>   \n",
       "</tr>\n",
       "<tr>\n",
       "  <th>Covariance Type:</th>      <td>nonrobust</td>    <th>                     </th>              <td> </td>   \n",
       "</tr>\n",
       "</table>\n",
       "<table class=\"simpletable\">\n",
       "<tr>\n",
       "     <td></td>       <th>coef</th>     <th>std err</th>      <th>t</th>      <th>P>|t|</th>  <th>[0.025</th>    <th>0.975]</th>  \n",
       "</tr>\n",
       "<tr>\n",
       "  <th>height</th> <td>    0.4322</td> <td>    0.008</td> <td>   56.597</td> <td> 0.000</td> <td>    0.415</td> <td>    0.449</td>\n",
       "</tr>\n",
       "</table>\n",
       "<table class=\"simpletable\">\n",
       "<tr>\n",
       "  <th>Omnibus:</th>       <td> 0.804</td> <th>  Durbin-Watson:     </th> <td>   2.302</td>\n",
       "</tr>\n",
       "<tr>\n",
       "  <th>Prob(Omnibus):</th> <td> 0.669</td> <th>  Jarque-Bera (JB):  </th> <td>   0.647</td>\n",
       "</tr>\n",
       "<tr>\n",
       "  <th>Skew:</th>          <td> 0.192</td> <th>  Prob(JB):          </th> <td>   0.724</td>\n",
       "</tr>\n",
       "<tr>\n",
       "  <th>Kurtosis:</th>      <td> 1.929</td> <th>  Cond. No.          </th> <td>    1.00</td>\n",
       "</tr>\n",
       "</table><br/><br/>Warnings:<br/>[1] Standard Errors assume that the covariance matrix of the errors is correctly specified."
      ],
      "text/plain": [
       "<class 'statsmodels.iolib.summary.Summary'>\n",
       "\"\"\"\n",
       "                                 OLS Regression Results                                \n",
       "=======================================================================================\n",
       "Dep. Variable:                 weight   R-squared (uncentered):                   0.997\n",
       "Model:                            OLS   Adj. R-squared (uncentered):              0.996\n",
       "Method:                 Least Squares   F-statistic:                              3203.\n",
       "Date:                Sun, 18 Oct 2020   Prob (F-statistic):                    6.47e-15\n",
       "Time:                        15:17:06   Log-Likelihood:                         -34.952\n",
       "No. Observations:                  12   AIC:                                      71.90\n",
       "Df Residuals:                      11   BIC:                                      72.39\n",
       "Df Model:                           1                                                  \n",
       "Covariance Type:            nonrobust                                                  \n",
       "==============================================================================\n",
       "                 coef    std err          t      P>|t|      [0.025      0.975]\n",
       "------------------------------------------------------------------------------\n",
       "height         0.4322      0.008     56.597      0.000       0.415       0.449\n",
       "==============================================================================\n",
       "Omnibus:                        0.804   Durbin-Watson:                   2.302\n",
       "Prob(Omnibus):                  0.669   Jarque-Bera (JB):                0.647\n",
       "Skew:                           0.192   Prob(JB):                        0.724\n",
       "Kurtosis:                       1.929   Cond. No.                         1.00\n",
       "==============================================================================\n",
       "\n",
       "Warnings:\n",
       "[1] Standard Errors assume that the covariance matrix of the errors is correctly specified.\n",
       "\"\"\""
      ]
     },
     "execution_count": 28,
     "metadata": {},
     "output_type": "execute_result"
    }
   ],
   "source": [
    "#this gives a different result will investigate this later\n",
    "\n",
    "import statsmodels.api as sm\n",
    "\n",
    "est = sm.OLS(data['weight'],data['height'])\n",
    "\n",
    "est = est.fit()\n",
    "\n",
    "est.summary()"
   ]
  },
  {
   "cell_type": "code",
   "execution_count": 32,
   "metadata": {},
   "outputs": [
    {
     "data": {
      "image/png": "[encoded data removed]",
      "text/plain": [
       "<Figure size 360x360 with 1 Axes>"
      ]
     },
     "metadata": {
      "needs_background": "light"
     },
     "output_type": "display_data"
    }
   ],
   "source": [
    "import seaborn as sns\n",
    "\n",
    "sns.lmplot(x='height',y='weight', data=data)\n",
    "\n",
    "pass"
   ]
  },
  {
   "cell_type": "markdown",
   "metadata": {},
   "source": [
    "There are two kinds of bands, referred to as the *narrow* and *wide* limits. The narrow bands, the so-called **confidence bands**, reflect the uncertainty about the line itself. The bands will be narrow if there are many observations, reflecting a well-determined line. The wide-bands, the so-called **prediction bands**, include the uncertainty about future observations. These bands capture the majority of the observed points and do not collapse to a line as the number of observations increase."
   ]
  },
  {
   "cell_type": "code",
   "execution_count": null,
   "metadata": {},
   "outputs": [],
   "source": []
  }
 ],
 "metadata": {
  "kernelspec": {
   "display_name": "Python 3",
   "language": "python",
   "name": "python3"
  },
  "language_info": {
   "codemirror_mode": {
    "name": "ipython",
    "version": 3
   },
   "file_extension": ".py",
   "mimetype": "text/x-python",
   "name": "python",
   "nbconvert_exporter": "python",
   "pygments_lexer": "ipython3",
   "version": "3.8.3"
  }
 },
 "nbformat": 4,
 "nbformat_minor": 4
}
