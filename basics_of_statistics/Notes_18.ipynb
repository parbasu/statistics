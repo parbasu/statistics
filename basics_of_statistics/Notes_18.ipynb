{
 "cells": [
  {
   "cell_type": "markdown",
   "metadata": {},
   "source": [
    "**Multiple Comparisons**\n",
    "\n",
    "A caveat of ANOVA is that if we reject the null hypothesis we state that the means of the populations under consideration are not all the same. However, we may not decide which particular means are different nor the relation among the means.\n",
    "\n",
    "In order to deal with that issue we apply methods called **multiple comparisons.** The problem with multiple comparisons is that more hypotheses are tested on a particular data set, the more likely it is to incorrectly reject the null hypothesis. Thus, methods of multiple comparison require a higher significance threshold $(\\alpha)$ for individual comparisons, in order to compensate for the number of inferences being made."
   ]
  },
  {
   "cell_type": "markdown",
   "metadata": {},
   "source": [
    "**The Family-wise error rate**\n",
    "\n",
    "A **family of tests** is the technical term for a series of tests performed on a data set. The **family-wise** error rate is the probability of making one or more false discoveries, or **Type I errors** when performing multiple hypothesis tests.\n",
    "\n",
    "Recall that at a significance level of $\\alpha = 0.05$, the probability of making a Type I error is equal to $0.05$ or $5$%. Consequently, the probability of not making a Type I error is $1- \\alpha = 1-0.05 = 0.95.$ Moreover, the probability of observing two events that are independent is the product of their probabilities. Thus, if we conduct two independent tests, the probability of not making a Type I error on the first and the second tests is\n",
    "\n",
    "$$(1-\\alpha)(1-\\alpha) = (1-\\alpha)^2$$\n",
    "\n",
    "If $\\alpha=0.05$, we get a probability of not making a Type I error on the first and the second test of $(1-\\alpha)^2 = (1-0.05)^2 = 0.95^2 \\approx 0.902.$\n",
    "\n",
    "Written more formally, for a family of $C$ tests, the probability of not making a Type $I$ error for the whole family is\n",
    "\n",
    "$$(1-\\alpha)^C.$$\n",
    "\n",
    "Let us now consider $C=10$ and $\\alpha = 0.05$. Thus, we make $10$ multiple comparisons on one data set. Then, the probability of not making a Type I error on the family is\n",
    "\n",
    "$$(1-\\alpha)^C = (1-0.05)^{10} \\approx 0.599$$\n",
    "\n",
    "Consequently, the probability of **making one or more Type I errors ** on the family of tests is\n",
    "\n",
    "$$1- (1- \\alpha)^C$$\n",
    "\n",
    "For our example, we find\n",
    "\n",
    "$$1-(1-\\alpha)^C = 1-(1-0.05)^10 \\approx 0.401$$\n",
    "\n",
    "Thus, with $\\alpha = 0.05$ for each of the $10$ multiple comparisons, the probability of incorrectly rejecting the null hypothesis is $0.401$ or $40.1$%.\n",
    "\n",
    "To account for that problem there exist [several statistical methods](https://en.wikipedia.org/wiki/Multiple_comparisons_problem). In this section we discuss the **Bonferroni correction** and the **Tukey Multiple-Comparison Method**, also known as **Tukey's HSD (honest significance difference) test**."
   ]
  },
  {
   "cell_type": "markdown",
   "metadata": {},
   "source": [
    "**Example data**\n",
    "\n",
    "In this section we redo the example from the previous section. There we applied a one-way ANOVA to **test if the mean annual salary of graduates is differnt among graduates of different study subjects.** However, this time we will make multiple comparisons in order to analyse the relation among all the group means."
   ]
  },
  {
   "cell_type": "markdown",
   "metadata": {},
   "source": [
    "Reload the *students* data set."
   ]
  },
  {
   "cell_type": "code",
   "execution_count": 1,
   "metadata": {},
   "outputs": [],
   "source": [
    "import pandas as pd\n",
    "\n",
    "students_df = pd.read_csv(\"https://userpage.fu-berlin.de/soga/200/2010_data_sets/students.csv\")"
   ]
  },
  {
   "cell_type": "markdown",
   "metadata": {},
   "source": [
    "https://pythonhealthcare.org/2018/04/13/55-statistics-multi-comparison-with-tukeys-test-and-the-holm-bonferroni-method/"
   ]
  },
  {
   "cell_type": "markdown",
   "metadata": {},
   "source": [
    "**Bonferroni correction**\n",
    "\n",
    "The Bonferroni correction compensates the increased likelihood of incorectly rejecting a null hypothesis (making a Type I error) due to  multiple comparisons by adjusting the significance level $\\alpha$ in the form\n",
    "\n",
    "$$\\alpha = \\frac{\\alpha}{m}$$\n",
    "\n",
    "where $m$ corresponds to the number of comparisons given by\n",
    "\n",
    "$$m= \\frac{k(k-1)}{2},$$\n",
    "\n",
    "where $k$ corresponds tot the levels of the factor, which is categorical classification variable."
   ]
  },
  {
   "cell_type": "markdown",
   "metadata": {},
   "source": [
    "**Tukey Multiple-Comparison Method**\n",
    "\n",
    "The **Tukey Multiple-Comparison Method**, also known as **Tukey’s HSD (honest significant difference) test** is based on the **studentized range distribution**, sometimes referred to as the **$q$-distribution**. The $q$-distribution is a right-skewed probability density curve, with two parameters, $\\kappa$ and $\\nu$, describing its shape. These parameters are given by\n",
    "\n",
    "$$\\kappa = k$$\n",
    "\n",
    "and \n",
    "\n",
    "$$\\nu = n-k,$$\n",
    "\n",
    "where $n$ is the total number of obervations and $k$ is the number of groups/classes.\n",
    "\n",
    "Tukey's test compares the means of every group to the means of every other group. It obtains the confidence interval for each\n",
    "\n",
    "$$\\mu_i - \\mu_j.$$\n",
    "\n",
    "If the confidence interval for a pairwise comparisons include $0$, $H_0$ is not rejected, they are not assumed to be significantly different. All other pairs for which the confidence interval does not include $0$ are significantly different, thus $H_0$ is rejected."
   ]
  },
  {
   "cell_type": "code",
   "execution_count": null,
   "metadata": {},
   "outputs": [],
   "source": []
  }
 ],
 "metadata": {
  "kernelspec": {
   "display_name": "Python 3",
   "language": "python",
   "name": "python3"
  },
  "language_info": {
   "codemirror_mode": {
    "name": "ipython",
    "version": 3
   },
   "file_extension": ".py",
   "mimetype": "text/x-python",
   "name": "python",
   "nbconvert_exporter": "python",
   "pygments_lexer": "ipython3",
   "version": "3.8.3"
  }
 },
 "nbformat": 4,
 "nbformat_minor": 4
}
