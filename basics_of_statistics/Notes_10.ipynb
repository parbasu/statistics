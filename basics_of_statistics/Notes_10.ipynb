{
 "cells": [
  {
   "cell_type": "markdown",
   "metadata": {},
   "source": [
    "**Inferences for Two Population Means Using Paired Samples**\n",
    "\n",
    "Let us now turn to a hypothesis testing procedure for the difference between two population means when the samples are **dependent**. If for example two data values are collected from the same source (or element), these are called **paired** or **matched samples**.\n",
    "\n",
    "Very often these procedures are applied for **Before-After-Control-Impact (BACI)** analysis. Imagine a case when you are asked to evaluate the effectiveness of a filtering system in removing air pollutants being released by a factory. In that case one population consists of measurements of air quality before the filtering system is implemented or renewed, and the other population consists of measurements of air quality after the new filter system was installed. In that case you are dealing with paired samples, because the two data sets are collected from the same source, the factory.\n",
    "\n",
    "In paired samples, the difference between the data values of the two samples is denoted by $d$, often called **paired difference**. Note that the sample size $n$ for each sample is equal. The mean of the paired differences for the samples is denoted as $\\bar{d}$.\n",
    "\n",
    "$$\\bar d = \\frac{\\sum d}{n}$$\n",
    "\n",
    "The standard deviation of paired differences for two samples, $s_d$ is calculated as\n",
    "\n",
    "$$s_d = \\sqrt{\\frac{\\sum d^2 - \\frac{(\\sum d)^2}{n}}{n-1}}$$\n",
    "\n",
    "Suppose that the paired-difference variable $d$ is normally distributed, then the paired $t$-statistic is expressed as\n",
    "\n",
    "$$t= \\frac{\\bar d - (\\mu_1-\\mu_2)}{\\frac{s_d}{\\sqrt{n}}}\\text{,}$$\n",
    "\n",
    "which simplifies to\n",
    "\n",
    "$$t = \\frac{\\bar{d}}{s_d/\\sqrt{n}},$$\n",
    "\n",
    "if $\\mu_1 - \\mu_2 = 0$.  The test statistic $t$ for paired samples follows a $t$-distribution with $df=n-1$.\n",
    "\n",
    "\n",
    "**Interval estimation of $\\mu_d$**\n",
    "\n",
    "The $100(1-\\alpha)$% confidence interval for $\\mu_d$ is \n",
    "\n",
    "$$\\bar{d} \\pm t \\times \\frac{s_d}{\\sqrt{n}}$$\n",
    "\n",
    "where the value of $t$ is obtained from the $t$-distribution for the given confidence level and $n-1$ degrees of freedom.\n"
   ]
  },
  {
   "cell_type": "markdown",
   "metadata": {},
   "source": [
    "**The paired $t$-test: An example**\n",
    "\n",
    "We work with the *students* data set.\n",
    "\n",
    "\n",
    "In order to showcase the paired $t$-test for dependent samples **we are interested in the question if an online statistics learning tutorial helps students to improve their grades**. There are three variables of interest in *students* data set. The variable *online.tutorial*, is a binary variable, which is $1$ if the student completed the online statistics learning tutorial or $0$ otherwise. The variable *score1* and *score2* show the grades ($0-100$) for two exams on mathematics and statistics. The higher the value, the better the particular students performed. Please note, that the first exam takes place before the students attended the online statistics learning tutorial. The participation in the online statistics learning tutorial is not mandatory, however the two exams are obligatory for all students. The first exam (*score1*) takes place at the beginning of the $3^{rd}$ semester, the second exam (*score2*) takes place at the end of the $3^{rd}$ semester.\n",
    "\n",
    "Basically, there are two research questions of interest. **First, we want to examine if the group of students which took the online statistics learning tutorial performs better on the second exam compared to the first exams. Second, we test how the group of students that did not join the online statistics learning tutorial performed on both the test.**"
   ]
  },
  {
   "cell_type": "markdown",
   "metadata": {},
   "source": [
    "**Data preparation**\n",
    "\n",
    "We start with the first research question and focus on those students that took the online statistics learning tutorial.\n",
    "\n",
    "For data preparation we subset the data set based on the variable *online.tutorial*, which indicates if the student took the tutorial or not (1 = yes, 0 = no). Then, we randomly sample $65$ students from the data set and extract the two variables of interest, *score1* and *score2*. We store each of them in array, named *score1_sample* and *score2_sample*"
   ]
  },
  {
   "cell_type": "code",
   "execution_count": 2,
   "metadata": {},
   "outputs": [],
   "source": [
    "import pandas as pd\n",
    "import numpy as np\n",
    "\n",
    "students_df = pd.read_csv(\"https://userpage.fu-berlin.de/soga/200/2010_data_sets/students.csv\")\n",
    "\n",
    "tutorial = students_df[students_df['online.tutorial']==1]\n",
    "\n",
    "n=65\n",
    "\n",
    "score1_sample = np.random.choice(tutorial['score1'], n)\n",
    "score2_sample = np.random.choice(tutorial['score2'],n)"
   ]
  },
  {
   "cell_type": "markdown",
   "metadata": {},
   "source": [
    "Now compute the paired differences, $d$, and plot them."
   ]
  },
  {
   "cell_type": "code",
   "execution_count": 23,
   "metadata": {},
   "outputs": [
    {
     "data": {
      "image/png": "[encoded data removed]",
      "text/plain": [
       "<Figure size 432x288 with 1 Axes>"
      ]
     },
     "metadata": {
      "needs_background": "light"
     },
     "output_type": "display_data"
    }
   ],
   "source": [
    "import seaborn as sns\n",
    "import matplotlib.pyplot as plt\n",
    "\n",
    "d = score1_sample - score2_sample\n",
    "\n",
    "\n",
    "sns.barplot(x=list(range(1,len(d)+1)), y=d)\n",
    "\n",
    "plt.xlabel('')\n",
    "\n",
    "pass"
   ]
  },
  {
   "cell_type": "markdown",
   "metadata": {},
   "source": [
    "The plot looks as expected. Some students perform better in the first exam compared to the second exam and vice versa.\n",
    "\n",
    "In order to check the normality assumption we again rely on a visual inspection of **Q-Q plot**. If the variable is normally distributed, the **Q-Q** plot should be roughly linear. "
   ]
  },
  {
   "cell_type": "code",
   "execution_count": 25,
   "metadata": {},
   "outputs": [
    {
     "data": {
      "image/png": "[encoded data removed]",
      "text/plain": [
       "<Figure size 432x288 with 1 Axes>"
      ]
     },
     "metadata": {
      "needs_background": "light"
     },
     "output_type": "display_data"
    }
   ],
   "source": [
    "import statsmodels.api as sm\n",
    "\n",
    "sm.qqplot(d, line='q')\n",
    "\n",
    "pass"
   ]
  },
  {
   "cell_type": "markdown",
   "metadata": {},
   "source": [
    "Not super exact and a bit noisy, but the data seems to be roughly normally distributed.\n",
    "\n",
    "We further calculate $\\bar{d}$ the mean of the paired differences\n",
    "\n",
    "$$\\bar{d} = \\frac{\\sum d}{n},$$\n",
    "\n",
    "and $s_d$, the standard deviation of the paired differences for two samples\n",
    "\n",
    "$$s_d = \\sqrt{\\frac{\\sum d^2 - \\frac{(\\sum d)^2}{n}}{n-1}}\\text{.}$$"
   ]
  },
  {
   "cell_type": "code",
   "execution_count": 26,
   "metadata": {},
   "outputs": [],
   "source": [
    "# paired differences\n",
    "\n",
    "import math\n",
    "\n",
    "d_bar = np.sum(d)/len(d)\n",
    "\n",
    "s_d = math.sqrt((np.sum(d**2)-((np.sum(d)**2)/len(d)))/(n-1))"
   ]
  },
  {
   "cell_type": "markdown",
   "metadata": {},
   "source": [
    "**Hypothesis testing**\n",
    "\n",
    "Now we are ready to apply the **paired $t$-test**. Recall our first research question: **Does the data provide stufficient evidence to conclude that the mean exam results improve if students take an online statistics learning tutorial?**\n",
    "\n",
    "We follow the step-wise implementation procedure for hypothesis testing.\n",
    "\n",
    "**Step 1: State the null hypothesis $H_0$ and alternative hypothesis $H_A$**\n",
    "\n",
    "The null hypothesis statest that there is no difference in the mean of the exam grades of one exam compared to the other.\n",
    "\n",
    "$$H_0 : \\mu_1 = \\mu_2$$\n",
    "\n",
    "Recall, that the formulation of the alternative hypothesis dictates if we apply a two-sided, a left tailed or a right tailed hypothesis test.\n",
    "\n",
    "**Alternative hypothesis**\n",
    "\n",
    "$$H_A : \\mu_1 < \\mu_2$$\n",
    "\n",
    "This formulation resutls in a left tailed hypothesis test and states that the students on average perform better on the second exam.\n",
    "\n",
    "**Step 2: Decide on the siginificance level, $\\alpha$**\n",
    "\n",
    "$$\\alpha = 0.05$$"
   ]
  },
  {
   "cell_type": "code",
   "execution_count": 27,
   "metadata": {},
   "outputs": [],
   "source": [
    "alpha = 0.05"
   ]
  },
  {
   "cell_type": "markdown",
   "metadata": {},
   "source": [
    "**Step 3 and 4: Compute the value of the test statistic and the $p$-value.**\n",
    "\n",
    "For illustration purposes we manually compute the test statistic in Python. Recall the equation form above:\n",
    "\n",
    "$$t= \\frac{\\bar d - (\\mu_1-\\mu_2)}{\\frac{s_d}{\\sqrt{n}}}$$\n",
    "\n",
    "If $H_0$ is true, then $\\mu_1 - \\mu_2 = 0$ and thus, the equation simplifies to \n",
    "\n",
    "$$t= \\frac{\\bar d}{\\frac{s_d}{\\sqrt{n}}}\\text{.}$$"
   ]
  },
  {
   "cell_type": "code",
   "execution_count": 28,
   "metadata": {},
   "outputs": [
    {
     "data": {
      "text/plain": [
       "-0.7792654471381472"
      ]
     },
     "execution_count": 28,
     "metadata": {},
     "output_type": "execute_result"
    }
   ],
   "source": [
    "# compute the value of the test statistics\n",
    "\n",
    "t_statistic = d_bar / (s_d / (math.sqrt(len(d))))\n",
    "\n",
    "t_statistic"
   ]
  },
  {
   "cell_type": "markdown",
   "metadata": {},
   "source": [
    "In order to calculate the $p$-value we apply the *cdf* function. Recall how to calculate the degrees of freedom.\n",
    "\n",
    "$$df= n-1 = 64$$"
   ]
  },
  {
   "cell_type": "code",
   "execution_count": 30,
   "metadata": {},
   "outputs": [
    {
     "data": {
      "text/plain": [
       "0.219347725794432"
      ]
     },
     "execution_count": 30,
     "metadata": {},
     "output_type": "execute_result"
    }
   ],
   "source": [
    "# Compute the p-value\n",
    "\n",
    "from scipy.stats import t\n",
    "\n",
    "df = len(d)-1\n",
    "\n",
    "p = t.cdf(t_statistic, df=df)\n",
    "p"
   ]
  },
  {
   "cell_type": "code",
   "execution_count": 31,
   "metadata": {},
   "outputs": [
    {
     "data": {
      "text/plain": [
       "Ttest_relResult(statistic=-0.7792654471381473, pvalue=0.438695451588864)"
      ]
     },
     "execution_count": 31,
     "metadata": {},
     "output_type": "execute_result"
    }
   ],
   "source": [
    "from scipy.stats import ttest_rel\n",
    "\n",
    "ttest_rel(score1_sample, score2_sample)"
   ]
  },
  {
   "cell_type": "markdown",
   "metadata": {},
   "source": [
    "**Step 5: If $p\\leq \\alpha$ reject $H_0$; otherwise, do not reject $H_0$**.\n",
    "\n",
    "The p-value is more than the specified significance level of $0.05$; we do not reject $H_0$. The test results are statistically significant at the $5$% level and do not provide evidence against the null hypothesis."
   ]
  },
  {
   "cell_type": "markdown",
   "metadata": {},
   "source": [
    "Before we continue, there is still one research question to be answered. What if there are other reasons for better grades on the second exam? What if the second exam was much easier? What if the students had an awesome lecturer and thus improved during the semester? We test that hypothesis by conducting a paired $t$-test, explicitly for those students who did not take the online statistics learning tutorial. "
   ]
  },
  {
   "cell_type": "code",
   "execution_count": 42,
   "metadata": {},
   "outputs": [],
   "source": [
    "no_tutorial = students_df[students_df['online.tutorial']==0]\n",
    "\n",
    "no_tutorial=no_tutorial.dropna(subset=['score1','score2'])\n",
    "\n",
    "n = 65\n",
    "\n",
    "score1_notut = np.random.choice(no_tutorial['score1'],n)\n",
    "score2_notut = np.random.choice(no_tutorial['score2'],n)"
   ]
  },
  {
   "cell_type": "code",
   "execution_count": 44,
   "metadata": {},
   "outputs": [
    {
     "data": {
      "text/plain": [
       "Ttest_relResult(statistic=0.08914662685135383, pvalue=0.9292437677521748)"
      ]
     },
     "execution_count": 44,
     "metadata": {},
     "output_type": "execute_result"
    }
   ],
   "source": [
    "ttest_rel(score1_notut, score2_notut)"
   ]
  },
  {
   "cell_type": "markdown",
   "metadata": {},
   "source": [
    "The p-value is greater than the specified significance level of 0.05; we do not reject H0. The test results are statistically significant at the 5% level and provide not sufficient evidence against the null hypothesis.\n",
    "\n",
    "At the 5% significance level, the data does not provide sufficient evidence to conclude that the exam grades of students, who did not attend the online tutorial, improved."
   ]
  },
  {
   "cell_type": "code",
   "execution_count": null,
   "metadata": {},
   "outputs": [],
   "source": []
  }
 ],
 "metadata": {
  "kernelspec": {
   "display_name": "Python 3",
   "language": "python",
   "name": "python3"
  },
  "language_info": {
   "codemirror_mode": {
    "name": "ipython",
    "version": 3
   },
   "file_extension": ".py",
   "mimetype": "text/x-python",
   "name": "python",
   "nbconvert_exporter": "python",
   "pygments_lexer": "ipython3",
   "version": "3.8.3"
  }
 },
 "nbformat": 4,
 "nbformat_minor": 4
}
