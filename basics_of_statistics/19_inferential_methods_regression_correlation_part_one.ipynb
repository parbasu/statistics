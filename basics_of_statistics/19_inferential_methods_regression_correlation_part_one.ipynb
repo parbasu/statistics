{
 "cells": [
  {
   "cell_type": "markdown",
   "metadata": {},
   "source": [
    "**Inferential Methods in Regression and Correlation**\n",
    "\n",
    "The linear model is given by the equation\n",
    "\n",
    "$$y = \\beta_0 + \\beta_1x + e,$$\n",
    "\n",
    "where $\\beta_0$ is the intercept, $\\beta_1$ is the regression coefficient and $e$ the error term. The best regression line is found by applying the **ordinary least squares method,** in order to minimize the **sum of squared error (SSE);** thus, minimizing the squared difference of the measured response variable $y$ and the model prediction $\\hat{y}$, which is given by\n",
    "\n",
    "$$SSE = \\sum_{i=1}^{n} e_i^2 = \\sum_{i=1}^{n} (y- \\hat{y})^2.$$\n",
    "\n",
    "Refer to the section on *linear regression* for more details on the linear model."
   ]
  },
  {
   "cell_type": "markdown",
   "metadata": {},
   "source": [
    "However, no matter what, we have to acknowledge that we build our models, in this case our linear regression model, on observation data. Hence the data originates from a population and its corresponding statistical properties, which are general unknown to us. Thus, by taking measurements each observation represents a manifestation of the population, denoted by the term random variable."
   ]
  },
  {
   "cell_type": "markdown",
   "metadata": {},
   "source": [
    "Let us consider an example, as shown in the figure below. In this example the population parameters are known, and thus, we may build a linear regression model of the form $y= \\beta_0 + \\beta_1 = 1+0.25x$.\n",
    "\n",
    "![linear_model_pop](linear_model_pop.png)"
   ]
  },
  {
   "cell_type": "markdown",
   "metadata": {},
   "source": [
    "However, if we take a random sample of the population and build a linear model based on the sample data, the sample regression line will not be the same as the population regression line. In the figure below we took four random samples of sample size $25$ (blue dots). We immediately see that the sample regression line (blue dashed line) is not the same as the population regression line (grey line). In order to account for that variability, which is due to the random sampling process, a statistic is calculated by applying the equation\n",
    "\n",
    "$$s_e = \\sqrt{\\frac{SSE}{n-2}},$$\n",
    "\n",
    "where $SSE$ corresponds to the **sum of squared error** and $n$ corresponds to the sample size. The statistic, $s_e$, is denoted as **standard error of the estimate** ($s_e$) or the **residual standard error.**\n",
    "\n",
    "![sample_regression_line](sample_regression_line.png)\n",
    "\n",
    "As seen above, the sample regression line varies from one sample to another and is therefore a random variable. Its distribution is called the **sampling distribution of the slope of the regression line.**"
   ]
  },
  {
   "cell_type": "markdown",
   "metadata": {},
   "source": [
    "**Inferences About the Slope - The Regressioon $t$-Test**\n",
    "\n",
    "The **regression $t$-test** is applied to test if the slope, $\\beta_1$, of the population regression line equals $0$. Based on that test we may decide whether $x$ is a useful (linear) predictor of $y$.\n",
    "\n",
    "The test statistic follows a $t$-distribution with $df=n-2$ and be written as\n",
    "\n",
    "$$t =\\frac{\\beta_1}{s_b}= \\frac{\\beta_1}{s_e/\\sqrt{\\sum(x- \\bar x)^2}},$$\n",
    "\n",
    "where $\\beta_1$ corresponds to the sample regression coefficient and $s_e$ to **residual standard error** ($s_e=\\sqrt{\\frac{SSE}{n-2}}$ and $SSE = \\sum_{i=1}^{n} e_i^2$)."
   ]
  },
  {
   "cell_type": "markdown",
   "metadata": {},
   "source": [
    "**Interval Estimation of $\\beta_1$**\n",
    "\n",
    "The $100(1-\\alpha)$% confidence interval for $\\beta_1$ is given by \n",
    "\n",
    "$$\\beta_1 \\pm t_{\\alpha/2} \\times  \\frac{s_e}{\\sqrt{\\sum(x- \\bar x)^2}},$$\n",
    "\n",
    "where $s_e$ corresponds to the **residual standard error** (also known as the **standard error of the estimate**).\n",
    "\n",
    "The value of $t$ is obtained from the $t$-distribution for the given confidence level and $n-2$ degrees of freedom."
   ]
  },
  {
   "cell_type": "markdown",
   "metadata": {},
   "source": [
    "**The Regression $t$-Test: An Example**\n",
    "\n",
    "In order to practice the correlation **regression $t$-test** we load the *students* data set. "
   ]
  },
  {
   "cell_type": "code",
   "execution_count": 1,
   "metadata": {},
   "outputs": [],
   "source": [
    "import pandas as pd\n",
    "\n",
    "students_df = pd.read_csv(\"https://userpage.fu-berlin.de/soga/200/2010_data_sets/students.csv\")"
   ]
  },
  {
   "cell_type": "markdown",
   "metadata": {},
   "source": [
    "In order to showcase the regression $t$-test we examine the relationship between two variables, the height of students, as the predictor variable and the weight of students as response variable. **The question is, whether the predictor variable *height* is useful for making predictions about the *weight* of students?**"
   ]
  },
  {
   "cell_type": "markdown",
   "metadata": {},
   "source": [
    "**Data Preparation**\n",
    "\n",
    "For data preparation we randomly sample $12$ students from the data set and build a data frame with the two variables of interest (*height* and *weight*). Further we plot the data in form of a scatter plot to visualize the underlying linear relationship between the two variables."
   ]
  },
  {
   "cell_type": "code",
   "execution_count": 2,
   "metadata": {},
   "outputs": [],
   "source": [
    "sample = students_df.sample(n=12)"
   ]
  },
  {
   "cell_type": "code",
   "execution_count": 3,
   "metadata": {},
   "outputs": [
    {
     "data": {
      "text/html": [
       "<div>\n",
       "<style scoped>\n",
       "    .dataframe tbody tr th:only-of-type {\n",
       "        vertical-align: middle;\n",
       "    }\n",
       "\n",
       "    .dataframe tbody tr th {\n",
       "        vertical-align: top;\n",
       "    }\n",
       "\n",
       "    .dataframe thead th {\n",
       "        text-align: right;\n",
       "    }\n",
       "</style>\n",
       "<table border=\"1\" class=\"dataframe\">\n",
       "  <thead>\n",
       "    <tr style=\"text-align: right;\">\n",
       "      <th></th>\n",
       "      <th>height</th>\n",
       "      <th>weight</th>\n",
       "    </tr>\n",
       "  </thead>\n",
       "  <tbody>\n",
       "    <tr>\n",
       "      <th>4465</th>\n",
       "      <td>171</td>\n",
       "      <td>70.7</td>\n",
       "    </tr>\n",
       "    <tr>\n",
       "      <th>5436</th>\n",
       "      <td>177</td>\n",
       "      <td>74.7</td>\n",
       "    </tr>\n",
       "    <tr>\n",
       "      <th>1730</th>\n",
       "      <td>172</td>\n",
       "      <td>73.1</td>\n",
       "    </tr>\n",
       "    <tr>\n",
       "      <th>7192</th>\n",
       "      <td>156</td>\n",
       "      <td>64.2</td>\n",
       "    </tr>\n",
       "    <tr>\n",
       "      <th>3301</th>\n",
       "      <td>176</td>\n",
       "      <td>76.6</td>\n",
       "    </tr>\n",
       "    <tr>\n",
       "      <th>233</th>\n",
       "      <td>179</td>\n",
       "      <td>80.2</td>\n",
       "    </tr>\n",
       "    <tr>\n",
       "      <th>2786</th>\n",
       "      <td>183</td>\n",
       "      <td>83.0</td>\n",
       "    </tr>\n",
       "    <tr>\n",
       "      <th>6370</th>\n",
       "      <td>168</td>\n",
       "      <td>71.1</td>\n",
       "    </tr>\n",
       "    <tr>\n",
       "      <th>7816</th>\n",
       "      <td>184</td>\n",
       "      <td>87.3</td>\n",
       "    </tr>\n",
       "    <tr>\n",
       "      <th>1418</th>\n",
       "      <td>172</td>\n",
       "      <td>73.7</td>\n",
       "    </tr>\n",
       "    <tr>\n",
       "      <th>3196</th>\n",
       "      <td>178</td>\n",
       "      <td>75.2</td>\n",
       "    </tr>\n",
       "    <tr>\n",
       "      <th>3979</th>\n",
       "      <td>172</td>\n",
       "      <td>70.6</td>\n",
       "    </tr>\n",
       "  </tbody>\n",
       "</table>\n",
       "</div>"
      ],
      "text/plain": [
       "      height  weight\n",
       "4465     171    70.7\n",
       "5436     177    74.7\n",
       "1730     172    73.1\n",
       "7192     156    64.2\n",
       "3301     176    76.6\n",
       "233      179    80.2\n",
       "2786     183    83.0\n",
       "6370     168    71.1\n",
       "7816     184    87.3\n",
       "1418     172    73.7\n",
       "3196     178    75.2\n",
       "3979     172    70.6"
      ]
     },
     "execution_count": 3,
     "metadata": {},
     "output_type": "execute_result"
    }
   ],
   "source": [
    "data = sample[['height', 'weight']]\n",
    "\n",
    "data"
   ]
  },
  {
   "cell_type": "code",
   "execution_count": 9,
   "metadata": {},
   "outputs": [
    {
     "data": {
      "image/png": "[encoded data removed]",
      "text/plain": [
       "<Figure size 432x288 with 1 Axes>"
      ]
     },
     "metadata": {
      "needs_background": "light"
     },
     "output_type": "display_data"
    }
   ],
   "source": [
    "import matplotlib.pyplot as plt\n",
    "\n",
    "plt.scatter(data['height'],data['weight'])\n",
    "plt.xlabel('height')\n",
    "plt.ylabel('weight')\n",
    "\n",
    "pass"
   ]
  },
  {
   "cell_type": "markdown",
   "metadata": {},
   "source": [
    "The visual inspection confirms our assumption that the relationship between the height and the weight variable is roughly linear. In other words, with increasing height the individual student tends to have a higher weight."
   ]
  },
  {
   "cell_type": "markdown",
   "metadata": {},
   "source": [
    "**Hypothesis testing**\n",
    "\n",
    "In order to conduct the **regression $t$-test** we follow the step-wise implementation procedure for hypothesis testing. The **regression $t$-test** follows the same step-wise procedure as discussed in the previous sections.\n",
    "\n",
    "\\begin{array}{l}\n",
    "\\hline\n",
    "\\ \\text{Step 1}  & \\text{State the null hypothesis } H_0 \\text{ and alternative hypothesis } H_A \\text{.}\\\\\n",
    "\\ \\text{Step 2}  & \\text{Decide on the significance level, } \\alpha\\text{.} \\\\\n",
    "\\ \\text{Step 3}  & \\text{Compute the value of the test statistic.} \\\\\n",
    "\\ \\text{Step 4} &\\text{Determine the p-value.} \\\\\n",
    "\\ \\text{Step 5} & \\text{If } p \\le \\alpha \\text{, reject }H_0 \\text{; otherwise, do not reject } H_0 \\text{.} \\\\\n",
    "\\ \\text{Step 6} &\\text{Interpret the result of the hypothesis test.} \\\\\n",
    "\\hline \n",
    "\\end{array}"
   ]
  },
  {
   "cell_type": "markdown",
   "metadata": {},
   "source": [
    "**Step 1: State the null hypothesis $H_0$ and alternative hypothesis  $H_A$**\n",
    "\n",
    "The null hypothesis states that there is no linear relationship between the height and the weight of the individuals in the *students* data set.\n",
    "\n",
    "$$H_0: \\beta_1  = 0\\text{ (predictor variable is not useful for making predictions)}$$\n",
    "\n",
    "**Alternative hypothesis**\n",
    "\n",
    "$$H_A: \\beta_1  \\ne 0\\text{ (predictor variable is useful for making predictions)}$$"
   ]
  },
  {
   "cell_type": "markdown",
   "metadata": {},
   "source": [
    "**Step 2: Decide on the significance level, $\\alpha$**\n",
    "\n",
    "$$\\alpha = 0.01$$"
   ]
  },
  {
   "cell_type": "code",
   "execution_count": 10,
   "metadata": {},
   "outputs": [],
   "source": [
    "alpha = 0.01"
   ]
  },
  {
   "cell_type": "markdown",
   "metadata": {},
   "source": [
    "**Step 3 and 4: Compute the value of the test statistic and the $p$-value.**\n",
    "\n",
    "For illustration purposes we manually compute the test statistic in Python. Recall the equation form above.\n",
    "\n",
    "$$t =\\frac{\\beta_1}{s_b}= \\frac{\\beta_1}{s_e/\\sqrt{\\sum(x- \\bar x)^2}}$$\n",
    "\n",
    "where $\\beta_1 = \\frac{\\text{cov}(x,y)}{\\text{var}(x)}$, and\n",
    "\n",
    "$$s_e = \\sqrt{\\frac{SSE}{n-2}},$$\n",
    "\n",
    "where $SSE = \\sum_{i=1}^n e_i^2 = \\sum_{i=1}^n (y - \\hat y)^2$. The test statistic follows a $t$-distribution with $df=n-2$. In order to calculate $\\hat y = \\beta_0+\\beta_1x$ we need to know $\\beta_0$, which is calculated as $\\beta_0 = \\bar{y} - \\beta_1 \\bar{x}$.\n"
   ]
  },
  {
   "cell_type": "markdown",
   "metadata": {},
   "source": [
    "In order not to get confused by the different computational steps we do one step after another.\n",
    "\n",
    "- Build the linear model by calculating the intercept $(\\beta_0)$ and the regression coefficient $(\\beta_1)$."
   ]
  },
  {
   "cell_type": "code",
   "execution_count": 17,
   "metadata": {},
   "outputs": [
    {
     "data": {
      "text/plain": [
       "0.762987012987013"
      ]
     },
     "execution_count": 17,
     "metadata": {},
     "output_type": "execute_result"
    }
   ],
   "source": [
    "import numpy as np\n",
    "\n",
    "y_bar = np.mean(data['weight'])\n",
    "x_bar = np.mean(data['height'])\n",
    "\n",
    "# linear model\n",
    "\n",
    "cov = np.cov(data['height'], data['weight'])[0][1]\n",
    "\n",
    "beta1 = cov/np.var(data['height'],ddof=1)\n",
    "\n",
    "beta1"
   ]
  },
  {
   "cell_type": "code",
   "execution_count": 19,
   "metadata": {},
   "outputs": [
    {
     "data": {
      "text/plain": [
       "-57.72640692640691"
      ]
     },
     "execution_count": 19,
     "metadata": {},
     "output_type": "execute_result"
    }
   ],
   "source": [
    "beta0 = y_bar - beta1 * x_bar\n",
    "beta0"
   ]
  },
  {
   "cell_type": "markdown",
   "metadata": {},
   "source": [
    "- Calculate the sum of squared errors $(SSE)$ and the residual standard error $(s_e)$."
   ]
  },
  {
   "cell_type": "code",
   "execution_count": 29,
   "metadata": {},
   "outputs": [
    {
     "data": {
      "text/plain": [
       "61.40277056277051"
      ]
     },
     "execution_count": 29,
     "metadata": {},
     "output_type": "execute_result"
    }
   ],
   "source": [
    "# sum of squared errors SSE\n",
    "\n",
    "y_hat = beta0 + beta1* data['height']\n",
    "\n",
    "SSE = np.sum((data['weight']-y_hat)**2)\n",
    "\n",
    "SSE"
   ]
  },
  {
   "cell_type": "code",
   "execution_count": 30,
   "metadata": {},
   "outputs": [
    {
     "data": {
      "text/plain": [
       "2.47795824344904"
      ]
     },
     "execution_count": 30,
     "metadata": {},
     "output_type": "execute_result"
    }
   ],
   "source": [
    "# Residual standard error\n",
    "\n",
    "import math \n",
    "\n",
    "se = math.sqrt(SSE/10) # n=12, n-2 =10\n",
    "se"
   ]
  },
  {
   "cell_type": "markdown",
   "metadata": {},
   "source": [
    "- Compute the value of the test statistic"
   ]
  },
  {
   "cell_type": "code",
   "execution_count": 33,
   "metadata": {},
   "outputs": [
    {
     "data": {
      "text/plain": [
       "7.642114109331592"
      ]
     },
     "execution_count": 33,
     "metadata": {},
     "output_type": "execute_result"
    }
   ],
   "source": [
    "# compute the value of the test statistic\n",
    "\n",
    "t_statistic = beta1/(se/(math.sqrt(np.sum((data['height']-x_bar)**2))))\n",
    "t_statistic"
   ]
  },
  {
   "cell_type": "code",
   "execution_count": 35,
   "metadata": {},
   "outputs": [
    {
     "data": {
      "text/plain": [
       "1.754112990440826e-05"
      ]
     },
     "execution_count": 35,
     "metadata": {},
     "output_type": "execute_result"
    }
   ],
   "source": [
    "# compute the df\n",
    "\n",
    "df = 10 # 12-2=10\n",
    "\n",
    "# compute the p-value, two-sided test\n",
    "\n",
    "from scipy.stats import t\n",
    "\n",
    "p_upper = 1- t.cdf(t_statistic, df=df)\n",
    "p_lower = t.cdf(-t_statistic, df=df)\n",
    "\n",
    "p = p_upper + p_lower\n",
    "\n",
    "p\n"
   ]
  },
  {
   "cell_type": "code",
   "execution_count": 27,
   "metadata": {},
   "outputs": [
    {
     "data": {
      "text/plain": [
       "LinregressResult(slope=0.762987012987013, intercept=-57.72640692640691, rvalue=0.9240158265869266, pvalue=1.754112990444171e-05, stderr=0.09983978282336155)"
      ]
     },
     "execution_count": 27,
     "metadata": {},
     "output_type": "execute_result"
    }
   ],
   "source": [
    "from scipy.stats import linregress\n",
    "\n",
    "linregress(data['height'],data['weight'])"
   ]
  },
  {
   "cell_type": "markdown",
   "metadata": {},
   "source": [
    "**Step 5: If $p \\leq \\alpha$, reject $H_0$; otherwise, do not reject $H_0$.**\n",
    "\n",
    "The $p$-value is less than the specified significance level of $0.01$; we reject $H_0$. The test results are statistically significant at the $1$% level and provide very strong evidence against the null hypothesis.\n",
    "\n",
    "**Step 6: Interpret the result of the hypothesis test.**\n",
    "\n",
    "$p=1.754112990440826 \\times 10^{-5}$. At the $1$% significance level, the data provides very strong evidence to conclude that the height variable is a good estimator for the weight of students."
   ]
  },
  {
   "cell_type": "code",
   "execution_count": null,
   "metadata": {},
   "outputs": [],
   "source": []
  }
 ],
 "metadata": {
  "kernelspec": {
   "display_name": "Python 3",
   "language": "python",
   "name": "python3"
  },
  "language_info": {
   "codemirror_mode": {
    "name": "ipython",
    "version": 3
   },
   "file_extension": ".py",
   "mimetype": "text/x-python",
   "name": "python",
   "nbconvert_exporter": "python",
   "pygments_lexer": "ipython3",
   "version": "3.8.3"
  }
 },
 "nbformat": 4,
 "nbformat_minor": 4
}
