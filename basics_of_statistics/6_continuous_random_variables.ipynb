{
 "cells": [
  {
   "cell_type": "code",
   "execution_count": 1,
   "metadata": {},
   "outputs": [],
   "source": [
    "#we use the following libraries\n",
    "\n",
    "import math\n",
    "import numpy as np\n",
    "import pandas as pd\n",
    "import seaborn as sns\n",
    "import matplotlib.pyplot as plt"
   ]
  },
  {
   "cell_type": "markdown",
   "metadata": {},
   "source": [
    "**Continous Random Variables and Their Probability Distributions**\n",
    "\n",
    "A random variable whose values are not countable is called a **continuous random variable**. A continuous random variable is a random variable that can assume any value contained in one or more intervals. Because the number of values contained in any interval is infinite, the possible number of values that a continuous random variable can assume is also infinite.\n",
    "\n",
    "**Probability Density Functions**\n",
    "\n",
    "The shape of the distribution of a random variable may be visualized with a smooth curve. Such curves, which represent the distribution of continuous variables, are called **probability density functions (PDF)** or just **density functions**. Probability density functions have three main properties\n",
    "\n",
    "1. A PDF plots always on or above the horizontal axis, and\n",
    "\n",
    "2. the total area under a PDF (and above the horizontal axis) equals 1, and thus any value in any interval lies in the range 0 to 1, and\n",
    "\n",
    "3. all possible observations of the variable that lie within any specified range equals the corresponding area under the density function and can be expressed as percentages or proportions.\n",
    "\n",
    "The area under the curve is computed by the integral of the value $x$ from $- \\infty$ to $+ \\infty$, which yields $1$.\n",
    "\n",
    "$$\\int_{-\\infty}^{\\infty} f(x) dx = 1$$\n",
    "\n",
    "![prob_dens_func](prob_dens_func.png)\n",
    "\n",
    "The probability that a continuous random variable x takes a value within a certain interval is given by the area under the curve between the two limits of the interval. The colored area under the curve for the interval $(-\\infty, a]$ and for the interval $[a,\\infty)$ is shown in the figure below.\n",
    "\n",
    "The probability that $x$ falls in the interval $(-\\infty, a]$ is \n",
    "\n",
    "$$P(X \\leq a) = \\int_{-\\infty}^{a} f(x) dx$$\n",
    "\n",
    "and the probability that $x$ falls in the interval $[a, \\infty)$ is\n",
    "\n",
    "$$P(X \\geq a) = \\int_{a}^{\\infty} f(x) dx$$\n",
    "\n",
    "![pdf_left_right_interval](pdf_left_right_interval.png)\n",
    "\n",
    "The probability that a continuous random variable $x$ assumes a value within a certain interval is given by the area under the curve between the two limits of the interval. The colored area under the curve from $a$ to $b$ in the figure below gives the probability that $x$ falls in the interval $[a,b]$.\n",
    "\n",
    "![pdf_interval](pdf_interval.png)\n",
    "\n",
    "\\begin{align}\n",
    "P(a \\le x \\le b) & = \\int_{a}^{b}f(x)dx\\\\\n",
    " & = P(x \\le b) - P(x \\le a)  \\\\\n",
    " & = \\int_{-\\infty}^{b}f(x)dx - \\int_{-\\infty}^{a}f(x)dx \n",
    "\\end{align}\n",
    "\n",
    "Note that the interval $a\\leq x \\leq b$ states that $x$ is greater than or equal to $a$ but less than or equal to $b$.\n",
    "\n",
    "\n",
    "For a continuous probability distribution, the probability is always calculated for an interval. The probability that a continuous random variable $x$ assumes a single value is always zero. This is because, the probability to pick exactly one value out of an infinite number of value $\\in \\mathbb{R}$ is zero. In a geometric sense this means that the area of a line, which represents a single point, is zero.\n",
    "\n",
    "$$P(x)=0$$\n",
    "\n",
    "From this we can deduce that for a continuous random variable\n",
    "\n",
    "$$P(a \\leq x \\leq b) = P(a < x <b)$$\n",
    "\n",
    "In other words, the probability that $x$ assumes a value in the interval $a$ to $b$ is the same whether or not the values $a$ and $b$ are included in the interval."
   ]
  },
  {
   "cell_type": "markdown",
   "metadata": {},
   "source": [
    "**The Normal Distribution**\n",
    "\n",
    "The **normal distribution** is used extensively in probability theory, statistics, and the natural and social sciences. It is also called the **Gaussian distribution**.\n",
    "\n",
    "The **normal probability distribution** or the **normal curve** is a bell-shaped (symmetric) curve. Its mean is denoted by $\\mu$ and its standard deviation by $\\sigma$. A continuous random variable $X$ that has a normal distribution is called a **normal random variable**.\n",
    "\n",
    "The notation for a normal distribution is $X \\sim N(\\mu, \\sigma)$. The probability density function (PDF) is written as \n",
    "\n",
    "$$f(x) = \\frac{1}{\\sigma \\sqrt{2 \\pi}} e^{- \\frac{1}{2} \\cdot (\\frac{x- \\mu}{\\sigma})^2}.$$\n",
    "\n",
    "The normal distribution is described by two parameters, the mean $\\mu$, and the standard deviation, $\\sigma$. Each different set of values of $\\mu$ and $\\sigma$ gives a different normal distribution. The value of $\\mu$ determines the center of a normal distribution cuve on the horizontal axis, and the value of $\\sigma$ gives the spread of the normal distribution curve.\n",
    "\n",
    "![normal_diff_mean](normal_diff_mean.png)\n",
    "![normal_diff_std](normal_diff_std.png)\n",
    "\n",
    "A normal distribution is characterized, among others, by the following characteristics\n",
    "\n",
    "1. The total area under a normal distribution curve is 1.0, or 100%.\n",
    "\n",
    "2. A normal distribution curve is symmetric about the mean. Consequently, 50% of the total area under a normal distribution curve lies on the left side of the mean, and 50% lies on the right side of the mean.\n",
    "\n",
    "3. The tails of a normal distribution curve extend indefinitely in both directions without touching or crossing the horizontal axis. Although a normal distribution curve never meets the horizontal axis, beyond the points represented by $\\mu - 3 \\sigma$ and $\\mu + 3\\sigma$ it becomes so close to this axis that the area under the curve beyond these points in both directions can be taken as virtually zero.\n",
    "\n",
    "![pdf_normal_detail](pdf_normal_detail.png)"
   ]
  },
  {
   "cell_type": "markdown",
   "metadata": {},
   "source": [
    "**The Standard Normal distribution**\n",
    "\n",
    "The standard normal distribution is a special case of the normal distribution. For the standard normal distribution, the value of the mean is equal to zero $(\\mu = 0)$, and the value of the standard deviation is equal to $1$ ($\\sigma=1$).\n",
    "\n",
    "Thus, by plugin $\\mu = 0$ and $\\sigma = 1$ in the PDF of the normal distribution, the equation simplifies to \n",
    "\n",
    "\\begin{align}\n",
    "f(x)& = \\frac{1}{\\sigma \\sqrt{2 \\pi}}e^{-\\frac{1}{2}\\left(\\frac{x-\\mu}{\\sigma}\\right)^2} \\\\\n",
    " & =\\frac{1}{1 \\times  \\sqrt{2 \\pi}}e^{-\\frac{1}{2}\\left(\\frac{x-0}{1}\\right)^2} \\\\\n",
    " & = \\frac{1}{\\sqrt{2\\pi}}e^{-\\frac{1}{2}x^2} \n",
    "\\end{align}\n",
    "\n",
    "The random variable that possesses the standard normal distribution is denoted by $z$. Consequently units for the standard normal distribution curve are denoted by $z$ and are called the $z$-**values** or **$z$-scores**. They are also called **standard units** or **standard scores**.\n",
    "\n",
    "The **cumulative distribution function (CDF)** of the standard normal distribution, corresponding to the area under the curve for the interval $(-\\infty, z]$, usually denoted by $\\phi$, is given by \n",
    "\n",
    "$$P(x<z) = \\phi (z) = \\frac{1}{\\sqrt{2\\pi}} \\int_{-\\infty}^{z}e^{-\\frac{1}{2}x^2}dx$$\n",
    "\n",
    "**Basic Properties of the Standard Normal Curve**\n",
    "\n",
    "The standard normal curve is a special case of the normal distribution, and thus as well a probability distribution curve. Therefore basic properties of the normal distribution hold true for the standard normal curve as well.\n",
    "\n",
    "1. The total area under the standard normal curve is 1 (this property is shared by all density curves).\n",
    "\n",
    "2. The standard normal curve extends indefinitely in both directions, approaching, but never touching, the horizontal axis as it does so.\n",
    "\n",
    "3. The standard normal curve is is bell shaped, is centered at $z=0$. Almost all the area under the standard normal curve lies between $z=−3$ and $z=3$.\n",
    "\n",
    "![pdf_standard_normal](pdf_standard_normal.png)\n",
    "\n",
    "The $z$-values on the right side of the mean are positive and those on the left side are negative. The $z$-value for a point on the horizontal axis gives the distance between the mean ($z=0$) and that point in terms of standard deviation. For example, a point with value of $z=2$ is two standard deviations to the right of the mean. Similarly, a point with value of $z=-2$ is two standard deviations to the left of the mean.\n",
    "\n",
    "![cdf_standard_normal](cdf_standard_normal.png)\n",
    "\n",
    "Let's confirm the **Empirical Rule**, also known as the **68-95-99.7 rule**, which relates to the **Chebyshev's theorem**. For a bell-shaped distribution the $3$ rules are, that approximately \n",
    "\n",
    "- 68% of the observations lie within one standard deviation of the mean,\n",
    "\n",
    "- 95% of the observations lie within two standard deviations of the mean, and\n",
    "\n",
    "- 99.7% of the observations lie within three standard deviations of the mean.\n"
   ]
  },
  {
   "cell_type": "code",
   "execution_count": 2,
   "metadata": {},
   "outputs": [
    {
     "name": "stdout",
     "output_type": "stream",
     "text": [
      "0.6826894921370859\n",
      "0.9544997361036416\n",
      "0.9973002039367398\n"
     ]
    }
   ],
   "source": [
    "from scipy.stats import norm\n",
    "\n",
    "print(norm.cdf(1,0,1) - norm.cdf(-1,0,1))\n",
    "print(norm.cdf(2,0,1) - norm.cdf(-2,0,1))\n",
    "print(norm.cdf(3,0,1) - norm.cdf(-3,0,1))"
   ]
  },
  {
   "cell_type": "markdown",
   "metadata": {},
   "source": [
    "![emp_rule_1](emp_rule_1.png)\n",
    "![emp_rule_2](emp_rule_2.png)\n",
    "![emp_rule_3](emp_rule_3.png)"
   ]
  },
  {
   "cell_type": "markdown",
   "metadata": {},
   "source": [
    "**Determining the z-Value when the Area under the Normal Distribution Curve is known**"
   ]
  },
  {
   "cell_type": "markdown",
   "metadata": {},
   "source": [
    "So far, we have used $z$-scores to calculate the area under the curve.Now we do it the other way around. We calculate $z$-score(s) corresponding to a specified area under the standard normal curve. Finding the $z$-score that has a specified area is so frequently used that there is a special notation. The symbol $z_{\\alpha}$ is used to denote the $z$-score that has an area of $\\alpha$ to its right under the standard normal curve.\n",
    "\n",
    "Let us find $z_{0.05}$, the $z$-score that has an area of $0.05$ to its right under the standard normal curve. The value of $\\alpha$ corresponds to the probability of obtaining a particular value corresponding to the interval $[z,\\infty)$. Because the area to its right is $0.05$. The area to its left is $1-0.05 = 0.95$, corresponding to the interval $(-\\infty, z)$.\n",
    "\n",
    "![z_score](z_score.png)"
   ]
  },
  {
   "cell_type": "code",
   "execution_count": 3,
   "metadata": {},
   "outputs": [
    {
     "name": "stdout",
     "output_type": "stream",
     "text": [
      "1.6448536269514722\n",
      "-1.6448536269514729\n"
     ]
    }
   ],
   "source": [
    "# z-score in python\n",
    "\n",
    "print(norm.ppf(0.95)) #percent point function percentiles\n",
    "\n",
    "print(norm.ppf(0.05))"
   ]
  },
  {
   "cell_type": "markdown",
   "metadata": {},
   "source": [
    "As the standard normal distribution is symmetric we get twice the same number, but with a different sign. This means that a $z$-value of approximately $1.64$. $95$% of values are left to $z_{0.05}$ and $5$% of all values on the right side of it. In contrast for a $z$-value of approximately $-1.64$, $5$% of all values are left to $-z_{0.05}$ and $95$% of all values on the right side of it. If we combine these we get the interval $z \\in [-1.64,1.64]$, which covers $90$% of all values.\n",
    "\n",
    "![90_perc_interval_z_score](90_perc_interval_z_score.png)"
   ]
  },
  {
   "cell_type": "markdown",
   "metadata": {},
   "source": [
    "**Standardizing a Normally Distributed Variable**\n",
    "\n",
    "Before we can apply the concept of a standard normal distribution to a real data set we need to discuss the concept of standardization of a normal distribution. We know that a normal distribution is parametrized by two parameters, its mean $\\mu \\in  \\mathbb{R}$ and its standard deviation $\\sigma \\in \\mathbb{R} > 0, X \\sim N(\\mu,\\sigma)$. The actual value of these parameters depends on the population and the metrics used to describe its features. In order to transform any particular $\\mu$ and $\\sigma$, related to a particular random variable $X$, to $\\mu = 0$ and $\\sigma=1$, we have to convert the $x$-value to a $z$-value, by applying the equation below.\n",
    "\n",
    "$$z = \\frac{x-\\mu}{\\sigma}$$\n",
    "\n",
    "As a result we get a standard normal distribution for any particular normal distribution.\n",
    "\n",
    "![standardizing](standardizing.png)"
   ]
  },
  {
   "cell_type": "markdown",
   "metadata": {},
   "source": [
    "**The Standard Normal Distribution: An Example in Python**\n",
    "\n",
    "Let us load the student's data set"
   ]
  },
  {
   "cell_type": "code",
   "execution_count": 4,
   "metadata": {},
   "outputs": [],
   "source": [
    "# FU Berlin data set\n",
    "\n",
    "students_df = pd.read_csv(\"https://userpage.fu-berlin.de/soga/200/2010_data_sets/students.csv\")"
   ]
  },
  {
   "cell_type": "code",
   "execution_count": 5,
   "metadata": {},
   "outputs": [
    {
     "data": {
      "image/png": "[encoded data removed]",
      "text/plain": [
       "<Figure size 482.4x307.44 with 1 Axes>"
      ]
     },
     "metadata": {},
     "output_type": "display_data"
    }
   ],
   "source": [
    "sns.set(rc={'figure.figsize':(6.7,4.27)})\n",
    "\n",
    "students_df = pd.read_csv(\"https://userpage.fu-berlin.de/soga/200/2010_data_sets/students.csv\")\n",
    "\n",
    "\n",
    "sns.distplot(students_df['height'], bins= 11, kde = False, color='green')\n",
    "\n",
    "pass\n"
   ]
  },
  {
   "cell_type": "markdown",
   "metadata": {},
   "source": [
    "By inspecting the plot we may conclude that the <mark> height </mark> variable is normally distributed, however, especially for small samples, ascertaining a clear shape in a histogram and, in particular, whether it is bell shaped is often difficult. Thus, a more sensitive graphical technique is required for assessing normality. **Normal probability plots** provide such a technique. The idea behind a normal probability plot is simple: compare the observed values of the variable to the observations expected for a normally distributed variable. More precisely, a normal probability plot is a plot of the observed values of the variable versus the normal scores of the observations expected for a variable having the standard normal distribution. If the variable is normally distributed, the normal probability plot should be roughly linear (i.e., fall roughly on a straight line).\n",
    "\n",
    "When using a normal probability plot to assess the normality of a variable, we must remember two things:\n",
    "\n",
    "1. The decision of whether a normal probability plot is roughly linear is a subjective one, and\n",
    "\n",
    "2. that we are using only a limited number of observations of that particular variable to make a judgement about all possible observations of the variable."
   ]
  },
  {
   "cell_type": "code",
   "execution_count": 6,
   "metadata": {},
   "outputs": [
    {
     "data": {
      "image/png": "[encoded data removed]",
      "text/plain": [
       "<Figure size 698.4x307.44 with 1 Axes>"
      ]
     },
     "metadata": {},
     "output_type": "display_data"
    }
   ],
   "source": [
    "# Q-Q plots in python\n",
    "\n",
    "import statsmodels.api as sm\n",
    "import pylab\n",
    "\n",
    "sns.set(rc={'figure.figsize':(9.7,4.27)})\n",
    "\n",
    "sm.qqplot(students_df['height'], line='q')\n",
    "\n",
    "pylab.show()\n",
    "\n",
    "pass"
   ]
  },
  {
   "cell_type": "markdown",
   "metadata": {},
   "source": [
    "By inspecting the plot we see that there is some divergence for the sample quantiles compared to the theoretic quantiles at the lower and upper tails. This fact needs a little more attention! What might be the reason for the departure at the upper and lower tail of the distribution? Any guess?\n",
    "\n",
    "What about gender? Honestly, it seems natural that the mean height for males and females differs. Let us plot a histogram of the height of males and females."
   ]
  },
  {
   "cell_type": "code",
   "execution_count": 7,
   "metadata": {},
   "outputs": [
    {
     "data": {
      "image/png": "[encoded data removed]",
      "text/plain": [
       "<Figure size 698.4x307.44 with 1 Axes>"
      ]
     },
     "metadata": {},
     "output_type": "display_data"
    }
   ],
   "source": [
    "sns.set(rc={'figure.figsize':(9.7,4.27)})\n",
    "\n",
    "\n",
    "male_cond = students_df['gender'] == 'Male'\n",
    "female_cond = students_df['gender'] == 'Female'\n",
    "\n",
    "male_height = students_df[male_cond]['height']\n",
    "female_height = students_df[female_cond]['height']\n",
    "\n",
    "sns.distplot(male_height, kde=False)\n",
    "sns.distplot(female_height, kde = False)\n",
    "\n",
    "pass"
   ]
  },
  {
   "cell_type": "markdown",
   "metadata": {},
   "source": [
    "There it is! The two groups have different means, and thus, putting them together into one group causes the left and right tails of the resulting distribution to extend further, than expected for a normally distributed variable. In order to continue, we thus take only the height of female students into consideration. For matter of clarity we once again plot the normally probability plot of the height variable to assure that our target variables are normally distributed."
   ]
  },
  {
   "cell_type": "code",
   "execution_count": 8,
   "metadata": {},
   "outputs": [
    {
     "data": {
      "image/png": "[encoded data removed]",
      "text/plain": [
       "<Figure size 698.4x307.44 with 1 Axes>"
      ]
     },
     "metadata": {},
     "output_type": "display_data"
    }
   ],
   "source": [
    "# Q-Q plots female students\n",
    "\n",
    "\n",
    "sns.set(rc={'figure.figsize':(9.7,4.27)})\n",
    "\n",
    "students_df = pd.read_csv(\"https://userpage.fu-berlin.de/soga/200/2010_data_sets/students.csv\")\n",
    "\n",
    "female_height = students_df[students_df['gender'] == 'Female']['height']\n",
    "\n",
    "sm.qqplot(female_height, line='q')\n",
    "\n",
    "pylab.show()\n",
    "\n",
    "pass"
   ]
  },
  {
   "cell_type": "markdown",
   "metadata": {},
   "source": [
    "Before we actually start with the exercises we first calculate the mean, $\\bar{x}$, and the standard deviation, $s$, of the target variable. Moreover, we standardize the variable to get a standard normal distribution with $\\bar{x} = 0$ and $s=1$ and assign it to the appropriate variable name."
   ]
  },
  {
   "cell_type": "code",
   "execution_count": 9,
   "metadata": {},
   "outputs": [
    {
     "name": "stdout",
     "output_type": "stream",
     "text": [
      "163.65328467153284 7.919725792052591\n"
     ]
    }
   ],
   "source": [
    "female_height = students_df[students_df['gender'] == 'Female']['height']\n",
    "\n",
    "mean_height = female_height.mean()\n",
    "\n",
    "std_height = female_height.std()\n",
    "\n",
    "print(mean_height, std_height)"
   ]
  },
  {
   "cell_type": "markdown",
   "metadata": {},
   "source": [
    "The height variable has a mean of $163.7$ cm and a standard deviation of $7.9$ cm.\n",
    "\n",
    "**Finding the area to the left of a specified $z$-score or $x$-score**\n",
    "\n",
    "**Question 1**\n",
    "\n",
    "What is the probability of a randomly picked female student from the <mark> student </mark> data set with a height less or equal to $168$ cm. Thus we are looking for $P(x\\leq 168)$.\n",
    "\n",
    "First, we calculate the probability for the standardized variable. Therefore, we have to transform our value of interest ($168$ cm) into a $z$-score.\n",
    "\n",
    "$$z = \\frac{x - \\mu}{\\sigma} = \\frac{168-163.7}{7.9} = 0.55$$\n",
    "\n",
    "Then we have to calcuate the area under the curve left to the obtained $z$-value."
   ]
  },
  {
   "cell_type": "code",
   "execution_count": 10,
   "metadata": {},
   "outputs": [
    {
     "data": {
      "text/plain": [
       "0.7084446690628331"
      ]
     },
     "execution_count": 10,
     "metadata": {},
     "output_type": "execute_result"
    }
   ],
   "source": [
    "norm.cdf((168-mean_height) / std_height)"
   ]
  },
  {
   "cell_type": "markdown",
   "metadata": {},
   "source": [
    "So we have a result: $P(z\\leq 0.55) \\approx 0.71$"
   ]
  },
  {
   "cell_type": "markdown",
   "metadata": {},
   "source": [
    "Now we do the same calculation, however we skip the step of standardization."
   ]
  },
  {
   "cell_type": "code",
   "execution_count": 11,
   "metadata": {},
   "outputs": [
    {
     "data": {
      "text/plain": [
       "0.7084446690628331"
      ]
     },
     "execution_count": 11,
     "metadata": {},
     "output_type": "execute_result"
    }
   ],
   "source": [
    "norm.cdf(168, loc=mean_height, scale=std_height)"
   ]
  },
  {
   "cell_type": "markdown",
   "metadata": {},
   "source": [
    "The numbers match: $P(x \\leq 168) \\approx 0.71$. To make sure we realize what is going on, both the area under the curve for the standardized variable in $z$-values as well as well as for the non-standardized variable in cm are visualized below.\n",
    "\n",
    "![height_z_score](height_z_score.png)"
   ]
  },
  {
   "cell_type": "markdown",
   "metadata": {},
   "source": [
    "**Finding the area to the right of a specified $x$-score**\n",
    "\n",
    "**Question 2**\n",
    "\n",
    "What is the probability of a randomly picked female student from the *students* data set with a height higher or equal to $185$ cm. Thus, we are looking for $P(x \\geq 175)$."
   ]
  },
  {
   "cell_type": "code",
   "execution_count": 12,
   "metadata": {},
   "outputs": [
    {
     "data": {
      "text/plain": [
       "0.07596955321864995"
      ]
     },
     "execution_count": 12,
     "metadata": {},
     "output_type": "execute_result"
    }
   ],
   "source": [
    "1-norm.cdf(175,loc=mean_height,scale=std_height)"
   ]
  },
  {
   "cell_type": "markdown",
   "metadata": {},
   "source": [
    "**Finding the area between two specified $x$-scores**\n",
    "\n",
    "In order to find the area under a curve for an interval $[a,b]$ we make use of the equation\n",
    "\n",
    "$$P(a \\le x \\le b)  = \\int_{a}^{b}f(x)dx = P(x \\le b) - P(x \\le a)$$\n",
    "\n",
    "**Question 3**\n",
    "\n",
    "What is the probability of a randomly picked female student from the *student* data set with a height between $155$ and $165$ cm, $P(155 \\leq x \\leq 165)$"
   ]
  },
  {
   "cell_type": "code",
   "execution_count": 13,
   "metadata": {},
   "outputs": [
    {
     "data": {
      "text/plain": [
       "0.4302335028797313"
      ]
     },
     "execution_count": 13,
     "metadata": {},
     "output_type": "execute_result"
    }
   ],
   "source": [
    "x_lower = 155\n",
    "x_upper = 165\n",
    "\n",
    "lower= norm.cdf(x_lower, loc=mean_height,scale=std_height)\n",
    "upper = norm.cdf(x_upper,loc=mean_height,scale=std_height)\n",
    "\n",
    "upper-lower"
   ]
  },
  {
   "cell_type": "markdown",
   "metadata": {},
   "source": [
    "Answer: $P(155 \\le x \\le 165) \\approx 0.43$"
   ]
  },
  {
   "cell_type": "markdown",
   "metadata": {},
   "source": [
    "**Question 4**\n",
    "\n",
    "We want to know the height of female students in our *students* data set that corresponds to a probability of $0.60$? Or in other words, if we randomly pick a number of $n$ students of the *students* data set, what height divides the sample in $60$% of $n$ students being lower and $40$% of $n$ students being heigher than that particular height. Thus, we are looking for $P(X < ?) = 0.60$\n",
    "\n",
    "We first use the standardization approach. For this approach we need to rearrange the equation for standardization from above and solve it for $x$ and we need to obtain a $z$-score for the given probability of 0.60."
   ]
  },
  {
   "cell_type": "code",
   "execution_count": 14,
   "metadata": {},
   "outputs": [
    {
     "data": {
      "text/plain": [
       "0.2533471031357997"
      ]
     },
     "execution_count": 14,
     "metadata": {},
     "output_type": "execute_result"
    }
   ],
   "source": [
    "norm.ppf(0.6)"
   ]
  },
  {
   "cell_type": "markdown",
   "metadata": {},
   "source": [
    "$$z = \\frac{x- \\mu}{\\sigma} \\implies x = z\\sigma + \\mu$$.\n",
    "\n",
    "\\begin{align}\n",
    "x & = z \\sigma + \\mu \\\\\n",
    " & = 0.25 \\times 7.9 + 163.7 \\\\\n",
    " & \\approx 165.66 \n",
    "\\end{align}\n",
    "\n",
    "So $P(X < 165.66) = 0.60$."
   ]
  },
  {
   "cell_type": "code",
   "execution_count": 15,
   "metadata": {},
   "outputs": [
    {
     "data": {
      "text/plain": [
       "165.65972425857925"
      ]
     },
     "execution_count": 15,
     "metadata": {},
     "output_type": "execute_result"
    }
   ],
   "source": [
    "# second approach\n",
    "\n",
    "norm.ppf(0.6, loc=mean_height,scale=std_height)"
   ]
  },
  {
   "cell_type": "markdown",
   "metadata": {},
   "source": [
    "The numbers match!"
   ]
  },
  {
   "cell_type": "markdown",
   "metadata": {},
   "source": [
    "**Other important distributions can be founder under examples_of_distribution.**"
   ]
  },
  {
   "cell_type": "code",
   "execution_count": null,
   "metadata": {},
   "outputs": [],
   "source": []
  }
 ],
 "metadata": {
  "kernelspec": {
   "display_name": "Python 3",
   "language": "python",
   "name": "python3"
  },
  "language_info": {
   "codemirror_mode": {
    "name": "ipython",
    "version": 3
   },
   "file_extension": ".py",
   "mimetype": "text/x-python",
   "name": "python",
   "nbconvert_exporter": "python",
   "pygments_lexer": "ipython3",
   "version": "3.8.3"
  }
 },
 "nbformat": 4,
 "nbformat_minor": 4
}
