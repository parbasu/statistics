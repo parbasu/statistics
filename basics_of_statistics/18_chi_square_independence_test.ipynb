{
 "cells": [
  {
   "cell_type": "markdown",
   "metadata": {},
   "source": [
    "**The Chi-Square Independence Test**"
   ]
  },
  {
   "cell_type": "markdown",
   "metadata": {},
   "source": [
    "The $\\chi^2$ **independence test** is an inferential method to decide whether an association exists between two variables. Similar to other hypothesis tests the null hypothesis states that the two variables are not associated. In contrast, the alternative hypothesis states that the two variables are associated.\n",
    "\n",
    "Recall that statistically **dependent variables** are called **associated variables**. In contrast, non-associated variables are called statistically independent variables. Further recall the concept of **contingency tables** (also known as two-way table, cross-tabulation table or cross tabs), which display the frequency distributions of bivariate data."
   ]
  },
  {
   "cell_type": "markdown",
   "metadata": {},
   "source": [
    "**$\\chi^2$ Independence Test**\n",
    "\n",
    "The basic idea behind the $\\chi^2$ **independence test** is to compare the **observed frequencies** in a contingency table with the **expected frequencies**, given the null hypothesis of non-association is true. The expected frequency for each cell of a contingency table is given by\n",
    "\n",
    "$$E = \\frac{R \\times C}{n},$$\n",
    "\n",
    "where $R$ is the row total, $C$ is the column total, and $n$ is the sample size.\n",
    "\n",
    "Let us construct an example for a better understanding. We consider an exit poll in form of a contingency table that displays the age of $n=1189$ people in categories from 18-29,30-44,45-64 and >65\n",
    "years, and their political affiliation, which is \"Conservatie\", \"Socialist\" and \"Other\". This table corresponds to the observed frequencies.\n",
    "\n",
    "**Observed frequencies:**\n",
    "\n",
    "\\begin{array}{|l|c|}\n",
    "\\hline\n",
    "\\ & \\text{Conservative} & \\text{Socialist} & \\text{Other} & \\text{Total} \\\\\n",
    "\\hline\n",
    "\\ \\text{18-29}  & 141 & 68 & 4 & 213\\\\\n",
    "\\ \\text{30-44}  & 179 & 159 & 7 & 345\\\\\n",
    "\\ \\text{45-64} & 220 & 216 & 4 & 440\\\\\n",
    "\\ \\text{65 & older} & 86 & 101 & 4 & 191\\\\\n",
    "\\hline \n",
    "\\  \\text{Total} & 626 & 544 & 19 & 1189\\\\\n",
    "\\hline \n",
    "\\end{array}\n",
    "\n",
    "**Expected frequencies:**\n",
    "\n",
    "\\begin{array}{|l|c|}\n",
    "\\hline\n",
    "\\ & \\text{Conservative} & \\text{Socialist} & \\text{Other} & \\text{Total} \\\\\n",
    "\\hline\n",
    "\\ \\text{18-29}  & \\frac{213 \\times 626 }{1189} \\approx 112.14 & \\frac{213 \\times 544 }{1189} \\approx97.45 & \\frac{213 \\times 19 }{1189} \\approx3.4 & 213\\\\\n",
    "\\ \\text{30-44}  & \\frac{345 \\times 626 }{1189} \\approx181.64 &\\frac{345 \\times 544 }{1189} \\approx 157.85 & \\frac{345 \\times 19 }{1189} \\approx5.51 & 345\\\\\n",
    "\\ \\text{45-64} & \\frac{440 \\times 626 }{1189} \\approx231.66 & \\frac{440 \\times 544 }{1189} \\approx201.31 &\\frac{440 \\times 19 }{1189} \\approx 7.03 & 440\\\\\n",
    "\\ \\text{65 & older} &\\frac{191 \\times 626 }{1189} \\approx 100.56 &\\frac{191 \\times 544 }{1189} \\approx 87.39 & \\frac{191 \\times 19 }{1189} \\approx3.05 & 191\\\\\n",
    "\\hline \n",
    "\\ \\text{Total} & 626 & 544 & 19 & 1189\\\\\n",
    "\\hline \n",
    "\\end{array}\n",
    "\n"
   ]
  },
  {
   "cell_type": "markdown",
   "metadata": {},
   "source": [
    "Once we know about the expected frequencies we have to check for two assumptions. First, we have to make sure that all expected frequencies are 1 or greater, and second, at most 20% of the expected frequencies are less than 5. By looking at the table we may confirm that both assumptions are fulfilled."
   ]
  },
  {
   "cell_type": "markdown",
   "metadata": {},
   "source": [
    "The actual comparison is done based on the the $\\chi^2$ test statistic for the observed frequency and the expected frequency. The $\\chi^2$ test statistic follows the $\\chi^2$ distribution and is given by\n",
    "\n",
    "$$\\chi^2 = \\sum{\\frac{(O-E)^2}{E}},$$\n",
    "\n",
    "where $O$ represents the observed frequency and $E$ represents the expected frequency. Please note that $\\frac{(O-E)^2}{E}$ is evaluated for each cell and then summed up.\n",
    "\n",
    "The number of degrees of freedom are given by\n",
    "\n",
    "$$df=(r-1) \\times (c-1),$$\n",
    "\n",
    "where $r$ and $c$ are the number of possible values for the two variables under consideration.\n",
    "\n",
    "Adopted to the example from above this leads to a somehow long expression, which for the sake of brevity is just given for the first and last row of the contigency tables of interest.\n",
    "\n",
    "$$\\chi^2 = \\frac{141 \\times 112.14}{112.14} + \\frac{68 \\times 97.45}{97.45} + \\frac{4 \\times 3.4}{3.4}  + ... + \\frac{86 \\times 100.56}{100.56} + \\frac{101 \\times 87.39}{87.39} + \\frac{4 \\times 3.05}{3.05}$$\n",
    "\n",
    "If the null hypothesis is true, the observed and expected frequencies are roughly equal, resulting in a small value of the $\\chi^2$ test statistic; thus supporting $H_0$. If, however, the value of the $\\chi^2$ test statistic is large, the data provides evidence against $H_0$. In the next sections we further discuss how to asses the value $\\chi^2$ test statistic in the framework of hypothesis testing."
   ]
  },
  {
   "cell_type": "markdown",
   "metadata": {},
   "source": [
    "**$\\chi^2$ Independence Test: An example**\n",
    "\n",
    "In order to get some hands-on experience we apply the $\\chi^2$ independence test in an exercise. Therefore we load the students data set."
   ]
  },
  {
   "cell_type": "code",
   "execution_count": 1,
   "metadata": {},
   "outputs": [],
   "source": [
    "import pandas as pd\n",
    "\n",
    "students_df = pd.read_csv(\"https://userpage.fu-berlin.de/soga/200/2010_data_sets/students.csv\")"
   ]
  },
  {
   "cell_type": "markdown",
   "metadata": {},
   "source": [
    "In this exercise we want to examine **if there is an association between the varibles *gender* and *major*, or in other words, we want to know if male students favor different study subjects compared to female students.**"
   ]
  },
  {
   "cell_type": "markdown",
   "metadata": {},
   "source": [
    "**Data preparation**\n",
    "\n",
    "We start with the data preparation. We do not want to deal with the whole data set of $8239$ entries, thus we randomly select $865$ student from the data set. The first step of data preparation is to display our data of interest in form of a contingency table."
   ]
  },
  {
   "cell_type": "code",
   "execution_count": 2,
   "metadata": {},
   "outputs": [],
   "source": [
    "sample_df = students_df.sample(n=865)"
   ]
  },
  {
   "cell_type": "code",
   "execution_count": 3,
   "metadata": {},
   "outputs": [],
   "source": [
    "data = sample_df.groupby('major').gender.value_counts()"
   ]
  },
  {
   "cell_type": "code",
   "execution_count": 4,
   "metadata": {},
   "outputs": [
    {
     "data": {
      "text/plain": [
       "major                       gender\n",
       "Biology                     Female     88\n",
       "                            Male       65\n",
       "Economics and Finance       Male       97\n",
       "                            Female     45\n",
       "Environmental Sciences      Male      100\n",
       "                            Female     72\n",
       "Mathematics and Statistics  Male      106\n",
       "                            Female     32\n",
       "Political Science           Female     95\n",
       "                            Male       57\n",
       "Social Sciences             Female     80\n",
       "                            Male       28\n",
       "Name: gender, dtype: int64"
      ]
     },
     "execution_count": 4,
     "metadata": {},
     "output_type": "execute_result"
    }
   ],
   "source": [
    "data"
   ]
  },
  {
   "cell_type": "code",
   "execution_count": 9,
   "metadata": {},
   "outputs": [
    {
     "data": {
      "text/html": [
       "<div>\n",
       "<style scoped>\n",
       "    .dataframe tbody tr th:only-of-type {\n",
       "        vertical-align: middle;\n",
       "    }\n",
       "\n",
       "    .dataframe tbody tr th {\n",
       "        vertical-align: top;\n",
       "    }\n",
       "\n",
       "    .dataframe thead th {\n",
       "        text-align: right;\n",
       "    }\n",
       "</style>\n",
       "<table border=\"1\" class=\"dataframe\">\n",
       "  <thead>\n",
       "    <tr style=\"text-align: right;\">\n",
       "      <th></th>\n",
       "      <th>Female</th>\n",
       "      <th>Male</th>\n",
       "    </tr>\n",
       "    <tr>\n",
       "      <th>Major</th>\n",
       "      <th></th>\n",
       "      <th></th>\n",
       "    </tr>\n",
       "  </thead>\n",
       "  <tbody>\n",
       "    <tr>\n",
       "      <th>Biology</th>\n",
       "      <td>88</td>\n",
       "      <td>65</td>\n",
       "    </tr>\n",
       "    <tr>\n",
       "      <th>Economics and Finance</th>\n",
       "      <td>45</td>\n",
       "      <td>97</td>\n",
       "    </tr>\n",
       "    <tr>\n",
       "      <th>Environmental Sciences</th>\n",
       "      <td>72</td>\n",
       "      <td>100</td>\n",
       "    </tr>\n",
       "    <tr>\n",
       "      <th>Mathematics and Statistics</th>\n",
       "      <td>32</td>\n",
       "      <td>106</td>\n",
       "    </tr>\n",
       "    <tr>\n",
       "      <th>Political Science</th>\n",
       "      <td>95</td>\n",
       "      <td>57</td>\n",
       "    </tr>\n",
       "    <tr>\n",
       "      <th>Social Sciences</th>\n",
       "      <td>80</td>\n",
       "      <td>28</td>\n",
       "    </tr>\n",
       "  </tbody>\n",
       "</table>\n",
       "</div>"
      ],
      "text/plain": [
       "                            Female  Male\n",
       "Major                                   \n",
       "Biology                         88    65\n",
       "Economics and Finance           45    97\n",
       "Environmental Sciences          72   100\n",
       "Mathematics and Statistics      32   106\n",
       "Political Science               95    57\n",
       "Social Sciences                 80    28"
      ]
     },
     "execution_count": 9,
     "metadata": {},
     "output_type": "execute_result"
    }
   ],
   "source": [
    "# don't know what to do instead of just creating the table manually\n",
    "\n",
    "table = {'Major': ['Biology', 'Economics and Finance', 'Environmental Sciences',\n",
    "                   'Mathematics and Statistics','Political Science','Social Sciences'],\n",
    "        'Female': [88,45,72,32,95,80], 'Male': [65,97,100,106,57,28]}\n",
    "\n",
    "table_df = pd.DataFrame(table)\n",
    "\n",
    "table_df.set_index('Major', inplace=True)\n",
    "\n",
    "table_df\n"
   ]
  },
  {
   "cell_type": "markdown",
   "metadata": {},
   "source": [
    "**Hypothesis testing**\n",
    "\n",
    "In order to conduct the $\\chi^2$ **independence test** we follow the step-wise implementation procedure for hypothesis testing. The $\\chi^2$ **independence test** follows the same step-wise procedure as discussed in the previous sections\n",
    "\n",
    "\\begin{array}{l}\n",
    "\\hline\n",
    "\\ \\text{Step 1}  & \\text{State the null hypothesis } H_0 \\text{ and alternative hypothesis } H_A \\text{.}\\\\\n",
    "\\ \\text{Step 2}  & \\text{Decide on the significance level, } \\alpha\\text{.} \\\\\n",
    "\\ \\text{Step 3}  & \\text{Compute the value of the test statistic.} \\\\\n",
    "\\ \\text{Step 4} &\\text{Determine the p-value.} \\\\\n",
    "\\ \\text{Step 5} & \\text{If } p \\le \\alpha \\text{, reject }H_0 \\text{; otherwise, do not reject } H_0 \\text{.} \\\\\n",
    "\\ \\text{Step 6} &\\text{Interpret the result of the hypothesis test.} \\\\\n",
    "\\hline \n",
    "\\end{array}"
   ]
  },
  {
   "cell_type": "markdown",
   "metadata": {},
   "source": [
    "**Step 1: State the null hypothesis $H_0$ and alternative hypothesis $H_A$**\n",
    "\n",
    "The null hypothesis states that there is no association between the gender and the major study subject of students.\n",
    "\n",
    "$$H_0 : \\text{ No association between gender and major study subject}$$\n",
    "\n",
    "$$H_A: \\text{ There is an association between gender and major study subject}$$"
   ]
  },
  {
   "cell_type": "markdown",
   "metadata": {},
   "source": [
    "**Step 2: Decide on the significance level, $\\alpha$**\n",
    "\n",
    "$$\\alpha = 0.05$$"
   ]
  },
  {
   "cell_type": "code",
   "execution_count": 6,
   "metadata": {},
   "outputs": [],
   "source": [
    "alpha=0.05"
   ]
  },
  {
   "cell_type": "markdown",
   "metadata": {},
   "source": [
    "**Step 3 and 4: Compute the value of the test statistic and the $p$-value.**\n"
   ]
  },
  {
   "cell_type": "code",
   "execution_count": 11,
   "metadata": {},
   "outputs": [
    {
     "data": {
      "text/plain": [
       "(99.55642172734031,\n",
       " 6.554511834745349e-20,\n",
       " 5,\n",
       " array([[72.87398844, 80.12601156],\n",
       "        [67.63468208, 74.36531792],\n",
       "        [81.92369942, 90.07630058],\n",
       "        [65.72947977, 72.27052023],\n",
       "        [72.39768786, 79.60231214],\n",
       "        [51.44046243, 56.55953757]]))"
      ]
     },
     "execution_count": 11,
     "metadata": {},
     "output_type": "execute_result"
    }
   ],
   "source": [
    "# test statistic\n",
    "\n",
    "import numpy as np\n",
    "\n",
    "from scipy.stats import chi2_contingency\n",
    "\n",
    "obs = np.array([[88, 65],[45,97],[72,100],[32,106],[95,57],[80,28]])\n",
    "\n",
    "chi2_contingency(obs)"
   ]
  },
  {
   "cell_type": "markdown",
   "metadata": {},
   "source": [
    "The $p$-value is less than the specified significance level of $0.05$; we reject $H_0$. The test results are statistically significant at the $5$% level and provide very strong evidence against the null hypothesis.\n",
    "\n",
    "**Step 6: Interpret the result of the hypothesis test.**\n",
    "\n",
    "$p= 6.554511834745349 \\times 10^{-20}$. At the $5$% significance level, the data provides very strong evidence to conclude that there is an association betweeen gender and the major study subject."
   ]
  },
  {
   "cell_type": "code",
   "execution_count": null,
   "metadata": {},
   "outputs": [],
   "source": []
  }
 ],
 "metadata": {
  "kernelspec": {
   "display_name": "Python 3",
   "language": "python",
   "name": "python3"
  },
  "language_info": {
   "codemirror_mode": {
    "name": "ipython",
    "version": 3
   },
   "file_extension": ".py",
   "mimetype": "text/x-python",
   "name": "python",
   "nbconvert_exporter": "python",
   "pygments_lexer": "ipython3",
   "version": "3.8.3"
  }
 },
 "nbformat": 4,
 "nbformat_minor": 4
}
