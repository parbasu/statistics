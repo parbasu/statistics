{
 "cells": [
  {
   "cell_type": "markdown",
   "metadata": {},
   "source": [
    "**Hypothesis Tests for One Population Mean when Sigma Is Known**\n",
    "\n",
    "If the population standard deviation $(\\sigma)$ is known, a hypothesis test performed for one population mean is called **one-mean $z$-test** or simply **$z$-test**.\n",
    "\n",
    "A $z$-test is a hypothesis test for testing a population mean, $\\mu$, against a supposed population mean $\\mu_0$. The $z-$ test assumes normally distributed variables or a large sample size; then the **central limit theorem** guarantees a normally distributed **sampling distribution**. In addition, $\\sigma$, the standard deviation of the population must be known. In real life applications this assumption is almost never fulfilled, and thus, the $z-$ test is rarely applied. However, it is the simplest hypothesis test and thus, a good subject to start with.\n",
    "\n",
    "To perform the $z$-test we follow the step wise procedure, as shown in the table below. First, we showcase the **critical value approach**, then, in a second step, we repeat the analysis for the **$p$-value approach**.\n",
    "\n",
    "\\begin{array}{l}\n",
    "\\hline\n",
    "\\ \\text{Step 1}  & \\text{State the null hypothesis } H_0 \\text{ and alternative hypothesis } H_A \\text{.}\\\\\n",
    "\\ \\text{Step 2}  & \\text{Decide on the significance level, } \\alpha\\text{.} \\\\\n",
    "\\ \\text{Step 3}  & \\text{Compute the value of the test statistic.} \\\\\n",
    "\\ \\text{Step 4a} & \\text{Critical value approach: Determine the critical value.}\n",
    "\\\\\n",
    "\\ \\text{Step 4b} &\\text{P-value approach: Determine the p-value.} \\\\\n",
    "\\ \\text{Step 5a} & \\text{Critical value approach: If the value of the test statistic falls in the rejection region, reject} H_0  \\text{; otherwise, do not reject} H_0 \\text{.}\n",
    "\\\\\n",
    "\\ \\text{Step 5b} & \\text{P-value approach: If } p \\le \\alpha \\text{, reject }H_0 \\text{; otherwise, do not reject } H_0 \\text{.} \\\\\n",
    "\\ \\text{Step 6} &\\text{Interpret the result of the hypothesis test.} \\\\\n",
    "\\hline \n",
    "\\end{array}"
   ]
  },
  {
   "cell_type": "markdown",
   "metadata": {},
   "source": [
    "**One-mean $z$-test: An example**\n",
    "\n",
    "In this section we work with the students data set."
   ]
  },
  {
   "cell_type": "code",
   "execution_count": 1,
   "metadata": {},
   "outputs": [],
   "source": [
    "import pandas as pd\n",
    "\n",
    "students_df = pd.read_csv(\"https://userpage.fu-berlin.de/soga/200/2010_data_sets/students.csv\")"
   ]
  },
  {
   "cell_type": "markdown",
   "metadata": {},
   "source": [
    "In order to showcase hypothesis testing we examine the average weight of students and compare it to the average weight of Europeans adults. [Walpole et al. (2012)](https://bmcpublichealth.biomedcentral.com/articles/10.1186/1471-2458-12-439) published data on the average body mass *(kg)* per region, including Europe. They report the mean the average body mass for the European adult population to be $70.8$ *kg*. We set $\\mu_0$, the population mean accordinly, $\\mu_0 = 70.8$. Unfortunately, owing to the methodological approach of Walpole et al. $(2012)$ they did not provide a standard deviation $(\\sigma)$ of the weights of European adults. For demonstration purposes we assume that the weight data given in the *students* data set is a good approximation for the population of interest. Thus, we set $\\sigma$ to the standard deviation of the weight variable in *students* data set."
   ]
  },
  {
   "cell_type": "code",
   "execution_count": 2,
   "metadata": {},
   "outputs": [
    {
     "data": {
      "text/plain": [
       "8.635161688392094"
      ]
     },
     "execution_count": 2,
     "metadata": {},
     "output_type": "execute_result"
    }
   ],
   "source": [
    "mu_0 = 70.8\n",
    "sigma = students_df['weight'].std()\n",
    "sigma"
   ]
  },
  {
   "cell_type": "markdown",
   "metadata": {},
   "source": [
    "Further, we take one random sample with a sample size of $n=14$. The sample consists of the weights in *kg* of $14$ randomly picked students from the *students* data set. Finally, we calculate the sample mean $(\\bar{x})$, which is our sample statistic of interest. "
   ]
  },
  {
   "cell_type": "code",
   "execution_count": 26,
   "metadata": {},
   "outputs": [
    {
     "data": {
      "text/plain": [
       "77.14285714285714"
      ]
     },
     "execution_count": 26,
     "metadata": {},
     "output_type": "execute_result"
    }
   ],
   "source": [
    "import numpy as np\n",
    "\n",
    "n = 14\n",
    "\n",
    "x_weight = np.random.choice(students_df['weight'], n)\n",
    "\n",
    "x_bar = np.mean(x_weight)\n",
    "\n",
    "x_bar"
   ]
  },
  {
   "cell_type": "markdown",
   "metadata": {},
   "source": [
    "**Hypothesis testing: The critical value approach**\n",
    "\n",
    "**Step 1: State the null hypothesis, $H_0$, and alternative hypothesis, $H_A$.**\n",
    "\n",
    "The null hypothesis states that the average weight of students $(\\mu)$ equals the average weight of European adults of $70.8$ *kg* $(\\mu_0)$ as reported by Walpole et al. ($2012$). In other wordsm there is no difference in the mean weight of students and the mean weight of European adults.\n",
    "\n",
    "$$H_0 : \\mu = 70.8$$\n",
    "\n",
    "For the purpose of illustration we test three alternating hypothesis.\n",
    "\n",
    "**Alternative hypothesis 1**: The average weight of students does not equal the average weight of European adults. In other words there is a difference in the mean weight of students and the mean weight of European adults.\n",
    "\n",
    "$$H_{A_1} : \\mu \\neq 70.8$$\n",
    "\n",
    "**Alternative hypothesis 2**: The average weight of students is less than the average weight of European adults.\n",
    "\n",
    "$$H_{A_2}: \\mu < 70.8$$\n",
    "\n",
    "**Alternative hypothesis 3**: The average weight of students is higher than the average weight of European adults.\n",
    "\n",
    "$$H_{A_3} : \\mu > 70.8$$"
   ]
  },
  {
   "cell_type": "markdown",
   "metadata": {},
   "source": [
    "**Step 2: Decide on the significance level, $\\alpha$.**\n",
    "\n",
    "$$\\alpha = 0.05$$"
   ]
  },
  {
   "cell_type": "code",
   "execution_count": 27,
   "metadata": {},
   "outputs": [],
   "source": [
    "alpha = 0.05"
   ]
  },
  {
   "cell_type": "markdown",
   "metadata": {},
   "source": [
    "**Step 3: Compute the value of the test statistic.**\n",
    "\n",
    "The following equation is applied to calculate the test statistic $z$.\n",
    "\n",
    "$$z = \\frac{\\bar{x}- \\mu_0}{\\sigma/\\sqrt{n}}$$"
   ]
  },
  {
   "cell_type": "code",
   "execution_count": 29,
   "metadata": {},
   "outputs": [
    {
     "data": {
      "text/plain": [
       "2.7483907236764704"
      ]
     },
     "execution_count": 29,
     "metadata": {},
     "output_type": "execute_result"
    }
   ],
   "source": [
    "import math\n",
    "\n",
    "z = (x_bar - mu_0)/ (sigma / math.sqrt(n))\n",
    "\n",
    "z"
   ]
  },
  {
   "cell_type": "markdown",
   "metadata": {},
   "source": [
    "**Step 4a: Determine the critical value.**\n",
    "\n",
    "\n",
    "In order to  calculate the critical value we apply the <mark> ppf </mark> function in python. Recall, that we test for three alternative hypothesis $(H_{A_1}, H_{A_2}, \\text{and } H_{A_3})$, thus, we have to calculate three critical values as well $(z_{A_1} = \\pm z_{\\alpha/2}, z_{A_2} = - z_{\\alpha}, \\text{and} z_{A_3} = +z_{\\alpha})$."
   ]
  },
  {
   "cell_type": "code",
   "execution_count": 35,
   "metadata": {},
   "outputs": [
    {
     "name": "stdout",
     "output_type": "stream",
     "text": [
      "1.959963984540054 -1.6448536269514722 1.6448536269514722\n"
     ]
    }
   ],
   "source": [
    "from scipy.stats import norm\n",
    "\n",
    "z_A1 = norm.ppf(1-alpha/2)\n",
    "z_A2 = -norm.ppf(1-alpha)\n",
    "z_A3 = norm.ppf(1-alpha)\n",
    "\n",
    "print(z_A1,z_A2,z_A3)"
   ]
  },
  {
   "cell_type": "markdown",
   "metadata": {},
   "source": [
    "**Step 5a: If the value of the test statistic falls in the rejection region, reject $H_0$; otherwise, do not reject $H_0$.**\n",
    "\n",
    "The value of the test statistic found in Step $3$ is $z \\approx 2.75$. Recall, that we are investigating three alternative hypothesis ($H_{A_1}$, $H_{A_2}$ and $H_{A_3}$). Thus, we evaluate the rejection region for each particular hypothesis."
   ]
  },
  {
   "cell_type": "markdown",
   "metadata": {},
   "source": [
    "- **Alternative hypothesis $H_{A_1} : \\mu \\neq 70.8$**\n",
    "\n",
    "Recall the critical values for $H_{A_1}$.\n",
    "\n",
    "$$z_{A_1} = \\pm z_{\\alpha/2} = \\pm 1.96$$\n",
    "\n",
    "Does the test statistic ($z \\approx 2.75$) fall in the rejection region? Yes, it does as $2.75 > 1.96$.\n",
    "\n",
    "So we reject $H_0$. The test results are statistically significant at the $5$% level.\n",
    "\n",
    "- **Alternative hypothesis $H_{A_1} : \\mu < 70.8$**\n",
    "\n",
    "Recall the critical value for $H_{A_2}$.\n",
    "\n",
    "$$z_{A_2} = - z_{\\alpha} = -1.64$$\n",
    "\n",
    "Does the test statistic ($z \\approx 2.75$) fall in the rejection region? No, it does not as $2.75 < -1.64$ is FALSE.\n",
    "\n",
    "So we do not reject $H_0$. The test results are statistically significant at the $5$% level.\n",
    "\n",
    "- **Alternative hypothesis $H_{A_3} : \\mu > 70.8$**\n",
    "\n",
    "Recall the critical value for $H_{A_3}$.\n",
    "\n",
    "$$z_{A_3} = + z_{\\alpha} = 1.64$$\n",
    "\n",
    "Does the test statistic ($z \\approx 2.75$) fall in the rejection region? Yes, it does as $2.75 > 1.64$.\n",
    "\n",
    "So we reject $H_0$. The test results are statistically significant at the $5$% level."
   ]
  },
  {
   "cell_type": "markdown",
   "metadata": {},
   "source": [
    "**Step 6: Interpret the result of the hypothesis test.**\n",
    "\n",
    "- **Alternative hypothesis $H_{A_1} : \\mu \\neq 70.8$**\n",
    "\n",
    "At the $5$% significance level, the data provides sufficient evidence to conclude that the average weight of students differs from the average weight European adults.\n",
    "\n",
    "- **Alternative hypothesis $H_{A_2} : \\mu < 70.8$**\n",
    "\n",
    "At the $5$% significance level, the data does not provide sufficient evidence to conclude that the average weight of students is less than the average weight of European adults.\n",
    "\n",
    "- **Alternative hypothesis $H_{A_3} : \\mu > 70.8$**\n",
    "\n",
    "At the $5$% significance level, the data provides sufficient evidence to conclude that the average weight of students is higher than average weight of European adults."
   ]
  },
  {
   "cell_type": "markdown",
   "metadata": {},
   "source": [
    "**Hypothesis testing: The $p$-value approach**\n",
    "\n",
    "**Step 1: State the null hypothesis, $H_0$, and alternative hypothesis, $H_A$.**\n",
    "\n",
    "The null hypothesis states that the average weight of students $(\\mu)$ equals the average weight of European adults of $70.8$ *kg* $(\\mu_0)$ as reported by Walpole et al. ($2012$). In other wordsm there is no difference in the mean weight of students and the mean weight of European adults.\n",
    "\n",
    "$$H_0 : \\mu = 70.8$$\n",
    "\n",
    "For the purpose of illustration we test three alternating hypothesis.\n",
    "\n",
    "**Alternative hypothesis 1**: The average weight of students does not equal the average weight of European adults. In other words there is a difference in the mean weight of students and the mean weight of European adults.\n",
    "\n",
    "$$H_{A_1} : \\mu \\neq 70.8$$\n",
    "\n",
    "**Alternative hypothesis 2**: The average weight of students is less than the average weight of European adults.\n",
    "\n",
    "$$H_{A_2}: \\mu < 70.8$$\n",
    "\n",
    "**Alternative hypothesis 3**: The average weight of students is higher than the average weight of European adults.\n",
    "\n",
    "$$H_{A_3} : \\mu > 70.8$$"
   ]
  },
  {
   "cell_type": "markdown",
   "metadata": {},
   "source": [
    "**Step 2: Decide on the significance level, $\\alpha$.**\n",
    "\n",
    "$$\\alpha = 0.05$$"
   ]
  },
  {
   "cell_type": "code",
   "execution_count": 37,
   "metadata": {},
   "outputs": [],
   "source": [
    "alpha = 0.05"
   ]
  },
  {
   "cell_type": "markdown",
   "metadata": {},
   "source": [
    "**Step 3: Compute the value of the test statistic.**\n",
    "\n",
    "The following equation is applied to calculate the test statistic $z$.\n",
    "\n",
    "$$z = \\frac{\\bar{x}- \\mu_0}{\\sigma/\\sqrt{n}}$$"
   ]
  },
  {
   "cell_type": "code",
   "execution_count": 38,
   "metadata": {},
   "outputs": [
    {
     "data": {
      "text/plain": [
       "2.7483907236764704"
      ]
     },
     "execution_count": 38,
     "metadata": {},
     "output_type": "execute_result"
    }
   ],
   "source": [
    "import math\n",
    "\n",
    "z = (x_bar - mu_0)/ (sigma / math.sqrt(n))\n",
    "\n",
    "z"
   ]
  },
  {
   "cell_type": "markdown",
   "metadata": {},
   "source": [
    "**Step 4b: Determine the $p$-value.**\n",
    "\n",
    "In order to calculate the $p-value$ we apply the <mark> cdf </mark> function in Python. Recall, that we test for three alternative hypothesis ($H_{A_1}$, $H_{A_2}$ and $H_{A_3}$), thus we can calculate three $p$-values as well $(P(z_{A_1}), P(z_{A_2}), \\text{and } P(z_{A_3}))$.\n",
    "\n",
    "- **Alternative hypothesis $$H_{A_1}:\\quad \\mu \\neq 70.8$$**"
   ]
  },
  {
   "cell_type": "code",
   "execution_count": 39,
   "metadata": {},
   "outputs": [
    {
     "data": {
      "text/plain": [
       "0.005988859425891677"
      ]
     },
     "execution_count": 39,
     "metadata": {},
     "output_type": "execute_result"
    }
   ],
   "source": [
    "from scipy.stats import norm\n",
    "\n",
    "upper = 1-norm.cdf(z)\n",
    "lower = norm.cdf(-z)\n",
    "p_z1 = upper + lower \n",
    "p_z1"
   ]
  },
  {
   "cell_type": "markdown",
   "metadata": {},
   "source": [
    "From step $3$, the value of the test statistic is $z \\approx 2.75$. The test is two-sided, so the $p-$value is the probability of observing a value $z$ of $2.75$ or greater in magnitude of a $z$-value of $-2.75$ or lower in magnitude. We have $p \\approx 0.006$."
   ]
  },
  {
   "cell_type": "markdown",
   "metadata": {},
   "source": [
    "- **Alternative hypothesis $H_{A_2} : \\mu < 70.8$**"
   ]
  },
  {
   "cell_type": "code",
   "execution_count": 41,
   "metadata": {},
   "outputs": [
    {
     "data": {
      "text/plain": [
       "0.9970055702870542"
      ]
     },
     "execution_count": 41,
     "metadata": {},
     "output_type": "execute_result"
    }
   ],
   "source": [
    "p_z2 = norm.cdf(z)\n",
    "p_z2"
   ]
  },
  {
   "cell_type": "markdown",
   "metadata": {},
   "source": [
    "From step $3$, the value of the test statistic is $z \\approx 2.75$. The test is left-tailed, so the $p$-value is the probability of observing a value $z$ of $2.75$ or lower in magnitude. We have $p \\approx 1$."
   ]
  },
  {
   "cell_type": "markdown",
   "metadata": {},
   "source": [
    "- **Alternative hypothesis $H_{A_3} : \\mu > 70.8$**"
   ]
  },
  {
   "cell_type": "code",
   "execution_count": 42,
   "metadata": {},
   "outputs": [
    {
     "data": {
      "text/plain": [
       "0.002994429712945834"
      ]
     },
     "execution_count": 42,
     "metadata": {},
     "output_type": "execute_result"
    }
   ],
   "source": [
    "p_z3 = 1- norm.cdf(z)\n",
    "p_z3"
   ]
  },
  {
   "cell_type": "markdown",
   "metadata": {},
   "source": [
    "From step $3$, the value of the test statistic is $z \\approx 2.75$. The test is right-tailed, so the $p$-value is the probability of observing a value $z$ of $2.75$ or greater in magnitude. We have $p \\approx 0.003$."
   ]
  },
  {
   "cell_type": "markdown",
   "metadata": {},
   "source": [
    "**Step 5b: If $p \\leq \\alpha$, reject $H_0$; otherwise, do not reject $H_0$.**\n",
    "\n",
    "The $p$-value of the test statistic found in step $4$ is compared to the user defined significance level $\\alpha$ of $5$%. Recall that we are investigating three alternative hypothesis ($H_{A_1}$, $H_{A_2}$ and $H_{A_3}$). Thus, we make comparison for each particular hypothesis.\n",
    "\n",
    "- **Alternative hypothesis $$H_{A_1}:\\quad \\mu \\neq 70.8$$**\n",
    "\n",
    "$$0.006 \\leq 0.05$$\n",
    "\n",
    "The $p$-value is less than the specified significance level of $0.05$ we reject $H_{0}$. The test results are statistically significant at the $5$% level and provide very strong evidence against the null hypothesis.\n",
    "\n",
    "- **Alternative hypothesis $$H_{A_1}:\\quad \\mu < 70.8$$**\n",
    "\n",
    "$$1 \\leq 0.05$$ \n",
    "\n",
    "is FALSE. The $p$-value is greater than the specified significance level of $0.05$ we do not reject $H_0$. The test results are statistically significant at the $5$% level and provide not sufficient evidence against the null hypothesis. \n",
    "\n",
    "- **Alternative hypothesis $$H_{A_1}:\\quad \\mu > 70.8$$**\n",
    "\n",
    "$$0.003 \\leq 0.05$$\n",
    "\n",
    "The $p$-value is less than the specified significance level of $0.05$ we reject $H_0$. The test results are statistically significant at the $5$% level and provide very strong evidence against the null hypothesis."
   ]
  },
  {
   "cell_type": "markdown",
   "metadata": {},
   "source": [
    "**Step 6: Interpret the result of the hypothesis test.**\n",
    "\n",
    "- **Alternative hypothesis $H_{A_1}:\\mu \\neq70.8$**\n",
    "\n",
    "$p \\approx 0.006$. At the $5$% significance level, the data provides very strong evidence to conclude that the average weight of students differs from the average weight European adults.\n",
    "\n",
    "- **Alternative hypothesis $H_{A_1}:\\mu < 70.8$**\n",
    "\n",
    "$p \\approx 1$. At the $5$% significance level, the data does not provide sufficient evidence to conclude that the average weight of students is less than the average weight of European adults.\n",
    "\n",
    "- **Alternative hypothesis $H_{A_1}:\\mu > 70.8$**\n",
    "\n",
    "$p \\approx 0.003$. At the $5$% significance level, the data provides very strong evidence to conclude that the average weight of students is higher than average weight of European adults."
   ]
  },
  {
   "cell_type": "code",
   "execution_count": null,
   "metadata": {},
   "outputs": [],
   "source": []
  }
 ],
 "metadata": {
  "kernelspec": {
   "display_name": "Python 3",
   "language": "python",
   "name": "python3"
  },
  "language_info": {
   "codemirror_mode": {
    "name": "ipython",
    "version": 3
   },
   "file_extension": ".py",
   "mimetype": "text/x-python",
   "name": "python",
   "nbconvert_exporter": "python",
   "pygments_lexer": "ipython3",
   "version": "3.8.3"
  }
 },
 "nbformat": 4,
 "nbformat_minor": 4
}
