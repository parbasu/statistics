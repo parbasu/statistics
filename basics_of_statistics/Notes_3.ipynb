{
 "cells": [
  {
   "cell_type": "markdown",
   "metadata": {},
   "source": [
    "**Discrete Random Variables and Their Probability Distributions**\n",
    "\n",
    "A **random variable** is a variable whose value depends on chance, accordingly its value is associated with a probability. A **discrete random variable** is a random variable whose possible values can be listed. A **probability distribution** is a listing of the possible values and corresponding probabilities of a discrete random variable, often represented by a formula.\n",
    "\n",
    "A graph of the probability distribution that displays the probability of each value, represented by a vertical bar whose height equals the probability and possible values of a discrete random variable on the horizontal axis is called **probability histogram** or **proportion histogram**.\n",
    "\n",
    "The **sum of the probabilities of a discrete random variable** for any discrete random variable X is written as\n",
    "\n",
    "$$\\sum_{i=1}^{N} \\text{P}(X = x_i) = 1$$\n",
    "\n",
    "In a large number of independent observations of a random variable $X$ the probability histogram will approximate the probability histogram for $X$\n",
    "\n",
    "**Discrete Random Variables - An Example**\n",
    "\n",
    "Let us elaborate the concept of **discrete random variables** by an exercise.\n",
    "\n",
    "Say, our population under investigation consists of all students, all lecturers and all administrative staff members at FU Berlin. We randomly pick on of those individuals and ask him/her about his/her number of siblings. Consequently, the answer, the number of siblings of a randomly selected individual is a discrete random variable, denoted as X. The actual value (number of siblings) of X depends on chance, but we may still list all values of X, e.g. 0 sibling, 1 sibling, 2 siblings, and so on. For simplification purposes we limit the number of siblings in this exercise to 5.\n",
    "\n",
    "According the the website of FU Berlin there are 30,600 students, 5,750 doctoral students, 341 professors and 4,270 staff members associated to FU Berlin. In total there are 40,961 individuals (please note, that the actual numbers might change over time) at FU Berlin.\n",
    "\n",
    "As we do not have any idea of the associated probability for a particular number of sibling, we start some experiments:\n",
    "\n",
    "We pick **one** randomly chosen individual and ask for the number of siblings.\n",
    "\n",
    "The answer is: 0\n",
    "\n",
    "We pick **ten** randomly chosen individuals and ask them about siblings.\n",
    "\n",
    "The answers are: 4, 0, 2, 0, 2, 2, 1, 2, 0, 3\n",
    "\n",
    "We pick *one hundred* individuals and ask for siblings.\n",
    "\n",
    "The answers are: 2, 0, 1, 2, 2, 0, 0, 0, 1, 3, 1, 2, 1, 0, 2, 0, 0, 2, 1, 1, 1, 1, 2, 2, 1, 2, 2, 0, 1, 1, 2, 4, 0, 3, 2, 0, 1, 2, 2, 2, 1, 2, 1, 1, 2, 1, 2, 2, 2, 1, 1, 1, 1, 1, 1, 2, 1, 1, 2, 2, 1, 1, 0, 2, 0, 1, 0, 1, 2, 1, 2, 1, 2, 2, 2, 1, 0, 2, 2, 4, 1, 2, 1, 1, 1, 1, 1, 0, 2, 1, 0, 1, 0, 1, 1, 2, 0, 2, 0, 0\n",
    "\n",
    "You see, the form of notation is getting quite fast confusing if we increase the number of individuals we interrogate. Thus, we decide to note the **frequency**, and the corresponding **relative frequency** of the values given for the classes 0, 1, 2, 3, 4, 5 (to be explicit: the last class corresponds to 5 or more siblings), and present the experiment in form of a nicely formatted table.\n",
    "\n",
    "We pick 1,000 individuals and ask them about siblings.\n",
    "\n",
    "\\begin{array}{c|lcr}\n",
    "\\text{Siblings} & \\text{Frequency} & \\text{Relative}\\\\\n",
    "\\ x & f & \\text{frequency}\\\\\n",
    "\\hline\n",
    "0 & 205 & 0.205  \\\\\n",
    "1 & 419 & 0.419  \\\\\n",
    "2 & 280 & 0.28 \\\\\n",
    "3 & 65 & 0.065  \\\\\n",
    "4 & 29 & 0.029  \\\\\n",
    "5 & 2 & 0.002 \\\\\n",
    "\\hline\n",
    " & 1000 & 1\n",
    "\\end{array}\n",
    "\n",
    "After we listed all possible values and calculated the corresponding relative frequencies, we still do not know exactly the probabilities of the discrete random variable X for the whole population of 40,961 individuals, associated to FU Berlin. However, after talking to 1,000 randomly chosen individuals we are quite confident that such a large number of interviews - compared to the number of the whole population (40,961) - will give us a good approximation of the probabilities of the discrete random variable $X$ (number of siblings) for the whole population.\n",
    "\n",
    "In a next step, we draw a **proportion histogram** (of the sample), which displays the possible values of a discrete random variable $X$ on the horizontal axis and the proportions of those values on the vertical axis. A proportion histogram may serve as an approximation to the probability distribution too. Please note, that the **sum of the probabilities** as well as the **sum of the proportions** of any discrete random variables is 1.\n",
    "\n",
    "![proportion_hist_FU_siblings](proportion_hist_FU_siblings.png)"
   ]
  },
  {
   "cell_type": "markdown",
   "metadata": {},
   "source": [
    "In many real life applications we do not know the population’s probability distribution - **and we never will**. This is mainly because in many applications the population is much to large, or there is no chance to get reliable data, nor we have the money nor the time for exhaustive data collection. However, by increasing the number of independent observations of a random variable X, the proportion histogram of the sample will approximate better and better the probability histogram of the whole population. To prove this claim we scale up our experiment:\n",
    "\n",
    "We sequentially pick 10, 100 and 1,000 randomly chosen individuals associated with FU Berlin and ask them about the number of siblings. We will plot each of our three experiments and finally compare it to the actual/real probability distribution (Please note that this example is a toy example and does not represent the real number of sibling in the population of individuals at the FU Berlin)\n",
    "\n",
    "![diff_samples_siblings](diff_samples_siblings.png)\n",
    "\n",
    "The graphs confirm our hypothesis, by increasing the number of observations the proportion histogram of the sample will approximate better and better the probability histogram of the whole population."
   ]
  },
  {
   "cell_type": "markdown",
   "metadata": {},
   "source": [
    "**The Mean and Standard Deviation of a Discrete Random Variable**\n",
    "\n",
    "**Mean of a Discrete Random Variable**\n",
    "\n",
    "The **mean of a discrete random variable** $X$ is denoted $\\mu_X$ or, when no confusion will arise, simply $\\mu$. The terms **expected value**, $E(X)$, and **expectation** are commonly used in place of the term mean.\n",
    "\n",
    "$$E(X) = \\sum_{i=1}^{N}x_i \\text{P}(X=x_i)$$\n",
    "\n",
    "In a large number of indepedent observations of a random variable $X$, the $E(X)$ of those observations - the sample - will approximate the mean, $\\mu$, of the population. The larger the number of observations, the closer $E(X)$ is to $\\mu$.\n",
    "\n",
    "Let us recall our experiment from the previous section, when we picked 1,000 individuals and asked for the number of siblings. Let us again take a look at the table, summarizing the experiment\n",
    "\n",
    "\\begin{array}{c|lcr}\n",
    "\\text{Siblings} & \\text{Frequency} & \\text{Relative}\\\\\n",
    "\\ x & f & \\text{frequency}\\\\\n",
    "\\hline\n",
    "0 & 205 & 0.205  \\\\\n",
    "1 & 419 & 0.419  \\\\\n",
    "2 & 280 & 0.28 \\\\\n",
    "3 & 65 & 0.065  \\\\\n",
    "4 & 29 & 0.029  \\\\\n",
    "5 & 2 & 0.002 \\\\\n",
    "\\hline\n",
    " & 1000 & 1\n",
    "\\end{array}\n",
    "\n",
    "Let us calculate the expected value (mean) for that experiment\n",
    "\n",
    "\\begin{align}\n",
    "\\\\ \n",
    "& E(X) = \\sum_{i=1}^{N}x_iP(X=x_i) \\\\\n",
    "& = 0 \\cdot P(X=0) + 1 \\cdot P(X=1)+ 2 \\cdot P(X=2) + 3 \\cdot P(X=3) +4 \\cdot P(X=4)+ 5 \\cdot P(X \\ge 5) \\\\\n",
    "& = 0 \\cdot 0.205 + 1 \\cdot 0.419 + 2 \\cdot 0.28+ 3 \\cdot 0.065  + 4 \\cdot 0.029  + 5 \\cdot 0.002  \\\\\n",
    "& = 1.3\n",
    "\\end{align}\n",
    "\n",
    "The resulting expected value of 1.3 is close to the mean μ, which we calculate by using the population’s probabilities (real probabilities are taken from the lower right figure in the previous section).\n",
    "\n",
    "$$ \\mu=1⋅0.2+2⋅0.425+3⋅0.275+4⋅0.07+5⋅0.025=1.31$$\n"
   ]
  },
  {
   "cell_type": "code",
   "execution_count": 6,
   "metadata": {},
   "outputs": [
    {
     "name": "stdout",
     "output_type": "stream",
     "text": [
      "[4 2 6 4 2 6 1 5 1 6]\n"
     ]
    },
    {
     "data": {
      "image/png": "[encoded data removed]",
      "text/plain": [
       "<Figure size 432x288 with 1 Axes>"
      ]
     },
     "metadata": {
      "needs_background": "light"
     },
     "output_type": "display_data"
    }
   ],
   "source": [
    "# six-sided die in Python\n",
    "\n",
    "import numpy as np\n",
    "import matplotlib.pyplot as plt\n",
    "import seaborn as sns\n",
    "\n",
    "# Pick a seed for the random number generator\n",
    "np.random.seed(101)\n",
    "\n",
    "# Generate random integers between 1 and 6 for a sample size of 10\n",
    "n_sims = 10\n",
    "print(np.random.randint(1, 7, n_sims))\n",
    "\n",
    "# Generate random integers between 1 and 6 for a sample size of 10000\n",
    "n_sims = 10_000\n",
    "x = np.random.randint(1, 7, n_sims)\n",
    "\n",
    "# Plot the histogram\n",
    "sns.distplot(x, kde = False)\n",
    "plt.title(\"Histogram of simulated dice rolls\")\n",
    "plt.xlim([0,7]);\n",
    "\n",
    "pass"
   ]
  },
  {
   "cell_type": "code",
   "execution_count": 18,
   "metadata": {},
   "outputs": [
    {
     "data": {
      "text/plain": [
       "<matplotlib.legend.Legend at 0x7f8256506c10>"
      ]
     },
     "execution_count": 18,
     "metadata": {},
     "output_type": "execute_result"
    },
    {
     "data": {
      "image/png": "[encoded data removed]",
      "text/plain": [
       "<Figure size 432x288 with 1 Axes>"
      ]
     },
     "metadata": {},
     "output_type": "display_data"
    }
   ],
   "source": [
    "# Graphing the expected value\n",
    "\n",
    "import numpy as np\n",
    "import matplotlib.pyplot as plt\n",
    "import seaborn as sns\n",
    "\n",
    "sns.set()\n",
    "\n",
    "np.random.seed(101)\n",
    "\n",
    "trials = []\n",
    "mean_of_trials = []\n",
    "\n",
    "for i in range(1,1000):\n",
    "    trials.append(i)\n",
    "    mean_of_trials.append(np.random.randint(1, 7, i).mean())\n",
    "    \n",
    "plt.plot(trials, mean_of_trials)\n",
    "plt.axhline(3.5, color='red', label = 'Expected Value')\n",
    "plt.legend()\n",
    "    "
   ]
  },
  {
   "cell_type": "markdown",
   "metadata": {},
   "source": [
    "The graph shows that after some initial volatile behavior, the curve finally flattens  and approximated the $E(X)$ of $3.5$"
   ]
  },
  {
   "cell_type": "markdown",
   "metadata": {},
   "source": [
    "**Standard Deviation of a Discrete Random Variable**\n",
    "\n",
    "The standard deviation of a discrete random variable $X$ is denoted $\\sigma_X$ or, when no confusion will arise, simply $\\sigma$. It is defined as\n",
    "\n",
    "$$\\sigma = \\sqrt{ \\sum_{i=1}^{N} (x_i - \\mu)^2 \\text{P} (X = x_i)}$$"
   ]
  },
  {
   "cell_type": "code",
   "execution_count": 27,
   "metadata": {},
   "outputs": [
    {
     "name": "stdout",
     "output_type": "stream",
     "text": [
      "3.512 1.7092688495377197\n"
     ]
    }
   ],
   "source": [
    "# std in python\n",
    "\n",
    "import numpy as np\n",
    "\n",
    "np.random.seed(101)\n",
    "\n",
    "mean = np.random.randint(1,7, 500).mean()\n",
    "std = np.random.randint(1,7, 500).std()\n",
    "\n",
    "print(mean,std)"
   ]
  },
  {
   "cell_type": "markdown",
   "metadata": {},
   "source": [
    "Roughly speaking, our experiment showed that after $500$ rolls, on average, the value of a dice number is $1.71$ from the experimental mean of $3.5$."
   ]
  },
  {
   "cell_type": "markdown",
   "metadata": {},
   "source": [
    "**The Binomial Distribution**\n",
    "\n",
    "Many applications of probability and statistics concern the repetition of an experiment. We call each repetition a **trial**, and we are particularly interested in cases in which the experiment (each trial) has **only two possible outcomes**: Success or failure, true or false, 0 or 1.\n",
    "\n",
    "To analyze repeated trials of an experiment that has two possible outcomes, we require knowledge of **factorials**, **binomial coefficients**, and **Bernoulli trials**.\n",
    "\n",
    "On the basis of those prerequisites we learn about the the **binomial distribution**, which is a **probability distribution** for the number of successes in a sequence of **Bernoulli trials**\n",
    "\n",
    "**The Binomial Probability Formula**\n",
    "\n",
    "In $n$ Bernoulli trials, the number of outcomes that contain exactly $x$ successes equals the binomial coefficient $n \\choose x$.\n",
    "\n",
    "Let $X$ denote the total number of successes in $n$ Bernoulli trials with success probability $p$. Then the probability distribution of the random variable $X$ is given by:\n",
    "\n",
    "$$P(X = x) = {n \\choose x}p^x(1 - p)^{n-x}, \\qquad x = 0, 1, 2, . . . , n$$\n",
    "\n",
    "The random variable $X$ is called a **binomial random variable** and is said to have the binomial distribution with parameters $n$ and $p$.\n",
    "\n",
    "Let us consider an example taken form the real world.\n",
    "\n",
    "Let us suppose that long term statistics tell us, that the chance for passing the final statistics exam is 0.3. \n",
    "\n",
    "Let us consider a class of 25 students. What is the chance that exactly 3 students of that particular class will pass the final statistics exam?\n",
    "\n"
   ]
  },
  {
   "cell_type": "code",
   "execution_count": 32,
   "metadata": {},
   "outputs": [
    {
     "data": {
      "text/plain": [
       "0.02427998871170025"
      ]
     },
     "execution_count": 32,
     "metadata": {},
     "output_type": "execute_result"
    }
   ],
   "source": [
    "# binomial in python\n",
    "\n",
    "from scipy.stats import binom\n",
    "\n",
    "binom.pmf(3, 25, 0.3)"
   ]
  },
  {
   "cell_type": "markdown",
   "metadata": {},
   "source": [
    "The probability that exactly 3 out of 25 students $(P(X=3))$ will pass the final statistics exam is quite low. What about the probability that exactly 15 out of 25 students $(P(X=15))$ will pass the final statistics exam. "
   ]
  },
  {
   "cell_type": "code",
   "execution_count": 33,
   "metadata": {},
   "outputs": [
    {
     "data": {
      "text/plain": [
       "0.001324897424235183"
      ]
     },
     "execution_count": 33,
     "metadata": {},
     "output_type": "execute_result"
    }
   ],
   "source": [
    "binom.pmf(15, 25, 0.3)"
   ]
  },
  {
   "cell_type": "markdown",
   "metadata": {},
   "source": [
    "The probability of $P(X=15)$ is approximately 0.1%. We can continue with our experiments to find out all the probabilities of **exactly one outcome** for $k=0,1,2,...,n$. Please note that for our particular example it is not very informative to know the probability to pass the exam of exactly one particular number $(k)$ of students. For us it is of higher informational interest if we could answer the question what is the probability that $k$ or less students $(P(X≤k))$ will pass the exam, or equally interesting that $k$ or more students $(P(X≥k))$ will pass the exam."
   ]
  },
  {
   "cell_type": "markdown",
   "metadata": {},
   "source": [
    "What is the probability that $9$ or less students will pass the final statistics exam $(P(X≤9))$. So we are interested in the probability that $0$ out of $25$, or $1$ out of $25$, or $2$ out of $25$, …, or $9$ out of $25$ students will pass the exam. To calculate this probability we need to calculate  $P(X=0)+P(X=1)+P(X=2)+...+P(X=9)$."
   ]
  },
  {
   "cell_type": "code",
   "execution_count": 34,
   "metadata": {},
   "outputs": [
    {
     "data": {
      "text/plain": [
       "0.8105639764950543"
      ]
     },
     "execution_count": 34,
     "metadata": {},
     "output_type": "execute_result"
    }
   ],
   "source": [
    "binom.cdf(9,25,0.3)"
   ]
  },
  {
   "cell_type": "markdown",
   "metadata": {},
   "source": [
    "The probability that 9 or less students will pass the statistics exam $(P(X≤9))$ is $81.1$%. In turn the means that the probability that $10$ or more students will pass the exam is $P(X>9)=1−P(X≤9) $ or only $18.9$%"
   ]
  },
  {
   "cell_type": "markdown",
   "metadata": {},
   "source": [
    "**Visualizing the Binomial Distribution**\n",
    "\n",
    "![binom_distribution](binom_distribution.png)\n",
    "\n",
    "In addition we visualize the discussed probabilities form above: $P(X=3), P(X=15), P(X≤9), P(X>9)$ and and the **corresponding cummulative binomial probability distribution function** \n",
    "\n",
    "![binom_dist_lower_upper](binom_dist_lower_upper.png)\n",
    "\n",
    "![cdf_binom](cdf_binom.png)\n",
    "\n",
    "In order to conclude this section, and in order to give you some intuition of the shapes of different binomial probability distributions, three different binomial probability and its corresponding cumulative binomial provability distributions for $p=0.1$, $p=0.5$, $p=0.9$ are given below.\n",
    "\n",
    "![cdf_binom_p1](cdf_binom_p1.png)\n",
    "![cdf_binom_p2](cdf_binom_p2.png)\n",
    "![cdf_binom_p3](cdf_binom_p3.png)"
   ]
  },
  {
   "cell_type": "markdown",
   "metadata": {},
   "source": [
    "**Mean and Standard Deviation of a Binomial Random Variable**\n",
    "\n",
    "The mean and standard deviation of a binomial random variable with parameters $n$ and $p$ are\n",
    "\n",
    "$$\\mu = np$$\n",
    "\n",
    "and\n",
    "\n",
    "$$\\sigma = np(1 - p)$$\n",
    "\n",
    "respectively.\n",
    "\n",
    "Let us recall the example, from the previous section. The probability to pass the final statistic exam is $0.3$. We consider a class of $25$ students. The random variable $X$, which corresponds to success in the exam is a binomial random variable, and follows a binomial distribution with parameters $n=25$ and $p=0.3$. Thus the mean, μ, and the standard deviation, $\\sigma$, can be computed as follows:\n",
    "\n",
    "$$\\mu = np = 25 \\times 0.3 = 7.5$$\n",
    "\n",
    "and\n",
    "\n",
    "$$\\sigma = np(1 - p) = 25 \\times 0.3 \\times (1-0.3) = 5.25$$\n",
    "\n",
    "The following plot visualizes the binomial distribution with parameters $n=25$ and $p=0.3$, and its mean $\\mu$ and standard deviation $\\sigma$.\n",
    "\n",
    "![hist_mean_std_binom](hist_mean_std_binom.png)"
   ]
  },
  {
   "cell_type": "markdown",
   "metadata": {},
   "source": [
    "**Binomial Approximation to the Hypergeometric Distribution**\n",
    "\n",
    "We often want to determine the proportion (percentage) of members of a finite population that have a specified attribute. Generally, the population under consideration is too large for the population proportion to be found by taking a census. Suppose that a simple random sample of size $n$ is taken from a population in which the proportion of members that have a specified attribute is $p$. Then a random variable of primary importance in the estimation of $p$ is the number of members sampled that have the specified attribute, which we denote $X$. The exact probability distribution of $X$ depends on whether the sampling is done **with** or **without replacement**. If sampling is done with replacement, the sampling process constitutes Bernoulli trials: Each selection of a member from the population corresponds to a trial. A success occurs on a trial if the member selected in that trial has the specified attribute; otherwise, a failure occurs. The trials are **independent** because the sampling is done with replacement. The success probability remains the same from trial to trial, it always equals the proportion of the population that has the specified attribute. Therefore the random variable $X$ has the **binomial distribution** with parameters $n$ (the sample size) and $p$ (the population proportion).\n",
    "\n",
    "In reality, however, sampling is ordinarily done **without replacement**. Under these circumstances, the sampling process does not constitute Bernoulli trials because the trials are **not independent** and the success probability varies from trial to trial. In other words, the random variable $X$ does not have a binomial distribution. Its distribution is referred to as a hypergeometric distribution.\n",
    "\n",
    "In practice, however, a hyper-geometric distribution can usually be approximated by a binomial distribution. The reason is that, if the **sample size does not exceed $5$% of the population size**, there is little difference between sampling with and without replacement.\n",
    "\n",
    "**Sampling and the Binomial Distribution**\n",
    "\n",
    "Suppose that a simple random sample of size $n$ is taken from a finite population in which the proportion of members that have a specified attribute is p. Then the number of members sampled that have the specified attribute\n",
    "\n",
    "- has exactly a binomial distribution with parameters $n$ and $p$ if the sampling is done with replacement and\n",
    "\n",
    "- has approximately a binomial distribution with parameters $n$ and $p$ if the sampling is done without replacement and the sample size does not exceed $5$% of the population size.\n",
    "\n",
    "\n"
   ]
  },
  {
   "cell_type": "markdown",
   "metadata": {},
   "source": [
    "**The Poisson Distribution**\n",
    "\n",
    "Another important discrete probability distribution is the **Poisson distribution**. The Poisson distribution is often used to describe the probability of a number of events occurring in a given time or space interval, with the probability of occurrence of these events being very small. However, since the number of trials is very large, these events do actually occur.\n",
    "\n",
    "The random variable $X$, called a **poisson random variable**, is considered the number of occurrences (or arrivals) of such events in a given interval in time or space. A Poisson random variable has infinitely many possible values, namely, all whole numbers.\n",
    "\n",
    "Assuming that $\\lambda$ is the expected value of such arrivals in a time interval of fixed length, the probability of observing exactly $x$ events is given by the probability mass function\n",
    "\n",
    "$$P(X = x) = e^{-\\lambda}\\frac{\\lambda x}{x!}, \\qquad x = 0, 1, 2, . . . ,$$\n",
    "\n",
    "here $\\lambda$ is a positive real number, which represents the average number of events occurring during a fixed time interval, and $ \\exp \\approx 2.7182818$. Thus, any particular Poisson distribution is identified by one parameter, usually denoted $\\lambda$. For example, if the event occurs on average $10$ times per second, in $60$ seconds the event will occur on average $600$ times and $\\lambda = 600$.\n",
    "\n",
    "**The Poisson Distribution - An Example**\n",
    "\n",
    "Let us apply the Poisson Distribution if form of an example. We focus on the one-hundred-year flood, a concept that is widely used in river engineering to design flood control measures.\n",
    "\n",
    "Let us recall the mathematical notation of a **poisson random variable**:\n",
    "\n",
    "$$P(X = x) = e^{-\\lambda}\\frac{\\lambda x}{x!}, \\qquad x = 0, 1, 2, . . . ,$$\n",
    "\n",
    "where $\\lambda$ is a positive real number, which represents the average number of events occurring during a fixed time interval, and $e \\approx 2.7182818$.\n",
    "\n",
    "The *100-year flood* is a shorthand term for a flood with an annual exceedance probability of 1% and an average recurrence interval of 100 years. However, the term can be confusing for people because, not unreasonably, as they imagine the term describes floods, which occur once every 100-years. However, this is not true. A flood with an annual exceedance probability of 1% indicates that a with a probability of 0.01 a flood of a magnitude corresponding to a 100 year flood occurs in **any** given year.\n",
    "\n",
    "Putting this in the context of a Poisson distribution the expected value, $E(x)=\\lambda$, of such a flood during the fixed interval of 100 years is set to $\\lambda =100 \\times 0.01=1$. Consequently, the Poisson random variable $X$ is the number of occurrences, which of course may take several values depending our question. We may be interested in the probability that such an flood event will not occur during the 100-year interval $P(x=0)$, or we want to know the probability the such an flood event will occur exactly once during the 100-year interval, thus $P(x=1)$, or we want to know the probability that two or more of such flood events occur during the 100-year interval, thus $P(x≥2)$. Plugging these values in the equation from above yields\n",
    "\n",
    "$\\lambda = 1, x = 0,1,2,..,n$\n",
    "\n",
    "$$P(X = 0) = e^{-1}\\frac{1 \\times 0}{0!}, \\qquad \\text{for } x = 0$$\n",
    "\n",
    "$$P(X = 1) = e^{-1}\\frac{1 \\times 1}{1!}, \\qquad \\text{for } x = 1$$\n",
    "\n",
    "$$P(X \\ge 2) = \\sum_{i=2}^n e^{-1}\\frac{1 \\times x_i}{x_i!}, \\qquad \\text{for } x_i = 2,3,...,n$$"
   ]
  },
  {
   "cell_type": "code",
   "execution_count": 47,
   "metadata": {},
   "outputs": [
    {
     "name": "stdout",
     "output_type": "stream",
     "text": [
      "0.36787944117144233\n",
      "0.36787944117144233\n",
      "0.26424111765711533\n"
     ]
    }
   ],
   "source": [
    "#poisson in python\n",
    "\n",
    "from scipy.stats import poisson\n",
    "\n",
    "print(poisson.pmf(0,1))\n",
    "\n",
    "print(poisson.pmf(1,1))\n",
    "\n",
    "print(1 - poisson.cdf(1,1))"
   ]
  },
  {
   "cell_type": "markdown",
   "metadata": {},
   "source": [
    "The results indicate that the probability that no flood $P(X=0)$ of a magnitude corresponding to a $100$ year flood will occur during a period of $100$ years is $0.37$, which is interestingly as likely as the occurrence of exactly one flood $P(X=1)$. The probability that two or more $(P(X≥2))$ of such flood events occur during the 100-year interval is $0.26$, and thus lower. However, please note that the probability that two or more $(P(X≥2))$ of such flood events occur during the $100$-year interval is approximately $26$%!\n",
    "\n",
    "![poisson_flood](poisson_flood.png)"
   ]
  },
  {
   "cell_type": "markdown",
   "metadata": {},
   "source": [
    "**Shape, Mean and Standard Deviation of a Poisson Distribution**\n",
    "\n",
    "All Poisson distributions are **right skewed**. The **mean**, $\\mu$, and the **standard deviation**, $\\sigma$, of a Poisson random variable with parameter $\\lambda$ are \n",
    "\n",
    "$$ \\mu = \\lambda$$\n",
    "\n",
    "and\n",
    "\n",
    "$$\\sigma = \\sqrt{\\lambda}$$.\n",
    "\n",
    "**Poisson Approximation to the Binomial Distribution**\n",
    "\n",
    "For those situations in which $n$ is large and $p$ is very small, the Poisson distribution can be used to approximate the binomial distribution. Recall the binomial probability distribution:\n",
    "\n",
    "$$P(X = x) = {n \\choose x}p^x(1-p)^{n-x}, \\qquad x = 0, 1, 2, . . . , n$$\n",
    "\n",
    "As in the “100 year flood” example above, $n$ is a large number (100) and $p$ is a small number (0.01). Plugging into the equation from above $P(x=1)$ yields\n",
    "\n",
    "\\begin{align}\n",
    "\\ P(X = 1) & = {100 \\choose 1}\\times 0.01^1\\times (1 - 0.01)^{100 -1} \\\\\n",
    " & = 100\\times 0.01\\times 0.3697296  \\\\ \n",
    " & = 0.3697296\n",
    "\\end{align}\n",
    "\n",
    "This result is very close to the result obtained by <mark> poisson.pmf(1,1) </mark>, which is 0.36787944117144233. The appropriate Poisson distribution is the one whose mean is the same as that of the binomial distribution; that is, $\\lambda = np$, which in our example is $\\lambda = 100 \\times 0.01 = 1$.\n",
    "\n",
    "In order to conclude this section, and in order to give you some intuition of the shapes of different Poisson probability distributions, three different Poisson probability and its corresponding cumulative Poisson probability distributions for $\\lambda = 2.5, \\lambda = 7$ and $\\lambda = 12$ are given below.\n",
    "\n",
    "![possion_lambda1](possion_lambda1.png)\n",
    "\n",
    "**Shape, Mean and Standard Deviation of a Poisson Distribution**\n",
    "\n",
    "All Poisson distributions are **right skewed**. The **mean**, $\\mu$, and the **standard deviation**, $\\sigma$, of a Poisson random variable with parameter $\\lambda$ are \n",
    "\n",
    "$$ \\mu = \\lambda$$\n",
    "\n",
    "and\n",
    "\n",
    "$$\\sigma = \\sqrt{\\lambda}$$.\n",
    "\n",
    "**Poisson Approximation to the Binomial Distribution**\n",
    "\n",
    "For those situations in which $n$ is large and $p$ is very small, the Poisson distribution can be used to approximate the binomial distribution. Recall the binomial probability distribution:\n",
    "\n",
    "$$P(X = x) = {n \\choose x}p^x(1-p)^{n-x}, \\qquad x = 0, 1, 2, . . . , n$$\n",
    "\n",
    "As in the “100 year flood” example above, $n$ is a large number (100) and $p$ is a small number (0.01). Plugging into the equation from above $P(x=1)$ yields\n",
    "\n",
    "\\begin{align}\n",
    "\\ P(X = 1) & = {100 \\choose 1}\\times 0.01^1\\times (1 - 0.01)^{100 -1} \\\\\n",
    " & = 100\\times 0.01\\times 0.3697296  \\\\ \n",
    " & = 0.3697296\n",
    "\\end{align}\n",
    "\n",
    "This result is very close to the result obtained by <mark> poisson.pmf(1,1) </mark>, which is 0.36787944117144233. The appropriate Poisson distribution is the one whose mean is the same as that of the binomial distribution; that is, $\\lambda = np$, which in our example is $\\lambda = 100 \\times 0.01 = 1$.\n",
    "\n",
    "In order to conclude this section, and in order to give you some intuition of the shapes of different Poisson probability distributions, three different Poisson probability and its corresponding cumulative Poisson probability distributions for $\\lambda = 2.5, \\lambda = 7$ and $\\lambda = 12$ are given below.\n",
    "\n",
    "![possion_lambda1](possion_lambda1.png)\n",
    "![possion_lambda2](possion_lambda2.png)\n",
    "![possion_lambda3](possion_lambda3.png)\n"
   ]
  },
  {
   "cell_type": "markdown",
   "metadata": {},
   "source": [
    "**Continous Random Variables and Their Probability Distributions**\n",
    "\n",
    "A random variable whose values are not countable is called a **continuous random variable**. A continuous random variable is a random variable that can assume any value contained in one or more intervals. Because the number of values contained in any interval is infinite, the possible number of values that a continuous random variable can assume is also infinite.\n",
    "\n",
    "**Probability Density Functions**\n",
    "\n",
    "The shape of the distribution of a random variable may be visualized with a smooth curve. Such curves, which represent the distribution of continuous variables, are called **probability density functions (PDF)** or just **density functions**. Probability density functions have three main properties\n",
    "\n",
    "1. A PDF plots always on or above the horizontal axis, and\n",
    "\n",
    "2. the total area under a PDF (and above the horizontal axis) equals 1, and thus any value in any interval lies in the range 0 to 1, and\n",
    "\n",
    "3. all possible observations of the variable that lie within any specified range equals the corresponding area under the density function and can be expressed as percentages or proportions.\n",
    "\n",
    "The area under the curve is computed by the integral of the value $x$ from $- \\infty$ to $+ \\infty$, which yields $1$.\n",
    "\n",
    "$$\\int_{-\\infty}^{\\infty} f(x) dx = 1$$\n",
    "\n",
    "![prob_dens_func](prob_dens_func.png)\n",
    "\n",
    "The probability that a continuous random variable x takes a value within a certain interval is given by the area under the curve between the two limits of the interval. The colored area under the curve for the interval $(-\\infty, a]$ and for the interval $[a,\\infty)$ is shown in the figure below.\n",
    "\n",
    "The probability that $x$ falls in the interval $(-\\infty, a]$ is \n",
    "\n",
    "$$P(X \\leq a) = \\int_{-\\infty}^{a} f(x) dx$$\n",
    "\n",
    "and the probability that $x$ falls in the interval $[a, \\infty)$ is\n",
    "\n",
    "$$P(X \\geq a) = \\int_{a}^{\\infty} f(x) dx$$\n",
    "\n",
    "![pdf_left_right_interval](pdf_left_right_interval.png)\n",
    "\n",
    "The probability that a continuous random variable $x$ assumes a value within a certain interval is given by the area under the curve between the two limits of the interval. The colored area under the curve from $a$ to $b$ in the figure below gives the probability that $x$ falls in the interval $[a,b]$.\n",
    "\n",
    "![pdf_interval](pdf_interval.png)\n",
    "\n",
    "\\begin{align}\n",
    "P(a \\le x \\le b) & = \\int_{a}^{b}f(x)dx\\\\\n",
    " & = P(x \\le b) - P(x \\le a)  \\\\\n",
    " & = \\int_{-\\infty}^{b}f(x)dx - \\int_{-\\infty}^{a}f(x)dx \n",
    "\\end{align}\n",
    "\n",
    "Note that the interval $a\\leq x \\leq b$ states that $x$ is greater than or equal to $a$ but less than or equal to $b$.\n",
    "\n",
    "\n",
    "For a continuous probability distribution, the probability is always calculated for an interval. The probability that a continuous random variable $x$ assumes a single value is always zero. This is because, the probability to pick exactly one value out of an infinite number of value $\\in \\mathbb{R}$ is zero. In a geometric sense this means that the area of a line, which represents a single point, is zero.\n",
    "\n",
    "$$P(x)=0$$\n",
    "\n",
    "From this we can deduce that for a continuous random variable\n",
    "\n",
    "$$P(a \\leq x \\leq b) = P(a < x <b)$$\n",
    "\n",
    "In other words, the probability that $x$ assumes a value in the interval $a$ to $b$ is the same whether or not the values $a$ and $b$ are included in the interval."
   ]
  },
  {
   "cell_type": "markdown",
   "metadata": {},
   "source": [
    "**The Normal Distribution**\n",
    "\n",
    "The **normal distribution** is used extensively in probability theory, statistics, and the natural and social sciences. It is also called the **Gaussian distribution**.\n",
    "\n",
    "The **normal probability distribution** or the **normal curve** is a bell-shaped (symmetric) curve. Its mean is denoted by $\\mu$ and its standard deviation by $\\sigma$. A continuous random variable $X$ that has a normal distribution is called a **normal random variable**.\n",
    "\n",
    "The notation for a normal distribution is $X \\sim N(\\mu, \\sigma)$. The probability density function (PDF) is written as \n",
    "\n",
    "$$f(x) = \\frac{1}{\\sigma \\sqrt{2 \\pi}} e^{- \\frac{1}{2} \\cdot (\\frac{x- \\mu}{\\sigma})^2}.$$\n",
    "\n",
    "The normal distribution is described by two parameters, the mean $\\mu$, and the standard deviation, $\\sigma$. Each different set of values of $\\mu$ and $\\sigma$ gives a different normal distribution. The value of $\\mu$ determines the center of a normal distribution cuve on the horizontal axis, and the value of $\\sigma$ gives the spread of the normal distribution curve.\n",
    "\n",
    "![normal_diff_mean](normal_diff_mean.png)\n",
    "![normal_diff_std](normal_diff_std.png)\n",
    "\n",
    "A normal distribution is characterized, among others, by the following characteristics\n",
    "\n",
    "1. The total area under a normal distribution curve is 1.0, or 100%.\n",
    "\n",
    "2. A normal distribution curve is symmetric about the mean. Consequently, 50% of the total area under a normal distribution curve lies on the left side of the mean, and 50% lies on the right side of the mean.\n",
    "\n",
    "3. The tails of a normal distribution curve extend indefinitely in both directions without touching or crossing the horizontal axis. Although a normal distribution curve never meets the horizontal axis, beyond the points represented by $\\mu - 3 \\sigma$ and $\\mu + 3\\sigma$ it becomes so close to this axis that the area under the curve beyond these points in both directions can be taken as virtually zero.\n",
    "\n",
    "![pdf_normal_detail](pdf_normal_detail.png)"
   ]
  },
  {
   "cell_type": "markdown",
   "metadata": {},
   "source": [
    "**The Standard Normal distribution**\n",
    "\n",
    "The standard normal distribution is a special case of the normal distribution. For the standard normal distribution, the value of the mean is equal to zero $(\\mu = 0)$, and the value of the standard deviation is equal to $1$ ($\\sigma=1$).\n",
    "\n",
    "Thus, by plugin $\\mu = 0$ and $\\sigma = 1$ in the PDF of the normal distribution, the equation simplifies to \n",
    "\n",
    "\\begin{align}\n",
    "f(x)& = \\frac{1}{\\sigma \\sqrt{2 \\pi}}e^{-\\frac{1}{2}\\left(\\frac{x-\\mu}{\\sigma}\\right)^2} \\\\\n",
    " & =\\frac{1}{1 \\times  \\sqrt{2 \\pi}}e^{-\\frac{1}{2}\\left(\\frac{x-0}{1}\\right)^2} \\\\\n",
    " & = \\frac{1}{\\sqrt{2\\pi}}e^{-\\frac{1}{2}x^2} \n",
    "\\end{align}\n",
    "\n",
    "The random variable that possesses the standard normal distribution is denoted by $z$. Consequently units for the standard normal distribution curve are denoted by $z$ and are called the $z$-**values** or **$z$-scores**. They are also called **standard units** or **standard scores**.\n",
    "\n",
    "The **cumulative distribution function (CDF)** of the standard normal distribution, corresponding to the area under the curve for the interval $(-\\infty, z]$, usually denoted by $\\phi$, is given by \n",
    "\n",
    "$$F(x<z) = \\phi (z) = \\frac{1}{\\sqrt{2\\pi}} \\int_{-\\infty}^{z}e^{-\\frac{1}{2}x^2}dx$$\n",
    "\n",
    "**Basic Properties of the Standard Normal Curve**\n",
    "\n",
    "The standard normal curve is a special case of the normal distribution, and thus as well a probability distribution curve. Therefore basic properties of the normal distribution hold true for the standard normal curve as well.\n",
    "\n",
    "1. The total area under the standard normal curve is 1 (this property is shared by all density curves).\n",
    "\n",
    "2. The standard normal curve extends indefinitely in both directions, approaching, but never touching, the horizontal axis as it does so.\n",
    "\n",
    "3. The standard normal curve is is bell shaped, is centered at $z=0$. Almost all the area under the standard normal curve lies between $z=−3$ and $z=3$.\n",
    "\n",
    "![pdf_standard_normal](pdf_standard_normal.png)\n",
    "\n",
    "The $z$-values on the right side of the mean are positive and those on the left side are negative. The $z$-value for a point on the horizontal axis gives the distance between the mean ($z=0$) and that point in terms of standard deviation. For example, a point with value of $z=2$ is two standard deviations to the right of the mean. Similarly, a point with value of $z=-2$ is two standard deviations to the left of the mean.\n",
    "\n",
    "![cdf_standard_normal](cdf_standard_normal.png)\n",
    "\n",
    "Let's confirm the **Empirical Rule**, also known as the **68-95-99.7 rule**, which relates to the **Chebyshev's theorem**. For a bell-shaped distribution the $3$ rules are, that approximately \n",
    "\n",
    "- 68% of the observations lie within one standard deviation of the mean,\n",
    "\n",
    "- 95% of the observations lie within two standard deviations of the mean, and\n",
    "\n",
    "- 99.7% of the observations lie within three standard deviations of the mean.\n"
   ]
  },
  {
   "cell_type": "code",
   "execution_count": 51,
   "metadata": {},
   "outputs": [
    {
     "name": "stdout",
     "output_type": "stream",
     "text": [
      "0.6826894921370859\n",
      "0.9544997361036416\n",
      "0.9973002039367398\n"
     ]
    }
   ],
   "source": [
    "from scipy.stats import norm\n",
    "\n",
    "print(norm.cdf(1,0,1) - norm.cdf(-1,0,1))\n",
    "print(norm.cdf(2,0,1) - norm.cdf(-2,0,1))\n",
    "print(norm.cdf(3,0,1) - norm.cdf(-3,0,1))"
   ]
  },
  {
   "cell_type": "markdown",
   "metadata": {},
   "source": [
    "![emp_rule_1](emp_rule_1.png)\n",
    "![emp_rule_2](emp_rule_2.png)\n",
    "![emp_rule_3](emp_rule_3.png)"
   ]
  },
  {
   "cell_type": "markdown",
   "metadata": {},
   "source": [
    "**Determining the z-Value when the Area under the Normal Distribution Curve is known**"
   ]
  },
  {
   "cell_type": "markdown",
   "metadata": {},
   "source": [
    "So far, we have used $z$-scores to calculate the area under the curve.Now we do it the other way around. We calculate $z$-score(s) corresponding to a specified are under the standard normal curve. Finding the $z$-score that has a specified area is so frequently used that there is a special notation. The symbol $z_{\\alpha}$ is used to denote the $z$-score that has an area of $\\alpha$ to its right under the standard normal curve.\n",
    "\n",
    "Let us find $z_{0.05}$, the $z$-score that has an area of $0.05$ to its right under the standard normal curve. The value of $\\alpha$ corresponds to the probability of obtaining a particular value corresponding to the interval $[z,\\infty)$. Because the area to its right is $0.05$. The area to its left is $1-0.05 = 0.95$, corresponding to the interval $(-\\infty, z)$.\n",
    "\n",
    "![z_score](z_score.png)"
   ]
  },
  {
   "cell_type": "code",
   "execution_count": 54,
   "metadata": {},
   "outputs": [
    {
     "name": "stdout",
     "output_type": "stream",
     "text": [
      "1.6448536269514722\n",
      "-1.6448536269514729\n"
     ]
    }
   ],
   "source": [
    "# z-score in python\n",
    "\n",
    "from scipy.stats import norm\n",
    "\n",
    "print(norm.ppf(0.95))\n",
    "\n",
    "print(norm.ppf(0.05))"
   ]
  },
  {
   "cell_type": "markdown",
   "metadata": {},
   "source": [
    "As the standard normal distribution is symmetric we get twice the same number, but with a different sign. This means that a $z$-value of approximately $1.64$. $95$% of values are left to $z_{0.05}$ and $5$% of all values on the right side of it. In contrast for a $z$-value of approximately $-1.64$, $5$% of all values are left to $z_{0.05}$ and $95$% of all values on the right side of it. If we combine these we get the interval $z \\in [-1.64,1.64]$, which covers $90$% of all values.\n",
    "\n",
    "![90_perc_interval_z_score](90_perc_interval_z_score.png)"
   ]
  },
  {
   "cell_type": "markdown",
   "metadata": {},
   "source": [
    "**Standardizing a Normally Distributed Variable**\n",
    "\n",
    "Before we can apply the concept of a standard normal distribution to a real data set we need to discuss the concept of standardization of a normal distribution. We know that a normal distribution is parametrized by two parameters, its mean $\\mu \\in  \\mathbb{R}$ and its standard deviation $\\sigma \\in \\mathbb{R} > 0, X \\sim N(\\mu,\\sigma)$. The actual value of these parameters depends on the population and the metrics used to describe its features. In order to transform any particular $\\mu$ and $\\sigma$, related to a particular random variable $X$, to $\\mu = 0$ and $\\sigma=1$, we have to convert the $x$-value to a $z$-value, by applying the equation below.\n",
    "\n",
    "$$z = \\frac{x-\\mu}{\\sigma}$$\n",
    "\n",
    "As a result we get a standard normal distribution for any particular normal distribution.\n",
    "\n",
    "![standardizing](standardizing.png)"
   ]
  },
  {
   "cell_type": "markdown",
   "metadata": {},
   "source": [
    "**The Standard Normal Distribution: An Example in Python**\n",
    "\n",
    "Let us load the student's data set"
   ]
  },
  {
   "cell_type": "code",
   "execution_count": 64,
   "metadata": {},
   "outputs": [
    {
     "data": {
      "image/png": "[encoded data removed]",
      "text/plain": [
       "<Figure size 482.4x307.44 with 1 Axes>"
      ]
     },
     "metadata": {},
     "output_type": "display_data"
    }
   ],
   "source": [
    "import pandas as pd\n",
    "import seaborn as sns\n",
    "import matplotlib.pyplot as plt\n",
    "\n",
    "sns.set(rc={'figure.figsize':(6.7,4.27)})\n",
    "\n",
    "students_df = pd.read_csv(\"https://userpage.fu-berlin.de/soga/200/2010_data_sets/students.csv\")\n",
    "\n",
    "\n",
    "sns.distplot(students_df['height'], bins= 11, kde = False, color='green')\n",
    "\n",
    "pass\n"
   ]
  },
  {
   "cell_type": "markdown",
   "metadata": {},
   "source": [
    "By inspecting the plot we may conclude that the <mark> height </mark> variable is normally distributed, however, especially for small samples, ascertaining a clear shape in a histogram and, in particular, whether it is bell shaped is often difficult. Thus, a more sensitive graphical technique is required for assessing normality. **Normal probability plots** provide such a technique. The idea behind a normal probability plot is simple: compare the observed values of the variable to the observations expected for a normally distributed variable. More precisely, a normal probability plot is a plot of the observed values of the variable versus the normal scores of the observations expected for a variable having the standard normal distribution. If the variable is normally distributed, the normal probability plot should be roughly linear (i.e., fall roughly on a straight line).\n",
    "\n",
    "When using a normal probability plot to assess the normality of a variable, we must remember two things:\n",
    "\n",
    "1. The decision of whether a normal probability plot is roughly linear is a subjective one, and\n",
    "\n",
    "2. that we are using only a limited number of observations of that particular variable to make a judgement about all possible observations of the variable."
   ]
  },
  {
   "cell_type": "code",
   "execution_count": 69,
   "metadata": {},
   "outputs": [
    {
     "data": {
      "image/png": "[encoded data removed]",
      "text/plain": [
       "<Figure size 698.4x307.44 with 1 Axes>"
      ]
     },
     "metadata": {},
     "output_type": "display_data"
    }
   ],
   "source": [
    "# Q-Q plots in python\n",
    "\n",
    "import numpy as np\n",
    "import statsmodels.api as sm\n",
    "import pylab\n",
    "\n",
    "sns.set(rc={'figure.figsize':(9.7,4.27)})\n",
    "\n",
    "students_df = pd.read_csv(\"https://userpage.fu-berlin.de/soga/200/2010_data_sets/students.csv\")\n",
    "\n",
    "sm.qqplot(students_df['height'], line='q')\n",
    "\n",
    "pylab.show()\n",
    "\n",
    "pass"
   ]
  },
  {
   "cell_type": "markdown",
   "metadata": {},
   "source": [
    "By inspecting the plot we see that there is some divergence for the sample quantiles compared to the theoretic quantiles at the lower and upper tails. This fact needs a little more attention! What might be the reason for the departure at the upper and lower tail of the distribution? Any guess?\n",
    "\n",
    "What about gender? Honestly, it seems natural that the mean height for males and females differs. Let us plot a histogram of the height of males and females."
   ]
  },
  {
   "cell_type": "code",
   "execution_count": 82,
   "metadata": {},
   "outputs": [
    {
     "data": {
      "image/png": "[encoded data removed]",
      "text/plain": [
       "<Figure size 698.4x307.44 with 1 Axes>"
      ]
     },
     "metadata": {},
     "output_type": "display_data"
    }
   ],
   "source": [
    "import numpy as np\n",
    "import seaborn as sns\n",
    "\n",
    "sns.set(rc={'figure.figsize':(9.7,4.27)})\n",
    "\n",
    "students_df = pd.read_csv(\"https://userpage.fu-berlin.de/soga/200/2010_data_sets/students.csv\")\n",
    "\n",
    "male_cond = students_df['gender'] == 'Male'\n",
    "female_cond = students_df['gender'] == 'Female'\n",
    "\n",
    "male_height = students_df[male_cond]['height']\n",
    "female_height = students_df[female_cond]['height']\n",
    "\n",
    "sns.distplot(male_height, kde=False)\n",
    "sns.distplot(female_height, kde = False)\n",
    "\n",
    "pass"
   ]
  },
  {
   "cell_type": "markdown",
   "metadata": {},
   "source": [
    "There it is! The two groups have different means, and thus, putting them together into one group causes the left and right tails of the resulting distribution to extend further, than expected for a normally distributed variable. In order to continue, we thus take only the height of female students into consideration. For matter of clarity we once again plot the normally probability plot of the height variable to assure that our target variables are normally distributed."
   ]
  },
  {
   "cell_type": "code",
   "execution_count": 83,
   "metadata": {},
   "outputs": [
    {
     "data": {
      "image/png": "[encoded data removed]",
      "text/plain": [
       "<Figure size 698.4x307.44 with 1 Axes>"
      ]
     },
     "metadata": {},
     "output_type": "display_data"
    }
   ],
   "source": [
    "# Q-Q plots female students\n",
    "\n",
    "import numpy as np\n",
    "import statsmodels.api as sm\n",
    "import pylab\n",
    "\n",
    "sns.set(rc={'figure.figsize':(9.7,4.27)})\n",
    "\n",
    "students_df = pd.read_csv(\"https://userpage.fu-berlin.de/soga/200/2010_data_sets/students.csv\")\n",
    "\n",
    "female_height = students_df[students_df['gender'] == 'Female']['height']\n",
    "\n",
    "sm.qqplot(female_height, line='q')\n",
    "\n",
    "pylab.show()\n",
    "\n",
    "pass"
   ]
  },
  {
   "cell_type": "markdown",
   "metadata": {},
   "source": [
    "Before we actually start with the exercises we first calculate the mean, $\\bar{x}$, and the standard deviation, $s$, of the target variable. Moreover, we standardize the variable to get a standard normal distribution with $\\bar{x} = 0$ and $s=1$ and assign it to the appropriate variable name."
   ]
  },
  {
   "cell_type": "code",
   "execution_count": 85,
   "metadata": {},
   "outputs": [
    {
     "name": "stdout",
     "output_type": "stream",
     "text": [
      "163.65328467153284 7.919725792052591\n"
     ]
    }
   ],
   "source": [
    "import pandas as pd\n",
    "\n",
    "students_df = pd.read_csv(\"https://userpage.fu-berlin.de/soga/200/2010_data_sets/students.csv\")\n",
    "\n",
    "female_height = students_df[students_df['gender'] == 'Female']['height']\n",
    "\n",
    "mean_height = female_height.mean()\n",
    "\n",
    "std_height = female_height.std()\n",
    "\n",
    "print(mean_height, std_height)"
   ]
  },
  {
   "cell_type": "markdown",
   "metadata": {},
   "source": [
    "The height variable has a mean of $163.7$ cm and a standard deviation of $7.9$ cm.\n",
    "\n",
    "**Finding the area to the left of a specified $z$-score or $x$-score**\n",
    "\n",
    "**Question 1**\n",
    "\n",
    "What is the probability of a randomly picked female student from the <mark> student </mark> data set with a height less or equal to $168$ cm. Thus we are looking for $P(x\\leq 168)$.\n",
    "\n",
    "First, we calculate the probability for the standardized variable. Therefore, we have to transform our value of interest ($168$ cm) into a $z$-score.\n",
    "\n",
    "$$z = \\frac{x - \\mu}{\\sigma} = \\frac{168-163.7}{7.9} = 0.55$$\n",
    "\n",
    "Then we have to calcuate the area under the curve left to the obtained $z$-value."
   ]
  },
  {
   "cell_type": "code",
   "execution_count": 88,
   "metadata": {},
   "outputs": [
    {
     "data": {
      "text/plain": [
       "0.7084446690628331"
      ]
     },
     "execution_count": 88,
     "metadata": {},
     "output_type": "execute_result"
    }
   ],
   "source": [
    "from scipy.stats import norm\n",
    "\n",
    "norm.cdf((168-mean_height) / std_height)"
   ]
  },
  {
   "cell_type": "markdown",
   "metadata": {},
   "source": [
    "So we have a result: $P(z\\leq 0.55) \\approx 0.71$"
   ]
  },
  {
   "cell_type": "markdown",
   "metadata": {},
   "source": [
    "Now we do the same calculation, however we skip the step of standardization."
   ]
  },
  {
   "cell_type": "code",
   "execution_count": 87,
   "metadata": {},
   "outputs": [
    {
     "data": {
      "text/plain": [
       "0.7084446690628331"
      ]
     },
     "execution_count": 87,
     "metadata": {},
     "output_type": "execute_result"
    }
   ],
   "source": [
    "from scipy.stats import norm\n",
    "\n",
    "norm.cdf(168, loc=mean_height, scale=std_height)"
   ]
  },
  {
   "cell_type": "markdown",
   "metadata": {},
   "source": [
    "The numbers match: $P(x \\leq 168) \\approx 0.71$. To make sure we realize what is going on, both the area under the curve for the standardized variable in $z$-values as well as well as for the non-standardized variable in cm are visualized below.\n",
    "\n",
    "![height_z_score](height_z_score.png)"
   ]
  },
  {
   "cell_type": "markdown",
   "metadata": {},
   "source": [
    "**Finding the area to the right of a specified $x$-score**\n",
    "\n",
    "**Question 2**\n",
    "\n",
    "What is the probability of a randomly picked female student from the *students* data set with a height higher or equal to $185$ cm. Thus, we are looking for $P(x \\geq 175)$."
   ]
  },
  {
   "cell_type": "code",
   "execution_count": 90,
   "metadata": {},
   "outputs": [
    {
     "data": {
      "text/plain": [
       "0.07596955321864995"
      ]
     },
     "execution_count": 90,
     "metadata": {},
     "output_type": "execute_result"
    }
   ],
   "source": [
    "1-norm.cdf(175,loc=mean_height,scale=std_height)"
   ]
  },
  {
   "cell_type": "markdown",
   "metadata": {},
   "source": [
    "**Finding the area between two specified $x$-scores**\n",
    "\n",
    "In order to find the area under a curve for an interval $[a,b]$ we make use of the equation\n",
    "\n",
    "$$P(a \\le x \\le b)  = \\int_{a}^{b}f(x)dx = P(x \\le b) - P(x \\le a)$$\n",
    "\n",
    "**Question 3**\n",
    "\n",
    "What is the probability of a randomly picked female student from the *student* data set with a height between $155$ and $165$ cm, $P(155 \\leq x \\leq 165)$"
   ]
  },
  {
   "cell_type": "code",
   "execution_count": 92,
   "metadata": {},
   "outputs": [
    {
     "data": {
      "text/plain": [
       "0.4302335028797313"
      ]
     },
     "execution_count": 92,
     "metadata": {},
     "output_type": "execute_result"
    }
   ],
   "source": [
    "x_lower = 155\n",
    "x_upper = 165\n",
    "\n",
    "lower= norm.cdf(x_lower, loc=mean_height,scale=std_height)\n",
    "upper = norm.cdf(x_upper,loc=mean_height,scale=std_height)\n",
    "\n",
    "upper-lower"
   ]
  },
  {
   "cell_type": "markdown",
   "metadata": {},
   "source": [
    "Answer: $P(155 \\le x \\le 165) \\approx 0.43$"
   ]
  },
  {
   "cell_type": "markdown",
   "metadata": {},
   "source": [
    "**Question 4**\n",
    "\n",
    "We want to know the height of female students in our *students* data set that corresponds to a probability of $0.60$? Or in other words, if we randomly pick a number of $n$ students of the *students* data set, what height divides the sample in $60$% of $n$ students being lower and $40$% of $n$ students being heigher than that particular height. Thus, we are looking for $P(X < ?) = 0.60$\n",
    "\n",
    "We first use the standardization approach. For this approach we need to rearrange the equation for standardization from above and solve it for $x$.\n",
    "\n",
    "$$z = \\frac{x- \\mu}{\\sigma} \\implies x = z\\sigma + \\mu$$.\n",
    "\n",
    "\\begin{align}\n",
    "x & = z \\sigma + \\mu \\\\\n",
    " & = 0.25 \\times 7.9 + 163.7 \\\\\n",
    " & \\approx 165.66 \n",
    "\\end{align}\n",
    "\n",
    "So $P(X < 165.66) = 0.60$."
   ]
  },
  {
   "cell_type": "code",
   "execution_count": 95,
   "metadata": {},
   "outputs": [
    {
     "data": {
      "text/plain": [
       "165.65972425857925"
      ]
     },
     "execution_count": 95,
     "metadata": {},
     "output_type": "execute_result"
    }
   ],
   "source": [
    "# second approach\n",
    "\n",
    "norm.ppf(0.6, loc=mean_height,scale=std_height)"
   ]
  },
  {
   "cell_type": "markdown",
   "metadata": {},
   "source": [
    "The numbers match!"
   ]
  },
  {
   "cell_type": "markdown",
   "metadata": {},
   "source": [
    "**The Continuous Uniform Distribution**\n",
    "\n",
    "**The Students $t$-Distribution**\n",
    "\n",
    "**The Chi-Square Distribution**\n",
    "\n",
    "**The $F$-Distribution**"
   ]
  },
  {
   "cell_type": "markdown",
   "metadata": {},
   "source": [
    "**The Central Limit Theorem**\n",
    "\n",
    "The **central limit theorem** is one of the most useful concepts in statistics. The theorem is all about about drawing samples of a finite size $n$ from a population. The  theorem states that  if one collects samples of a large enough sample size $n$, and calculates each sample's mean (or sum), the shape of the histogram of those means (or sums) approximate a normal bell shape. The usefulness of the central limit theorem is due to the fact, that it **it does not matter what the distribution of the original population is, the distribution of sample means and the sums tend to follow the normal distribution.**\n",
    "\n",
    "**The Population Distribution**\n",
    "\n",
    "The **population distribution** is the probability distribution derived from the knowledge of all elements of a population. We know that depending on the population of interest the random variable of interest may be a discrete variable, is to say a variable that, at least in principle is countable, or the random variable of interest may be a continuous variable, and thus a variable that can take any value within a given interval. Both, the discrete and the continuous probability distribution may be described by statistical parameters, such as the mean, the standard deviation, the median, the mode, among others. These parameters describing the population are, however, **always constant**, because the population is the set of all elements and thus population statistics do not change. For example, for any population data set, there is **only one value** of the population mean, **one value** for the standard deviation and so on.\n",
    "\n",
    "**Population Statistics and Sample Statistics**\n",
    "\n",
    "Let us consider a simple example of a small discrete population consisting of the first ten integers $\\{1,2,3,4,5,6,7,8,9,10 \\}$. "
   ]
  },
  {
   "cell_type": "code",
   "execution_count": 102,
   "metadata": {},
   "outputs": [
    {
     "name": "stdout",
     "output_type": "stream",
     "text": [
      "5.5 3.0276503540974917\n"
     ]
    }
   ],
   "source": [
    "import numpy as np\n",
    "\n",
    "population  = [1,2,3,4,5,6,7,8,9,10]\n",
    "\n",
    "mean = np.mean(population)\n",
    "\n",
    "std = np.std(population, ddof=1)\n",
    "\n",
    "print(mean, std)"
   ]
  },
  {
   "cell_type": "markdown",
   "metadata": {},
   "source": [
    "The population mean, denoted by $\\mu$ and the population standard deviation, denoted by $\\sigma$ is $5.5$ and approximately $3.028$, respectively. It is important to realize, that these parameters, the population parameters will not change! They are fixed.\n",
    "\n",
    "Let us now take a random sample without replacement of size $n=3$ from this population."
   ]
  },
  {
   "cell_type": "code",
   "execution_count": 105,
   "metadata": {},
   "outputs": [
    {
     "data": {
      "text/plain": [
       "array([ 5,  8, 10])"
      ]
     },
     "execution_count": 105,
     "metadata": {},
     "output_type": "execute_result"
    }
   ],
   "source": [
    "my_sample = np.random.choice(population, size = 3, replace=False)\n",
    "\n",
    "my_sample"
   ]
  },
  {
   "cell_type": "markdown",
   "metadata": {},
   "source": [
    "Now we caculate the mean and the standard deviation of the given sample. However, this time, as we refer to a particular sample, we call the statistical parameter **sample statistic** or if we relate to the distribution of values (elements) **sample distribution**. To make this more explicit, the sample mean is denominated as $\\bar{x}$ and the sample standard deviation as $s$."
   ]
  },
  {
   "cell_type": "code",
   "execution_count": 108,
   "metadata": {},
   "outputs": [
    {
     "name": "stdout",
     "output_type": "stream",
     "text": [
      "7.666666666666667 2.0548046676563256\n"
     ]
    }
   ],
   "source": [
    "x_bar = np.mean(my_sample)\n",
    "\n",
    "s_x = np.std(my_sample)\n",
    "\n",
    "print(x_bar, s_x)"
   ]
  },
  {
   "cell_type": "markdown",
   "metadata": {},
   "source": [
    "Note that depending on the actual elements in the sample, the sample statistic will change from sample to sample.\n",
    "\n",
    "**The Sampling Error**\n",
    "\n",
    "Let us repeat the sampling process from the previous section for $5$ times, store the results in the variable <mark> my_experiment </mark> and in addition print out the mean, $\\bar{x}$ for each particular sample."
   ]
  },
  {
   "cell_type": "code",
   "execution_count": 113,
   "metadata": {},
   "outputs": [
    {
     "name": "stdout",
     "output_type": "stream",
     "text": [
      "Sample number 1 has a mean of 7.666666666666667\n",
      "Sample number 2 has a mean of 5.333333333333333\n",
      "Sample number 3 has a mean of 5.666666666666667\n",
      "Sample number 4 has a mean of 5.333333333333333\n",
      "Sample number 5 has a mean of 4.333333333333333\n"
     ]
    },
    {
     "data": {
      "text/plain": [
       "[7.666666666666667,\n",
       " 5.333333333333333,\n",
       " 5.666666666666667,\n",
       " 5.333333333333333,\n",
       " 4.333333333333333]"
      ]
     },
     "execution_count": 113,
     "metadata": {},
     "output_type": "execute_result"
    }
   ],
   "source": [
    "import numpy as np\n",
    "\n",
    "population  = [1,2,3,4,5,6,7,8,9,10]\n",
    "\n",
    "my_experiment = []\n",
    "\n",
    "for i in range(1,6):\n",
    "    my_sample = np.random.choice(population, size=3)\n",
    "    mean= np.mean(my_sample)\n",
    "    my_experiment.append(mean)\n",
    "    print('Sample number {0} has a mean of {1}'.format(i, mean))"
   ]
  },
  {
   "cell_type": "markdown",
   "metadata": {},
   "source": [
    "Obviously, different sample (of the same length) selected from the same population yield different sample statistics because they contain different elements. Moreover, any sample statistics obtained from any sample, such as the sample mean $\\bar{x}$, will be different from the result obtained from the corresponding population, the population mean, $\\mu$. The difference between the value of a sample statistic obtained from a sample and the value of the corresponding population parameter obtained from the population is called the **sampling error**. In the case of the mean, the sampling error can be written as\n",
    "\n",
    "$$ \\text{Sampling error} = \\bar{x} - \\mu$$\n",
    "\n",
    "Due to the nature of random sampling, and thus due to the process of drawing a set of values from the population, the resulting sampling error occurs due to chance, or in other words, the sampling error is a a random variable. However, one should note that besides the described randomness there are other sources of error. These errors are often related to the data generation process and are subsumed under the term non-sampling error. Such errors are introduced by for example human handling of the data, calibration errors of the measuring devices, among others.\n",
    "\n",
    "In order to gain some intuition on the nature of the sampling error we conduct an experiment. For this experiment the population of interest consists of the first $100$ integers $\\{1,2,3,\\dots,100 \\}$. We want to analyse the effect of the sample size, $n$, on the sampling error. For the sake of simplicity we choose the sample mean as the statistic of interest. For a sufficient large number of trials (<mark> trials = 1000 </mark>) we calculate the sampling error for samples of size $n=10,25,50,75$."
   ]
  },
  {
   "cell_type": "code",
   "execution_count": 120,
   "metadata": {},
   "outputs": [
    {
     "name": "stdout",
     "output_type": "stream",
     "text": [
      "Sampling Error, n=10:  7.3251\n",
      "Sampling Error, n=25:  4.5958000000000006\n",
      "Sampling Error, n=50:  3.2438200000000004\n",
      "Sampling Error, n=100:  2.26771\n"
     ]
    }
   ],
   "source": [
    "import numpy as np\n",
    "\n",
    "population = list(range(1,101))\n",
    "\n",
    "mean_pop = np.mean(population)\n",
    "\n",
    "error_sample_10 = []\n",
    "error_sample_25 = []\n",
    "error_sample_50 = []\n",
    "error_sample_100 = []\n",
    "\n",
    "# we do 1000 trials\n",
    "for i in range(1,1001):\n",
    "    my_sample_10 = np.random.choice(population, size=10)\n",
    "    my_sample_25 = np.random.choice(population, size=25)\n",
    "    my_sample_50 = np.random.choice(population, size=50)\n",
    "    my_sample_100 = np.random.choice(population, size=100)\n",
    "    \n",
    "    mean_10 = np.mean(my_sample_10)\n",
    "    mean_25 = np.mean(my_sample_25)\n",
    "    mean_50 = np.mean(my_sample_50)\n",
    "    mean_100 = np.mean(my_sample_100)\n",
    "    \n",
    "    error_sample_10.append(abs(mean_10- mean_pop))\n",
    "    error_sample_25.append(abs(mean_25- mean_pop))\n",
    "    error_sample_50.append(abs(mean_50- mean_pop))\n",
    "    error_sample_100.append(abs(mean_100- mean_pop))\n",
    "    \n",
    "print('Sampling Error, n=10: ', np.mean(error_sample_10))\n",
    "print('Sampling Error, n=25: ', np.mean(error_sample_25))\n",
    "print('Sampling Error, n=50: ', np.mean(error_sample_50))\n",
    "print('Sampling Error, n=100: ', np.mean(error_sample_100))"
   ]
  },
  {
   "cell_type": "markdown",
   "metadata": {},
   "source": [
    "Based on the experiment from above, we may conclude, that the large the sample size, the smaller is the sampling error. Or in other words, by increasing the sample size the sample mean, $\\bar{x}$ approximate the population mean, $\\mu$. This is an important insight, which will be discussed in more details in the section of *Inferential Statistics*."
   ]
  },
  {
   "cell_type": "markdown",
   "metadata": {},
   "source": [
    "**The Sampling Distribution**\n",
    "\n",
    "Based upon our intuition of randomness in the sampling process, we introduce the **Sampling Distribution**. The sampling distribution is a distribution of a sample statistic. Often the name of the computed statistic is added as part of the title. For example, if the computed statistic was the sample mean, the sampling distribution would be titled **the sampling distribution of the sample mean**.\n",
    "\n",
    "Let us recall the simple example from the previous section, where the population is represented by the first $100$ integers $\\{1,2,3,\\dots,100 \\}$. If we repeatedly sample from that population and compute each time the sample statistic (e.g. $\\bar{x}$ or $s$,...), **the resulting distribution of sample statistics is a called the sampling distribution of that statistic**.\n",
    "\n",
    "Let us take repeatedly random samples $(x)$ without replacement of size $n=30$ from the population.\n",
    "\n",
    "The random sampling might generate sets that look like\n",
    "\n",
    "$$\\{19, 79, 33, 38, 14, 67, 7, 9, 12, 27, 4, 89, 34, 77, 78, 32, 65, 10, 84, 64, 90, 55, 88, 56, 11, 80, 15, 5, 91, 54\\}$$\n",
    "\n",
    "or \n",
    "\n",
    "$$\\{43, 52, 56, 8, 65, 60, 46, 15, 64, 19, 82, 91, 88, 1, 5, 9, 4, 92, 67, 36, 72, 31, 50, 96, 87, 6, 93, 84, 78, 16\\}$$\n",
    "\n",
    "...\n",
    "\n",
    "For each sample we calculate a sample statistic. In this example we take the mean, $\\bar$, of each sample. However, please note that the sample statistic could be any descriptive statistic, such as the median, the standard deviation, a proportion, among others. Once we obtained the sample means for all samples. we list all their different values and number of their occurrences (frequencies) in order to obtain relative frequencies or **empirical probabilities**."
   ]
  },
  {
   "cell_type": "code",
   "execution_count": 177,
   "metadata": {},
   "outputs": [
    {
     "data": {
      "image/png": "[encoded data removed]",
      "text/plain": [
       "<Figure size 720x936 with 6 Axes>"
      ]
     },
     "metadata": {},
     "output_type": "display_data"
    }
   ],
   "source": [
    "import numpy as np\n",
    "\n",
    "population = list(range(1,101))\n",
    "\n",
    "mean_pop = np.mean(population)\n",
    "\n",
    "num_samples = [1,10,100,500,1000,3000]\n",
    "\n",
    "my_sample = [[],[],[],[],[],[]]\n",
    "\n",
    "for i in range(0,6):   \n",
    "    for j in range(1, num_samples[i] + 1):\n",
    "        sample = np.random.choice(population, size=25)\n",
    "        mean_sample = np.mean(sample)\n",
    "        my_sample[i].append(mean_sample)\n",
    "    \n",
    "    \n",
    "import seaborn as sns\n",
    "import matplotlib.pyplot as plt\n",
    "\n",
    "sns.set(rc={'figure.figsize':(10,13)})\n",
    "    \n",
    "fig, axs = plt.subplots(3,2)\n",
    "axs[0,0].set_yticklabels('')\n",
    "axs[0,1].set_yticklabels('')\n",
    "axs[1,0].set_yticklabels('')\n",
    "axs[1,1].set_yticklabels('')\n",
    "axs[2,0].set_yticklabels('')\n",
    "axs[2,1].set_yticklabels('')\n",
    "sns.distplot(my_sample[0], ax=axs[0,0])\n",
    "axs[0,0].set_title('1 random samples')\n",
    "axs[0,0].set_xlim(30,70)\n",
    "sns.distplot(my_sample[1], ax=axs[0,1],kde=True, kde_kws={'alpha':0.0})\n",
    "axs[0,1].set_title('10 random samples')\n",
    "axs[0,1].set_xlim(30,70)\n",
    "sns.distplot(my_sample[2], ax=axs[1,0], kde=True, kde_kws={'alpha':0.0})\n",
    "axs[1,0].set_title('100 random samples')\n",
    "axs[1,0].set_xlim(30,70)\n",
    "sns.distplot(my_sample[3], ax=axs[1,1], kde=True, kde_kws={'alpha':0.0})\n",
    "axs[1,1].set_title('500 random samples')\n",
    "axs[1,1].set_xlim(30,70)\n",
    "sns.distplot(my_sample[4], ax=axs[2,0] , kde=True, kde_kws={'alpha':0.0})\n",
    "axs[2,0].set_title('1000 random samples')\n",
    "axs[2,0].set_xlim(30,70)\n",
    "sns.distplot(my_sample[5], ax=axs[2,1], kde=True, kde_kws={'alpha':0.0})\n",
    "axs[2,1].set_title('3000 random samples')\n",
    "axs[2,1].set_xlim(30,70)\n",
    "\n",
    "import warnings\n",
    "warnings.filterwarnings(action='once')\n",
    "\n",
    "pass\n"
   ]
  },
  {
   "cell_type": "markdown",
   "metadata": {},
   "source": [
    "The more often we take a sample the better the relative frequency distribution of the sample statistics approximates the sampling distribution. Or in other words, as the number of sample approaches infinity, the resulting frequency distribution will approach the sampling distribution. The **sampling distribution of a statistic** is a probability distribution of that statistic derived from all possible samples having the same size from the population. However, the sampling distribution should not be confused with a sample distribution: the latter describes the distribution of values (elements) in one particular sample."
   ]
  },
  {
   "cell_type": "markdown",
   "metadata": {},
   "source": [
    "**The Standard Error**\n",
    "\n",
    "Just as the population distributions can be described with parameters, so can the sampling distribution. The expected value (mean) of any distribution can be represented by the symbol $\\mu$. In case of the sampling distribution, the mean $\\mu$ is often written with a subscript to indicate which sampling distribution is being described. For example, the expected value of the sampling distribution of the mean is represented by the symbol $\\mu_{\\bar{x}}$. The value of $\\mu_\\bar{x}$ can be thought as the theoretical mean of the distribution of sample means.\n",
    "\n",
    "If we pick a large enough number of samples (of the same size) from a population and calculate their means, then the mean $(\\mu_{\\bar{x}})$ of all these sample means will approximate the mean $(\\mu)$ of the population. That is why the sample mean $\\bar{x}$ is called an estimator of the population mean, $\\mu$. Thus, the mean of the sampling distribution is equal to the mean of the population.\n",
    "\n",
    "$$\\mu_{\\bar{x}} = \\mu$$\n",
    "\n",
    "The standard deviation of a sampling distribution is given a special name, the **standard error**. The standard error of the sampling distribution of a statistic, denoted as $\\sigma_{\\bar{x}}$, describes the degree to which the computed statistic may be expected to differ from one another when calculated from a sample of similar size and selected from similar population models. The larger the standard error of a given statistic, the greater the differences between the computed statistics for the different samples.\n",
    "\n",
    "However, please note that the standard error, $\\sigma_{\\bar{x}}$ is not equal to the standard deviation, $\\sigma$, of the population distribution (unless $n=1$). the standard error is equal to the standard deviation of the population divided by the square root of the sample size:\n",
    "\n",
    "$$\\sigma_{\\bar{x}} = \\frac{\\sigma}{\\sqrt{n}}$$\n",
    "\n",
    "This equation holds true only when the sampling is done either with replacement from a finite population or with or without replacement from an infinite population. Which corresponds to the condition that the sample size $(n)$ is small in comparison to the population size $(N)$. The sample size is considered to be small compared to the population size if the sample size is equal to or less than $5$% of the population size that is, if\n",
    "\n",
    "$$\\frac{n}{N} \\leq 0.05$$\n",
    "\n",
    "If this condition is not satisfied, the following equation is used to calculate $\\sigma_{\\bar{x}}$:\n",
    "\n",
    "$$\\sigma_{\\bar{x}} = \\frac{\\sigma}{\\sqrt{n}} \\sqrt{\\frac{N-n}{N-1}}$$\n",
    "\n",
    "In most practical applications, however, the sample size is small compared to the population size."
   ]
  },
  {
   "cell_type": "markdown",
   "metadata": {},
   "source": [
    "**Sampling from a Normally Distributed Population**\n",
    "\n",
    "**Shape of the Sampling Distribution**\n",
    "\n",
    "The shape of the sampling distribution relates to the following two cases:\n",
    "\n",
    "1. The population from which samples are drawn has a normal distribution.\n",
    "\n",
    "2. The population from which samples are drawn does not have a normal distribution.\n",
    "\n",
    "**Sampling from a Normally Distributed Population**\n",
    "\n",
    "When the population from which samples are drawn is normally distributed with its mean equal to $\\mu$ and the standard deviation equal to $\\sigma$, then:\n",
    "\n",
    "1. The mean of the sample means, $\\mu_{\\bar{x}}$, is equal to the mean of the population, $\\mu$.\n",
    "\n",
    "2. The standard deviation of the sample means, $\\sigma_{\\bar{x}}$ is equal to $\\frac{\\sigma}{\\sqrt{n}}$, assuming $\\frac{n}{N} \\leq 0.05$.\n",
    "\n",
    "3. The shape of the sampling distribution of the sample means $\\bar{x}$ is normal, for whatever value of $n$.\n",
    "\n",
    "Let us consider a normally distributed population. For the sake of simplicity we use the standard normal distribution $N(\\mu,\\sigma)$ with $\\mu=0$ and $\\sigma=1$. Let us further calculate $\\mu_{\\bar{x}}$ and $\\sigma_{\\bar{x}}$ for samples of sample sizes $n=5,15,30,50$.\n",
    "\n",
    "Recall that for a large enough number of repeated sampling $\\mu_{\\bar{x}} \\approx \\mu$. Thus, $\\mu_{\\bar{x}}$ of the different sampling distributions under consideration.\n",
    "\n",
    "$$\\mu_{\\bar x_{n=5}} = \\mu_{\\bar x_{n=15}} = \\mu_{\\bar x_{n=30}} = \\mu_{\\bar x_{n=50}} = \\mu = 0$$\n",
    "\n",
    "Recall the standard error of the sampling distribution $\\sigma_{\\bar{x}} = \\frac{\\sigma}{\\sqrt{n}} $. Thus, we can easily compute $\\sigma_{\\bar{x}}$ for $n=5,15,30,50$ elements. The different sampling distributions are visualized thereafter.\n",
    "\n",
    "$$\\sigma_{\\bar x_{n=5}} = \\frac{\\sigma}{\\sqrt{n}} =\n",
    "\\frac{1}{\\sqrt{5}}\\approx 0.447$$\n",
    "\n",
    "$$ \\sigma_{\\bar x_{n=15}} = \\frac{\\sigma}{\\sqrt{n}} = \\frac{1}{\\sqrt{15}}\\approx 0.258 $$\n",
    "\n",
    "$$ \\sigma_{\\bar x_{n=30}} = \\frac{\\sigma}{\\sqrt{n}} = \\frac{1}{\\sqrt{30}}\\approx 0.183 $$\n",
    "\n",
    "$$ \\sigma_{\\bar x_{n=50}} = \\frac{\\sigma}{\\sqrt{n}} = \\frac{1}{\\sqrt{50}} \\approx 0.141 $$\n",
    "\n",
    "![sampling_distribution_norm](sampling_distribution_norm.png)\n",
    "\n",
    "There are two important observations regarding the sampling distribution of $\\bar{x}$\n",
    "\n",
    "1. The spread of the sampling distribution is smaller than the spread of the corresponding population distribution. In other words, $\\sigma_{\\bar{x}} < \\sigma$.\n",
    "\n",
    "2. The standard deviation of the sampling distribution decreases as the sample size increases.\n",
    "\n",
    "In order to verify the 3rd claim from above, that the shape of the sampling distribution of $\\bar{x}$ is normal, whatever the value of $n$, we conduct a computational experiment. For a large enough number of times <mark> trials = 1000 </mark> we sample from the standard normal distribution $N(0,1)$, where each particular sample has a sample size of $n=5,15,30,50$. For each sample we calculate the sample mean $\\bar{x}$ and visualize the empirical probabilities. Afterwards we compare the empirical distribution of those probabilities with the sampling distributions calculated from the equations above.\n",
    "\n",
    "![sampling_diff_n](sampling_diff_n.png)\n",
    "\n",
    "The figure verifies the 3rd claim above: The shape of the sampling distribution of $\\bar{x}$ is normal, for whatever value of $n$.\n",
    "\n",
    "In addition, the figure shows that the distribution of the empirical probabilities (bars) fits well the sampling distribution (colored line), and that the standard deviation of the sampling distribution of $\\bar{x}$ decreases as the sample size increases. Recall, that the $y$-axis represents the *density*, which is the **probability per unit value** of the random variable. This is why the probability density can take a value greater than $1$, but only over a region with measure less than $1$."
   ]
  },
  {
   "cell_type": "markdown",
   "metadata": {},
   "source": [
    "**Sampling from a Population that is not Normally Distributed**\n",
    "\n",
    "**Shape of the Sampling Distribution**\n",
    "\n",
    "The shape of the sampling distribution relates to the following two cases.\n",
    "\n",
    "1. The population from which samples are drawn has a normal distribution.\n",
    "\n",
    "2. The population from which samples are drawn does not have a normal distribution.\n",
    "\n",
    "**Sampling from a population which is not normally distributed**\n",
    "\n",
    "In the previous section we discussed the shape of sample distributions if sampling from a normally distributed population. However, in real life applications we often do not know the actual shape of the population distribution.\n",
    "\n",
    "In order to understand, how the shape of the distribution of the population of interest affects the shape of the sampling distribution we conduct an experiment. Let us consider three different continuous probability density functions: the **uniform distribution**, the **beta distribution**, and the **gamma distribution**. We do not go into details here, however the figure below shows, that these three PDFs are not normally distributed.\n",
    "\n",
    "![uniform_beta_gamma](uniform_beta_gamma.png)\n",
    "\n",
    "Now we conduct the same experiment as in the previous section. For a large enough number of times <mark>trials = 1000 </mark> we sample from each particular distribution. However, this time each particular sample has a sample size $n=2,5,15,30$. For each sample we calculate the sample mean $\\bar{x}$ and visualize the empirical probabilities after $1000$ trials.\n",
    "\n",
    "![sampling_beta_gamma_uniform](sampling_beta_gamma_uniform.png)\n",
    "\n",
    "The figure shows that, in case of a population that is not normally distributed, the sampling distributions are not normal, when $n<30$. However, the sampling distributions approximate a normal distribution, when $n>30$. Also notice that the spread of the sampling distribution decreases as the sample size increases."
   ]
  },
  {
   "cell_type": "markdown",
   "metadata": {},
   "source": [
    "According to the **central limit theorem**, for a large sample size $(n > 30)$, the sampling distribution is approximately normal, irrespective of the shape of the population distribution.\n",
    "\n",
    "The mean and standard deviation of the sampling distribution of $\\bar{x}$ are, respectively,\n",
    "\n",
    "$$\\mu_{\\bar{x}} = \\mu \\text{   and   } \\sigma_{\\bar{x}} = \\frac{\\sigma}{\\sqrt{n}}$$\n",
    "\n",
    "The sample size is usually considered to be large if $n \\geq 30$.\n",
    "\n",
    "Owing to the fact the sampling distribution approximates a normal distribution, the area under the curve of sampling distribution yields probabilistic information about the sample statistic.\n",
    "\n",
    "Recall the **Empirical Rule**, also known as the **68-95-99.7 rule**. Consequently, applied to the sampling distribution the $68-95-99.7$ rule implies that\n",
    "\n",
    "- about $68.26$% of the sample means will be within one standard deviation of the population mean,\n",
    "\n",
    "- $95.44$% of the sample means will be within two standard deviation of the population mean, and\n",
    "\n",
    "- about $99.74$% of the sample means will be within three standard deviations of the population mean."
   ]
  },
  {
   "cell_type": "code",
   "execution_count": null,
   "metadata": {},
   "outputs": [],
   "source": []
  }
 ],
 "metadata": {
  "kernelspec": {
   "display_name": "Python 3",
   "language": "python",
   "name": "python3"
  },
  "language_info": {
   "codemirror_mode": {
    "name": "ipython",
    "version": 3
   },
   "file_extension": ".py",
   "mimetype": "text/x-python",
   "name": "python",
   "nbconvert_exporter": "python",
   "pygments_lexer": "ipython3",
   "version": "3.8.3"
  }
 },
 "nbformat": 4,
 "nbformat_minor": 4
}
