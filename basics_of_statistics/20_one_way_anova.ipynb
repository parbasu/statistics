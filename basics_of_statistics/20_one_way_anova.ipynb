{
 "cells": [
  {
   "cell_type": "markdown",
   "metadata": {},
   "source": [
    "**Analysis of Variance - ANOVA**\n",
    "\n",
    "In this section we discuss a method called **Analysis of Variance** (ANOVA), which allows us to compare several population means.\n",
    "\n",
    "More specifically, we discuss the so-called **one-way analysis of variance**. This type of ANOVA compares the means of a variable that result from the classification by one other variable, called the **factor**. To illustrate the concept let us design a simple example. Say we compare the mean annual salary of German residents grouped by federal sates (by the way there are sixteen federal states, which are collectively referred to as “Bundesländer”), then we get 16 means of annual salaries, one for each of federal state. Thus, in this example the state variable is that one particular classification variable, the so-called factor.\n",
    "\n",
    "Please note that the one-way analysis of variance is the generalization to more than two populations of the pooled $t$-test."
   ]
  },
  {
   "cell_type": "markdown",
   "metadata": {},
   "source": [
    "**One-Way ANOVA**\n",
    "\n",
    "The basic logic behind a one-way ANOVA is to take independent random samples from each group, then to compute the sample means for each group and thereafter, compare the variation of sample means between the groups to the variation within the groups. Finally, make a decision based on a test statistic, whether the means of the groups are all equal or not.\n",
    "\n",
    "Based on that logic we need quantitative **measures of the variability**. Therefore we partition the total variability into two segments: One accounting for the **between group variability** and the other accounting for the **within group variability**."
   ]
  },
  {
   "cell_type": "markdown",
   "metadata": {},
   "source": [
    "**Measures of variability**\n",
    "\n",
    "We introduce three quantitative measures of the variation:\n",
    "\n",
    "- Sum of squares total (SST)\n",
    "- Sum of squares group (SSG)\n",
    "- Sum of squares error (SSE)\n",
    "\n",
    "The **sum of squares total (SST)** is a measure for the total variability of the variable. It is given by\n",
    "\n",
    "$$SST = \\sum_{i=1}^{n} (x_i - \\bar{x} )^2, $$\n",
    "\n",
    "where $x_i$ corresponds to the observations in the samples and $\\bar{x}$ to the overall mean of all samples.\n",
    "\n",
    "\n"
   ]
  },
  {
   "cell_type": "markdown",
   "metadata": {},
   "source": [
    "The **sum of squares (SSG)** is a measure for the variability between groups and corresponds to the squared deviation of the group means from the overall mean, weighted by the sample size.\n",
    "\n",
    "$$SSG = \\sum_{i=1}^{n} n_j (\\bar{x}_i - \\bar{x})^2 $$\n",
    "\n",
    "Here $n_j$ denotes the sample for group $j$,  $\\bar{x}_i$ denotes the mean of group $j$ and $\\bar{x}$ denotes the overall mean of the sample."
   ]
  },
  {
   "cell_type": "markdown",
   "metadata": {},
   "source": [
    "Finally, the **sum of squares error (SSE)** is a measure for the variability within groups. It is associated with the unexplained variability, which is the variability that cannot be explained by the group variable. The sum of squares error is given by\n",
    "\n",
    "$$SSE = \\sum_{i=1}^{n}(n_j - 1)s_j^2,$$\n",
    "\n",
    "where $n_j$ denotes the sample size for group $j$ and $s_j^2$ the variance of group $j$. Alternatively, one may calculate $SSE$ as the difference of $SST$ and $SSG$\n",
    "\n",
    "$$SSE = SST -SSG.$$"
   ]
  },
  {
   "cell_type": "markdown",
   "metadata": {},
   "source": [
    "**Measures of mean variability**\n",
    "\n",
    "So far we calculated measures of total variability $(SST)$, in between group variability $(SSG)$ and within groups variability $(SSE)$. In the next step, in order to get an average variability, we scale these measures of variability by the sample size (more precisely by the degrees of freedom, $df$).\n",
    "\n",
    "The **degrees of freedom** are defined for each partition of variability (total, in between groups, and within groups variability).\n",
    "\n",
    "- Total variability \n",
    "\n",
    "$$df_{T} = n-1,$$\n",
    "\n",
    "where $n$ denotes the overall sample size.\n",
    "\n",
    "- In between group variability\n",
    "\n",
    "$$df_{G} = k-1,$$\n",
    "\n",
    "where $k$ denotes the number of groups.\n",
    "\n",
    "- Within group variability \n",
    "\n",
    "$$df_{E} = n-k.$$\n",
    "\n",
    "Now we may calculate the **mean squares** for in between group variability and within group variability. The average variability in between and within groups is calculated as the total variability scaled by the associated degrees of freedom.\n",
    "\n",
    "- Mean in between group variability\n",
    "\n",
    "$$MSG = \\frac{SSG}{df_{G}}$$\n",
    "\n",
    "- Mean withing group variability \n",
    "\n",
    "$$MSE = \\frac{SSE}{df_{E}}$$"
   ]
  },
  {
   "cell_type": "markdown",
   "metadata": {},
   "source": [
    "**Test statistic and $p$-value**\n",
    "\n",
    "Finally, we compare the mean variation between the groups, $MSG$, to the variation within the group, $MSE$. Therefore we calculate the ratio of the averages between group $(MSG)$ and within group variability $(MSE)$, which is denoted with $F$.\n",
    "\n",
    "$$F = \\frac{MSG}{MSE}$$\n",
    "\n",
    "The $F$-statistic has the $F$-distribution with\n",
    "\n",
    "$$df=(k-1, n-k),$$\n",
    "\n",
    "where $k$ corresponds to the number of groups and $n$ to the sample size. Large values of $F$-values indicate that the variation in between group sample means is large relative to the variation withing the group. Further, we may calculate the $p$-value for any given $F$-value. If the $p$-value is small, the data provides convincing evidence that at least one pair of group means is different from each other. If the $p$-value is large, the data does not provide convincing evidence that at least one pair of group means is different from each other and thus, the observed differences in sample means are attributable to sampling variability (or chance)."
   ]
  },
  {
   "cell_type": "markdown",
   "metadata": {},
   "source": [
    "**One-Way ANOVA Tables**\n",
    "\n",
    "As seen above the one-way analysis of variance includes several analytic steps. Therefore, a common way to display a one-way ANOVA is the so-called **one-way ANOVA table.** The general design of such a table is shown below\n",
    "\n",
    "\\begin{array}{|l|c|}\n",
    "\\hline\n",
    "\\ \\text{Source} & df & \\text{Sum of Squares }(SS) & \\text{Mean Squares }(MS) & F\\text{-statistic} & p\\text{-value}\\\\\n",
    "\\hline\n",
    "\\ \\text{Group/Class} & k-1 & SSG & MSG=\\frac{SSG}{k-1} & F = \\frac{MSG}{MSE} & p\\\\\n",
    "\\ \\text{Error/Residuals} & n-k & SSE & MSE=\\frac{SSE}{n-k} & & \\\\\n",
    "\\hline \n",
    "\\ \\text{Total} & n-1 & SST & & & \\\\\n",
    "\\hline \n",
    "\\end{array}"
   ]
  },
  {
   "cell_type": "markdown",
   "metadata": {},
   "source": [
    "**One-way ANOVA Hypothesis Test**\n",
    "\n",
    "The purpose of a **one-way ANOVA hypothesis test** is compare $k$ population/group means, $\\mu_1, \\dots,\\mu_k$. The following assumptions have to be fulfilled in order to apply a one-way ANOVA:\n",
    "\n",
    "- Random samples\n",
    "- Independent samples\n",
    "- For each population, the variable under consideration is normally distributed.\n",
    "- The standard deviations of the variable under consideration are the same for all populations."
   ]
  },
  {
   "cell_type": "markdown",
   "metadata": {},
   "source": [
    "A one-way ANOVA hypothesis test follows the same step-wise procedure as other hypothesis test\n",
    "\n",
    "\\begin{array}{l}\n",
    "\\hline\n",
    "\\ \\text{Step 1} & \\text{State the null hypothesis } H_0 \\text{ and alternative hypothesis } H_A \\text{.}\\\\\n",
    "\\ \\text{Step 2} & \\text{Decide on the significance level, } \\alpha\\text{.} \\\\\n",
    "\\ \\text{Step 3} & \\text{Compute the value of the test statistic.} \\\\\n",
    "\\ \\text{Step 4} &\\text{Determine the $p$-value.} \\\\\n",
    "\\ \\text{Step 5} & \\text{If } p \\le \\alpha \\text{, reject }H_0 \\text{; otherwise, do not reject } H_0 \\text{.} \\\\\n",
    "\\ \\text{Step 6} &\\text{Interpret the result of the hypothesis test.} \\\\\n",
    "\\hline \n",
    "\\end{array}"
   ]
  },
  {
   "cell_type": "markdown",
   "metadata": {},
   "source": [
    "**One-way ANOVA Hypothesis Test: An example**\n",
    "\n",
    "In order to get some hands-on experience we apply the **one-way ANOVA hypothesis test** in an exercise. Therfore we load the *students* data set."
   ]
  },
  {
   "cell_type": "code",
   "execution_count": 2,
   "metadata": {},
   "outputs": [],
   "source": [
    "import pandas as pd\n",
    "\n",
    "students_df = pd.read_csv(\"https://userpage.fu-berlin.de/soga/200/2010_data_sets/students.csv\")"
   ]
  },
  {
   "cell_type": "markdown",
   "metadata": {},
   "source": [
    "In order to showcase the **one-way ANOVA hypothesis test** we examine the mean annual salary of graduates, grouped by their major study subject. To make it clear, in this example the classificiation/grouping is done by one variable, the *major* variable, the so-called *factor*, thus we are conducting a one-way ANOVA. In this exercise, **we want to test if the mean annual salary of graduates is different among graduates of different study subjects.**"
   ]
  },
  {
   "cell_type": "markdown",
   "metadata": {},
   "source": [
    "**Data exploration and preparation**\n",
    "\n",
    "We start our data analysis with the random sampling process. We randomly sample $275$ students from the data set. We want to make to sample only from graduated students, that is why we subset the data beforehand. Further, we reduce our data set to the two variables of interest, the categorical variables *major* and the numerical variable *salary*"
   ]
  },
  {
   "cell_type": "code",
   "execution_count": 3,
   "metadata": {},
   "outputs": [],
   "source": [
    "graduated = students_df[students_df['graduated']==1]"
   ]
  },
  {
   "cell_type": "code",
   "execution_count": 4,
   "metadata": {},
   "outputs": [],
   "source": [
    "n = 275\n",
    "\n",
    "data = graduated.sample(n)"
   ]
  },
  {
   "cell_type": "code",
   "execution_count": 6,
   "metadata": {},
   "outputs": [],
   "source": [
    "data = data[['major','salary']]"
   ]
  },
  {
   "cell_type": "code",
   "execution_count": 7,
   "metadata": {},
   "outputs": [
    {
     "data": {
      "text/html": [
       "<div>\n",
       "<style scoped>\n",
       "    .dataframe tbody tr th:only-of-type {\n",
       "        vertical-align: middle;\n",
       "    }\n",
       "\n",
       "    .dataframe tbody tr th {\n",
       "        vertical-align: top;\n",
       "    }\n",
       "\n",
       "    .dataframe thead th {\n",
       "        text-align: right;\n",
       "    }\n",
       "</style>\n",
       "<table border=\"1\" class=\"dataframe\">\n",
       "  <thead>\n",
       "    <tr style=\"text-align: right;\">\n",
       "      <th></th>\n",
       "      <th>major</th>\n",
       "      <th>salary</th>\n",
       "    </tr>\n",
       "  </thead>\n",
       "  <tbody>\n",
       "    <tr>\n",
       "      <th>669</th>\n",
       "      <td>Economics and Finance</td>\n",
       "      <td>36840.849320</td>\n",
       "    </tr>\n",
       "    <tr>\n",
       "      <th>5163</th>\n",
       "      <td>Economics and Finance</td>\n",
       "      <td>37245.865139</td>\n",
       "    </tr>\n",
       "    <tr>\n",
       "      <th>337</th>\n",
       "      <td>Mathematics and Statistics</td>\n",
       "      <td>40562.744900</td>\n",
       "    </tr>\n",
       "    <tr>\n",
       "      <th>7353</th>\n",
       "      <td>Biology</td>\n",
       "      <td>50670.714025</td>\n",
       "    </tr>\n",
       "    <tr>\n",
       "      <th>2146</th>\n",
       "      <td>Mathematics and Statistics</td>\n",
       "      <td>48482.893622</td>\n",
       "    </tr>\n",
       "    <tr>\n",
       "      <th>...</th>\n",
       "      <td>...</td>\n",
       "      <td>...</td>\n",
       "    </tr>\n",
       "    <tr>\n",
       "      <th>61</th>\n",
       "      <td>Political Science</td>\n",
       "      <td>31494.320815</td>\n",
       "    </tr>\n",
       "    <tr>\n",
       "      <th>3321</th>\n",
       "      <td>Social Sciences</td>\n",
       "      <td>32838.251946</td>\n",
       "    </tr>\n",
       "    <tr>\n",
       "      <th>7262</th>\n",
       "      <td>Mathematics and Statistics</td>\n",
       "      <td>45797.366224</td>\n",
       "    </tr>\n",
       "    <tr>\n",
       "      <th>5743</th>\n",
       "      <td>Biology</td>\n",
       "      <td>71612.708104</td>\n",
       "    </tr>\n",
       "    <tr>\n",
       "      <th>3638</th>\n",
       "      <td>Economics and Finance</td>\n",
       "      <td>57527.174335</td>\n",
       "    </tr>\n",
       "  </tbody>\n",
       "</table>\n",
       "<p>275 rows × 2 columns</p>\n",
       "</div>"
      ],
      "text/plain": [
       "                           major        salary\n",
       "669        Economics and Finance  36840.849320\n",
       "5163       Economics and Finance  37245.865139\n",
       "337   Mathematics and Statistics  40562.744900\n",
       "7353                     Biology  50670.714025\n",
       "2146  Mathematics and Statistics  48482.893622\n",
       "...                          ...           ...\n",
       "61             Political Science  31494.320815\n",
       "3321             Social Sciences  32838.251946\n",
       "7262  Mathematics and Statistics  45797.366224\n",
       "5743                     Biology  71612.708104\n",
       "3638       Economics and Finance  57527.174335\n",
       "\n",
       "[275 rows x 2 columns]"
      ]
     },
     "execution_count": 7,
     "metadata": {},
     "output_type": "execute_result"
    }
   ],
   "source": [
    "data"
   ]
  },
  {
   "cell_type": "code",
   "execution_count": 18,
   "metadata": {},
   "outputs": [
    {
     "data": {
      "image/png": "[encoded data removed]",
      "text/plain": [
       "<Figure size 1008x360 with 1 Axes>"
      ]
     },
     "metadata": {},
     "output_type": "display_data"
    }
   ],
   "source": [
    "import seaborn as sns\n",
    "\n",
    "sns.set(rc={'figure.figsize':(14,5)})\n",
    "sns.countplot(y='major', data=data)\n",
    "\n",
    "pass"
   ]
  },
  {
   "cell_type": "markdown",
   "metadata": {},
   "source": [
    "We see that the different study subjects are not equally distributed in our sample, but that is okay.\n",
    "\n",
    "Before we start with hypothesis test, we check if the assumptions for the one-way ANOVA hypothesis test are fulfilled. The samples are random and independent samples. That is fine. We check the normality assumption by plotting a **Q-Q plot** for each grouped variable."
   ]
  },
  {
   "cell_type": "code",
   "execution_count": 25,
   "metadata": {},
   "outputs": [
    {
     "data": {
      "image/png": "[encoded data removed]",
      "text/plain": [
       "<Figure size 1008x360 with 1 Axes>"
      ]
     },
     "metadata": {},
     "output_type": "display_data"
    },
    {
     "data": {
      "image/png": "[encoded data removed]",
      "text/plain": [
       "<Figure size 1008x360 with 1 Axes>"
      ]
     },
     "metadata": {},
     "output_type": "display_data"
    },
    {
     "data": {
      "image/png": "[encoded data removed]",
      "text/plain": [
       "<Figure size 1008x360 with 1 Axes>"
      ]
     },
     "metadata": {},
     "output_type": "display_data"
    },
    {
     "data": {
      "image/png": "[encoded data removed]",
      "text/plain": [
       "<Figure size 1008x360 with 1 Axes>"
      ]
     },
     "metadata": {},
     "output_type": "display_data"
    },
    {
     "data": {
      "image/png": "[encoded data removed]",
      "text/plain": [
       "<Figure size 1008x360 with 1 Axes>"
      ]
     },
     "metadata": {},
     "output_type": "display_data"
    },
    {
     "data": {
      "image/png": "[encoded data removed]",
      "text/plain": [
       "<Figure size 1008x360 with 1 Axes>"
      ]
     },
     "metadata": {},
     "output_type": "display_data"
    }
   ],
   "source": [
    "import statsmodels.api as sm\n",
    "\n",
    "sm.qqplot(data[data['major']=='Biology']['salary'])\n",
    "sm.qqplot(data[data['major']=='Social Sciences']['salary'])\n",
    "sm.qqplot(data[data['major']=='Political Science']['salary'])\n",
    "sm.qqplot(data[data['major']=='Mathematics and Statistics']['salary'])\n",
    "sm.qqplot(data[data['major']=='Economics and Finance']['salary'])\n",
    "sm.qqplot(data[data['major']=='Environmental Sciences']['salary'])\n",
    "pass"
   ]
  },
  {
   "cell_type": "markdown",
   "metadata": {},
   "source": [
    "Well, not perfect but we may assume that the data for each group falls roughly on a straight line.\n",
    "\n",
    "Next, we test the assumption of equal standard deviations. Therefore we calculate the standard deviation for each group. "
   ]
  },
  {
   "cell_type": "code",
   "execution_count": 52,
   "metadata": {},
   "outputs": [
    {
     "name": "stdout",
     "output_type": "stream",
     "text": [
      "Economics and Finance : 9023.514418854742\n",
      "Mathematics and Statistics : 7204.67739794747\n",
      "Biology : 9053.443230465029\n",
      "Environmental Sciences : 4662.358833567989\n",
      "Political Science : 9105.562324176053\n",
      "Social Sciences : 6782.465467398131\n"
     ]
    },
    {
     "data": {
      "text/plain": [
       "[9023.514418854742,\n",
       " 7204.67739794747,\n",
       " 9053.443230465029,\n",
       " 4662.358833567989,\n",
       " 9105.562324176053,\n",
       " 6782.465467398131]"
      ]
     },
     "execution_count": 52,
     "metadata": {},
     "output_type": "execute_result"
    }
   ],
   "source": [
    "std = []\n",
    "\n",
    "for i in data['major'].unique():\n",
    "    cond = (data['major']==i)\n",
    "    std.append(data[cond]['salary'].std())\n",
    "    print(i, ':', data[cond]['salary'].std())\n",
    "    \n",
    "std"
   ]
  },
  {
   "cell_type": "markdown",
   "metadata": {},
   "source": [
    "As a rule of thumb, we consider the equal standard deviations assumption as fulfilled, if the ratio of the largest to the smallest sample standard deviation is less than $2$."
   ]
  },
  {
   "cell_type": "code",
   "execution_count": 54,
   "metadata": {},
   "outputs": [
    {
     "data": {
      "text/plain": [
       "1.95299474991456"
      ]
     },
     "execution_count": 54,
     "metadata": {},
     "output_type": "execute_result"
    }
   ],
   "source": [
    "# calculate ratio of  the largest to the smallest sample standard deviation\n",
    "\n",
    "ratio = max(std)/min(std)\n",
    "\n",
    "ratio"
   ]
  },
  {
   "cell_type": "markdown",
   "metadata": {},
   "source": [
    "So it is close to the threshold of $2$, but for our toy example still acceptable. Thus, we conclude that the assumptions are fulfilled.\n",
    "\n",
    "Note that one-way ANOVA is robust to moderate violations of normality assumption and the equal standard deviations assumption."
   ]
  },
  {
   "cell_type": "markdown",
   "metadata": {},
   "source": [
    "**Hypothesis Testing**\n",
    "\n",
    "In order to conduct the **one-way ANOVA hypothesis test** we follow the step-wise implementation procedure for hypothesis testing.\n"
   ]
  },
  {
   "cell_type": "markdown",
   "metadata": {},
   "source": [
    "**Step 1: State the null hypothesis $H_0$ and alternative hypothesis $H_A$\n",
    "\n",
    "The null hypothesis states that the mean annual salary is equal among all groups of graduates.\n",
    "\n",
    "$$H_0 : \\mu_1 = \\cdots = \\mu_6$$\n",
    "\n",
    "**Alternative hypothesis**\n",
    "\n",
    "$$H_A : \\text{Not all means are equal}$$"
   ]
  },
  {
   "cell_type": "markdown",
   "metadata": {},
   "source": [
    "**Step 2: Decide on the significance level, $\\alpha$**\n",
    "\n",
    "$$\\alpha = 0.01$$"
   ]
  },
  {
   "cell_type": "code",
   "execution_count": 55,
   "metadata": {},
   "outputs": [],
   "source": [
    "alpha = 0.01"
   ]
  },
  {
   "cell_type": "markdown",
   "metadata": {},
   "source": [
    "**Step 3 and 4: Compute the value of the test statistic and the $p$-value.**\n",
    "\n",
    "In order to calculate the $F$ test statistic, we need to determine several quantities beforehand. For illustration purporses we manually compute the $F$ test statistic in Python. Step by step we populate the ANOVA table until we finally get the $F$ test statistic and consequently the $p$-value.\n",
    "\n",
    "\\begin{array}{|l|c|}\n",
    "\\hline\n",
    "\\ \\text{Source} & df & \\text{Sum of Squares }(SS) & \\text{Mean Squares }(MS) & F\\text{-statistic} & p\\text{-value}\\\\\n",
    "\\hline\n",
    "\\ \\text{Group} & k-1 & SSG & MSG=\\frac{SSG}{k-1} & F = \\frac{MSG}{MSE} & p\\\\\n",
    "\\ \\text{Error} & n-k & SSE & MSE=\\frac{SSE}{n-k} & & \\\\\n",
    "\\hline \n",
    "\\ \\text{Total} & n-1 & SST & & & \\\\\n",
    "\\hline \n",
    "\\end{array}"
   ]
  },
  {
   "cell_type": "markdown",
   "metadata": {},
   "source": [
    "We start with the first column and calculate the degrees of freedom"
   ]
  },
  {
   "cell_type": "code",
   "execution_count": 58,
   "metadata": {},
   "outputs": [
    {
     "data": {
      "text/plain": [
       "5"
      ]
     },
     "execution_count": 58,
     "metadata": {},
     "output_type": "execute_result"
    }
   ],
   "source": [
    "k = len(data['major'].unique())\n",
    "n = len(data)\n",
    "\n",
    "df_G = k-1\n",
    "df_G"
   ]
  },
  {
   "cell_type": "code",
   "execution_count": 59,
   "metadata": {},
   "outputs": [
    {
     "data": {
      "text/plain": [
       "269"
      ]
     },
     "execution_count": 59,
     "metadata": {},
     "output_type": "execute_result"
    }
   ],
   "source": [
    "df_E = n-k\n",
    "df_E"
   ]
  },
  {
   "cell_type": "code",
   "execution_count": 60,
   "metadata": {},
   "outputs": [
    {
     "data": {
      "text/plain": [
       "274"
      ]
     },
     "execution_count": 60,
     "metadata": {},
     "output_type": "execute_result"
    }
   ],
   "source": [
    "df_T = n-1\n",
    "df_T"
   ]
  },
  {
   "cell_type": "markdown",
   "metadata": {},
   "source": [
    "\\begin{array}{|l|c|}\n",
    "\\hline\n",
    "\\ \\text{Source} & df & \\text{Sum of Squares }(SS) & \\text{Mean Squares }(MS) & F\\text{-statistic} & p\\text{-value}\\\\\n",
    "\\hline\n",
    "\\ \\text{Group} & 5 & SSG & MSG=\\frac{SSG}{k-1} & F = \\frac{MSG}{MSE} & p\\\\\n",
    "\\ \\text{Error} & 269 & SSE & MSE=\\frac{SSE}{n-k} & & \\\\\n",
    "\\hline \n",
    "\\ \\text{Total} & 274 & SST & & & \\\\\n",
    "\\hline \n",
    "\\end{array}"
   ]
  },
  {
   "cell_type": "markdown",
   "metadata": {},
   "source": [
    "Further, we calculate the three sums of squares, $SST,SSG$ and $SSE$. Recall the equations from above.\n",
    "\n",
    "$$SST = \\sum_{i=1}^{n} (x_i - \\bar{x})^2,$$\n",
    "\n",
    "where $x_i$ corresponds to the observations in the samples and $\\bar{x}$ to the overall mean of all samples."
   ]
  },
  {
   "cell_type": "code",
   "execution_count": 61,
   "metadata": {},
   "outputs": [
    {
     "data": {
      "text/plain": [
       "29542275751.085297"
      ]
     },
     "execution_count": 61,
     "metadata": {},
     "output_type": "execute_result"
    }
   ],
   "source": [
    "# calculate overall mean\n",
    "\n",
    "import numpy as np\n",
    "\n",
    "x_bar = data['salary'].mean()\n",
    "\n",
    "# observation data\n",
    "\n",
    "x_i = data['salary']\n",
    "\n",
    "# calculate SST\n",
    "\n",
    "SST = np.sum((x_i - x_bar)**2)\n",
    "\n",
    "SST"
   ]
  },
  {
   "cell_type": "markdown",
   "metadata": {},
   "source": [
    "$$SSG = \\sum_{i=1}^n n_j(\\bar x_i-\\bar x)^2$$\n",
    "\n",
    "Here, $n_j$ denotes the sample size for group $j$, $\\bar{x}_i$ denotes the mean of group $j$ and $\\bar{x}$ denotes to the overall mean of all samples."
   ]
  },
  {
   "cell_type": "code",
   "execution_count": 88,
   "metadata": {},
   "outputs": [
    {
     "data": {
      "text/plain": [
       "13379884357.258204"
      ]
     },
     "execution_count": 88,
     "metadata": {},
     "output_type": "execute_result"
    }
   ],
   "source": [
    "# calculate sample size for each group\n",
    "\n",
    "n_j = []\n",
    "\n",
    "for i in data['major'].value_counts():\n",
    "    n_j.append(i)\n",
    "\n",
    "# calculate mean for each group\n",
    "\n",
    "xi_bar = []\n",
    "\n",
    "for i in data['major'].value_counts().index:\n",
    "    cond = (data['major'] == i)\n",
    "    xi_bar.append(data[cond]['salary'].mean())\n",
    "    \n",
    "# calculate SSG\n",
    "\n",
    "\n",
    "\n",
    "diff2 = [(x-x_bar)**2 for x in xi_bar]\n",
    "\n",
    "SSG = np.sum([a*b for a,b in zip(n_j,diff2)])\n",
    "\n",
    "SSG"
   ]
  },
  {
   "cell_type": "markdown",
   "metadata": {},
   "source": [
    "$$SSE = \\sum_{i=1}^n (n_j-1)s_j^2,$$\n",
    "\n",
    "where $n_j$ denotes the sample size for each group $j$ and $s_j^2$ the variance of group $j$."
   ]
  },
  {
   "cell_type": "code",
   "execution_count": 89,
   "metadata": {},
   "outputs": [
    {
     "data": {
      "text/plain": [
       "16162391393.82709"
      ]
     },
     "execution_count": 89,
     "metadata": {},
     "output_type": "execute_result"
    }
   ],
   "source": [
    "# calculate standard deviation for each group\n",
    "\n",
    "s2_j = []\n",
    "\n",
    "for i in data['major'].value_counts().index:\n",
    "    cond = (data['major'] == i)\n",
    "    s2_j.append(data[cond]['salary'].std())\n",
    "    \n",
    "# calculate SSE\n",
    "\n",
    "SSE = np.sum([(a-1)*(b**2) for a,b in zip(n_j, s2_j)])\n",
    "\n",
    "SSE\n"
   ]
  },
  {
   "cell_type": "code",
   "execution_count": 90,
   "metadata": {},
   "outputs": [],
   "source": [
    "# alternatively one may calculate SSE this way\n",
    "# SSE = SST - SSG"
   ]
  },
  {
   "cell_type": "markdown",
   "metadata": {},
   "source": [
    "\\begin{array}{|l|c|}\n",
    "\\hline\n",
    "\\ \\text{Source} & df & \\text{Sum of Squares }(SS) & \\text{Mean Squares }(MS) & F\\text{-statistic} & p\\text{-value}\\\\\n",
    "\\hline\n",
    "\\ \\text{Group} & 5 & 13379884357.258204 & MSG=\\frac{SSG}{k-1} & F = \\frac{MSG}{MSE} & p\\\\\n",
    "\\ \\text{Error} & 269 & 16162391393.82709 & MSE=\\frac{SSE}{n-k} & & \\\\\n",
    "\\hline \n",
    "\\ \\text{Total} & 274 & 29542275751.085297 & & & \\\\\n",
    "\\hline \n",
    "\\end{array}"
   ]
  },
  {
   "cell_type": "markdown",
   "metadata": {},
   "source": [
    "Now we calculate the two measures of mean variability, $MSG$ and $MSE$."
   ]
  },
  {
   "cell_type": "code",
   "execution_count": 91,
   "metadata": {},
   "outputs": [
    {
     "data": {
      "text/plain": [
       "2675976871.4516406"
      ]
     },
     "execution_count": 91,
     "metadata": {},
     "output_type": "execute_result"
    }
   ],
   "source": [
    "# calculate MSG\n",
    "\n",
    "MSG = SSG/(k-1)\n",
    "MSG"
   ]
  },
  {
   "cell_type": "code",
   "execution_count": 92,
   "metadata": {},
   "outputs": [
    {
     "data": {
      "text/plain": [
       "60083239.382256836"
      ]
     },
     "execution_count": 92,
     "metadata": {},
     "output_type": "execute_result"
    }
   ],
   "source": [
    "#calculate MSE\n",
    "MSE = SSE/(n-k)\n",
    "MSE"
   ]
  },
  {
   "cell_type": "markdown",
   "metadata": {},
   "source": [
    "\\begin{array}{|l|c|}\n",
    "\\hline\n",
    "\\ \\text{Source} & df & \\text{Sum of Squares }(SS) & \\text{Mean Squares }(MS) & F\\text{-statistic} & p\\text{-value}\\\\\n",
    "\\hline\n",
    "\\ \\text{Group} & 5 & 13379884357.258204 & 2675976871.4516406 & F = \\frac{MSG}{MSE} & p\\\\\n",
    "\\ \\text{Error} & 269 & 16162391393.82709 & 60083239.382256836 & & \\\\\n",
    "\\hline \n",
    "\\ \\text{Total} & 274 & 29542275751.085297 & & & \\\\\n",
    "\\hline \n",
    "\\end{array}"
   ]
  },
  {
   "cell_type": "markdown",
   "metadata": {},
   "source": [
    "Finally, we obtain $F$-statistics by the ratio of $MSG$ and $MSE$."
   ]
  },
  {
   "cell_type": "code",
   "execution_count": 93,
   "metadata": {},
   "outputs": [
    {
     "data": {
      "text/plain": [
       "44.53782617190049"
      ]
     },
     "execution_count": 93,
     "metadata": {},
     "output_type": "execute_result"
    }
   ],
   "source": [
    "Fstat = MSG/MSE\n",
    "Fstat"
   ]
  },
  {
   "cell_type": "markdown",
   "metadata": {},
   "source": [
    "\\begin{array}{|l|c|}\n",
    "\\hline\n",
    "\\ \\text{Source} & df & \\text{Sum of Squares }(SS) & \\text{Mean Squares }(MS) & F\\text{-statistic} & p\\text{-value}\\\\\n",
    "\\hline\n",
    "\\ \\text{Group} & 5 & 13379884357.258204 & 2675976871.4516406 & 44.53782617190049 & p\\\\\n",
    "\\ \\text{Error} & 269 & 16162391393.82709 & 60083239.382256836 & & \\\\\n",
    "\\hline \n",
    "\\ \\text{Total} & 274 & 29542275751.085297 & & & \\\\\n",
    "\\hline \n",
    "\\end{array}"
   ]
  },
  {
   "cell_type": "markdown",
   "metadata": {},
   "source": [
    "In the last step we calculate the $p$-value by calling the <mark> pdf </mark> function in Python. Recall how to calculate the degrees of freedom.\n",
    "\n",
    "$$df = (k-1,n-k)$$\n",
    "\n",
    "Because the null hypothesis is rejected only when the test statistic $F$ is too large, a one-way ANOVA test is always right tailed."
   ]
  },
  {
   "cell_type": "code",
   "execution_count": 95,
   "metadata": {},
   "outputs": [
    {
     "data": {
      "text/plain": [
       "1.1102230246251565e-16"
      ]
     },
     "execution_count": 95,
     "metadata": {},
     "output_type": "execute_result"
    }
   ],
   "source": [
    "df1 = k-1\n",
    "df2 = n-k\n",
    "\n",
    "from scipy.stats import f\n",
    "\n",
    "p_value = 1-f.cdf(Fstat,dfn=df1,dfd=df2)\n",
    "p_value"
   ]
  },
  {
   "cell_type": "markdown",
   "metadata": {},
   "source": [
    "\\begin{array}{|l|c|}\n",
    "\\hline\n",
    "\\ \\text{Source} & df & \\text{Sum of Squares }(SS) & \\text{Mean Squares }(MS) & F\\text{-statistic} & p\\text{-value}\\\\\n",
    "\\hline\n",
    "\\ \\text{Group} & 5 & 13379884357.258204 & 2675976871.4516406 & 44.53782617190049 & 1.1102230246251565 times 10^{-16}\\\\\n",
    "\\ \\text{Error} & 269 & 16162391393.82709 & 60083239.382256836 & & \\\\\n",
    "\\hline \n",
    "\\ \\text{Total} & 274 & 29542275751.085297 & & & \\\\\n",
    "\\hline \n",
    "\\end{array}"
   ]
  },
  {
   "cell_type": "markdown",
   "metadata": {},
   "source": [
    "**Step 5: If $p \\leq \\alpha$, reject $H_0$; otherwise, do not reject $H_0$.**"
   ]
  },
  {
   "cell_type": "code",
   "execution_count": 96,
   "metadata": {},
   "outputs": [
    {
     "data": {
      "text/plain": [
       "True"
      ]
     },
     "execution_count": 96,
     "metadata": {},
     "output_type": "execute_result"
    }
   ],
   "source": [
    "p_value <= alpha"
   ]
  },
  {
   "cell_type": "markdown",
   "metadata": {},
   "source": [
    "The $p$-value is less than the specified significance level of $0.01$; we reject $H_0$. The test results are statistically significant at the $1$% level and provide very strong evidence against the null hypothesis."
   ]
  },
  {
   "cell_type": "markdown",
   "metadata": {},
   "source": [
    "**Step 6: Interpret the result of the hypothesis test.**"
   ]
  },
  {
   "cell_type": "markdown",
   "metadata": {},
   "source": [
    "$p = 1.1102230246251565 \\times 10^{-16}$. At the $1$% significance level, the data provides very strong evidence to conclude that at least one pair of group means is different from each other."
   ]
  },
  {
   "cell_type": "markdown",
   "metadata": {},
   "source": [
    "**Hypothesis testing in Python**"
   ]
  },
  {
   "cell_type": "code",
   "execution_count": 100,
   "metadata": {},
   "outputs": [
    {
     "data": {
      "text/plain": [
       "F_onewayResult(statistic=44.53782617190051, pvalue=2.1605955769631787e-33)"
      ]
     },
     "execution_count": 100,
     "metadata": {},
     "output_type": "execute_result"
    }
   ],
   "source": [
    "from scipy.stats import f_oneway\n",
    "\n",
    "x1 = data[data['major']=='Biology']['salary']\n",
    "x2 = data[data['major']=='Social Sciences']['salary']\n",
    "x3 = data[data['major']=='Political Science']['salary']\n",
    "x4= data[data['major']=='Mathematics and Statistics']['salary']\n",
    "x5= data[data['major']=='Economics and Finance']['salary']\n",
    "x6= data[data['major']=='Environmental Sciences']['salary']\n",
    "\n",
    "f_oneway(x1,x2,x3,x4,x5,x6)"
   ]
  },
  {
   "cell_type": "markdown",
   "metadata": {},
   "source": [
    "Need to understand why the $p$-value is different here!"
   ]
  },
  {
   "cell_type": "code",
   "execution_count": null,
   "metadata": {},
   "outputs": [],
   "source": []
  }
 ],
 "metadata": {
  "kernelspec": {
   "display_name": "Python 3",
   "language": "python",
   "name": "python3"
  },
  "language_info": {
   "codemirror_mode": {
    "name": "ipython",
    "version": 3
   },
   "file_extension": ".py",
   "mimetype": "text/x-python",
   "name": "python",
   "nbconvert_exporter": "python",
   "pygments_lexer": "ipython3",
   "version": "3.8.3"
  }
 },
 "nbformat": 4,
 "nbformat_minor": 4
}
