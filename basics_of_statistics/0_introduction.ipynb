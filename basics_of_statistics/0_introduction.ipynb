{
 "cells": [
  {
   "cell_type": "markdown",
   "metadata": {},
   "source": [
    "**Univariate and Bivariate Descriptive Statistics**\n",
    "\n",
    "Applied statistics can be divided into two areas: **descriptive statistics** and **inferential statistics**.\n",
    "\n",
    "Descriptive statistics consists of methods for organising, displaying and describing data by using tables, graphs, and summary measures\n",
    "\n",
    "Inferential statistics consists of methods that use sample results to make decisions or predictions about  a population.\n",
    "\n",
    "The word univariate refers to the fact that only one variable is under consideration. The purpose of univariate statistics is to describe and summarise the data. \n",
    "\n",
    "If two or more variables are analysed, then we refer to bivariate or multivariate analysis or statistics, respectively. Here we are primarily interested in the relationships among a set of variables."
   ]
  },
  {
   "cell_type": "code",
   "execution_count": null,
   "metadata": {},
   "outputs": [],
   "source": []
  }
 ],
 "metadata": {
  "kernelspec": {
   "display_name": "Python 3",
   "language": "python",
   "name": "python3"
  },
  "language_info": {
   "codemirror_mode": {
    "name": "ipython",
    "version": 3
   },
   "file_extension": ".py",
   "mimetype": "text/x-python",
   "name": "python",
   "nbconvert_exporter": "python",
   "pygments_lexer": "ipython3",
   "version": "3.8.3"
  }
 },
 "nbformat": 4,
 "nbformat_minor": 4
}
