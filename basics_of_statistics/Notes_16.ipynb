{
 "cells": [
  {
   "cell_type": "markdown",
   "metadata": {},
   "source": [
    "**Inferences About the Linear Correlation Coefficient**\n",
    "\n",
    "In order to test if two variables are linearly correlated, or in other words, whether there is a linear relationship between the two variables, we may apply the so-called **correlation $t$-test.** The **population correlation coefficient, $\\rho$**, measures the linear correlation of two variables in the same manner as the **sample linear correlation coefficient, $r$,** measures the linear correlation of two variables of sample of pairs. Both $\\rho$ and $r$ describe the strength of the linear relationship between two variables; however, $r$, is an estimate of $\\rho$ obtained from the sample data."
   ]
  },
  {
   "cell_type": "markdown",
   "metadata": {},
   "source": [
    "The linear correlation coefficient of two variables lies between $-1$ and $1$. If $\\rho = 0$ the variables are linearly uncorrelated, thus there is no linear relationship between the variables. If $\\rho \\neq 0$ the variables are linearly correlated. If $\\rho > 0$, the variables are positively linearly correlated, and if $\\rho < 0$ the variables are negatively linearly correlated."
   ]
  },
  {
   "cell_type": "markdown",
   "metadata": {},
   "source": [
    "A commonly used statistic to calculate the linear relationship between quantitative variables is the **Pearson product moment correlation coefficient**. It is given by\n",
    "\n",
    "$$r = \\frac{\\sum_{i=1}^n(x_i- \\bar x)(y_i - \\bar y)}{\\sqrt{\\sum_{i=1}^n(x_i- \\bar x)^2}\\sqrt{\\sum_{i=1}^n(y_i- \\bar y)^2}}=\\frac{s_{xy}}{s_x s_y}\\text{,}$$\n",
    "\n",
    "where $s_{xy}$ is the covariance of $x$ and $y$ and $s_x$ and $s_y$ are the standard deviations of $x$ and $y$, respectively."
   ]
  },
  {
   "cell_type": "markdown",
   "metadata": {},
   "source": [
    "As the sample linear correlation coefficient, $r$, is an estimate of the population linear correlation coefficient, $\\rho$, we may use $r$ for a hypothesis test for $\\rho$. The test statistic for a **correlation test** has $t$-distribution with $n-2$ degrees of freedom and may be written as\n",
    "\n",
    "$$ t= \\frac{r}{\\sqrt{\\frac{1-r^2}{n-2}}}.$$"
   ]
  },
  {
   "cell_type": "markdown",
   "metadata": {},
   "source": [
    "**The Correlation $t$-Test: An Example**\n",
    "\n",
    "We load the *students* data set."
   ]
  },
  {
   "cell_type": "code",
   "execution_count": 1,
   "metadata": {},
   "outputs": [],
   "source": [
    "import pandas as pd\n",
    "\n",
    "students_df = pd.read_csv(\"https://userpage.fu-berlin.de/soga/200/2010_data_sets/students.csv\")"
   ]
  },
  {
   "cell_type": "markdown",
   "metadata": {},
   "source": [
    "In order to showcase the correlation $t$-test we examine the relationship between the variable *score1* and *score2*, which show the result of two mandatory statistical exams. **The question is, whether there is a linear relationship betweeen the grades of two consecutive statistic exams?**"
   ]
  },
  {
   "cell_type": "markdown",
   "metadata": {},
   "source": [
    "**Data preparation**\n",
    "\n",
    "We start with data preparation.\n",
    "\n",
    "- We subset the data based on the *score1* and *score2* variables. We drop any *NA* value in the data set\n",
    "\n",
    "- Then we sample from each subset $50$ students and extract the variables of interest."
   ]
  },
  {
   "cell_type": "code",
   "execution_count": 5,
   "metadata": {},
   "outputs": [],
   "source": [
    "complete = students_df.dropna(subset=['score1','score2'])\n",
    "\n",
    "n = 50\n",
    "\n",
    "sample = complete.sample(n)"
   ]
  },
  {
   "cell_type": "code",
   "execution_count": 6,
   "metadata": {},
   "outputs": [],
   "source": [
    "score1 = sample['score1']\n",
    "score2 = sample['score2']"
   ]
  },
  {
   "cell_type": "markdown",
   "metadata": {},
   "source": [
    "For the purpose of visual inspection we plot the random sample in form of a scatter plot"
   ]
  },
  {
   "cell_type": "code",
   "execution_count": 8,
   "metadata": {},
   "outputs": [
    {
     "data": {
      "image/png": "[encoded data removed]",
      "text/plain": [
       "<Figure size 432x288 with 1 Axes>"
      ]
     },
     "metadata": {
      "needs_background": "light"
     },
     "output_type": "display_data"
    }
   ],
   "source": [
    "import matplotlib.pyplot as plt\n",
    "\n",
    "plt.scatter(score1,score2)\n",
    "plt.xlabel('score1')\n",
    "plt.ylabel('score2')\n",
    "\n",
    "pass"
   ]
  },
  {
   "cell_type": "markdown",
   "metadata": {},
   "source": [
    "The visual inspection indicates an existing positive linear relationship between the variables *score1* and *score2*."
   ]
  },
  {
   "cell_type": "markdown",
   "metadata": {},
   "source": [
    "**Hypothesis testing**\n",
    "\n",
    "In order to conduct the **correlation $t$-test** we follow the step-wise implementation procedure for hypothesis testing. The **correlation $t$-test** follows the same step-wise procedure as discussed in the previous sections.\n",
    "\n",
    "\\begin{array}{l}\n",
    "\\hline\n",
    "\\ \\text{Step 1}  & \\text{State the null hypothesis } H_0 \\text{ and alternative hypothesis } H_A \\text{.}\\\\\n",
    "\\ \\text{Step 2}  & \\text{Decide on the significance level, } \\alpha\\text{.} \\\\\n",
    "\\ \\text{Step 3}  & \\text{Compute the value of the test statistic.} \\\\\n",
    "\\ \\text{Step 4} &\\text{Determine the p-value.} \\\\\n",
    "\\ \\text{Step 5} & \\text{If } p \\le \\alpha \\text{, reject }H_0 \\text{; otherwise, do not reject } H_0 \\text{.} \\\\\n",
    "\\ \\text{Step 6} &\\text{Interpret the result of the hypothesis test.} \\\\\n",
    "\\hline \n",
    "\\end{array}"
   ]
  },
  {
   "cell_type": "markdown",
   "metadata": {},
   "source": [
    "**Step 1: State the null hypothesis $H_0$ and alternative hypothesis $H_A$**\n",
    "\n",
    "The null hypothesis states that there is no linear relationship between the grades of two consecutive statistic exams.\n",
    "\n",
    "$$H_0 : r=0$$\n",
    "\n",
    "Recall, that the formulation of the alternative hypothesis dictates if we apply a two-sided, a left tailed or a right tailed hypothesis test.\n",
    "\n",
    "**Alternative hypothesis**\n",
    "\n",
    "$$H_A : r \\neq 0$$\n",
    "\n",
    "This formulation results in a two-sided hypothesis test."
   ]
  },
  {
   "cell_type": "markdown",
   "metadata": {},
   "source": [
    "**Step 2: Decide on the significance level, $\\alpha$**"
   ]
  },
  {
   "cell_type": "code",
   "execution_count": 9,
   "metadata": {},
   "outputs": [],
   "source": [
    "alpha = 0.01"
   ]
  },
  {
   "cell_type": "markdown",
   "metadata": {},
   "source": [
    "**Step $3$ and $4$: Compute the value of the test statistic and the $p$-value.**\n",
    "\n",
    "For illustration purposes we manually compute the test statistic in Python. Recall the equation form above:\n",
    "\n",
    "$$t= \\frac{r}{\\sqrt{\\frac{1-r^2}{n-2}}}$$"
   ]
  },
  {
   "cell_type": "code",
   "execution_count": 11,
   "metadata": {},
   "outputs": [
    {
     "data": {
      "text/plain": [
       "15.094222351795068"
      ]
     },
     "execution_count": 11,
     "metadata": {},
     "output_type": "execute_result"
    }
   ],
   "source": [
    "n = len(score1)\n",
    "\n",
    "# compute the value of the test statistic\n",
    "\n",
    "# pearson correlation coefficient r\n",
    "\n",
    "import numpy as np\n",
    "\n",
    "r = np.corrcoef(score1,score2)[0, 1]\n",
    "\n",
    "# test statistic\n",
    "\n",
    "import math\n",
    "\n",
    "t_statistic = r/(math.sqrt((1-r**2)/(n-2)))\n",
    "\n",
    "t_statistic"
   ]
  },
  {
   "cell_type": "code",
   "execution_count": 14,
   "metadata": {},
   "outputs": [
    {
     "data": {
      "text/plain": [
       "3.7317642583344205e-20"
      ]
     },
     "execution_count": 14,
     "metadata": {},
     "output_type": "execute_result"
    }
   ],
   "source": [
    "# compute df\n",
    "\n",
    "df = n-2 \n",
    "\n",
    "# compute the p-value, two-sided test\n",
    "\n",
    "from scipy.stats import t\n",
    "\n",
    "p_upper = 1-t.cdf(t_statistic,df=df)\n",
    "p_lower = t.cdf(-t_statistic,df=df)\n",
    "\n",
    "p = p_upper + p_lower\n",
    "\n",
    "p"
   ]
  },
  {
   "cell_type": "markdown",
   "metadata": {},
   "source": [
    "**Step 5: If $p \\leq \\alpha$, reject $H_0$; otherwise, do not reject $H_0$.**\n",
    "\n",
    "The $p$-value is less than the specified significance level of $0.01$; we reject $H_0$. The test results are statistically significant at the $1$% level and provide very strong evidence against the null hypothesis.\n"
   ]
  },
  {
   "cell_type": "markdown",
   "metadata": {},
   "source": [
    "**Step 6: Interpret the result of the hypothesis test.**\n",
    "\n",
    "$p=3.7317642583344205 \\times 10^{-20}$. At the $1$% significance level, the data provides very strong evidence to conclude that the exam grades of students are linearly correlated."
   ]
  },
  {
   "cell_type": "markdown",
   "metadata": {},
   "source": [
    "**Hypothesis testing in Python**"
   ]
  },
  {
   "cell_type": "code",
   "execution_count": 16,
   "metadata": {},
   "outputs": [
    {
     "data": {
      "text/plain": [
       "(0.9088362176698311, 7.463528516669254e-20)"
      ]
     },
     "execution_count": 16,
     "metadata": {},
     "output_type": "execute_result"
    }
   ],
   "source": [
    "from scipy.stats import pearsonr\n",
    "\n",
    "# p-value is calculated \n",
    "pearsonr(score1,score2)\n",
    "\n",
    "#the p-value comes out different not sure why"
   ]
  },
  {
   "cell_type": "code",
   "execution_count": null,
   "metadata": {},
   "outputs": [],
   "source": []
  }
 ],
 "metadata": {
  "kernelspec": {
   "display_name": "Python 3",
   "language": "python",
   "name": "python3"
  },
  "language_info": {
   "codemirror_mode": {
    "name": "ipython",
    "version": 3
   },
   "file_extension": ".py",
   "mimetype": "text/x-python",
   "name": "python",
   "nbconvert_exporter": "python",
   "pygments_lexer": "ipython3",
   "version": "3.8.3"
  }
 },
 "nbformat": 4,
 "nbformat_minor": 4
}
