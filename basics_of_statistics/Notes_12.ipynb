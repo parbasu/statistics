{
 "cells": [
  {
   "cell_type": "markdown",
   "metadata": {},
   "source": [
    "**Inferences for Two Population Standard Deviations**\n",
    "\n",
    "In this section we discuss hypothesis tests for two two population standard deviations. Or in otherwords we discuss methods of inference for the standard deviations of one variable from two different populations. These methods are based on the **$F$-distribution**.\n",
    "\n",
    "The $F$-distribution is a right-skewed probability density distribution with two shape parameters $\\nu_1$ and $\\nu_2$, called the degrees of freedom for the numerator ($\\nu_1$) and the degrees of freedom for the denominator $(\\nu_2)$.\n",
    "\n",
    "$$df = (\\nu_1,\\nu_2)$$\n",
    "\n",
    "As for any other density curve the area under the curve of the $F$-distribution corresponds to probabilites. The area under the curve, and thus, the probability, for any given interval and given $df$ is computed with software. \n",
    "\n",
    "In order to perform a hypothesis test for two population standard deviations, the value that corresponds to a specified area under a $F$-curve is calculated.\n",
    "\n",
    "Given $\\alpha$, where $\\alpha$ corresponds to a probability between $0$ and $1$, $F_{\\alpha}$ denotes the value having an area $\\alpha$ to its right under a $F$-curve.\n",
    "\n",
    "![F_curve_alpha](F_curve_alpha.png)\n",
    "\n",
    "In the figure above $F_{0.05}$ for $df=(9,14)$ evaluates to $\\approx 2.6458$.\n",
    "\n",
    "One interesting property of $F$-curves is the **reciprocal property.**. It says that for a $F$-curve with $df=(\\nu_1,\\nu_2)$, the $F$-value having the area $\\alpha$ to its left equal the reciprocal of the $F$-value having the area $\\alpha$ to its right for an $F$-curve with $df(\\nu_2,\\nu_1)$. Adopted to the example above, where $F_{0.05}$ for $df=(9,14)$ evaluates to $\\approx 2.6458$, this means that $F_{0.95}$ for $df=(14,9)$ evaluates to $\\frac{1}{2.6458} = 0.378$.\n",
    "\n",
    "![F_curve_reciprocal_alpha](F_curve_reciprocal_alpha.png)"
   ]
  },
  {
   "cell_type": "markdown",
   "metadata": {},
   "source": [
    "**Interval Estimation of $\\sigma_1 - \\sigma_2$**\n",
    "\n",
    "The $100(1-\\alpha)$% confidence interval for $\\sigma$ is \n",
    "\n",
    "$$\\frac{1}{\\sqrt{F_{\\alpha /2}}} \\times \\frac{s_1}{s_2} \\le \\sigma \\le \\frac{1}{\\sqrt{F_{1-\\alpha /2}}} \\times \\frac{s_1}{s_2}\\text{,}$$\n",
    "\n",
    "where $s_1$ and $s_2$ are the sample standard deviations."
   ]
  },
  {
   "cell_type": "markdown",
   "metadata": {},
   "source": [
    "**Two Standard Deviations $F$-test**\n",
    "\n",
    "The hypothesis-testing procedure is called **two standard deviations $F$-test.** Hypothesis testing for two population standard deviations follows the same step-wise procedure as for other hypothesis tests.\n",
    "\n",
    "\\begin{array}{l}\n",
    "\\hline\n",
    "\\ \\text{Step 1}  & \\text{State the null hypothesis } H_0 \\text{ and alternative hypothesis } H_A \\text{.}\\\\\n",
    "\\ \\text{Step 2}  & \\text{Decide on the significance level, } \\alpha\\text{.} \\\\\n",
    "\\ \\text{Step 3}  & \\text{Compute the value of the test statistic.} \\\\\n",
    "\\ \\text{Step 4} &\\text{Determine the p-value.} \\\\\n",
    "\\ \\text{Step 5} & \\text{If } p \\le \\alpha \\text{, reject }H_0 \\text{; otherwise, do not reject } H_0 \\text{.} \\\\\n",
    "\\ \\text{Step 6} &\\text{Interpret the result of the hypothesis test.} \\\\\n",
    "\\hline \n",
    "\\end{array}"
   ]
  },
  {
   "cell_type": "markdown",
   "metadata": {},
   "source": [
    "The test statistic for a hypothesis test for a normally distributed variable and for independent samples of sizes $n_1$ and $n_2$ is given by\n",
    "\n",
    "$$F = \\frac{s_1^2/\\sigma_1^2}{s_2^2/\\sigma_2^2}\\text{,}$$\n",
    "\n",
    "with $df= (n_1-1, n_2-1)$.\n",
    "\n",
    "If $H_0: \\sigma_1 = \\sigma_2$ is true, then the equation simplifies to \n",
    "\n",
    "$$F = \\frac{s_1^2}{s_2^2}$$"
   ]
  },
  {
   "cell_type": "markdown",
   "metadata": {},
   "source": [
    "**Two-Standard-Deviations $F$-test: An example**\n",
    "\n",
    "In order to get some hands-on experience we apply the two standard deviations $F$-test in an exercise. Therefore we load the *students* data set."
   ]
  },
  {
   "cell_type": "code",
   "execution_count": 1,
   "metadata": {},
   "outputs": [],
   "source": [
    "import pandas as pd\n",
    "\n",
    "students_df = pd.read_csv(\"https://userpage.fu-berlin.de/soga/200/2010_data_sets/students.csv\")"
   ]
  },
  {
   "cell_type": "markdown",
   "metadata": {},
   "source": [
    "In order to showcase the **two standard deviations $F$-test** we examine once again the *height* variable in the *students* data set. We compare the spread of the height of female students and the spread of the height of male students. **We want to test, if the standard deviation of the height of female students ($\\sigma_1$) is different from the standard deviation of the height of female students ($\\sigma_2$).**"
   ]
  },
  {
   "cell_type": "markdown",
   "metadata": {},
   "source": [
    "**Data Preparation**\n",
    "\n",
    "We start with data preparation\n",
    "\n",
    "- We subset the data set based on the variable *gender*\n",
    "- Then we sample $25$ female students and $25$ male students\n",
    "- Then we calculate the standard deviations of the variable of interest (height in cm) for both samples and assign them the variables *s_female* and *s_male*."
   ]
  },
  {
   "cell_type": "code",
   "execution_count": 2,
   "metadata": {},
   "outputs": [],
   "source": [
    "female = students_df[students_df['gender']=='Female']\n",
    "male = students_df[students_df['gender']=='Male']"
   ]
  },
  {
   "cell_type": "code",
   "execution_count": 7,
   "metadata": {},
   "outputs": [],
   "source": [
    "import numpy as np\n",
    "\n",
    "n = 25\n",
    "\n",
    "female_sample = np.random.choice(female['height'],n)\n",
    "male_sample = np.random.choice(male['height'],n)"
   ]
  },
  {
   "cell_type": "code",
   "execution_count": 8,
   "metadata": {},
   "outputs": [
    {
     "name": "stdout",
     "output_type": "stream",
     "text": [
      "8.123422923866515 9.367496997597597\n"
     ]
    }
   ],
   "source": [
    "sd_female = np.std(female_sample,ddof=1)\n",
    "sd_male = np.std(male_sample,ddof=1)\n",
    "\n",
    "print(sd_female,sd_male)"
   ]
  },
  {
   "cell_type": "markdown",
   "metadata": {},
   "source": [
    "Further, we check the normality assumption by plotting a **Q-Q plot**."
   ]
  },
  {
   "cell_type": "code",
   "execution_count": 9,
   "metadata": {},
   "outputs": [
    {
     "data": {
      "image/png": "[encoded data removed]",
      "text/plain": [
       "<Figure size 720x288 with 2 Axes>"
      ]
     },
     "metadata": {},
     "output_type": "display_data"
    }
   ],
   "source": [
    "import statsmodels.api as sm\n",
    "import matplotlib.pyplot as plt\n",
    "import seaborn as sns\n",
    "\n",
    "sns.set(rc={'figure.figsize':(10,4)})\n",
    "\n",
    "fig, axs = plt.subplots(ncols=2)\n",
    "\n",
    "sm.qqplot(female_sample, ax = axs[0], line='q')\n",
    "sm.qqplot(male_sample,ax=axs[1], line='q', color='g')\n",
    "\n",
    "pass"
   ]
  },
  {
   "cell_type": "markdown",
   "metadata": {},
   "source": [
    "The data of both samples falls roughly on a straight line. Based on the graphical evaluation approach we conclude that the data is normally distributed."
   ]
  },
  {
   "cell_type": "markdown",
   "metadata": {},
   "source": [
    "**Hypothesis testing**\n",
    "\n",
    "In order to conduct the **two standard deviations $F$-test** we follow the step-wise implementation procedure for hypothesis testing.\n",
    "\n",
    "**Step 1: State the null hypothesis $H_0$ and alternative hypothesis $H_A$**\n",
    "\n",
    "The null hypothesis states that the standard deviation of the height of female students ($\\sigma_1$) equals the standard deviation of the height of male students($\\sigma_2$).\n",
    "\n",
    "$$H_0: \\sigma_1= \\sigma_2$$\n",
    "\n",
    "**Alternative hypothesis**\n",
    "$$H_A: \\sigma_1 \\neq \\sigma_2$$\n",
    "\n",
    "This formulation results in a two-sided hypothesis test.\n",
    "\n",
    "**Step 2: Decide on the significance level, \\alpha**\n",
    "\n",
    "$$α=0.05$$"
   ]
  },
  {
   "cell_type": "code",
   "execution_count": 10,
   "metadata": {},
   "outputs": [],
   "source": [
    "alpha = 0.05"
   ]
  },
  {
   "cell_type": "markdown",
   "metadata": {},
   "source": [
    "For illustration purposes we manually compute the test statistic in Python. Recall the equation for the test statistic from above:\n",
    "\n",
    "$$F = \\frac{s_1^2}{s_2^2}$$"
   ]
  },
  {
   "cell_type": "code",
   "execution_count": 11,
   "metadata": {},
   "outputs": [
    {
     "data": {
      "text/plain": [
       "0.7520227920227922"
      ]
     },
     "execution_count": 11,
     "metadata": {},
     "output_type": "execute_result"
    }
   ],
   "source": [
    "# Compute the value of the test-statist\n",
    "\n",
    "Ftest = (sd_female**2)/(sd_male**2)\n",
    "\n",
    "Ftest"
   ]
  },
  {
   "cell_type": "code",
   "execution_count": 14,
   "metadata": {},
   "outputs": [
    {
     "name": "stdout",
     "output_type": "stream",
     "text": [
      "0.7548065789570393 0.2451934210429607\n"
     ]
    },
    {
     "data": {
      "text/plain": [
       "0.4903868420859214"
      ]
     },
     "execution_count": 14,
     "metadata": {},
     "output_type": "execute_result"
    }
   ],
   "source": [
    "# compute df\n",
    "\n",
    "df1 = len(female_sample)-1\n",
    "df2 = len(male_sample)-1\n",
    "\n",
    "# compute the p-value\n",
    "\n",
    "from scipy.stats import f\n",
    "\n",
    "p_upper = 1-f.cdf(Ftest,dfn=df1,dfd=df2)\n",
    "p_lower = f.cdf(Ftest,dfn=df1,dfd=df2)\n",
    "\n",
    "print(p_upper,p_lower)\n",
    "\n",
    "if p_upper*2 > 1:\n",
    "    p = p_lower*2\n",
    "else:\n",
    "    p = p_upper*2\n",
    "\n",
    "p"
   ]
  },
  {
   "cell_type": "markdown",
   "metadata": {},
   "source": [
    "**Step $5$: If $p \\leq \\alpha$, reject $H_0$; otherwise, do not reject $H_0$.**\n",
    "\n",
    "The $p$-value is greater than the specified significance level of $0.05$; we do not reject $H_0$. The test results are statistically significant at the $5$% level and provide not sufficient evidence against the null hypothesis.\n",
    "\n",
    "**Step $6$: Interpret the result of the hypothesis test.**\n",
    "\n",
    "$p = 0.4903868420859214$. At the $5$% significance level, the data does not provide sufficient evidence to conclude that the standard deviations of the height of female and male students is different.\n",
    "\n"
   ]
  },
  {
   "cell_type": "code",
   "execution_count": null,
   "metadata": {},
   "outputs": [],
   "source": []
  }
 ],
 "metadata": {
  "kernelspec": {
   "display_name": "Python 3",
   "language": "python",
   "name": "python3"
  },
  "language_info": {
   "codemirror_mode": {
    "name": "ipython",
    "version": 3
   },
   "file_extension": ".py",
   "mimetype": "text/x-python",
   "name": "python",
   "nbconvert_exporter": "python",
   "pygments_lexer": "ipython3",
   "version": "3.8.3"
  }
 },
 "nbformat": 4,
 "nbformat_minor": 4
}
