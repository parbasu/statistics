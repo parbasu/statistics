{
 "cells": [
  {
   "cell_type": "markdown",
   "metadata": {},
   "source": [
    "## Setup"
   ]
  },
  {
   "cell_type": "markdown",
   "metadata": {},
   "source": [
    "Our starting is a random experiment with an underlying sample space and probability measure $\\mathbb{P}$.\n",
    "\n",
    "In the basic statistical model, we have an observable random variable $X$ taking values in a set $S$. For example, $X$ could be a random sample of size $n$, that is, $X = (X_1, \\dots, X_n)$, where the $X_i$'s are independent and identically distributed."
   ]
  },
  {
   "cell_type": "markdown",
   "metadata": {},
   "source": [
    "**Definition** A **statistical hypothesis** is a statement about the distribution of $X$. Equivalently, a statistical hypothesis specifies a set of possible distributions of $X$ for which the statement is true. A hypothesis that specifies a single distribution for $X$ is called **simple**. A hypothesis that specifies more than one distribution for $X$ is called **composite**."
   ]
  },
  {
   "cell_type": "markdown",
   "metadata": {},
   "source": [
    "In **hypothesis testing**, the goal is to see if there is sufficient statistical evidence to reject a presumed **null hypothesis** in favor of a conjectured **alternative hypothesis**. The null hypothesis is usally denoted $H_0$ while the alternative hypothesis is usually denoted $H_1$. "
   ]
  },
  {
   "cell_type": "markdown",
   "metadata": {},
   "source": [
    "An hypothesis test is a *statistical decision*; the conclusion will either be to **reject** the null hypothesis in favor of the alternative, or to **fail to reject** the null hypothesis. The decision that we make must, of course, be based on the observed value $x$ of the data vector $X$. Thus, we will find an appropriate subset $R$ of the sample space $S$ and reject $H_0$ if and only if $x \\in R$. The set $R$ is known as the **rejection region** or **the critical region**."
   ]
  },
  {
   "cell_type": "markdown",
   "metadata": {},
   "source": [
    "Often, the critical region is defined in terms of a statistic $w(X)$, known as **test statistic**, where $w$ is a function from $S$ into another set $T$. We find an appropriate rejection region $R_T \\subseteq T$ and reject $H_0$ when the observed value $w(x) \\in R_T$. Thus, the rejection region in $S$ is then $R = w^{-1}(R_T) = \\{ x \\in S \\mid w(x) \\in R_T \\}$. "
   ]
  },
  {
   "cell_type": "markdown",
   "metadata": {},
   "source": [
    "## Errors"
   ]
  },
  {
   "cell_type": "markdown",
   "metadata": {},
   "source": [
    "**Defintion** Types of errors:\n",
    "\n",
    "- A **type $1$ error** is rejecting the null hypothesis $H_0$ when $H_0$ is true.\n",
    "\n",
    "- A **type $2$ error** is failing to reject the null hypothesis $H_0$ when the alternative hypothesis $H_1$ is true."
   ]
  },
  {
   "cell_type": "markdown",
   "metadata": {},
   "source": [
    "Similarly, there are two ways to make a correct decision: we could reject $H_0$ when $H_1$ is true or we could fail to reject $H_0$ when $H_0$ is true. When we observe $X = x$ and make our decision, either we will have made the correct decision or we will have committed an error, and usually we will never know which of these events has occurred. *Prior* to gathering the data, however, we can consider the probabilities of the various errors."
   ]
  },
  {
   "cell_type": "markdown",
   "metadata": {},
   "source": [
    "If $H_0$ is true (that is, the distribution of $X$ is specified by $H_0$), then $\\mathbb{P}(X \\in R)$ is the probability of a type $1$ error for this distribution. If $H_0$ is composite, then $H_0$ specifies a variety of different distributions for $X$ and thus there is a set of type $1$ error probabilities.\n",
    "\n",
    "**Definition** The maximum probability of type $1$ error, over the the set of distributions specified by $H_0$, is the **significance level** of the test or the **size** of the critical region.\n",
    "\n",
    "The significance level is often denoted by $\\alpha$. Usually, the rejection region is constructed so that the significance level is a prescribe, small value (typically 0.1, 0.05, 0.01)."
   ]
  },
  {
   "cell_type": "markdown",
   "metadata": {},
   "source": [
    "If $H_1$ is true (that is, the distribution of $X$ is specified by $H_1$), then $\\mathbb{P}(X \\notin R)$ is the probability of a type $2$ error for this distribution. Again, if $H_1$ is composite then $H_1$ specifies a variety of different distributions for $X$, and thus there will be a set of type $2$ error probabilities. Generally, there is a tradeoff between the type $1$ and type $2$ error probabilities. If we reduce the probability of a type $1$ error, by making the rejection region $R$ smaller, we necessarily increase the probability of a type $2$ error because the complementary region $S \\backslash R$ is larger."
   ]
  },
  {
   "cell_type": "markdown",
   "metadata": {},
   "source": [
    "The extreme cases can give us some insight. First consider the decision rule in which we never reject $H_0$, regardless of the evidence $x$. This corresponds to the rejection region $R = \\emptyset$. A type $1$ error is impossible, so the signifiance level is 0. On the other hand, the probability of a type $2$ error is $1$ for any distribution specified by $H_1$. At the other extreme, consider the decision rule in which we always rejection $H_0$ regardless of the evidence $x$. This corresponds to the rejection region $R=S$. A type $2$ error is impossible, but now the probability of a type $1$ error is $1$ for any distribution defined by $H_0$. In between these two worthless tests are meaningful tests that take the evidence $x$ into account."
   ]
  },
  {
   "cell_type": "markdown",
   "metadata": {},
   "source": [
    "## Power "
   ]
  },
  {
   "cell_type": "markdown",
   "metadata": {},
   "source": [
    "**Defintion** If $H_1$ is true, so that the distribution of $X$ is specified by $H_1$, then $\\mathbb{P}(X \\in R)$, the probability of rejecting $H_0$ is the **power** of the test for that distribution.\n",
    "\n",
    "Thus the power of the test for a distribution specified by $H_1$ is the probability of making the correcting decision."
   ]
  },
  {
   "cell_type": "markdown",
   "metadata": {},
   "source": [
    "**Definition** Suppose that we have two tests, corresponding to rejection regions $R_1$ and $R_2$, respectively, each having significance level $\\alpha$. The test with region $R_1$ is **uniformly more powerful** than the test with region $R_2$ if \n",
    "\n",
    "$$\\mathbb{P}(X \\in R_1) \\geq \\mathbb{P}(X \\in R_2) \\text{ for every distribution of $X$ specified by $H_1$}$$ \n",
    "\n",
    "Naturally, in this case, we would prefer the first test. Often, however, two tests will not be uniformly ordered; one test will be more powerful for some distributions specified by $H_1$ while the other test will be more powerful for other distributions specified by $H_1$."
   ]
  },
  {
   "cell_type": "markdown",
   "metadata": {},
   "source": [
    "**Definition** If a test has significance level $\\alpha$ and is uniformly more powerful than any other test with significance level $\\alpha$, then the test is said to be a **uniformly most power test** at level $\\alpha$.\n",
    "\n",
    "Clearly a uniformly most powerful test is the best we can do."
   ]
  },
  {
   "cell_type": "markdown",
   "metadata": {},
   "source": [
    "## $P$-Value\n",
    "\n",
    "In most cases, we have a general procedure that allows us to construct a test (that is, a rejection region $R_{\\alpha}$) for any given significance level $\\alpha \\in (0,1)$. Typically, $R_{\\alpha}$ decreases (in the subset sense) as $\\alpha$ decreases.\n",
    "\n",
    "**Definition** The **$P$-value** of the observed value $x$ of $X$, denoted $P(x)$, is defined to the smallest $\\alpha$ for which $x \\in R_{\\alpha}$; that is, the smallest significance level for which $H_0$ is rejected, given $X = x$. \n",
    "data\n",
    "Knowing $P(x)$ allows us to test $H_0$ at any significance level for the given $x$: IF $P(x) \\leq \\alpha$ then we would reject $H_0$ at significance level $\\alpha$; if $P(x)> \\alpha$ then we fail to reject $H_0$ at significance level $\\alpha$. Note that $P(X)$ is a statistic. Informally, $P(x)$ can be thought of as the probability of an outcome \"as or more extreme\" than the observed value $x$, where extreme is interpreted relative to the null hypothesis $H_0$."
   ]
  },
  {
   "cell_type": "markdown",
   "metadata": {},
   "source": [
    "## Tests of an Unknown Parameter\n",
    "\n"
   ]
  },
  {
   "cell_type": "markdown",
   "metadata": {},
   "source": [
    "Hypothesis testing is a very general concept, but an important special class occurs when the distribution of the data variable $X$ depends on a parameter taking values in a parameter space $\\Theta$. The parameter may be vector-values so that $\\theta = (\\theta_1 , \\dots, \\theta_n)$ and $\\Theta \\subseteq \\mathbb{R}^k$ for some $k \\in \\mathbb{N}_{+}$. The hypotheses generally take the form\n",
    "\n",
    "$$H_0 : \\theta \\in \\Theta_{0} \\text{ versus } H_1 : \\theta \\notin \\Theta_{0}$$\n",
    "\n",
    "where $\\Theta_{0}$ is a prescribed subset of the parameter space $\\Theta$. In this setting, the probabilites of making an error or a correct decision depend on the true value of $\\theta$. If $R$ is the rejection region, then the **power function** $Q$ is given by \n",
    "\n",
    "$$Q(\\theta) = \\mathbb{P}_{\\theta} (X \\in R), \\ \\theta \\in \\Theta.$$\n",
    "\n"
   ]
  },
  {
   "cell_type": "markdown",
   "metadata": {},
   "source": [
    "The power function gives a lot of information about the test. It satisfies the following properties:\n",
    "\n",
    "- $Q(\\theta)$ is the probability of a type $1$ error when $\\theta \\in \\Theta_0$.\n",
    "\n",
    "- $\\max \\{Q(\\theta) \\mid \\theta \\in \\Theta_0 \\} $ is the significance level of the test.\n",
    "\n",
    "- $1- Q(\\theta)$ is the probability of a type $2$ error when $\\theta \\notin \\Theta_0$.\n",
    "\n",
    "- $Q(\\theta)$ is the power of the test when $\\theta \\notin \\Theta_{0}$."
   ]
  },
  {
   "cell_type": "markdown",
   "metadata": {},
   "source": [
    "If we have two tests, we can compare them by means of their power functions."
   ]
  },
  {
   "cell_type": "markdown",
   "metadata": {},
   "source": [
    "Suppose that we have two tests, corresponding to rejection regions $R_1$ and $R_2$, respectively, each having significance level $\\alpha$. The test with rejection region $R_1$ is uniformly more powerful than the test with rejection region $R_2$ if $Q_1(\\theta) \\geq Q_{2}(\\theta)$ for all $\\theta \\notin \\Theta_{0}$."
   ]
  },
  {
   "cell_type": "markdown",
   "metadata": {},
   "source": [
    "Most hypothesis tests of an unknown real parameter $\\theta$ fall into three special cases:\n",
    "\n",
    "Suppose that $\\theta$ is a real parameter and $\\theta_0 \\in \\Theta$ a specified value. The tests below are respectively the **two-sided test**, the **left-tailed test**, and the **right-tailed test.**\n",
    "\n",
    "- $H_0 : \\theta = \\theta_0$ versus $H_1 : \\theta \\neq \\theta_0$\n",
    "\n",
    "- $H_0 : \\theta \\geq \\theta_0$ versus $H_1 : \\theta < \\theta_0$\n",
    "\n",
    "- $H_0 : \\theta \\leq \\theta_0$ versus $H_1 : \\theta > \\theta_0$\n",
    "\n",
    "Thus the tests are named after the conjectured alternative."
   ]
  },
  {
   "cell_type": "markdown",
   "metadata": {},
   "source": [
    "## Example"
   ]
  },
  {
   "cell_type": "markdown",
   "metadata": {},
   "source": [
    "Suppose $X = (X_1, \\dots, X_n)$ is a random sample from the normal distribution with mean $\\mu$ and standard deviation $\\sigma$. Suppose $\\sigma$ is known, and we wish to a do left-tailed test for $\\mu$:\n",
    "\n",
    "$$H_0 : \\mu \\geq \\mu_0 \\text{ versus } H_1 : \\mu < \\mu_0.$$\n",
    "\n",
    "Let $Z$ be the test statistic \n",
    "\n",
    "$$Z = \\frac{M - \\mu_{0}}{ \\sigma / \\sqrt{n}}, \\text{ where } M = \\frac{1}{n} \\sum_{i=1}^{n} X_i.$$\n",
    "\n",
    "For $p \\in (0,1)$, let $z(p)$ denote the quantile of order $p$ for the standard normal distribution.\n",
    "\n",
    "For $\\alpha \\in (0,1)$, let $R_{\\alpha} = [- \\infty, -z (1-\\alpha))$.\n",
    "\n",
    "We consider $R_{\\alpha}$ as our rejection region, that is will reject $H_0$ if $Z \\in R_{\\alpha}$, that is, $Z < -z(1-\\alpha)$.\n",
    "\n",
    "For $\\mu \\geq \\mu_0$, the probability of a type $1$ error is $\\mathbb{P}(Z \\in R_{\\alpha}) = \\mathbb{P}( -\\infty \\leq Z < -z(1-\\alpha))$. The maximum occurs when $\\mu = \\mu_0$, where we have $\\mathbb{P}(Z \\in R_{\\alpha}) = 1 -(1-\\alpha) = \\alpha$. So $R_{\\alpha}$ corresponds to the significance level $\\alpha$.\n",
    "\n",
    "Now the hypothesis will be rejected for every significance level $\\alpha$ with $Z < -z(1-\\alpha)$, that is, for every $Z$ with $\\Phi(Z) < \\Phi(-z(1-\\alpha)) = \\alpha$. This is our $P$-value."
   ]
  },
  {
   "cell_type": "markdown",
   "metadata": {},
   "source": [
    "## Equivalence Between Hypothesis Test and Confidence Sets\n",
    "\n",
    "\n",
    "There is an equivalence between hypothesis tests and confidence sets for a parameter $\\theta$."
   ]
  },
  {
   "cell_type": "markdown",
   "metadata": {},
   "source": [
    "**Proposition** Suppose that $C(x)$ is a $1-\\alpha$ confidence set for $\\theta$. The following test has significance level $\\alpha$ for the hypothesis $H_0 : \\theta = \\theta_0$ versus $H_1: \\theta \\neq \\theta_0$: Reject $H_0$ if and only if $\\theta_0 \\notin C(x)$.\n",
    "\n",
    "*Proof.* By definition, $\\mathbb{P}[\\theta \\in C(X)] = 1- \\alpha$. Hence if $H_0$ is true so that $\\theta = \\theta_0$, then the probability of a type $1$ error is $\\mathbb{P}[\\theta \\notin C(X)] = \\alpha$."
   ]
  },
  {
   "cell_type": "code",
   "execution_count": null,
   "metadata": {},
   "outputs": [],
   "source": []
  }
 ],
 "metadata": {
  "kernelspec": {
   "display_name": "Python 3",
   "language": "python",
   "name": "python3"
  },
  "language_info": {
   "codemirror_mode": {
    "name": "ipython",
    "version": 3
   },
   "file_extension": ".py",
   "mimetype": "text/x-python",
   "name": "python",
   "nbconvert_exporter": "python",
   "pygments_lexer": "ipython3",
   "version": "3.8.3"
  }
 },
 "nbformat": 4,
 "nbformat_minor": 4
}
