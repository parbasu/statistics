{
 "cells": [
  {
   "cell_type": "markdown",
   "metadata": {},
   "source": [
    "**Hypothesis Tests for Two Population Means**\n",
    "\n",
    "So far we focused on hypothesis tests for one population mean. However, in many application we want to compare the means of two or more populations. In the following sections we discuss inferential procedures for comparing the means of two populations. Therefore we first have to distinguish between samples from two populations that are **independent** and samples from populations that are not independent, which are called **paired samples**.\n",
    "\n",
    "In the following sections we denote the parameters and the statistics of population $1$ and population $2$ with the subscript $1$ and $2$, respectively. Thus, $\\mu_1$ and $\\sigma_1$ are population parameters of population $1$ and $\\mu_2$ and $\\sigma_2$, those of population $2$. Similarly, $\\bar{x_1},s_1,$ and $n_1$ are the sample mean, the sample standard deviation and the sample size of population $1$, whereas $\\bar{x_2},s_2,$ and $n_2$ are the sample mean, the sample standard deviation and the sample size of population $2$, respectively.\n",
    "\n",
    "For independent samples of sizes $n_1$ and $n_2$ of population $1$ and population $2$ the mean of all possible differences between the two sample means equals the difference between the two population means.\n",
    "\n",
    "$$\\mu_{\\bar x_1 -\\bar x_2} = \\mu_1-\\mu_2$$\n",
    "\n",
    "Further, the standard deviation of all possible differences between the two sample means equals the square root of the sum of the population variances each divided by the corresponding sample size.\n",
    "\n",
    "$$\\sigma_{\\bar x_1 -\\bar x_2} = \\sqrt{\\frac{\\sigma^2_1}{n_1} + \\frac{\\sigma^2_1}{n_2}}$$\n",
    "\n",
    "A normally distributed variable or a large enough sample size (recall **the central limit theorem**) causes the difference of the sample means ($\\bar{x_1} - \\bar{x_2}$) to be normally distributed too. \n",
    "\n",
    "Hypothesis testing procedures for two population means are actually the same as for one population mean. Please note that in the following sections we focus on the $p$-value approach and do not discuss the critical value approach anymore. Therefore the hypothesis testing procedure is slightly revised. The step-wise procedure for hypothesis tests is summarized as follows\n",
    "\n",
    "\\begin{array}{l}\n",
    "\\hline\n",
    "\\ \\text{Step 1}  & \\text{State the null hypothesis } H_0 \\text{ and alternative hypothesis } H_A \\text{.}\\\\\n",
    "\\ \\text{Step 2}  & \\text{Decide on the significance level, } \\alpha\\text{.} \\\\\n",
    "\\ \\text{Step 3}  & \\text{Compute the value of the test statistic.} \\\\\n",
    "\\ \\text{Step 4} &\\text{Determine the p-value.} \\\\\n",
    "\\ \\text{Step 5} & \\text{If } p \\le \\alpha \\text{, reject }H_0 \\text{; otherwise, do not reject } H_0 \\text{.} \\\\\n",
    "\\ \\text{Step 6} &\\text{Interpret the result of the hypothesis test.} \\\\\n",
    "\\hline \n",
    "\\end{array}\n"
   ]
  },
  {
   "cell_type": "markdown",
   "metadata": {},
   "source": [
    "**Inferences for Two Population Means, Using Independent Samples Standard Deviations Assumed Equal**\n",
    "\n",
    "In this section we perform a hypothesis test for the means of two populations. We assume that the standard deviations of the two populations are equal but unknown. If, however, we knew $\\sigma$, and the difference of sample means $(\\bar{x}_1 - \\bar{x}_2)$, the test statistic could be written as follows.\n",
    "\n",
    "$$z = \\frac{(\\bar x_1 - \\bar x_2)-(\\mu_1-\\mu_2)}{\\sigma \\sqrt{\\frac{1}{n_1} + \\frac{1}{n_2}}}$$\n",
    "\n",
    "However, in almost all real life applications we do not $\\sigma$. Thus, we estimate it beforehand. The best way to do that is to consider the sample variances, $s_1^2$ and $s_2^2$ as two estimates for $\\sigma^2$. By pooling the two sample variances and weighting them according to the sample size, the estimate for $\\sigma^2$ is given by\n",
    "\n",
    "$$s_p^2 = \\frac{(n_1-1)s_1^2 + (n_2-1)s_2^2 }{n_1+n_2-2}$$\n",
    "\n",
    "and by taking the square root we get\n",
    "\n",
    "\n",
    "$$s_p = \\sqrt{\\frac{(n_1-1)s_1^2 + (n_2-1)s_2^2 }{n_1+n_2-2}}.$$\n",
    "\n",
    "The quantity $s_p$ is called the **pooled sample standard deviation**. \n",
    "\n",
    "The replacement of $\\sigma$ in the equation above with its estimate $s_p$, results in\n",
    "\n",
    "$$t =  \\frac{(\\bar x_1 - \\bar x_2)-(\\mu_1-\\mu_2)}{s_p \\sqrt{\\frac{1}{n_1} + \\frac{1}{n_2}}}$$\n",
    "\n",
    "The denominator $s_p \\sqrt{\\frac{1}{n_1} + \\frac{1}{n_2}}$ is the estimator of the standard deviation of $\\bar{x}_1 - \\bar{x}_2$, which can written as\n",
    "\n",
    "$$ s_{\\bar{x}_1 - \\bar{x}_2} = s_p \\sqrt{\\frac{1}{n_1} + \\frac{1}{n_2}}$$\n",
    "\n",
    "Please note that the equation for the test statistic $t$ has a $t$-distribution. The degrees of freedom $(df)$ are given by\n",
    "\n",
    "$$df = n_1 + n_2 -2$$"
   ]
  },
  {
   "cell_type": "markdown",
   "metadata": {},
   "source": [
    "**Interval Estimation of $\\mu_1 - \\mu_2$**\n",
    "\n",
    "The $100(1-\\alpha)$% confidence interval for $\\mu_1 -\\mu_2$ is given by \n",
    "\n",
    "$$  (\\bar x_1 - \\bar x_2) \\pm t \\times s_p \\sqrt{\\frac{1}{n_1} + \\frac{1}{n_2}}$$\n",
    "\n",
    "where the value of $t$ is obtained from the $t$-distribution for the given confidence level and $n_1 +n_2 -2$ degrees of freedom."
   ]
  },
  {
   "cell_type": "markdown",
   "metadata": {},
   "source": [
    "**The pooled $t$-test: An example**"
   ]
  },
  {
   "cell_type": "code",
   "execution_count": 2,
   "metadata": {},
   "outputs": [],
   "source": [
    "import pandas as pd\n",
    "\n",
    "students_df = pd.read_csv(\"https://userpage.fu-berlin.de/soga/200/2010_data_sets/students.csv\")"
   ]
  },
  {
   "cell_type": "markdown",
   "metadata": {},
   "source": [
    "In order to showecase the pooled $t$-test we examine the mean annual salary (in Euro) of graduates. The first population consist of male students and the second population of female students. **The question is whether there is a difference in the mean annual salary of graduates realated to gender?**"
   ]
  },
  {
   "cell_type": "markdown",
   "metadata": {},
   "source": [
    "**Data preparation**\n",
    "\n",
    "We start with data prepartion.\n",
    "\n",
    "- We subset the data set based on the binary <mark> graduated </mark> varibale, which indicates if the student has gradauted yet. The integer $1$ stands for graduated, $0$ indicates that the student did not graduate yet.\n",
    "\n",
    "- Then we split the data set based on gender (male and female)\n",
    "\n",
    "- Then we sample from each subset $50$ female and $50$ male students and extract the variable of interest, the mean annual salary (in Euro), which is stored in the column <mark> salary </mark>. We assign these two vectors to the varibles <mark> male_sample </mark> and <mark> female_sample </mark>"
   ]
  },
  {
   "cell_type": "code",
   "execution_count": 6,
   "metadata": {},
   "outputs": [],
   "source": [
    "graduate_df = students_df[students_df['graduated']==1]\n",
    "\n",
    "male = graduate_df[graduate_df['gender'] == 'Male']\n",
    "female = graduate_df[graduate_df['gender'] == 'Female']\n",
    "\n",
    "n = 50\n",
    "\n",
    "import numpy as np\n",
    "\n",
    "male_sample = np.random.choice(male['salary'], n)\n",
    "female_sample = np.random.choice(female['salary'], n)"
   ]
  },
  {
   "cell_type": "markdown",
   "metadata": {},
   "source": [
    "Further, we test the normality assumption by plotting a normal probability plot, often referred to as **Q-Q** plots. If the variable is normally distributed, the normal probability plot should be roughly linear."
   ]
  },
  {
   "cell_type": "code",
   "execution_count": 30,
   "metadata": {},
   "outputs": [
    {
     "data": {
      "image/png": "[encoded data removed]",
      "text/plain": [
       "<Figure size 936x432 with 2 Axes>"
      ]
     },
     "metadata": {},
     "output_type": "display_data"
    }
   ],
   "source": [
    "import statsmodels.api as sm\n",
    "import matplotlib.pyplot as plt\n",
    "import seaborn as sns\n",
    "\n",
    "sns.set(rc={'figure.figsize':(13,6)})\n",
    "\n",
    "fig,axs = plt.subplots(ncols=2)\n",
    "\n",
    "sm.qqplot(male_sample, ax = axs[0], line='q')\n",
    "axs[0].set_title('Q-Q plot for males (sample)')\n",
    "\n",
    "sm.qqplot(female_sample, ax = axs[1], line = 'q', color='g')\n",
    "axs[1].set_title('Q-Q plot for females (sample)')\n",
    "\n",
    "pass"
   ]
  },
  {
   "cell_type": "markdown",
   "metadata": {},
   "source": [
    "We see that the sample data is somehow noisy, but it is still roughly normal distributed. The deviation from the straight line in the upper and lower part suggest, that the probability distribution is slightly skewed.\n",
    "\n",
    "Further we check, if the standard deviation of the two populations are roughly equal. As a rule of thumb, the condition of equal population standard deviation is met, if the ratio of the larger to the smaller sample standard deviation is less than $2$. Let us assume that the data of the <mark> students </mark> data set is a good approximation for the population."
   ]
  },
  {
   "cell_type": "code",
   "execution_count": 31,
   "metadata": {},
   "outputs": [
    {
     "data": {
      "text/plain": [
       "1.2494996783136274"
      ]
     },
     "execution_count": 31,
     "metadata": {},
     "output_type": "execute_result"
    }
   ],
   "source": [
    "sd_m = male['salary'].std()\n",
    "sd_f = female['salary'].std()\n",
    "\n",
    "sd_m/sd_f"
   ]
  },
  {
   "cell_type": "markdown",
   "metadata": {},
   "source": [
    "The ratio is approximately $1.249$ and thus, we conclude that the equal population standard deviations criterion is fulfilled. A simple visualization technique for evaluating the spread of a variable is to plot a box plot."
   ]
  },
  {
   "cell_type": "code",
   "execution_count": 36,
   "metadata": {},
   "outputs": [
    {
     "data": {
      "image/png": "[encoded data removed]",
      "text/plain": [
       "<Figure size 936x432 with 1 Axes>"
      ]
     },
     "metadata": {},
     "output_type": "display_data"
    }
   ],
   "source": [
    "import seaborn as sns\n",
    "import matplotlib.pyplot as plt\n",
    "\n",
    "sns.boxplot(x= 'salary', y = 'gender', data = students_df)\n",
    "plt.title('Sample Data')\n",
    "plt.xlabel('Annual salary in EUR', fontsize=16)\n",
    "\n",
    "pass"
   ]
  },
  {
   "cell_type": "markdown",
   "metadata": {},
   "source": [
    "**Hypothesis testing**\n",
    "\n",
    "We conduct the **pooled $t$-test** by following the step-wise implementation procedure for hypothesis testing.\n",
    "\n",
    "**Step 1: State the null hypothesis $H_0$ and alternative hypothesis $H_A$**\n",
    "\n",
    "The nully hypothesis states that the average annual salary of male graduates $(\\mu_1)$ is equal to the average annual salarly of female graduates $(\\mu_2)$.\n",
    "\n",
    "$$H_0 : \\mu_1 = \\mu_2$$\n",
    "\n",
    "Recall, that the formulation of the alternative hypothesis dictates if we apply a two-sided, a left tailed or a right tailed hypothesis test. We want to test if the salary of male graduates $(\\mu_1)$ is higher than the average annual salary of female graduates $(\\mu_2)$, thus, the alternative hypothesis is formulated as follows\n",
    "\n",
    "- **Alternative hypothesis**\n",
    "\n",
    "$$H_A : \\mu_1 > \\mu_2$$\n",
    "\n",
    "This formulation results in a right tailed hypothesis test.\n",
    "\n",
    "**Step 2: Decide on the significance level, $\\alpha$**\n",
    "\n",
    "$$\\alpha = 0.01$$"
   ]
  },
  {
   "cell_type": "code",
   "execution_count": 38,
   "metadata": {},
   "outputs": [],
   "source": [
    "alpha = 0.01"
   ]
  },
  {
   "cell_type": "markdown",
   "metadata": {},
   "source": [
    "**Step 3 and 4: Compute the value of the test statistic and the p-value.**\n",
    "\n",
    "For illustration purposes we compute the test statistic manually in Python. Recall the equation for the test statistic from above.\n",
    "\n",
    "$$t =  \\frac{(\\bar x_1 - \\bar x_2)-(\\mu_1-\\mu_2)}{s_p \\sqrt{\\frac{1}{n_1} + \\frac{1}{n_2}}}$$\n",
    "\n",
    "If $H_0$ is true, then $\\mu_1 - \\mu_2 = 0$ and thus, the equation simplifies to\n",
    "\n",
    "$$t =  \\frac{(\\bar x_1 - \\bar x_2)}{s_p \\sqrt{\\frac{1}{n_1} + \\frac{1}{n_2}}},$$\n",
    "\n",
    "where $s_p$ is\n",
    "\n",
    "$$s_p = \\sqrt{\\frac{(n_1-1)s_1^2 + (n_2-1)s_2^2 }{n_1+n_2-2}}$$"
   ]
  },
  {
   "cell_type": "code",
   "execution_count": 41,
   "metadata": {},
   "outputs": [
    {
     "data": {
      "text/plain": [
       "4.9010121770459305"
      ]
     },
     "execution_count": 41,
     "metadata": {},
     "output_type": "execute_result"
    }
   ],
   "source": [
    "# compute the value of the test statistic\n",
    "\n",
    "import numpy as np\n",
    "import math\n",
    "\n",
    "n1 = len(male_sample)\n",
    "n2 = len(female_sample)\n",
    "s1 = np.std(male_sample, ddof=1)\n",
    "s2 = np.std(female_sample, ddof=1)\n",
    "x1_bar = np.mean(male_sample)\n",
    "x2_bar = np.mean(female_sample)\n",
    "\n",
    "sp = math.sqrt(((n1-1)*(s1**2)+(n2-1)*(s2**2))/(n1+n2-2))\n",
    "\n",
    "t_statistic = (x1_bar-x2_bar)/(sp * math.sqrt(1/n1+1/n2))\n",
    "\n",
    "t_statistic"
   ]
  },
  {
   "cell_type": "markdown",
   "metadata": {},
   "source": [
    "The numerical value of the test statistic is $4.901012177$\n",
    "\n",
    "In order to calculate the $p$-value we apply the <mark> cdf </mark> function. Recall how to calculate the degrees of freedom\n",
    "\n",
    "$$df = n_1 + n_2 -2 = 50 +50 -2 = 98$$"
   ]
  },
  {
   "cell_type": "code",
   "execution_count": 42,
   "metadata": {},
   "outputs": [
    {
     "data": {
      "text/plain": [
       "1.887409337375523e-06"
      ]
     },
     "execution_count": 42,
     "metadata": {},
     "output_type": "execute_result"
    }
   ],
   "source": [
    "from scipy.stats import t\n",
    "\n",
    "df = n1 + n2 -2\n",
    "\n",
    "p = 1-t.cdf(t_statistic,df)\n",
    "\n",
    "p"
   ]
  },
  {
   "cell_type": "markdown",
   "metadata": {},
   "source": [
    "**Step 5: If $p\\leq \\alpha$, reject $H_0$; otherwise, do not reject H_0**.\n",
    "\n",
    "The p-value is less than the specified significance level of $0.01$; we reject $H_0$. The test results are statistically significant at the $1$% level and provide very strong evidence against the null hypothesis.\n",
    "\n",
    "**Step 6: Interpret the result of the hypothesis test**\n",
    "\n",
    "$p=1.887409337375523 \\times 10^{-6}$. At the $1$% significance level, the data provides very strong evidence to conclude that the average salary of male graduates is higher than the average salary of female graduates."
   ]
  },
  {
   "cell_type": "code",
   "execution_count": 45,
   "metadata": {},
   "outputs": [
    {
     "data": {
      "text/plain": [
       "Ttest_indResult(statistic=4.9010121770459305, pvalue=3.7748186748043446e-06)"
      ]
     },
     "execution_count": 45,
     "metadata": {},
     "output_type": "execute_result"
    }
   ],
   "source": [
    "# This is a two-sided test for the null hypothesis \n",
    "#that 2 independent samples have identical average (expected)\n",
    "#values. This test assumes that the populations have \n",
    "#identical variances by default.\n",
    "\n",
    "from scipy.stats import ttest_ind\n",
    "\n",
    "ttest_ind(male_sample, female_sample)"
   ]
  },
  {
   "cell_type": "code",
   "execution_count": null,
   "metadata": {},
   "outputs": [],
   "source": []
  }
 ],
 "metadata": {
  "kernelspec": {
   "display_name": "Python 3",
   "language": "python",
   "name": "python3"
  },
  "language_info": {
   "codemirror_mode": {
    "name": "ipython",
    "version": 3
   },
   "file_extension": ".py",
   "mimetype": "text/x-python",
   "name": "python",
   "nbconvert_exporter": "python",
   "pygments_lexer": "ipython3",
   "version": "3.8.3"
  }
 },
 "nbformat": 4,
 "nbformat_minor": 4
}
