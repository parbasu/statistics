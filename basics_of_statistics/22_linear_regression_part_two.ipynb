{
 "cells": [
  {
   "cell_type": "markdown",
   "metadata": {},
   "source": [
    "**Model Diagnostic**\n",
    "\n",
    "**Regression validation** or **regression diagnostic** is a set of procedures that are applied to assess the numerical results of a regression analysis. The procedure include methods of graphical and quantitative analysis or formal statistics hypothesis tests. In this section we focus on the two foremost methods, the graphical and the quantative analysis. Statistical hypothesis tests for regression problems are provided in the section on *hypothesis* tests."
   ]
  },
  {
   "cell_type": "markdown",
   "metadata": {},
   "source": [
    "**Coefficient of Determination**\n",
    "\n",
    "The **Coefficient of Determination**, also denoted as $R^2$, is the proportion of variation in the observed values explained by the regression equation. In other words, $R^2$ is a statistical measure of how well the regression line approximates the real data points; thus, it is a measure of the goodness of fit of the model.\n",
    "\n",
    "The total variation of the response variable $y$ is based on the deviation of each observed value $y_i$ from the mean value $\\bar{y}$. This quantity is called **total sum of squares, SST,** and is given by\n",
    "\n",
    "$$SST = \\sum (y_i - \\bar{y})^2.$$\n",
    "\n",
    "This total sum of squares (SST) can decomposed into two parts: the deviation explained by the regression line, $\\hat{y}_i - \\bar{y}$, and the remaining unexplained deviation $y_i - \\hat{y}_i$. Consequently, the amount of variation that is explained by the regression is called the **sum of squares due to regression,SSR,** and is given by\n",
    "\n",
    "$$SST = \\sum(\\hat{y}_i - \\bar{y})^2.$$\n",
    "\n",
    "The ratio of the sum of squares due to regression (SSR) and the total sum of squares (SST) is called the **coefficient of determination** and is denoted $R^2.$\n",
    "\n",
    "$$R^2 = \\frac{SSR}{SST}$$\n",
    "\n",
    "$R^2$ lies between $0$ and $1$. A value of near $0$ suggests that the regression equation is not capable of explaining the data. An $R^2$ of $1$ indicates that the regression line perfectly fits the data.\n",
    "\n",
    "Just for the sake of completeness the variation in the observed values of the response variable not explained by the regression is called **sum of squared errors of prediction, SSE** and is given by\n",
    "\n",
    "$$SSE = \\sum(y_i - \\hat{y}_i)^2.$$\n",
    "\n",
    "Recall that the SSE quantity is minimized to obtain the best regression line to describe the data, also known as the **ordinary least squares method (OLS).**"
   ]
  },
  {
   "cell_type": "markdown",
   "metadata": {},
   "source": [
    "**Diagnostic plots**\n",
    "\n",
    "It is important to realize that you may run a linear regression analysis using any statistical software, which results in a bunch of numbers, including a $p$-value, thus you may immediately state if the results were significant (or not). Are we done after reporting significance of the results?\n",
    "\n",
    "Consider a very famous data set, known as **Anscombe's quartet**. Anscombe's quartet consists of four data sets and has the following form:"
   ]
  },
  {
   "cell_type": "code",
   "execution_count": 6,
   "metadata": {},
   "outputs": [],
   "source": [
    "x = [10, 8, 13, 9, 11, 14, 6, 4, 12, 7, 5]\n",
    "y1 = [8.04, 6.95, 7.58, 8.81, 8.33, 9.96, 7.24, 4.26, 10.84, 4.82, 5.68]\n",
    "y2 = [9.14, 8.14, 8.74, 8.77, 9.26, 8.10, 6.13, 3.10, 9.13, 7.26, 4.74]\n",
    "y3 = [7.46, 6.77, 12.74, 7.11, 7.81, 8.84, 6.08, 5.39, 8.15, 6.42, 5.73]\n",
    "x4 = [8, 8, 8, 8, 8, 8, 8, 19, 8, 8, 8]\n",
    "y4 = [6.58, 5.76, 7.71, 8.84, 8.47, 7.04, 5.25, 12.50, 5.56, 7.91, 6.89]"
   ]
  },
  {
   "cell_type": "markdown",
   "metadata": {},
   "source": [
    "For the four data sets $(x,y1),(x,y2),(x,y3)$ and $(x4,y4)$, the mean, variance, coefficient, intercept, and $R^2$ is almost the same. So are we done with analysis? No, not yet! No matter what, we should always check the model works well for data. Any easy way to do that is to visualize the data. Let us plot the Anscombe's data set, including the regession line."
   ]
  },
  {
   "cell_type": "code",
   "execution_count": 7,
   "metadata": {},
   "outputs": [
    {
     "data": {
      "image/png": "[encoded data removed]",
      "text/plain": [
       "<Figure size 432x432 with 4 Axes>"
      ]
     },
     "metadata": {
      "needs_background": "light"
     },
     "output_type": "display_data"
    }
   ],
   "source": [
    "# taken from the matplotlib documentation\n",
    "\n",
    "import matplotlib.pyplot as plt\n",
    "import numpy as np\n",
    "\n",
    "datasets = {\n",
    "    'I': (x, y1),\n",
    "    'II': (x, y2),\n",
    "    'III': (x, y3),\n",
    "    'IV': (x4, y4)\n",
    "}\n",
    "\n",
    "fig, axs = plt.subplots(2, 2, sharex=True, sharey=True, figsize=(6, 6),\n",
    "                        gridspec_kw={'wspace': 0.08, 'hspace': 0.08})\n",
    "axs[0, 0].set(xlim=(0, 20), ylim=(2, 14))\n",
    "axs[0, 0].set(xticks=(0, 10, 20), yticks=(4, 8, 12))\n",
    "\n",
    "for ax, (label, (x, y)) in zip(axs.flat, datasets.items()):\n",
    "    ax.text(0.1, 0.9, label, fontsize=20, transform=ax.transAxes, va='top')\n",
    "    ax.tick_params(direction='in', top=True, right=True)\n",
    "    ax.plot(x, y, 'o')\n",
    "\n",
    "    # linear regression\n",
    "    p1, p0 = np.polyfit(x, y, deg=1)\n",
    "    x_lin = np.array([np.min(x), np.max(x)])\n",
    "    y_lin = p1 * x_lin + p0\n",
    "    ax.plot(x_lin, y_lin, 'r-', lw=2)\n",
    "\n",
    "    # add text box for the statistics\n",
    "    stats = (f'$\\\\mu$ = {np.mean(y):.2f}\\n'\n",
    "             f'$\\\\sigma$ = {np.std(y):.2f}\\n'\n",
    "             f'$r$ = {np.corrcoef(x, y)[0][1]:.2f}')\n",
    "    bbox = dict(boxstyle='round', fc='blanchedalmond', ec='orange', alpha=0.5)\n",
    "    ax.text(0.95, 0.07, stats, fontsize=9, bbox=bbox,\n",
    "            transform=ax.transAxes, horizontalalignment='right')\n",
    "\n",
    "plt.show()"
   ]
  },
  {
   "cell_type": "markdown",
   "metadata": {},
   "source": [
    "What a surprise! The main takeaway of the exercise is to realize that we must check if a model works well for data in many different ways. We pay attention to regression results, such as slope coefficients, $p$-values, or $R^2$ that tell us how well a model represents the given data. However, that is not the whole story. We also need to apply visual diagnostics. The visual inspection helps to evaluate if linear regression assumptions are met or to identify **outliers** and/or **influential observations** and so called **leverage points**, that affect the numerical output of the regression analysis."
   ]
  },
  {
   "cell_type": "markdown",
   "metadata": {},
   "source": [
    "**Residual analysis**\n",
    "\n",
    "A **residual** of an observed value is the difference between the observed value and the estimted value $(y_i - \\hat{y}_i)$. It is the leftover after fitting a model to data. The sum of **squared errors of prediction (SSE),** also known as the **sum of squared residuals** or the **error sum of squares** is an indicator how well a model represents data.\n",
    "\n",
    "If the absolute residuals, defined for observation $x_i$ as $e_i = y_i - \\hat{y}_i$ are unsually large, it may be that the observation is from a different population, or that there was some error in making or recording the observation.\n",
    "\n",
    "![anscombe_residual](anscombe_residual.png)"
   ]
  },
  {
   "cell_type": "markdown",
   "metadata": {},
   "source": [
    "Look at the two plots above, obviously one data point in Anscombe’s data set #3 (right plot) shows a unusually large residue. Such a data point needs special attention as it influences the regression analysis. There is no overarching rule how to deal with outliers, but depending on the domain knowledge of the researcher, there are cases were on may decide to exclude such an outlier from the analysis.\n",
    "\n",
    "In addition we may analyse the residuals to check if linear regression assumptions are met. Regression residuals should be approximately normally-distributed; that is, the regression should explain the structure and whatever is left over should just be noise, caused by measurement errors or many small uncorrelated factors. The normality of residuals can be checked graphically by a plot of the residuals against the values of the predictor variable. In such a **residual plot**, the residuals should be randomly scattered about 0 and the variation around 0 should be equal.\n",
    "\n",
    "Prior to plotting the residuals it is common to standardize the residuals.\n",
    "\n",
    "- A plot of the residuals **(residual plot)** against the values of the predictor variable should fall roughly in a horizontal band centered and symmetric about the $x$-axis.\n",
    "\n",
    "- A **normal probability plot** of the residuals should be roughly linear.\n",
    "\n",
    "![residual_plot](residual_plot.png)"
   ]
  },
  {
   "cell_type": "markdown",
   "metadata": {},
   "source": [
    "Only in the uppermost plot the residuals are fairly well distributed around zero, whereas in the two lower plots that is not the case; thus, indicating that the linear model assumptions are not fulfilled.\n",
    "\n",
    "![normal_prob_plots_residual](normal_prob_plots_residual.png)\n",
    "\n",
    "The normal probability plots, often referred to as **Q-Q plots**, indicate that only in the left plot the data points fall roughly on a straight line. This is not the case for the other plots; thus, indicating that the linear model assumptions are not fulfilled."
   ]
  },
  {
   "cell_type": "markdown",
   "metadata": {},
   "source": [
    "**Outliers and influential points**\n",
    "\n",
    "**Outliers** are points that fall away from the cloud of data points. Outliers that fall horizontally away from the center of the cloud, which do not influence the slope of the regression line are called **leverage points**. Outliers that actually influence the slope of the regression line are called **influential points**, which usually are high leverage points.\n",
    "\n",
    "![outlier_influential](outlier_influential.png)"
   ]
  },
  {
   "cell_type": "markdown",
   "metadata": {},
   "source": [
    "The figure above clearly shows the impact of different types of outliers. The black dashed line shows the regression line without outliers, the blue dashed line shows the regression line, when the blue leverage points are included, the green dashed line shows the regression line, when the green influential points are included and the red line show the final regression line, when all data is included. Obviously the largest effect on the slope of the regression line is due to the green dots!"
   ]
  },
  {
   "cell_type": "markdown",
   "metadata": {},
   "source": [
    "**Leverage**\n",
    "\n",
    "The **leverage** of an observation indicates its ability to move the regression model. These observations are not necessarily an error, but they should be identified and verified. The leverage is measured by the hat value, which measures the overall influence of a single observation on the model predictions. The hat value takes values between $0$ and $1$. A point with zero leverage has no effect on the regression model. The higher the hat value the higher the influence of that particular point on the regression model."
   ]
  },
  {
   "cell_type": "markdown",
   "metadata": {},
   "source": [
    "**Cook’s distance**\n",
    "\n",
    "Another method to capture influential outliers is **Cook’s distance**. The measurement is a combination of the leverage and residue of each particular observation. The higher the leverage and residue, the higher Cook’s distance."
   ]
  },
  {
   "cell_type": "markdown",
   "metadata": {},
   "source": [
    "**There are other useful regression diagnostics** but we won't go into them for now."
   ]
  },
  {
   "cell_type": "code",
   "execution_count": null,
   "metadata": {},
   "outputs": [],
   "source": []
  }
 ],
 "metadata": {
  "kernelspec": {
   "display_name": "Python 3",
   "language": "python",
   "name": "python3"
  },
  "language_info": {
   "codemirror_mode": {
    "name": "ipython",
    "version": 3
   },
   "file_extension": ".py",
   "mimetype": "text/x-python",
   "name": "python",
   "nbconvert_exporter": "python",
   "pygments_lexer": "ipython3",
   "version": "3.8.3"
  }
 },
 "nbformat": 4,
 "nbformat_minor": 4
}
