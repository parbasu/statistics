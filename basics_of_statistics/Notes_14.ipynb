{
 "cells": [
  {
   "cell_type": "markdown",
   "metadata": {},
   "source": [
    "**The Chi-Square Independence Test**"
   ]
  },
  {
   "cell_type": "markdown",
   "metadata": {},
   "source": [
    "The $\\chi^2$ **independence test** is an inferential method to decide whether an association exists between two variables. Similar to other hypothesis tests the null hypothesis states that the two variables are not associated. In contrast, the alternative hypothesis states that the two variables are associated.\n",
    "\n",
    "Recall that statistically **dependent variables** are called **associated variables**. In contrast, non-associated variables are called statistically independent variables. Further recall the concept of **contingency tables** (also known as two-way table, cross-tabulation table or cross tabs), which display the frequency distributions of bivariate data."
   ]
  },
  {
   "cell_type": "markdown",
   "metadata": {},
   "source": [
    "**$\\chi^2$ Independence Test**\n",
    "\n",
    "The basic idea behind the $\\chi^2$ **independence test** is to compare the **observed frequencies** in a contingency table with the **expected frequencies**, given the null hypothesis of non-association is true. The expected frequency for each cell of a contingency table is given by\n",
    "\n",
    "$$E = \\frac{R \\times C}{n},$$\n",
    "\n",
    "where $R$ is the row total, $C$ is the column total, and $n$ is the sample size.\n",
    "\n",
    "Let us construct an example for a better understanding. We consider an exit poll in form of a contingency table that displays the age of $n=1189$ people in categories from 18-29,30-44,45-64 and >65\n",
    "years, and their political affiliation, which is \"Conservatie\", \"Socialist\" and \"Other\". This table corresponds to the observed frequencies.\n",
    "\n",
    "**Observed frequencies:**\n",
    "\n",
    "\\begin{array}{|l|c|}\n",
    "\\hline\n",
    "\\ & \\text{Conservative} & \\text{Socialist} & \\text{Other} & \\text{Total} \\\\\n",
    "\\hline\n",
    "\\ \\text{18-29}  & 141 & 68 & 4 & 213\\\\\n",
    "\\ \\text{30-44}  & 179 & 159 & 7 & 345\\\\\n",
    "\\ \\text{45-64} & 220 & 216 & 4 & 440\\\\\n",
    "\\ \\text{65 & older} & 86 & 101 & 4 & 191\\\\\n",
    "\\hline \n",
    "\\  \\text{Total} & 626 & 544 & 19 & 1189\\\\\n",
    "\\hline \n",
    "\\end{array}\n",
    "\n",
    "**Expected frequencies:**\n",
    "\n",
    "\\begin{array}{|l|c|}\n",
    "\\hline\n",
    "\\ & \\text{Conservative} & \\text{Socialist} & \\text{Other} & \\text{Total} \\\\\n",
    "\\hline\n",
    "\\ \\text{18-29}  & \\frac{213 \\times 626 }{1189} \\approx 112.14 & \\frac{213 \\times 544 }{1189} \\approx97.45 & \\frac{213 \\times 19 }{1189} \\approx3.4 & 213\\\\\n",
    "\\ \\text{30-44}  & \\frac{345 \\times 626 }{1189} \\approx181.64 &\\frac{345 \\times 544 }{1189} \\approx 157.85 & \\frac{345 \\times 19 }{1189} \\approx5.51 & 345\\\\\n",
    "\\ \\text{45-64} & \\frac{440 \\times 626 }{1189} \\approx231.66 & \\frac{440 \\times 544 }{1189} \\approx201.31 &\\frac{440 \\times 19 }{1189} \\approx 7.03 & 440\\\\\n",
    "\\ \\text{65 & older} &\\frac{191 \\times 626 }{1189} \\approx 100.56 &\\frac{191 \\times 544 }{1189} \\approx 87.39 & \\frac{191 \\times 19 }{1189} \\approx3.05 & 191\\\\\n",
    "\\hline \n",
    "\\ \\text{Total} & 626 & 544 & 19 & 1189\\\\\n",
    "\\hline \n",
    "\\end{array}\n",
    "\n"
   ]
  },
  {
   "cell_type": "markdown",
   "metadata": {},
   "source": [
    "Once we know about the expected frequencies we have to check for two assumptions. First, we have to make sure that all expected frequencies are 1 or greater, and second, at most 20% of the expected frequencies are less than 5. By looking at the table we may confirm that both assumptions are fulfilled."
   ]
  },
  {
   "cell_type": "markdown",
   "metadata": {},
   "source": [
    "The actual comparison is done based on the the $\\chi^2$ test statistic for the observed frequency and the expected frequency. The $\\chi^2$ test statistic follows the $\\chi^2$ distribution and is given by\n",
    "\n",
    "$$$\\chi^2$ = \\sum{\\frac{(O-E)^2}{E}},$$\n",
    "\n",
    "where $O$ represents the observed frequency and $E$ represents the expected frequency. Please note that $\\frac{(O-E)^2}{E}$ is evaluated for each cell and then summed up.\n",
    "\n",
    "The number of degrees of freedom are given by\n",
    "\n",
    "$$df=(r-1) \\times (c-1),$$\n",
    "\n",
    "where $r$ and $c$ are the number of possible values for the two variables under consideration.\n",
    "\n",
    "Adopted to the example from above this leads to a somehow long expression, which for the sake of brevity is just given for the first and last row of the contigency tables of interest.\n",
    "\n",
    "$$\\chi^2 = \\frac{141 \\times 112.14}{112.14} + \\frac{68 \\times 97.45}{97.45} + \\frac{4 \\times 3.4}{3.4}  + ... + \\frac{86 \\times 100.56}{100.56} + \\frac{101 \\times 87.39}{87.39} + \\frac{4 \\times 3.05}{3.05}$$\n",
    "\n",
    "If the null hypothesis is true, the observed and expected frequencies are roughly equal, resulting in a small value of the $\\chi^2$ test statistic; thus supporting $H_0$. If, however, the value of the $\\chi^2$ test statistic is large, the data provides evidence against $H_0$. In the next sections we further discuss how to asses the value $\\chi^2$ test statistic in the framework of hypothesis testing."
   ]
  },
  {
   "cell_type": "markdown",
   "metadata": {},
   "source": [
    "**$\\chi^2$ Independence Test: An example**\n",
    "\n",
    "In order to get some hands-on experience we apply the $\\chi^2$ independence test in an exercise. Therefore we load the students data set."
   ]
  },
  {
   "cell_type": "code",
   "execution_count": 1,
   "metadata": {},
   "outputs": [],
   "source": [
    "import pandas as pd\n",
    "\n",
    "students_df = pd.read_csv(\"https://userpage.fu-berlin.de/soga/200/2010_data_sets/students.csv\")"
   ]
  },
  {
   "cell_type": "markdown",
   "metadata": {},
   "source": [
    "In this exercise we want to examine **if there is an association between the varibles *gender* and *major*, or in other words, we want to know if male students favor different study subjects compared to female students.**"
   ]
  },
  {
   "cell_type": "markdown",
   "metadata": {},
   "source": [
    "**Data preparation**\n",
    "\n",
    "We start with the data preparation. We do not want to deal with the whole data set of $8239$ entries, thus we randomly select $865$ student from the data set. The first step of data preparation is to display our data of interest in form of a contingency table."
   ]
  },
  {
   "cell_type": "code",
   "execution_count": 2,
   "metadata": {},
   "outputs": [],
   "source": [
    "sample_df = students_df.sample(n=865)"
   ]
  },
  {
   "cell_type": "code",
   "execution_count": 24,
   "metadata": {},
   "outputs": [],
   "source": [
    "data = sample_df.groupby('major').gender.value_counts()"
   ]
  },
  {
   "cell_type": "code",
   "execution_count": 25,
   "metadata": {},
   "outputs": [
    {
     "data": {
      "text/plain": [
       "major                       gender\n",
       "Biology                     Female     95\n",
       "                            Male       83\n",
       "Economics and Finance       Male       96\n",
       "                            Female     49\n",
       "Environmental Sciences      Male       97\n",
       "                            Female     67\n",
       "Mathematics and Statistics  Male      112\n",
       "                            Female     23\n",
       "Political Science           Female     93\n",
       "                            Male       47\n",
       "Social Sciences             Female     74\n",
       "                            Male       29\n",
       "Name: gender, dtype: int64"
      ]
     },
     "execution_count": 25,
     "metadata": {},
     "output_type": "execute_result"
    }
   ],
   "source": [
    "data"
   ]
  },
  {
   "cell_type": "code",
   "execution_count": 36,
   "metadata": {},
   "outputs": [
    {
     "data": {
      "text/html": [
       "<div>\n",
       "<style scoped>\n",
       "    .dataframe tbody tr th:only-of-type {\n",
       "        vertical-align: middle;\n",
       "    }\n",
       "\n",
       "    .dataframe tbody tr th {\n",
       "        vertical-align: top;\n",
       "    }\n",
       "\n",
       "    .dataframe thead th {\n",
       "        text-align: right;\n",
       "    }\n",
       "</style>\n",
       "<table border=\"1\" class=\"dataframe\">\n",
       "  <thead>\n",
       "    <tr style=\"text-align: right;\">\n",
       "      <th></th>\n",
       "      <th>Female</th>\n",
       "      <th>Male</th>\n",
       "    </tr>\n",
       "    <tr>\n",
       "      <th>Major</th>\n",
       "      <th></th>\n",
       "      <th></th>\n",
       "    </tr>\n",
       "  </thead>\n",
       "  <tbody>\n",
       "    <tr>\n",
       "      <th>Biology</th>\n",
       "      <td>95</td>\n",
       "      <td>83</td>\n",
       "    </tr>\n",
       "    <tr>\n",
       "      <th>Economics and Finance</th>\n",
       "      <td>49</td>\n",
       "      <td>96</td>\n",
       "    </tr>\n",
       "    <tr>\n",
       "      <th>Environmental Sciences</th>\n",
       "      <td>67</td>\n",
       "      <td>97</td>\n",
       "    </tr>\n",
       "    <tr>\n",
       "      <th>Mathematics and Statistics</th>\n",
       "      <td>23</td>\n",
       "      <td>112</td>\n",
       "    </tr>\n",
       "    <tr>\n",
       "      <th>Political Science</th>\n",
       "      <td>93</td>\n",
       "      <td>47</td>\n",
       "    </tr>\n",
       "    <tr>\n",
       "      <th>Social Sciences</th>\n",
       "      <td>74</td>\n",
       "      <td>29</td>\n",
       "    </tr>\n",
       "  </tbody>\n",
       "</table>\n",
       "</div>"
      ],
      "text/plain": [
       "                            Female  Male\n",
       "Major                                   \n",
       "Biology                         95    83\n",
       "Economics and Finance           49    96\n",
       "Environmental Sciences          67    97\n",
       "Mathematics and Statistics      23   112\n",
       "Political Science               93    47\n",
       "Social Sciences                 74    29"
      ]
     },
     "execution_count": 36,
     "metadata": {},
     "output_type": "execute_result"
    }
   ],
   "source": [
    "# don't know what to do instead of just creating the table manually\n",
    "\n",
    "table = {'Major': ['Biology', 'Economics and Finance', 'Environmental Sciences',\n",
    "                   'Mathematics and Statistics','Political Science','Social Sciences'],\n",
    "        'Female': [95,49,67,23,93,74], 'Male': [83,96,97,112,47,29]}\n",
    "\n",
    "table_df = pd.DataFrame(table)\n",
    "\n",
    "table_df.set_index('Major', inplace=True)\n",
    "\n",
    "table_df\n"
   ]
  },
  {
   "cell_type": "code",
   "execution_count": 37,
   "metadata": {},
   "outputs": [],
   "source": [
    "table_df['row_sum'] = table_df.sum(axis=1)"
   ]
  },
  {
   "cell_type": "code",
   "execution_count": 44,
   "metadata": {},
   "outputs": [
    {
     "data": {
      "text/html": [
       "<div>\n",
       "<style scoped>\n",
       "    .dataframe tbody tr th:only-of-type {\n",
       "        vertical-align: middle;\n",
       "    }\n",
       "\n",
       "    .dataframe tbody tr th {\n",
       "        vertical-align: top;\n",
       "    }\n",
       "\n",
       "    .dataframe thead th {\n",
       "        text-align: right;\n",
       "    }\n",
       "</style>\n",
       "<table border=\"1\" class=\"dataframe\">\n",
       "  <thead>\n",
       "    <tr style=\"text-align: right;\">\n",
       "      <th></th>\n",
       "      <th>Female</th>\n",
       "      <th>Male</th>\n",
       "      <th>row_sum</th>\n",
       "    </tr>\n",
       "    <tr>\n",
       "      <th>Major</th>\n",
       "      <th></th>\n",
       "      <th></th>\n",
       "      <th></th>\n",
       "    </tr>\n",
       "  </thead>\n",
       "  <tbody>\n",
       "    <tr>\n",
       "      <th>Biology</th>\n",
       "      <td>95</td>\n",
       "      <td>83</td>\n",
       "      <td>178</td>\n",
       "    </tr>\n",
       "    <tr>\n",
       "      <th>Economics and Finance</th>\n",
       "      <td>49</td>\n",
       "      <td>96</td>\n",
       "      <td>145</td>\n",
       "    </tr>\n",
       "    <tr>\n",
       "      <th>Environmental Sciences</th>\n",
       "      <td>67</td>\n",
       "      <td>97</td>\n",
       "      <td>164</td>\n",
       "    </tr>\n",
       "    <tr>\n",
       "      <th>Mathematics and Statistics</th>\n",
       "      <td>23</td>\n",
       "      <td>112</td>\n",
       "      <td>135</td>\n",
       "    </tr>\n",
       "    <tr>\n",
       "      <th>Political Science</th>\n",
       "      <td>93</td>\n",
       "      <td>47</td>\n",
       "      <td>140</td>\n",
       "    </tr>\n",
       "    <tr>\n",
       "      <th>Social Sciences</th>\n",
       "      <td>74</td>\n",
       "      <td>29</td>\n",
       "      <td>103</td>\n",
       "    </tr>\n",
       "  </tbody>\n",
       "</table>\n",
       "</div>"
      ],
      "text/plain": [
       "                            Female  Male  row_sum\n",
       "Major                                            \n",
       "Biology                         95    83      178\n",
       "Economics and Finance           49    96      145\n",
       "Environmental Sciences          67    97      164\n",
       "Mathematics and Statistics      23   112      135\n",
       "Political Science               93    47      140\n",
       "Social Sciences                 74    29      103"
      ]
     },
     "execution_count": 44,
     "metadata": {},
     "output_type": "execute_result"
    }
   ],
   "source": [
    "table_df"
   ]
  },
  {
   "cell_type": "code",
   "execution_count": 54,
   "metadata": {},
   "outputs": [
    {
     "name": "stdout",
     "output_type": "stream",
     "text": [
      "401 464 865\n"
     ]
    }
   ],
   "source": [
    "sum_female = table_df['Female'].sum()\n",
    "sum_male = table_df['Male'].sum()\n",
    "total_sum = table_df['row_sum'].sum()\n",
    "\n",
    "print(sum_female, sum_male, total_sum)"
   ]
  },
  {
   "cell_type": "markdown",
   "metadata": {},
   "source": [
    "In the next step we construct the **expected frequencies**. Recall the equation for above:\n",
    "\n",
    "$$E = \\frac{R\\times C}{n} \\text{,}$$\n",
    "\n",
    "where $R$ is the row total, $C$ is the column total, and $n$ is the sample size.\n",
    "\n",
    "Now we have to compute the expected frequencies using a for loop. I will leave this part for now."
   ]
  },
  {
   "cell_type": "markdown",
   "metadata": {},
   "source": [
    "**Hypothesis testing**\n",
    "\n",
    "In order to conduct the $\\chi^2$ **independence test** we follow the step-wise implementation procedure for hypothesis testing. The $\\chi^2$ **independence test** follows the same step-wise procedure as discussed in the previous sections\n",
    "\n",
    "\\begin{array}{l}\n",
    "\\hline\n",
    "\\ \\text{Step 1}  & \\text{State the null hypothesis } H_0 \\text{ and alternative hypothesis } H_A \\text{.}\\\\\n",
    "\\ \\text{Step 2}  & \\text{Decide on the significance level, } \\alpha\\text{.} \\\\\n",
    "\\ \\text{Step 3}  & \\text{Compute the value of the test statistic.} \\\\\n",
    "\\ \\text{Step 4} &\\text{Determine the p-value.} \\\\\n",
    "\\ \\text{Step 5} & \\text{If } p \\le \\alpha \\text{, reject }H_0 \\text{; otherwise, do not reject } H_0 \\text{.} \\\\\n",
    "\\ \\text{Step 6} &\\text{Interpret the result of the hypothesis test.} \\\\\n",
    "\\hline \n",
    "\\end{array}"
   ]
  },
  {
   "cell_type": "markdown",
   "metadata": {},
   "source": [
    "**Step 1: State the null hypothesis $H_0$ and alternative hypothesis $H_A$**\n",
    "\n",
    "The null hypothesis states that there is no association between the gender and the major study subject of students.\n",
    "\n",
    "$$H_0 : \\text{ No association between gender and major study subject}$$\n",
    "\n",
    "$$H_A: \\text{ There is an association between gender and major study subject}$$"
   ]
  },
  {
   "cell_type": "markdown",
   "metadata": {},
   "source": [
    "**Step 2: Decide on the significance level, $\\alpha$**\n",
    "\n",
    "$$\\alpha = 0.05$$"
   ]
  },
  {
   "cell_type": "code",
   "execution_count": 55,
   "metadata": {},
   "outputs": [],
   "source": [
    "alpha=0.05"
   ]
  },
  {
   "cell_type": "markdown",
   "metadata": {},
   "source": [
    "**Step 3 and 4: Compute the value of the test statistic and the $p$-value.**\n",
    "\n",
    "For illustration purposes we manually compute the test statistic in Python. Recall the equation for the test statistic from above:\n",
    "\n",
    "$$\\chi^2= \\sum{\\frac{(O-E)^2}{E}}\\text{,}$$\n",
    "\n",
    "where $O$ represents the observed frequency and $E$ represents the expected frequency.\n",
    "\n",
    "To calculate the test statistic we perform calculations cell by cell. Thus, we again apply a nested for-loop (I'll do this later!)\n",
    "\n",
    "Recall how to calculate the degrees of freedom:\n",
    "\n",
    "$$df = (r-1) \\times (c-1),$$\n",
    "\n",
    "where $r$ and $c$ are the number of possible values for the two variables under consideration."
   ]
  },
  {
   "cell_type": "code",
   "execution_count": 56,
   "metadata": {},
   "outputs": [],
   "source": [
    "# test statistic\n",
    "\n",
    "# compute df\n",
    "\n",
    "# p-value"
   ]
  },
  {
   "cell_type": "markdown",
   "metadata": {},
   "source": [
    "The $p$-value is less than the specified significance level of $0.05$; we reject $H_0$. The test results are statistically significant at the $5$% level and provide very strong evidence against the null hypothesis.\n",
    "\n",
    "**Step 6: Interpret the result of the hypothesis test.**\n",
    "\n",
    "$p=$. At the $5$% significance level, the data provides very strong evidence to conclude that there is an association betweeen gender and the major study subject."
   ]
  },
  {
   "cell_type": "code",
   "execution_count": 57,
   "metadata": {},
   "outputs": [],
   "source": [
    "# hypothesis testing in python\n",
    "\n",
    "# maybe python already has this test avalaible"
   ]
  },
  {
   "cell_type": "code",
   "execution_count": null,
   "metadata": {},
   "outputs": [],
   "source": []
  }
 ],
 "metadata": {
  "kernelspec": {
   "display_name": "Python 3",
   "language": "python",
   "name": "python3"
  },
  "language_info": {
   "codemirror_mode": {
    "name": "ipython",
    "version": 3
   },
   "file_extension": ".py",
   "mimetype": "text/x-python",
   "name": "python",
   "nbconvert_exporter": "python",
   "pygments_lexer": "ipython3",
   "version": "3.8.3"
  }
 },
 "nbformat": 4,
 "nbformat_minor": 4
}
