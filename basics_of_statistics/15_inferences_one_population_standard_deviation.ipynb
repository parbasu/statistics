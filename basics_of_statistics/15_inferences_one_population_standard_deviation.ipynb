{
 "cells": [
  {
   "cell_type": "markdown",
   "metadata": {},
   "source": [
    "**Inferences for Population Standard Deviations**\n",
    "\n",
    "So far we discussed methods of inferential statistics that focus on inferences for one or more population means. In the following sections we consider methods of inferential statistics that focus on inferences for population variances (or standard deviations). Recall that the variance $(\\sigma^2)$ and standard deviation $(\\sigma)$ are measure of the variation and variability of a variable."
   ]
  },
  {
   "cell_type": "markdown",
   "metadata": {},
   "source": [
    "**Inferences for One Population Standard Deviation**\n",
    "\n",
    "Inferences for one population standard deviation are based on the **chi-square ($\\chi^2$) distribution**. A $\\chi^2$-distribution is right-skewed probability density curve. The shape of the $\\chi^2$-curve is determined by its degrees of freedom ($df$).\n",
    "\n",
    "![chi_square](chi_square.png)\n",
    "\n",
    "In order to perform a hypothesis test for one population standard deviation, we relate a $\\chi^2$-value to a specified area under a $\\chi^2$-curve.\n",
    "\n",
    "Given $\\alpha$, where $\\alpha$ corresponds to a probability between $0$ and $1$, $\\chi^2_{\\alpha}$ denotees the $\\chi^2$-value having the area $\\alpha$ to its right under $\\chi^2$-curve.\n",
    "\n",
    "![chi_square_alpha](chi_square_alpha.png)"
   ]
  },
  {
   "cell_type": "markdown",
   "metadata": {},
   "source": [
    "**Interval Estimation of $\\sigma$**\n",
    "\n",
    "The $100(1-\\alpha)$% confidence interval for $\\sigma$ is \n",
    "\n",
    "$$\\sqrt{\\frac{(n-1)s}{\\chi^2_{\\alpha/2}}} \\le \\sigma \\le \\sqrt{\\frac{(n-1)s}{\\chi^2_{1-\\alpha/2}} }$$\n",
    "\n",
    "where $n$ is the sample size and $s$ the standard deviation of the sample data."
   ]
  },
  {
   "cell_type": "markdown",
   "metadata": {},
   "source": [
    "**One standard deviation $\\chi^2$-test**\n",
    "\n",
    "The hypothesis testing procedure for one standard deviation is called **one standard deviation $\\chi^2$-test**. Hypothesis testing for variances follows the same step-wise procedure as hypothesis test for the mean.\n",
    "\n",
    "\\begin{array}{l}\n",
    "\\hline\n",
    "\\ \\text{Step 1}  & \\text{State the null hypothesis } H_0 \\text{ and alternative hypothesis } H_A \\text{.}\\\\\n",
    "\\ \\text{Step 2}  & \\text{Decide on the significance level, } \\alpha\\text{.} \\\\\n",
    "\\ \\text{Step 3}  & \\text{Compute the value of the test statistic.} \\\\\n",
    "\\ \\text{Step 4} &\\text{Determine the $p$-value.} \\\\\n",
    "\\ \\text{Step 5} & \\text{If } $p$ \\le \\alpha \\text{, reject }H_0 \\text{; otherwise, do not reject } H_0 \\text{.} \\\\\n",
    "\\ \\text{Step 6} &\\text{Interpret the result of the hypothesis test.} \\\\\n",
    "\\hline \n",
    "\\end{array}\n",
    "\n",
    "The test statistic for a hypothesis test with the null hypothesis $H_0: \\sigma = \\sigma_0$ for a normally distributed variable is given by\n",
    "\n",
    "$$\\chi^2 = \\frac{(n-1)s^2}{\\sigma_{0}^2}$$\n",
    "\n",
    "The variable follows a $\\chi^2$-distribution with $n-1$ degrees of freedom.\n",
    "\n",
    "Be aware, that the one standard deviation $\\chi^2$-test is not robust against violations of the normality assumption.\n",
    "\n",
    "**One-standard-deviation $\\chi^2$-test: An example**\n",
    "\n",
    "In order to get some hands-one experience we apply the **one standard deviation $\\chi^2$-test** in an exercise. Therefore we load the *students* data set."
   ]
  },
  {
   "cell_type": "code",
   "execution_count": 1,
   "metadata": {},
   "outputs": [],
   "source": [
    "import pandas as pd\n",
    "\n",
    "students_df = pd.read_csv(\"https://userpage.fu-berlin.de/soga/200/2010_data_sets/students.csv\")"
   ]
  },
  {
   "cell_type": "markdown",
   "metadata": {},
   "source": [
    "In order to showcase the **one standard deviation $\\chi^2$-test** we examine the spread of the height in cm of female students and compare it to the spread of the height of all students (our population). **We want to test, if the standard deviation of the height of female students is less than standard deviation of the height of all students.**"
   ]
  },
  {
   "cell_type": "markdown",
   "metadata": {},
   "source": [
    "**Data preparation**\n",
    "\n",
    "We start with data preparation.\n",
    "\n",
    "- First, we define the standard deviation of the population. In our example the population corresponds to the height of all $8239$ in the data set. We calculate the standard deviation deviation for the *height* variable and assign it the variable name *sigma0*.\n",
    "\n",
    "- Second, we subset the data set based on the variable *gender*\n",
    "\n",
    "- Third, we sample $30$ female students and extract the statistic of interest, the standard deviation of the height of female students in our sample.\n"
   ]
  },
  {
   "cell_type": "code",
   "execution_count": 3,
   "metadata": {},
   "outputs": [
    {
     "data": {
      "text/plain": [
       "11.077529134763747"
      ]
     },
     "execution_count": 3,
     "metadata": {},
     "output_type": "execute_result"
    }
   ],
   "source": [
    "sigma0 = students_df['height'].std()\n",
    "sigma0"
   ]
  },
  {
   "cell_type": "code",
   "execution_count": 4,
   "metadata": {},
   "outputs": [
    {
     "data": {
      "text/plain": [
       "9.088390978314733"
      ]
     },
     "execution_count": 4,
     "metadata": {},
     "output_type": "execute_result"
    }
   ],
   "source": [
    "import numpy as np\n",
    "\n",
    "female = students_df[students_df['gender']=='Female']\n",
    "\n",
    "n=30\n",
    "\n",
    "female_sample = np.random.choice(female['height'],n)\n",
    "\n",
    "sample_sd = np.std(female_sample, ddof=1)\n",
    "\n",
    "sample_sd"
   ]
  },
  {
   "cell_type": "markdown",
   "metadata": {},
   "source": [
    "Further, we check the normality assumption by plotting a **Q-Q plot**."
   ]
  },
  {
   "cell_type": "code",
   "execution_count": 7,
   "metadata": {},
   "outputs": [
    {
     "data": {
      "image/png": "[encoded data removed]",
      "text/plain": [
       "<Figure size 432x288 with 1 Axes>"
      ]
     },
     "metadata": {
      "needs_background": "light"
     },
     "output_type": "display_data"
    }
   ],
   "source": [
    "import statsmodels.api as sm\n",
    "\n",
    "sm.qqplot(female_sample, line='q')\n",
    "\n",
    "pass"
   ]
  },
  {
   "cell_type": "markdown",
   "metadata": {},
   "source": [
    "We see that the data falls roughly on a straight line. Based on the graphical evaluation approach we conclude that the variable of interest is roughly normally distributed."
   ]
  },
  {
   "cell_type": "markdown",
   "metadata": {},
   "source": [
    "**Hypothesis testing**\n",
    "\n",
    "In order to conduct the **one standard deviation $\\chi^2$-test** we follow the step-wise implementation procedure for hypothesis testing.\n",
    "\n",
    "**Step 1: State the null hypothesis $H_0$ and alternative hypothesis $H_A$**\n",
    "\n",
    "The null hypothesis states that the standard deviation of the height of female students $(\\sigma)$ equals the standard deviation of the population $(\\sigma_0 \\approx 11.08$ cm).\n",
    "\n",
    "$$H_0 : \\sigma = \\sigma_0$$\n",
    "\n",
    "**Alternative hypothesis**\n",
    "\n",
    "$$H_A: \\sigma < \\sigma_0$$\n",
    "\n",
    "This formulation results in a left-tailed hypothesis test.\n",
    "\n",
    "**Step 2: Decide on the significance level, $\\alpha$**\n",
    "\n",
    "$$\\alpha = 0.05$$"
   ]
  },
  {
   "cell_type": "code",
   "execution_count": 8,
   "metadata": {},
   "outputs": [],
   "source": [
    "alpha = 0.05"
   ]
  },
  {
   "cell_type": "markdown",
   "metadata": {},
   "source": [
    "**Step 3 and 4: Compute the value of the test statistic and the $p$-value.**\n",
    "\n",
    "For illustration purposes we manually compute the test statistic in Python. Recall the equation for the test statistic from above:\n",
    "\n",
    "$$\\chi^2 = \\frac{n-1}{\\sigma^2_0}s^2$$"
   ]
  },
  {
   "cell_type": "code",
   "execution_count": 9,
   "metadata": {},
   "outputs": [
    {
     "data": {
      "text/plain": [
       "19.520287053971774"
      ]
     },
     "execution_count": 9,
     "metadata": {},
     "output_type": "execute_result"
    }
   ],
   "source": [
    "# compute the value of the test statistic\n",
    "\n",
    "n = len(female_sample)\n",
    "\n",
    "s2 = (sample_sd)**2\n",
    "\n",
    "sigma0_2 = (sigma0)**2\n",
    "\n",
    "x2 = ((n-1)/(sigma0_2))*s2\n",
    "\n",
    "x2"
   ]
  },
  {
   "cell_type": "markdown",
   "metadata": {},
   "source": [
    "Recall how to calculate the degrees of freedom:\n",
    "    \n",
    "$$df = n-1$$"
   ]
  },
  {
   "cell_type": "code",
   "execution_count": 13,
   "metadata": {},
   "outputs": [
    {
     "data": {
      "text/plain": [
       "0.092787906860754"
      ]
     },
     "execution_count": 13,
     "metadata": {},
     "output_type": "execute_result"
    }
   ],
   "source": [
    "# compute df\n",
    "\n",
    "df = n-1\n",
    "\n",
    "from scipy.stats import chi2\n",
    "\n",
    "# compute the p-value\n",
    "\n",
    "p = chi2.cdf(x2, df=df)\n",
    "\n",
    "p"
   ]
  },
  {
   "cell_type": "markdown",
   "metadata": {},
   "source": [
    "**Step 5: If $p \\leq \\alpha$, reject $H_0$; otherwise, do not reject $H_0$.**\n",
    "\n",
    "The $p$-value is more than the specified significance level of $0.05$; we do not reject $H_0$. The test results are statistically significant at the $5$% level and do not provide evidence against the null hypothesis.\n",
    "\n",
    "**Step 6: Interpret the result of the hypothesis test.**\n",
    "\n",
    "$p=0.092787906860754$ . At the $5$% significance level, the data does not provide evidence to conclude that the standard deviation of the height of female students is less than $11$ cm."
   ]
  },
  {
   "cell_type": "code",
   "execution_count": null,
   "metadata": {},
   "outputs": [],
   "source": []
  }
 ],
 "metadata": {
  "kernelspec": {
   "display_name": "Python 3",
   "language": "python",
   "name": "python3"
  },
  "language_info": {
   "codemirror_mode": {
    "name": "ipython",
    "version": 3
   },
   "file_extension": ".py",
   "mimetype": "text/x-python",
   "name": "python",
   "nbconvert_exporter": "python",
   "pygments_lexer": "ipython3",
   "version": "3.8.3"
  }
 },
 "nbformat": 4,
 "nbformat_minor": 4
}
