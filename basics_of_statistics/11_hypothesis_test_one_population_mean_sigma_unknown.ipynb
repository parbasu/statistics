{
 "cells": [
  {
   "cell_type": "markdown",
   "metadata": {},
   "source": [
    "**Hypothesis Tests for One Population Mean when Sigma is Unknown**\n",
    "\n",
    "A hypothesis test for a population mean when the population standard deviation, $\\sigma$, is unknown is conducted in the same way as if the population standard deviation is known. The only difference is that the **$t$-distribution** is invoked, instead of the standard normal distribution ($z$-distribution).\n",
    "\n",
    "For a test with null hypothesis $H_0 : \\mu = \\mu_0$, the test statistic $t$, calculated as\n",
    "\n",
    "$$t = \\frac{\\bar{x}-\\mu_0}{s/\\sqrt{n}}$$\n",
    "\n",
    "This hypothesis testing prrocedure is called **one-mean $t$-test** or simply **$t$-test**. Recall that hypothesis tests follow a step wise procedure, which is summarized as follows\n",
    "\n",
    "\\begin{array}{l}\n",
    "\\hline\n",
    "\\ \\text{Step 1}  & \\text{State the null hypothesis } H_0 \\text{ and alternative hypothesis } H_A \\text{.}\\\\\n",
    "\\ \\text{Step 2}  & \\text{Decide on the significance level, } \\alpha\\text{.} \\\\\n",
    "\\ \\text{Step 3}  & \\text{Compute the value of the test statistic.} \\\\\n",
    "\\ \\text{Step 4a} & \\text{Critical value approach: Determine the critical value.}\n",
    "\\\\\n",
    "\\ \\text{Step 4b} &\\text{P-value approach: Determine the p-value.} \\\\\n",
    "\\ \\text{Step 5a} & \\text{Critical value approach: If the value of the test statistic falls in the rejection region, reject} H_0  \\text{; otherwise, do not reject} H_0 \\text{.}\n",
    "\\\\\n",
    "\\ \\text{Step 5b} & \\text{P-value approach: If } p \\le \\alpha \\text{, reject }H_0 \\text{; otherwise, do not reject } H_0 \\text{.} \\\\\n",
    "\\ \\text{Step 6} &\\text{Interpret the result of the hypothesis test.} \\\\\n",
    "\\hline \n",
    "\\end{array}"
   ]
  },
  {
   "cell_type": "markdown",
   "metadata": {},
   "source": [
    "**One-mean $t$-test: An example**\n",
    "\n",
    "We work with the *students* data set\n",
    "\n",
    "We examine the average weight of students and compare it to the average weight of Europeans adults. [Walpole et al. (2012)](https://bmcpublichealth.biomedcentral.com/articles/10.1186/1471-2458-12-439) published data on the average body mass *(kg)* per region, including Europe. They report the mean the average body mass for the European adult population to be $70.8$ *kg*. We set $\\mu_0$, the population mean accordingly, $\\mu_0 = 70.8$. \n",
    "\n",
    "We take a random sample $x$ with a sample size of $n=9$. The sample consists of the weights in *kg* of $9$ randomly picked students from the *students* data set."
   ]
  },
  {
   "cell_type": "code",
   "execution_count": 1,
   "metadata": {},
   "outputs": [],
   "source": [
    "import pandas as pd\n",
    "import numpy as np\n",
    "\n",
    "students_df = pd.read_csv(\"https://userpage.fu-berlin.de/soga/200/2010_data_sets/students.csv\")\n",
    "\n",
    "n = 9\n",
    "mu_0 = 70.8\n",
    "\n",
    "x = np.random.choice(students_df['weight'], n )"
   ]
  },
  {
   "cell_type": "markdown",
   "metadata": {},
   "source": [
    "**Hypothesis testing: The critical value approach**\n",
    "\n",
    "**Step 1: State the null hypothesis, $H_0$, and alternative hypothesis, $H_A$.**\n",
    "\n",
    "The null hypothesis states that the average weight of students $(\\mu)$ equals the average weight of European adults of $70.8$ *kg* $(\\mu_0)$ as reported by Walpole et al. ($2012$). In other wordsm there is no difference in the mean weight of students and the mean weight of European adults.\n",
    "\n",
    "$$H_0 : \\mu = 70.8$$\n",
    "\n",
    "For the purpose of illustration we test three alternating hypothesis.\n",
    "\n",
    "**Alternative hypothesis 1**: The average weight of students does not equal the average weight of European adults. In other words there is a difference in the mean weight of students and the mean weight of European adults.\n",
    "\n",
    "$$H_{A_1} : \\mu \\neq 70.8$$\n",
    "\n",
    "**Alternative hypothesis 2**: The average weight of students is less than the average weight of European adults.\n",
    "\n",
    "$$H_{A_2}: \\mu < 70.8$$\n",
    "\n",
    "**Alternative hypothesis 3**: The average weight of students is higher than the average weight of European adults.\n",
    "\n",
    "$$H_{A_3} : \\mu > 70.8$$\n",
    "\n",
    "**Step 2: Decide on the significance level, $\\alpha$.**\n",
    "\n",
    "$$\\alpha = 0.05$$"
   ]
  },
  {
   "cell_type": "code",
   "execution_count": 2,
   "metadata": {},
   "outputs": [],
   "source": [
    "alpha = 0.05"
   ]
  },
  {
   "cell_type": "markdown",
   "metadata": {},
   "source": [
    "**Step 3, 4 and 5: Compute the value of the test statistic, determine the critical value, and evaluate the value of the test statistic. If it falls in the rejection region, reject $H_0$; otherwise, do not reject $H_0$**"
   ]
  },
  {
   "cell_type": "code",
   "execution_count": 4,
   "metadata": {},
   "outputs": [
    {
     "name": "stdout",
     "output_type": "stream",
     "text": [
      "2.3060041350333704 -1.8595480375228424 1.8595480375228424\n"
     ]
    }
   ],
   "source": [
    "from scipy.stats import t\n",
    "\n",
    "df = n-1\n",
    "\n",
    "t_A1 = t.ppf(1-alpha/2, df)\n",
    "t_A2 = -t.ppf(1-alpha, df)\n",
    "t_A3 = t.ppf(1-alpha, df)\n",
    "\n",
    "print(t_A1,t_A2,t_A3)"
   ]
  },
  {
   "cell_type": "code",
   "execution_count": 11,
   "metadata": {},
   "outputs": [
    {
     "data": {
      "text/plain": [
       "0.9431506816302334"
      ]
     },
     "execution_count": 11,
     "metadata": {},
     "output_type": "execute_result"
    }
   ],
   "source": [
    "import math\n",
    "\n",
    "x_bar = np.mean(x)\n",
    "sigma = np.std(x,ddof=1)\n",
    "\n",
    "t_statistic = (x_bar - mu_0)/ (sigma / math.sqrt(n))\n",
    "\n",
    "t_statistic"
   ]
  },
  {
   "cell_type": "markdown",
   "metadata": {},
   "source": [
    "In all three cases, we conclude that at $5$% significance level, the data does not provide sufficient evidence to reject $H_0$"
   ]
  },
  {
   "cell_type": "markdown",
   "metadata": {},
   "source": [
    "**Hypothesis testing The $p$-value approach**"
   ]
  },
  {
   "cell_type": "code",
   "execution_count": 12,
   "metadata": {},
   "outputs": [
    {
     "name": "stdout",
     "output_type": "stream",
     "text": [
      "0.3732104831406428 0.8133947584296786 0.18660524157032143\n"
     ]
    }
   ],
   "source": [
    "from scipy.stats import t\n",
    "\n",
    "upper = 1- t.cdf(t_statistic,df)\n",
    "lower = t.cdf(-t_statistic,df)\n",
    "p_A1 = upper + lower \n",
    "\n",
    "p_A2 = t.cdf(t_statistic,df)\n",
    "\n",
    "p_A3 = 1- t.cdf(t_statistic,df)\n",
    "\n",
    "print(p_A1, p_A2, p_A3)"
   ]
  },
  {
   "cell_type": "code",
   "execution_count": 13,
   "metadata": {},
   "outputs": [
    {
     "data": {
      "text/plain": [
       "Ttest_1sampResult(statistic=0.9431506816302333, pvalue=0.3732104831406429)"
      ]
     },
     "execution_count": 13,
     "metadata": {},
     "output_type": "execute_result"
    }
   ],
   "source": [
    "from scipy.stats import ttest_1samp\n",
    "\n",
    "ttest_1samp(x,mu_0)"
   ]
  },
  {
   "cell_type": "markdown",
   "metadata": {},
   "source": [
    "So in all three scenarios, we don't have sufficient evidence to reject the null hypothesis at the $5$% significance level."
   ]
  },
  {
   "cell_type": "code",
   "execution_count": null,
   "metadata": {},
   "outputs": [],
   "source": []
  }
 ],
 "metadata": {
  "kernelspec": {
   "display_name": "Python 3",
   "language": "python",
   "name": "python3"
  },
  "language_info": {
   "codemirror_mode": {
    "name": "ipython",
    "version": 3
   },
   "file_extension": ".py",
   "mimetype": "text/x-python",
   "name": "python",
   "nbconvert_exporter": "python",
   "pygments_lexer": "ipython3",
   "version": "3.8.3"
  }
 },
 "nbformat": 4,
 "nbformat_minor": 4
}
