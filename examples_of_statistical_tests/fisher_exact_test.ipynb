{
 "cells": [
  {
   "cell_type": "markdown",
   "metadata": {},
   "source": [
    "**Fisher's Exact Test**\n",
    "\n",
    "Fisher's exact test is based on the hypergeometric distribution. "
   ]
  },
  {
   "cell_type": "markdown",
   "metadata": {},
   "source": [
    "Fisher’s exact test is similar to the Chi-squared test, but is suitable for small sample sizes. As a rule it should be used if at least 20% of values are less than $5$ or any value is zero. Although in practice it is employed when sample sizes are small, it is valid for all sample sizes.\n",
    "\n",
    "For example, let us look at an example where a group of 16 people may choose tennis or football. In the group of $16$ there are six boys and ten girls. The tennis group has one boy and eight girls. The football group has five boys and two girls. Does the sport affect the proportion of boys and girls choosing it?"
   ]
  },
  {
   "cell_type": "code",
   "execution_count": 1,
   "metadata": {},
   "outputs": [
    {
     "name": "stdout",
     "output_type": "stream",
     "text": [
      "Data:\n",
      "[[1 5]\n",
      " [8 2]]\n",
      "\n",
      "Probability that column does not effect row values:\n",
      "0.03496503496503495\n"
     ]
    }
   ],
   "source": [
    "import numpy as np\n",
    "import scipy.stats as stats\n",
    "\n",
    "obs = np.array([[1,5], [8,2]])\n",
    "fisher_result = stats.fisher_exact(obs)\n",
    "\n",
    "p_val = fisher_result[1]\n",
    "\n",
    "print ('Data:')\n",
    "print (obs)\n",
    "\n",
    "print ('\\nProbability that column does not effect row values:')\n",
    "print (p_val)"
   ]
  },
  {
   "cell_type": "code",
   "execution_count": null,
   "metadata": {},
   "outputs": [],
   "source": []
  }
 ],
 "metadata": {
  "kernelspec": {
   "display_name": "Python 3",
   "language": "python",
   "name": "python3"
  },
  "language_info": {
   "codemirror_mode": {
    "name": "ipython",
    "version": 3
   },
   "file_extension": ".py",
   "mimetype": "text/x-python",
   "name": "python",
   "nbconvert_exporter": "python",
   "pygments_lexer": "ipython3",
   "version": "3.8.3"
  }
 },
 "nbformat": 4,
 "nbformat_minor": 4
}
