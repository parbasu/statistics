{
 "cells": [
  {
   "cell_type": "markdown",
   "metadata": {},
   "source": [
    "https://www.geo.fu-berlin.de/en/v/soga/Basics-of-statistics/ANOVA/One-way-ANOVA-Hypothesis-Test/index.html\n",
    "\n",
    "![title](img/picture.png)"
   ]
  },
  {
   "cell_type": "code",
   "execution_count": 1,
   "metadata": {},
   "outputs": [
    {
     "name": "stdout",
     "output_type": "stream",
     "text": [
      "P value:\n",
      "6.301573929949939e-05\n"
     ]
    }
   ],
   "source": [
    "import numpy as np\n",
    "import scipy.stats as stats\n",
    "\n",
    "# Create four random groups of data with a mean difference of 1\n",
    "\n",
    "mu, sigma = 10, 3 # mean and standard deviation\n",
    "group1 = np.random.normal(mu, sigma, 50)\n",
    "\n",
    "mu, sigma = 11, 3 # mean and standard deviation\n",
    "group2 = np.random.normal(mu, sigma, 50)\n",
    "\n",
    "mu, sigma = 12, 3 # mean and standard deviation\n",
    "group3 = np.random.normal(mu, sigma, 50)\n",
    "\n",
    "mu, sigma = 13, 3 # mean and standard deviation\n",
    "group4 = np.random.normal(mu, sigma, 50)\n",
    "\n",
    "# Test whether all groups belong to the same population\n",
    "\n",
    "F_statistic, pVal = stats.f_oneway(group1, group2, group3, group4)\n",
    "\n",
    "print ('P value:')\n",
    "print (pVal)"
   ]
  },
  {
   "cell_type": "code",
   "execution_count": null,
   "metadata": {},
   "outputs": [],
   "source": []
  }
 ],
 "metadata": {
  "kernelspec": {
   "display_name": "Python 3",
   "language": "python",
   "name": "python3"
  },
  "language_info": {
   "codemirror_mode": {
    "name": "ipython",
    "version": 3
   },
   "file_extension": ".py",
   "mimetype": "text/x-python",
   "name": "python",
   "nbconvert_exporter": "python",
   "pygments_lexer": "ipython3",
   "version": "3.8.3"
  }
 },
 "nbformat": 4,
 "nbformat_minor": 4
}
