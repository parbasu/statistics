{
 "cells": [
  {
   "cell_type": "markdown",
   "metadata": {},
   "source": [
    "The test statistic for an Independent Samples $t$ Test is denoted $t$. There are actually two forms of the test statistic for this test, depending on whether or not equal variances are assumed.\n",
    "\n",
    "**EQUAL VARIANCES ASSUMED**\n",
    "\n",
    "**student $t$-test**\n",
    "\n",
    "When the two independent samples are assumed to be drawn from identical population variances (i.e., $\\sigma_1^2 = \\sigma_2^2)$, the test statistics $t$ is computed as:\n",
    "\n",
    "$$t = \\frac{\\bar{x_1} - \\bar{x_2}}{s_p \\sqrt{ \\frac{1}{n_1} + \\frac{1}{n_2} }}$$\n",
    "\n",
    "with \n",
    "\n",
    "$$s_p = \\sqrt{ \\frac{(n-1)s_1^2 + (n_2-1)s_2^2}{n_1 + n_2 -2} }$$\n",
    "\n",
    "where\n",
    "\n",
    "- $\\bar{x_1}$ = mean of first sample\n",
    "- $\\bar{x_2}$ = mean of second sample\n",
    "- $n_1$ = sample size (i.e., number of observations) of first sample\n",
    "- $n_2$ = sample size (i.e., number of observations) of second sample\n",
    "- $s_1$ = standard deviation of first sample\n",
    "- $s_2$ = standard devation of second sample\n",
    "- $s_p$ = pooled standard deviation \n",
    "\n",
    "The calculated $t$ value is then compared to the critical $t$ value from the $t$ distribution table with degrees of freedom $df=n_1 +n_2 - 2$ and chosen confidence level. If the calculated $t$ value is greater than the critical $t$ value, then we reject the null hypothesis.\n",
    "\n",
    "Note that this form of the independent samples $t$ test statistic assumes equal variances.\n",
    "\n",
    "Because we assume equal population variances, it is OK to \"pool\" the sample variances $(s_p)$. However, if this assumption is violated, the pooled variance estimate may not be accurate, which would affect the accuracy of our test statistic (and hence, the p-value)\n",
    "\n",
    "The pooled-variance $t$ procedure assumptions:\n",
    "\n",
    "1. Independent simple random samples (or a randomized experiment)\n",
    "\n",
    "2. Normally distributed populations (not very important for large sample sizes)\n",
    "\n",
    "3. Equal population variances ($\\sigma_1^2 = \\sigma_2^2$)\n",
    "\n",
    "\n",
    "**Confidence Interval**\n",
    "\n",
    "A $(1-\\alpha)100\\%$ confidence interval for $\\mu_1- \\mu_2$ is\n",
    "\n",
    "$$ \\bar{x_1} - \\bar{x_2} \\pm t_{\\alpha_2} \\times SE(\\bar{x_1} - \\bar{x_2})$$\n",
    "\n",
    "where $SE(\\bar{x_1} - \\bar{x_2})$ is the standard error given by \n",
    "\n",
    "$$s_p \\sqrt{ \\frac{1}{n_1} + \\frac{1}{n_2} }$$\n",
    "\n",
    "We often want to test the hypothesis:\n",
    "\n",
    "$$H_0: \\mu_1 = \\mu_2$$\n",
    "\n",
    "against one of the $3$ possible alternatives:\n",
    "\n",
    "- $H_a: \\mu_1 > \\mu_2$\n",
    "- $H_a: \\mu_1 < \\mu_2$\n",
    "- $H_a: \\mu_1 \\neq \\mu_2$\n",
    "\n",
    "\n",
    "**EQUAL VARIANCES NOT ASSUMED**\n",
    "\n",
    "**Welch's $t$-test**\n",
    "\n",
    "When the two independent samples are assumed to be drawn from identical population variances (i.e., $\\sigma_1^2 \\neq \\sigma_2^2)$, the test statistics $t$ is computed as:\n",
    "\n",
    "$$t = \\frac{\\bar{x_1} - \\bar{x_2}}{ \\sqrt{ \\frac{s_1^2}{n_1} + \\frac{s_2^2}{n_2} }}$$\n",
    "\n",
    "The calculated $t$ value is then compared to the critical $t$ value from the $t$ distribution table with degrees of freedom \n",
    "\n",
    "$$ df = \\frac{ ( \\frac{s_1^2}{n_1} + \\frac{s_2^2}{n_2} )^2  }{ \\frac{1}{n_1-1} (\\frac{s_1^2}{n_1})^2 + \\frac{1}{n_2-1} (\\frac{s_2^2}{n_2})^2  }$$\n",
    "\n",
    "and chosen confidence level. If the calculated $t$ value > critical $t$ value, then we reject the null hypothesis.\n",
    "\n",
    "Note that this form of the independent samples t test statistic does not assume equal variances. This is why both the denominator of the test statistic and the degrees of freedom of the critical value of t are different than the equal variances form of the test statistic.\n",
    "\n",
    "The Welch $t$ procedure assumptions:\n",
    "\n",
    "1. Independent random samples (or a randomized experiment)\n",
    "\n",
    "2. Normally distributed populations (not very important for large sample sizes)\n",
    "\n",
    "The Welch procedure is an approximate (not exact) procedure.\n",
    "\n",
    "**Confidence Interval**\n",
    "\n",
    "A $(1-\\alpha)100\\%$ confidence interval for $\\mu_1- \\mu_2$ is\n",
    "\n",
    "$$ \\bar{x_1} - \\bar{x_2} \\pm t_{\\alpha_2} \\times SE_W(\\bar{x_1} - \\bar{x_2})$$\n",
    "\n",
    "where $SE_W$ is given by \n",
    "\n",
    "$$\\sqrt{ \\frac{s_1^2}{n_1} + \\frac{s_2^2}{n_2} }$$\n",
    "\n",
    "We often want to test the hypothesis:\n",
    "\n",
    "$$H_0: \\mu_1 = \\mu_2$$\n",
    "\n",
    "against one of the $3$ possible alternatives:\n",
    "\n",
    "- $H_a: \\mu_1 > \\mu_2$\n",
    "- $H_a: \\mu_1 < \\mu_2$\n",
    "- $H_a: \\mu_1 \\neq \\mu_2$\n",
    "\n"
   ]
  },
  {
   "cell_type": "code",
   "execution_count": 11,
   "metadata": {},
   "outputs": [
    {
     "name": "stdout",
     "output_type": "stream",
     "text": [
      "Ttest_indResult(statistic=0.26833823296238857, pvalue=0.788494433695651)\n",
      "Ttest_indResult(statistic=0.26833823296238857, pvalue=0.7884945274950106)\n",
      "\n",
      "Ttest_indResult(statistic=-0.46580283298287956, pvalue=0.6414582741343561)\n",
      "Ttest_indResult(statistic=-0.46580283298287956, pvalue=0.6414964624656874)\n",
      "\n",
      "Ttest_indResult(statistic=-0.9988253944278285, pvalue=0.3182832709103878)\n",
      "Ttest_indResult(statistic=-0.6971257058465435, pvalue=0.4871692772540187)\n",
      "\n",
      "Ttest_indResult(statistic=-1.467966985449067, pvalue=0.14263895620529113)\n",
      "Ttest_indResult(statistic=-0.9436597361713308, pvalue=0.3474417033479409)\n"
     ]
    }
   ],
   "source": [
    "import numpy as np\n",
    "from scipy import stats\n",
    "np.random.seed(12345678)\n",
    "\n",
    "#Test with sample with identical means:\n",
    "\n",
    "rvs1 = stats.norm.rvs(loc=5,scale=10,size=500)\n",
    "rvs2 = stats.norm.rvs(loc=5,scale=10,size=500)\n",
    "\n",
    "print(stats.ttest_ind(rvs1,rvs2))\n",
    "print(stats.ttest_ind(rvs1,rvs2, equal_var = False))\n",
    "\n",
    "#ttest_ind underestimates p for unequal variances:\n",
    "\n",
    "rvs3 = stats.norm.rvs(loc=5, scale=20, size=500)\n",
    "\n",
    "print('')\n",
    "print(stats.ttest_ind(rvs1, rvs3))\n",
    "print(stats.ttest_ind(rvs1, rvs3, equal_var = False))\n",
    "\n",
    "#When n1 != n2, the equal variance t-statistic is no longer equal to the unequal variance t-statistic:\n",
    "\n",
    "rvs4 = stats.norm.rvs(loc=5, scale=20, size=100)\n",
    "\n",
    "print('')\n",
    "print(stats.ttest_ind(rvs1, rvs4))\n",
    "print(stats.ttest_ind(rvs1, rvs4, equal_var = False))\n",
    "\n",
    "#T-test with different means, variance, and n:\n",
    "\n",
    "rvs5 = stats.norm.rvs(loc=8, scale=20, size=100)\n",
    "\n",
    "print('')\n",
    "print(stats.ttest_ind(rvs1, rvs5))\n",
    "print(stats.ttest_ind(rvs1, rvs5, equal_var = False))\n"
   ]
  },
  {
   "cell_type": "code",
   "execution_count": 38,
   "metadata": {},
   "outputs": [
    {
     "data": {
      "text/plain": [
       "(-0.35386695594897283, 0.7241987812614259, 98.0)"
      ]
     },
     "execution_count": 38,
     "metadata": {},
     "output_type": "execute_result"
    }
   ],
   "source": [
    "import numpy as np\n",
    "\n",
    "from statsmodels.stats.weightstats import ttest_ind\n",
    "\n",
    "group_1 = np.random.normal(10,2.5,50)\n",
    "group_2 = np.random.normal(11,2.5,50)\n",
    "\n",
    "ttest_ind(group_1, group_2)"
   ]
  },
  {
   "cell_type": "code",
   "execution_count": 35,
   "metadata": {},
   "outputs": [
    {
     "data": {
      "text/plain": [
       "(-1.0538208839370253, 0.29465179531670005, 94.50488685430918)"
      ]
     },
     "execution_count": 35,
     "metadata": {},
     "output_type": "execute_result"
    }
   ],
   "source": [
    "group_1 = np.random.normal(10,2.5,50)\n",
    "group_2 = np.random.normal(11,4,50)\n",
    "\n",
    "ttest_ind(group_1, group_2, usevar = 'unequal')"
   ]
  },
  {
   "cell_type": "code",
   "execution_count": 37,
   "metadata": {},
   "outputs": [
    {
     "data": {
      "text/plain": [
       "(-10.414599391793885, -5.585400608206114)"
      ]
     },
     "execution_count": 37,
     "metadata": {},
     "output_type": "execute_result"
    }
   ],
   "source": [
    "import numpy as np, statsmodels.stats.api as sms\n",
    "\n",
    "X1, X2 = np.arange(10,21), np.arange(20,26.5,.5)\n",
    "\n",
    "cm = sms.CompareMeans(sms.DescrStatsW(X1), sms.DescrStatsW(X2))\n",
    "\n",
    "cm.tconfint_diff(usevar='unequal')"
   ]
  },
  {
   "cell_type": "code",
   "execution_count": null,
   "metadata": {},
   "outputs": [],
   "source": []
  }
 ],
 "metadata": {
  "kernelspec": {
   "display_name": "Python 3",
   "language": "python",
   "name": "python3"
  },
  "language_info": {
   "codemirror_mode": {
    "name": "ipython",
    "version": 3
   },
   "file_extension": ".py",
   "mimetype": "text/x-python",
   "name": "python",
   "nbconvert_exporter": "python",
   "pygments_lexer": "ipython3",
   "version": "3.8.3"
  }
 },
 "nbformat": 4,
 "nbformat_minor": 4
}
