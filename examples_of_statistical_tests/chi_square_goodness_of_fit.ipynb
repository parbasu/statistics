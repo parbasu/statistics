{
 "cells": [
  {
   "cell_type": "markdown",
   "metadata": {},
   "source": [
    "# Chi-square tests for one-way tables\n",
    "\n",
    "In a one-way table, observations are classified according to single categorical variable.\n",
    "\n",
    "A sample of $100$ individuals might reveal:"
   ]
  },
  {
   "cell_type": "code",
   "execution_count": 32,
   "metadata": {},
   "outputs": [],
   "source": [
    "import pandas as pd"
   ]
  },
  {
   "cell_type": "code",
   "execution_count": 33,
   "metadata": {},
   "outputs": [],
   "source": [
    "blood_type_cols = ['O', 'A', 'B' , 'AB']\n",
    "data = pd.DataFrame(columns = blood_type_cols)\n",
    "data.loc['Observed Count'] = [43,40,12,5]"
   ]
  },
  {
   "cell_type": "code",
   "execution_count": 34,
   "metadata": {},
   "outputs": [
    {
     "data": {
      "text/html": [
       "<div>\n",
       "<style scoped>\n",
       "    .dataframe tbody tr th:only-of-type {\n",
       "        vertical-align: middle;\n",
       "    }\n",
       "\n",
       "    .dataframe tbody tr th {\n",
       "        vertical-align: top;\n",
       "    }\n",
       "\n",
       "    .dataframe thead th {\n",
       "        text-align: right;\n",
       "    }\n",
       "</style>\n",
       "<table border=\"1\" class=\"dataframe\">\n",
       "  <thead>\n",
       "    <tr style=\"text-align: right;\">\n",
       "      <th></th>\n",
       "      <th>O</th>\n",
       "      <th>A</th>\n",
       "      <th>B</th>\n",
       "      <th>AB</th>\n",
       "    </tr>\n",
       "  </thead>\n",
       "  <tbody>\n",
       "    <tr>\n",
       "      <th>Observed Count</th>\n",
       "      <td>43</td>\n",
       "      <td>40</td>\n",
       "      <td>12</td>\n",
       "      <td>5</td>\n",
       "    </tr>\n",
       "  </tbody>\n",
       "</table>\n",
       "</div>"
      ],
      "text/plain": [
       "                 O   A   B AB\n",
       "Observed Count  43  40  12  5"
      ]
     },
     "execution_count": 34,
     "metadata": {},
     "output_type": "execute_result"
    }
   ],
   "source": [
    "data"
   ]
  },
  {
   "cell_type": "markdown",
   "metadata": {},
   "source": [
    "Some might contend that these blood types are equally likely and we want to test whether this sample gives strong evidence against that claim."
   ]
  },
  {
   "cell_type": "code",
   "execution_count": 35,
   "metadata": {},
   "outputs": [],
   "source": [
    "expected_count = data.iloc[0].sum()/4\n",
    "data.loc['Expected Count'] = expected_count"
   ]
  },
  {
   "cell_type": "code",
   "execution_count": 36,
   "metadata": {},
   "outputs": [
    {
     "data": {
      "text/html": [
       "<div>\n",
       "<style scoped>\n",
       "    .dataframe tbody tr th:only-of-type {\n",
       "        vertical-align: middle;\n",
       "    }\n",
       "\n",
       "    .dataframe tbody tr th {\n",
       "        vertical-align: top;\n",
       "    }\n",
       "\n",
       "    .dataframe thead th {\n",
       "        text-align: right;\n",
       "    }\n",
       "</style>\n",
       "<table border=\"1\" class=\"dataframe\">\n",
       "  <thead>\n",
       "    <tr style=\"text-align: right;\">\n",
       "      <th></th>\n",
       "      <th>O</th>\n",
       "      <th>A</th>\n",
       "      <th>B</th>\n",
       "      <th>AB</th>\n",
       "    </tr>\n",
       "  </thead>\n",
       "  <tbody>\n",
       "    <tr>\n",
       "      <th>Observed Count</th>\n",
       "      <td>43</td>\n",
       "      <td>40</td>\n",
       "      <td>12</td>\n",
       "      <td>5</td>\n",
       "    </tr>\n",
       "    <tr>\n",
       "      <th>Expected Count</th>\n",
       "      <td>25</td>\n",
       "      <td>25</td>\n",
       "      <td>25</td>\n",
       "      <td>25</td>\n",
       "    </tr>\n",
       "  </tbody>\n",
       "</table>\n",
       "</div>"
      ],
      "text/plain": [
       "                 O   A   B  AB\n",
       "Observed Count  43  40  12   5\n",
       "Expected Count  25  25  25  25"
      ]
     },
     "execution_count": 36,
     "metadata": {},
     "output_type": "execute_result"
    }
   ],
   "source": [
    "data"
   ]
  },
  {
   "cell_type": "markdown",
   "metadata": {},
   "source": [
    "Calculating the $\\chi^2$ statistic:"
   ]
  },
  {
   "cell_type": "code",
   "execution_count": 42,
   "metadata": {},
   "outputs": [],
   "source": [
    "data.loc['(Observed - Expected)^2/Expected'] = (data.loc['Observed Count'] - data.loc['Expected Count'])**2 / data.loc['Expected Count']"
   ]
  },
  {
   "cell_type": "code",
   "execution_count": 47,
   "metadata": {},
   "outputs": [
    {
     "data": {
      "text/html": [
       "<div>\n",
       "<style scoped>\n",
       "    .dataframe tbody tr th:only-of-type {\n",
       "        vertical-align: middle;\n",
       "    }\n",
       "\n",
       "    .dataframe tbody tr th {\n",
       "        vertical-align: top;\n",
       "    }\n",
       "\n",
       "    .dataframe thead th {\n",
       "        text-align: right;\n",
       "    }\n",
       "</style>\n",
       "<table border=\"1\" class=\"dataframe\">\n",
       "  <thead>\n",
       "    <tr style=\"text-align: right;\">\n",
       "      <th></th>\n",
       "      <th>O</th>\n",
       "      <th>A</th>\n",
       "      <th>B</th>\n",
       "      <th>AB</th>\n",
       "    </tr>\n",
       "  </thead>\n",
       "  <tbody>\n",
       "    <tr>\n",
       "      <th>Observed Count</th>\n",
       "      <td>43</td>\n",
       "      <td>40</td>\n",
       "      <td>12</td>\n",
       "      <td>5</td>\n",
       "    </tr>\n",
       "    <tr>\n",
       "      <th>Expected Count</th>\n",
       "      <td>25</td>\n",
       "      <td>25</td>\n",
       "      <td>25</td>\n",
       "      <td>25</td>\n",
       "    </tr>\n",
       "    <tr>\n",
       "      <th>(Observed - Expected)^2/Expected</th>\n",
       "      <td>12.96</td>\n",
       "      <td>9</td>\n",
       "      <td>6.76</td>\n",
       "      <td>16</td>\n",
       "    </tr>\n",
       "  </tbody>\n",
       "</table>\n",
       "</div>"
      ],
      "text/plain": [
       "                                      O   A     B  AB\n",
       "Observed Count                       43  40    12   5\n",
       "Expected Count                       25  25    25  25\n",
       "(Observed - Expected)^2/Expected  12.96   9  6.76  16"
      ]
     },
     "execution_count": 47,
     "metadata": {},
     "output_type": "execute_result"
    }
   ],
   "source": [
    "data"
   ]
  },
  {
   "cell_type": "code",
   "execution_count": 50,
   "metadata": {},
   "outputs": [],
   "source": [
    "chi_square = data.loc['(Observed - Expected)^2/Expected'].sum()"
   ]
  },
  {
   "cell_type": "markdown",
   "metadata": {},
   "source": [
    "**Pearson's chi-squared test**\n",
    "\n",
    "Pearson's chi-squared test uses a measure of goodness of fit which is the sum of differences between observed and expected outcome frequencies (that is, counts of observations), each squared and divided by the expectation:\n",
    "\n",
    "$${\\displaystyle \\chi ^{2}=\\sum _{i=1}^{n}{{\\frac {(O_{i}-E_{i})}{E_{i}}}^{2}}}$$\n",
    "where:\n",
    "\n",
    "- $O_i$ = an observed count for bin i\n",
    "- $E_i$ = an expected count for bin i, asserted by the null hypothesis.\n",
    "\n",
    "The expected frequency is calculated by:\n",
    "\n",
    "$${\\displaystyle E_{i}\\,=\\,{\\bigg (}F(X_{u})\\,-\\,F(X_{l}){\\bigg )}\\,N}, $$\n",
    "where:\n",
    "\n",
    "- $F$ = the cumulative distribution function for the probability  distribution being tested.\n",
    "\n",
    "- $X_u$ = the upper limit for class i,\n",
    "- $X_l$ = the lower limit for class i, and\n",
    "- $N$ = the sample size\n",
    "\n",
    "The resulting value can be compared with a chi-squared distribution to determine the goodness of fit. The chi-squared distribution has $(k − c)$ degrees of freedom, where $k$ is the number of non-empty cells and $c$ is the number of estimated parameters (including location and scale parameters and shape parameters) for the distribution plus one.\n",
    "\n",
    "In our blood-type case, the degrees of freedom is the number of cells minus $1$. So it is $1$"
   ]
  },
  {
   "cell_type": "markdown",
   "metadata": {},
   "source": [
    "One might find the expected count formula to be a bit confusing, but think in terms of age $X$ of  a certain population being normally distributed. Given this scenario, the expected number of people out of  a $100$ that fall in age bin $18-35$ is $[P(X\\leq 35) - P(X\\leq 18)] \\cdot 100$.\n",
    "\n",
    "So we can use a $\\chi^2$ test to test the null hypothesis that the data comes from a specific parametric distribution (e.g. Binomial, Poisson, normal)\n",
    "\n",
    "\n",
    "For example, to test the hypothesis that a random sample of $100$ people has been drawn from a population in which men and women are equal in frequency, the observed number of men and women would be compared to the theoretical frequencies of $50$ men and $50$ women. If there were $44$ men in the sample and $56$ women, then\n",
    "\n",
    "$${\\displaystyle \\chi ^{2}={(44-50)^{2} \\over 50}+{(56-50)^{2} \\over 50}=1.44} $$\n",
    "\n",
    "If the null hypothesis is true (i.e., men and women are chosen with equal probability in the sample), the test statistic will be drawn from a chi-squared distribution with one degree of freedom. Though one might expect two degrees of freedom (one each for the men and women), we must take into account that the total number of men and women is constrained $(100)$, and thus there is only one degree of freedom $(2 − 1)$. In other words, if the male count is known the female count is determined, and vice versa.\n",
    "\n",
    "Consultation of the chi-squared distribution for $1$ degree of freedom shows that the probability of observing this difference (or a more extreme difference than this) if men and women are equally numerous in the population is approximately $0.23$. This probability is higher than conventional criteria for statistical significance $(.001-.05)$, so normally we would not reject the null hypothesis that the number of men in the population is the same as the number of women (i.e. we would consider our sample within the range of what we'd expect for a $50/50$ male/female ratio.)\n",
    "\n",
    "Note the assumption that the mechanism that has generated the sample is random, in the sense of independent random selection with the same probability, here $0.5$ for both males and females. If, for example, each of the 44 males selected brought a male buddy, and each of the 56 females brought a female buddy, each ${\\textstyle {(O_{i}-E_{i})}^{2}}$ will increase by a factor of $4$, while each ${\\textstyle E_{i}}$ will increase by a factor of $2$. The value of the statistic will double to $2.88$. Knowing this underlying mechanism, we should of course be counting pairs. In general, the mechanism, if not defensibly random, will not be known. The distribution to which the test statistic should be referred may, accordingly, be very different from chi-squared."
   ]
  },
  {
   "cell_type": "code",
   "execution_count": 54,
   "metadata": {},
   "outputs": [
    {
     "data": {
      "text/plain": [
       "Power_divergenceResult(statistic=18.94348086124402, pvalue=0.0008062955548480186)"
      ]
     },
     "execution_count": 54,
     "metadata": {},
     "output_type": "execute_result"
    }
   ],
   "source": [
    "#chi-square one-way in python\n",
    "\n",
    "import scipy\n",
    "\n",
    "observed_values=[18,21,16,7,15]\n",
    "expected_values=[22,19,44,8,16]\n",
    "\n",
    "scipy.stats.chisquare(observed_values, f_exp=expected_values)\n"
   ]
  },
  {
   "cell_type": "markdown",
   "metadata": {},
   "source": [
    "# Chi-square tests for two(or more)-way tables (chi-square tests of independence)"
   ]
  },
  {
   "cell_type": "markdown",
   "metadata": {},
   "source": [
    "Suppose there is a city of $1,000,000$ residents with four neighborhoods: A, B, C, and D. A random sample of $650$ residents of the city is taken and their occupation is recorded as \"white collar\", \"blue collar\", or \"no collar\". The null hypothesis is that each person's neighborhood of residence is independent of the person's occupational classification. The data are tabulated as:"
   ]
  },
  {
   "cell_type": "code",
   "execution_count": 55,
   "metadata": {},
   "outputs": [
    {
     "data": {
      "text/html": [
       "<div>\n",
       "<style scoped>\n",
       "    .dataframe tbody tr th:only-of-type {\n",
       "        vertical-align: middle;\n",
       "    }\n",
       "\n",
       "    .dataframe tbody tr th {\n",
       "        vertical-align: top;\n",
       "    }\n",
       "\n",
       "    .dataframe thead th {\n",
       "        text-align: right;\n",
       "    }\n",
       "</style>\n",
       "<table border=\"1\" class=\"dataframe\">\n",
       "  <thead>\n",
       "    <tr style=\"text-align: right;\">\n",
       "      <th></th>\n",
       "      <th>A</th>\n",
       "      <th>B</th>\n",
       "      <th>C</th>\n",
       "      <th>D</th>\n",
       "    </tr>\n",
       "  </thead>\n",
       "  <tbody>\n",
       "    <tr>\n",
       "      <th>White Collar</th>\n",
       "      <td>90</td>\n",
       "      <td>60</td>\n",
       "      <td>104</td>\n",
       "      <td>95</td>\n",
       "    </tr>\n",
       "    <tr>\n",
       "      <th>Blue Collar</th>\n",
       "      <td>30</td>\n",
       "      <td>50</td>\n",
       "      <td>51</td>\n",
       "      <td>20</td>\n",
       "    </tr>\n",
       "    <tr>\n",
       "      <th>No collar</th>\n",
       "      <td>30</td>\n",
       "      <td>40</td>\n",
       "      <td>45</td>\n",
       "      <td>35</td>\n",
       "    </tr>\n",
       "  </tbody>\n",
       "</table>\n",
       "</div>"
      ],
      "text/plain": [
       "               A   B    C   D\n",
       "White Collar  90  60  104  95\n",
       "Blue Collar   30  50   51  20\n",
       "No collar     30  40   45  35"
      ]
     },
     "execution_count": 55,
     "metadata": {},
     "output_type": "execute_result"
    }
   ],
   "source": [
    "import numpy as np\n",
    "import pandas as pd\n",
    "import scipy.stats as stats\n",
    "\n",
    "cols = ['A', 'B', 'C', 'D']\n",
    "data = pd.DataFrame(columns=cols)\n",
    "\n",
    "data.loc['White Collar'] = [90, 60, 104, 95]\n",
    "data.loc['Blue Collar'] = [30, 50, 51, 20]\n",
    "data.loc['No collar'] = [30, 40, 45, 35]\n",
    "\n",
    "data"
   ]
  },
  {
   "cell_type": "markdown",
   "metadata": {},
   "source": [
    "Let us take the sample living in neighborhood A, $150$, to estimate what proportion of the whole $1,000,000$ live in neighborhood A. Similarly we take $349/650$ to estimate what proportion of the $1,000,000$ are white-collar workers. By the assumption of independence under the hypothesis we should \"expect\" the number of white-collar workers in neighborhood A to be\n",
    "\n",
    "$${\\displaystyle 150\\times {\\frac {349}{650}}\\approx 80.54}$$\n",
    "\n",
    "Then in that \"cell\" of the table, we have\n",
    "\n",
    "$${\\displaystyle {\\frac {\\left({\\text{observed}}-{\\text{expected}}\\right)^{2}}{\\text{expected}}}={\\frac {\\left(90-80.54\\right)^{2}}{80.54}}\\approx 1.11}$$\n",
    "\n",
    "The sum of these quantities over all of the cells is the test statistic; in this case, $\\approx 24.6 $. Under the null hypothesis, this sum has approximately a chi-squared distribution whose number of degrees of freedom are\n",
    "\n",
    "$${\\displaystyle ({\\text{number of rows}}-1)({\\text{number of columns}}-1)=(3-1)(4-1)=6}$$\n",
    "\n",
    "If the test statistic is improbably large according to that chi-squared distribution, then one rejects the null hypothesis of independence."
   ]
  },
  {
   "cell_type": "code",
   "execution_count": 62,
   "metadata": {},
   "outputs": [
    {
     "name": "stdout",
     "output_type": "stream",
     "text": [
      "P value for effect of area on proportion of each collar:\n",
      "0.0004098425861096696\n",
      "\n",
      "Degree of freedom: 6\n",
      "\n",
      "Expected numbers if area did not effect proportion of each collar:\n",
      "[[ 80.53846154  80.53846154 107.38461538  80.53846154]\n",
      " [ 34.84615385  34.84615385  46.46153846  34.84615385]\n",
      " [ 34.61538462  34.61538462  46.15384615  34.61538462]]\n"
     ]
    }
   ],
   "source": [
    "V, p, dof, expected = stats.chi2_contingency(data) \n",
    "print ('P value for effect of area on proportion of each collar:')\n",
    "print (p)\n",
    "print('\\nDegree of freedom:', dof)\n",
    "print ('\\nExpected numbers if area did not effect proportion of each collar:')\n",
    "print (expected)"
   ]
  },
  {
   "cell_type": "markdown",
   "metadata": {},
   "source": [
    "A related issue is a test of homogeneity. Suppose that instead of giving every resident of each of the four neighborhoods an equal chance of inclusion in the sample, we decide in advance how many residents of each neighborhood to include. Then each resident has the same chance of being chosen as do all residents of the same neighborhood, but residents of different neighborhoods would have different probabilities of being chosen if the four sample sizes are not proportional to the populations of the four neighborhoods. In such a case, we would be testing \"homogeneity\" rather than \"independence\". The question is whether the proportions of blue-collar, white-collar, and no-collar workers in the four neighborhoods are the same. However, the test is done in the same way."
   ]
  },
  {
   "cell_type": "markdown",
   "metadata": {},
   "source": [
    "**Assumptions of the Chi-square data**\n",
    "\n",
    "When to Use Chi-Square Test for Independence\n",
    "The test procedure described in this lesson is appropriate when the following conditions are met:\n",
    "\n",
    "- The sampling method is simple random sampling.\n",
    "- The variables under study are each categorical.\n",
    "- If sample data are displayed in a contingency table, the expected frequency count for each cell of the table is at least $5$."
   ]
  },
  {
   "cell_type": "code",
   "execution_count": null,
   "metadata": {},
   "outputs": [],
   "source": []
  }
 ],
 "metadata": {
  "kernelspec": {
   "display_name": "Python 3",
   "language": "python",
   "name": "python3"
  },
  "language_info": {
   "codemirror_mode": {
    "name": "ipython",
    "version": 3
   },
   "file_extension": ".py",
   "mimetype": "text/x-python",
   "name": "python",
   "nbconvert_exporter": "python",
   "pygments_lexer": "ipython3",
   "version": "3.8.3"
  }
 },
 "nbformat": 4,
 "nbformat_minor": 4
}
