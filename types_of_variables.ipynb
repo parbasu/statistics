{
 "cells": [
  {
   "cell_type": "markdown",
   "metadata": {},
   "source": [
    "# Types of Variables\n",
    "\n",
    "Before we do any kind of data analysis, it is important to understand the different type of variables that exist. This is important because the type of analysis we wish to proceed with is heavily dependent on the type of variables under consideration.\n",
    "\n",
    "There are broadly two types of variables\n",
    "\n",
    "- **Categorical**\n",
    "    Often referred to as **qualitative** variables. This variable classifies individuals or items into different   \n",
    "    groups. With categorical variables, there are two different subtypes\n",
    "    \n",
    "    - **Oridnal**\n",
    "        Groups have an order or ranking associated with them. Example: class ranking in university such as first year,         second year and so on.\n",
    "    - **Nominal**\n",
    "        Groups are merely names, no ranking. Examples: race, marital status.\n",
    "\n",
    "\n",
    "- **Quantitative**\n",
    "    Numerical, measurable quantities in which arithmetic operations often make sense. With quantiative variables,    \n",
    "    there are two different subtypes\n",
    "    \n",
    "    - **Continuous**\n",
    "        Could take on any value within an interval and it could be many possible values. Examples: body mass index    \n",
    "        (BMI), height and weight of a person, time taken to complete an assignment.\n",
    "        \n",
    "    - **Discrete**\n",
    "        Could take on a countable or finite set of values. Example: number of children in a household.\n",
    "    \n"
   ]
  },
  {
   "cell_type": "code",
   "execution_count": null,
   "metadata": {},
   "outputs": [],
   "source": []
  }
 ],
 "metadata": {
  "kernelspec": {
   "display_name": "Python 3",
   "language": "python",
   "name": "python3"
  },
  "language_info": {
   "codemirror_mode": {
    "name": "ipython",
    "version": 3
   },
   "file_extension": ".py",
   "mimetype": "text/x-python",
   "name": "python",
   "nbconvert_exporter": "python",
   "pygments_lexer": "ipython3",
   "version": "3.8.3"
  }
 },
 "nbformat": 4,
 "nbformat_minor": 4
}
