{
 "cells": [
  {
   "cell_type": "markdown",
   "metadata": {},
   "source": [
    "# One Sample Test for Median: The Sign Test\n",
    "\n",
    "Non-parametric tests are normally based on **ranks** of the data samples, and test hypotheses relating to\n",
    "quantiles of the probability distribution representing the population from which the data are drawn.\n",
    "Specifically, tests concern the **population median**, $\\eta$, where \n",
    "\n",
    "$$ \\text{Pr}[\\text{Observation} \\leq \\eta] = 1/2$$\n",
    "\n",
    "The *sample median*, $x_{\\text{MED}}$ is the mid-point of the sorted sample; if the data $x_1, \\dots,x_n$ are sorted into *ascending order*, then \n",
    "\n",
    "$$ x_{\\text{MED}} = \\begin{cases}\n",
    "x_m  & \\text{$n$ odd, $n=2m+1$} \\\\\n",
    "\\frac{x_m + x_{m+1}}{2} & \\text{$n$ even, $n=2m$}.\n",
    "\\end{cases}$$\n",
    "\n",
    "For a single sample size $n$, to test the hypothesis $\\eta = \\eta_0$ for some specified value $\\eta_0$ we use the *Sign Test*. The test statistic $S$ depends on the alternative hypothesis $H_a$.\n",
    "\n",
    "(a) For *one-sided* tests, to test \n",
    "\n",
    "- $H_0: \\eta = \\eta_0$\n",
    "\n",
    "- $H_a: \\eta > \\eta_0$\n",
    "\n",
    "we define test statistic $S$ by $$S = \\text{Number of observations greater than $\\eta_0$}$$\n",
    "\n",
    "whereas to  test\n",
    "\n",
    "- $H_0: \\eta = \\eta_0$\n",
    "\n",
    "- $H_a: \\eta < \\eta_0$\n",
    "\n",
    "we define $S$ by $$S = \\text{Number of observations less than $\\eta_0$}$$\n",
    "\n",
    "If $H_0$ is *true*, it follows that $$S \\sim \\text{Binom}(n,1/2)$$.\n",
    "\n",
    "The $p$-value is defined by $$p = \\text{Pr}[X \\geq S]$$\n",
    "\n",
    "where $X \\sim \\text{Binom}(n,1/2)$. The rejection region for significance level $\\alpha$ is defined implicitly by the rule $$\\text{Reject } H_0 \\text{ if } \\alpha \\geq p$$.\n",
    "\n",
    "(b) For a *two-sided* test, \n",
    "\n",
    "- $H_0: \\eta = \\eta_0$\n",
    "\n",
    "- $H_a: \\eta \\neq \\eta_0$\n",
    "\n",
    "we define the test statistic by $$S= \\max \\{ S_1, S_2\\}$$\n",
    "\n",
    "where $S_1$ and $S_2$ are the counts of the number of obersvations less than, and greater than $\\eta_0$ respectively. The $p$-value is defined by\n",
    "$$ p = 2\\text{Pr}[X \\geq S] $$\n",
    "where $X \\sim \\text{Binom}(n,1/2) $\n",
    "\n",
    "**Notes:**\n",
    "\n",
    "1. The only assumption behind the test is that the data are drawn independently from a continuous distribution\n",
    "\n",
    "2. If any data are equal to $\\eta_0$, we discard them before carrying out the test.\n",
    "\n",
    "3. *Large sample approximation*. If $n$ is large (say $n \\geq 30$) and $X \\sim \\text{Binom}(n,1/2)$, then it can be shown that \n",
    "\n",
    "$$X \\sim \\text{Normal}(np, np(1-p))$$\n",
    "\n",
    "Thus for the sign test, where $p = 1/2$, we can use the test statistic\n",
    "\n",
    "$$ Z = \\frac{S - n/2 }{\\sqrt{n \\times 1/2 \\times 1/2 }} = \\frac{S- n/2}{\\sqrt{n} \\times 1/2} $$\n",
    "\n",
    "and note that if $H_0$ is true, $$ Z \\sim \\text{Normal}(0,1).$$\n",
    "\n",
    "so that the test at $\\alpha = 0.05$ uses the following critical values\n",
    "\n",
    "- $H_a: \\eta > \\eta_0$ then $C_R = 1.645$\n",
    "\n",
    "- $H_a: \\eta < \\eta_0$ then $C_R = -1.645$\n",
    "\n",
    "- $H_a: \\eta \\neq \\eta_0$ then $C_R = \\pm 1.960$\n",
    "\n",
    "\n",
    "\n",
    "4. For the large sample approximation, it is common to make a *continuity correction*, where we replace $S$ by $S - 1/2$ in the definition of $Z$:\n",
    "\n",
    "$$ Z = \\frac{S - 1/2 - n/2}{\\sqrt{n} \\times 1/2} $$\n",
    "\n"
   ]
  },
  {
   "cell_type": "code",
   "execution_count": 2,
   "metadata": {},
   "outputs": [],
   "source": [
    "people = {'salary': [29500,54000,54000,65600,70400,73600,78800,80400,91200,\n",
    "                      94700,99200,500000]}"
   ]
  },
  {
   "cell_type": "code",
   "execution_count": 3,
   "metadata": {},
   "outputs": [],
   "source": [
    "import pandas as pd\n",
    "df = pd.DataFrame(people)"
   ]
  },
  {
   "cell_type": "code",
   "execution_count": 6,
   "metadata": {},
   "outputs": [],
   "source": [
    "df.index = range(1, len(df) + 1)"
   ]
  },
  {
   "cell_type": "code",
   "execution_count": 7,
   "metadata": {},
   "outputs": [
    {
     "data": {
      "text/html": [
       "<div>\n",
       "<style scoped>\n",
       "    .dataframe tbody tr th:only-of-type {\n",
       "        vertical-align: middle;\n",
       "    }\n",
       "\n",
       "    .dataframe tbody tr th {\n",
       "        vertical-align: top;\n",
       "    }\n",
       "\n",
       "    .dataframe thead th {\n",
       "        text-align: right;\n",
       "    }\n",
       "</style>\n",
       "<table border=\"1\" class=\"dataframe\">\n",
       "  <thead>\n",
       "    <tr style=\"text-align: right;\">\n",
       "      <th></th>\n",
       "      <th>salary</th>\n",
       "    </tr>\n",
       "  </thead>\n",
       "  <tbody>\n",
       "    <tr>\n",
       "      <th>1</th>\n",
       "      <td>29500</td>\n",
       "    </tr>\n",
       "    <tr>\n",
       "      <th>2</th>\n",
       "      <td>54000</td>\n",
       "    </tr>\n",
       "    <tr>\n",
       "      <th>3</th>\n",
       "      <td>54000</td>\n",
       "    </tr>\n",
       "    <tr>\n",
       "      <th>4</th>\n",
       "      <td>65600</td>\n",
       "    </tr>\n",
       "    <tr>\n",
       "      <th>5</th>\n",
       "      <td>70400</td>\n",
       "    </tr>\n",
       "    <tr>\n",
       "      <th>6</th>\n",
       "      <td>73600</td>\n",
       "    </tr>\n",
       "    <tr>\n",
       "      <th>7</th>\n",
       "      <td>78800</td>\n",
       "    </tr>\n",
       "    <tr>\n",
       "      <th>8</th>\n",
       "      <td>80400</td>\n",
       "    </tr>\n",
       "    <tr>\n",
       "      <th>9</th>\n",
       "      <td>91200</td>\n",
       "    </tr>\n",
       "    <tr>\n",
       "      <th>10</th>\n",
       "      <td>94700</td>\n",
       "    </tr>\n",
       "    <tr>\n",
       "      <th>11</th>\n",
       "      <td>99200</td>\n",
       "    </tr>\n",
       "    <tr>\n",
       "      <th>12</th>\n",
       "      <td>500000</td>\n",
       "    </tr>\n",
       "  </tbody>\n",
       "</table>\n",
       "</div>"
      ],
      "text/plain": [
       "    salary\n",
       "1    29500\n",
       "2    54000\n",
       "3    54000\n",
       "4    65600\n",
       "5    70400\n",
       "6    73600\n",
       "7    78800\n",
       "8    80400\n",
       "9    91200\n",
       "10   94700\n",
       "11   99200\n",
       "12  500000"
      ]
     },
     "execution_count": 7,
     "metadata": {},
     "output_type": "execute_result"
    }
   ],
   "source": [
    "df"
   ]
  },
  {
   "cell_type": "markdown",
   "metadata": {},
   "source": [
    "Suppose we hypothesize that the median is $60200$? That is, \n",
    "\n",
    "- $H_0$: Median $= 60200$,    $H_0: p = 0.50$\n",
    "\n",
    "- $H_a$: Median $\\neq 60200$, $H_a: p \\neq 0.50$\n"
   ]
  },
  {
   "cell_type": "code",
   "execution_count": 13,
   "metadata": {},
   "outputs": [],
   "source": [
    "import numpy as np\n",
    "conditions = [(df['salary'] > 60200), (df['salary'] < 60200), (df['salary'] == 60200)]\n",
    "values = ['+', '-', '0']\n",
    "df['sign'] = np.select(conditions,values)"
   ]
  },
  {
   "cell_type": "code",
   "execution_count": 14,
   "metadata": {},
   "outputs": [
    {
     "data": {
      "text/html": [
       "<div>\n",
       "<style scoped>\n",
       "    .dataframe tbody tr th:only-of-type {\n",
       "        vertical-align: middle;\n",
       "    }\n",
       "\n",
       "    .dataframe tbody tr th {\n",
       "        vertical-align: top;\n",
       "    }\n",
       "\n",
       "    .dataframe thead th {\n",
       "        text-align: right;\n",
       "    }\n",
       "</style>\n",
       "<table border=\"1\" class=\"dataframe\">\n",
       "  <thead>\n",
       "    <tr style=\"text-align: right;\">\n",
       "      <th></th>\n",
       "      <th>salary</th>\n",
       "      <th>sign</th>\n",
       "    </tr>\n",
       "  </thead>\n",
       "  <tbody>\n",
       "    <tr>\n",
       "      <th>1</th>\n",
       "      <td>29500</td>\n",
       "      <td>-</td>\n",
       "    </tr>\n",
       "    <tr>\n",
       "      <th>2</th>\n",
       "      <td>54000</td>\n",
       "      <td>-</td>\n",
       "    </tr>\n",
       "    <tr>\n",
       "      <th>3</th>\n",
       "      <td>54000</td>\n",
       "      <td>-</td>\n",
       "    </tr>\n",
       "    <tr>\n",
       "      <th>4</th>\n",
       "      <td>65600</td>\n",
       "      <td>+</td>\n",
       "    </tr>\n",
       "    <tr>\n",
       "      <th>5</th>\n",
       "      <td>70400</td>\n",
       "      <td>+</td>\n",
       "    </tr>\n",
       "    <tr>\n",
       "      <th>6</th>\n",
       "      <td>73600</td>\n",
       "      <td>+</td>\n",
       "    </tr>\n",
       "    <tr>\n",
       "      <th>7</th>\n",
       "      <td>78800</td>\n",
       "      <td>+</td>\n",
       "    </tr>\n",
       "    <tr>\n",
       "      <th>8</th>\n",
       "      <td>80400</td>\n",
       "      <td>+</td>\n",
       "    </tr>\n",
       "    <tr>\n",
       "      <th>9</th>\n",
       "      <td>91200</td>\n",
       "      <td>+</td>\n",
       "    </tr>\n",
       "    <tr>\n",
       "      <th>10</th>\n",
       "      <td>94700</td>\n",
       "      <td>+</td>\n",
       "    </tr>\n",
       "    <tr>\n",
       "      <th>11</th>\n",
       "      <td>99200</td>\n",
       "      <td>+</td>\n",
       "    </tr>\n",
       "    <tr>\n",
       "      <th>12</th>\n",
       "      <td>500000</td>\n",
       "      <td>+</td>\n",
       "    </tr>\n",
       "  </tbody>\n",
       "</table>\n",
       "</div>"
      ],
      "text/plain": [
       "    salary sign\n",
       "1    29500    -\n",
       "2    54000    -\n",
       "3    54000    -\n",
       "4    65600    +\n",
       "5    70400    +\n",
       "6    73600    +\n",
       "7    78800    +\n",
       "8    80400    +\n",
       "9    91200    +\n",
       "10   94700    +\n",
       "11   99200    +\n",
       "12  500000    +"
      ]
     },
     "execution_count": 14,
     "metadata": {},
     "output_type": "execute_result"
    }
   ],
   "source": [
    "df"
   ]
  },
  {
   "cell_type": "code",
   "execution_count": 15,
   "metadata": {},
   "outputs": [
    {
     "data": {
      "text/plain": [
       "+    9\n",
       "-    3\n",
       "Name: sign, dtype: int64"
      ]
     },
     "execution_count": 15,
     "metadata": {},
     "output_type": "execute_result"
    }
   ],
   "source": [
    "df['sign'].value_counts()"
   ]
  },
  {
   "cell_type": "markdown",
   "metadata": {},
   "source": [
    "If this were the actually median, we expect half the values lie above it and half the values lie below it."
   ]
  },
  {
   "cell_type": "markdown",
   "metadata": {},
   "source": [
    "A car manufacturer claims that no more than 10% of their cars are unsafe. 15 cars are inspected for safety, 3 were found to be unsafe. Test the manufacturer’s claim."
   ]
  },
  {
   "cell_type": "code",
   "execution_count": 16,
   "metadata": {},
   "outputs": [
    {
     "data": {
      "text/plain": [
       "0.18406106910639114"
      ]
     },
     "execution_count": 16,
     "metadata": {},
     "output_type": "execute_result"
    }
   ],
   "source": [
    "from scipy import stats\n",
    "stats.binom_test(3, n=15, p=0.1, alternative='greater')"
   ]
  },
  {
   "cell_type": "markdown",
   "metadata": {},
   "source": [
    "The null hypothesis cannot be rejected at the 5% level of significance because the returned p-value is greater than the critical value of 5%."
   ]
  },
  {
   "cell_type": "code",
   "execution_count": null,
   "metadata": {},
   "outputs": [],
   "source": []
  }
 ],
 "metadata": {
  "kernelspec": {
   "display_name": "Python 3",
   "language": "python",
   "name": "python3"
  },
  "language_info": {
   "codemirror_mode": {
    "name": "ipython",
    "version": 3
   },
   "file_extension": ".py",
   "mimetype": "text/x-python",
   "name": "python",
   "nbconvert_exporter": "python",
   "pygments_lexer": "ipython3",
   "version": "3.8.3"
  }
 },
 "nbformat": 4,
 "nbformat_minor": 4
}
