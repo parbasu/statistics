{
 "cells": [
  {
   "cell_type": "markdown",
   "metadata": {},
   "source": [
    "Have already mentioned Binomial test under one_sample_median but here I will go over the binomial proportion confidence interval.\n",
    "\n",
    "In statistics, a **binomial proportion confidence interval** is a confidence interval for the probability of success calculated from the outcome of a series of success–failure experiments (Bernoulli trials). In other words, a binomial proportion confidence interval is an interval estimate of a success probability $p$ when only the number of experiments $n$ and the number of successes $n_S$ are known.\n",
    "\n",
    "A commonly used formula for a binomial confidence interval relies on approximating the distribution of error about a binomially-distributed observation, $\\hat {p}$ , with a normal distribution. This approximation is based on the central limit theorem and is unreliable when the sample size is small or the success probability is close to $0$ or $1$.\n",
    "\n",
    "Using the normal approximation, the success probability $p$ is estimated as\n",
    "\n",
    "$$ \\hat{p} \\pm z \\sqrt{\\frac{\\hat{p}(1-\\hat{p})}{n}}$$\n",
    "\n",
    "where $z$ is the $1 - \\alpha/2$ quantile of a standard normal distribution."
   ]
  },
  {
   "cell_type": "code",
   "execution_count": 9,
   "metadata": {},
   "outputs": [
    {
     "name": "stdout",
     "output_type": "stream",
     "text": [
      "Lower confidence interval: 0.21034248403748906\n",
      "Upper confidence interval: 0.3729908492958443\n"
     ]
    }
   ],
   "source": [
    "import statsmodels.stats.proportion as smp\n",
    "\n",
    "# e.g. 35 out of a sample 120 (29.2%) people have a particular gene type.\n",
    "# What are the 95% confidence intervals on the proportion?\n",
    "\n",
    "lower, upper = smp.proportion_confint (35, 120, alpha=0.05, method='normal')\n",
    "\n",
    "print ('Lower confidence interval:', lower)\n",
    "print ('Upper confidence interval:', upper)\n",
    "\n"
   ]
  },
  {
   "cell_type": "code",
   "execution_count": null,
   "metadata": {},
   "outputs": [],
   "source": []
  }
 ],
 "metadata": {
  "kernelspec": {
   "display_name": "Python 3",
   "language": "python",
   "name": "python3"
  },
  "language_info": {
   "codemirror_mode": {
    "name": "ipython",
    "version": 3
   },
   "file_extension": ".py",
   "mimetype": "text/x-python",
   "name": "python",
   "nbconvert_exporter": "python",
   "pygments_lexer": "ipython3",
   "version": "3.8.3"
  }
 },
 "nbformat": 4,
 "nbformat_minor": 4
}
