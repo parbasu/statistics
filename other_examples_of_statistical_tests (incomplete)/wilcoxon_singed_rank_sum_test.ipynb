{
 "cells": [
  {
   "cell_type": "markdown",
   "metadata": {},
   "source": [
    "The **Wilcoxon signed rank sum test** is another example of a non-parametric or distribution free test. As for the sign test, the Wilcoxon signed rank sum test is used is used to test the null hypothesis that the median of a distribution is equal to\n",
    "some value. It can be used \n",
    "\n",
    "a) in place of a one-sample $t$-test \n",
    "\n",
    "b) in place of a paired $t$-test or \n",
    "\n",
    "c) for ordered categorial data where a numerical scale is inappropriate but where it is possible to rank the observations.\n",
    "\n",
    "\n",
    "**Carrying out the Wilcoxon signed rank sum test**\n",
    "\n",
    "**Case $1$: Paired data**\n",
    "\n",
    "1. State the null hypothesis - in this case it is that the median difference, $M$, is equal to zero.\n",
    "\n",
    "\n",
    "2. Calculate each paired difference, $d_i = x_i − y_i$, where $x_i, y_i$ are the pairs of observations.\n",
    "\n",
    "\n",
    "3. Rank the $d_i$'s, ignoring the signs (i.e. assign rank $1$ to the smallest $\\lvert d_i \\rvert $, rank $2$ to the next etc.).\n",
    "\n",
    "\n",
    "4. Label each rank with its sign, according to the sign of $d_i$.\n",
    "\n",
    "\n",
    "5.  Calculate $W^{+}$, the sum of the ranks of the positive dis, and $W^{−}$, the  sum of the ranks of the negative $d_i$'s. (As a check the total, $W^{+} + W^{−}$, should be equal to $n(n+1)/2$, where $n$ is the number of pairs of observations in the sample).\n",
    "\n",
    "**Case 2: Single set of observations**\n",
    "\n",
    "1. State the null hypothesis - the median value is equal to some value $M$.\n",
    "\n",
    "\n",
    "2. Calculate the difference between each observation and the hypothesised median, $d_i = x_i − M$.\n",
    "\n",
    "\n",
    "3.  Apply Steps $3-5$ as above.\n",
    "\n",
    "Under the null hypothesis, we would expect the distribution of the differences to be approximately symmetric around zero and the the distribution of positives and negatives\n",
    "to be distributed at random among the ranks. Under this assumption, it is possible to work out the exact probability of every possible outcome for $W$. To carry out the test,\n",
    "we therefore proceed as follows:\n",
    "\n",
    "6. Choose $W = \\min(W^{−}, W^{+})$\n",
    "\n",
    "\n",
    "7. Use tables of critical values for the Wilcoxon signed rank sum test to find the probability of observing a value of $W$ or more extreme. Most tables give both one-sided and two-sided $p$-values. If not, double the one-sided $p$-value to obtain the two-sided $p$-value. This is an exact test.\n",
    "\n",
    "**Normal approximation**\n",
    "\n",
    "If the number of observations/pairs is such that $\\frac{n(n+1)}{2}$ is large enough (> $20$), a normal approximation can be used with \n",
    "\n",
    "$$\\mu_W = \\frac{n(n+1)}{4}, \\ \\sigma_W = \\sqrt{ \\frac{n(n+1)(2n+1)}{24}}$$\n",
    "\n",
    "Dealing with ties:\n",
    "There are two types of tied observations that may arise when using the Wilcoxon signed\n",
    "rank test:\n",
    "\n",
    "- Observations in the sample may be exactly equal to $M$ (i.e. $0$ in the case of paired differences). Ignore such observations and adjust $n$ accordingly\n",
    "\n",
    "- Two or more observations/differences may be equal. If so, average the ranks across the tied observations and reduce the variance by $\\frac{t^3 -t}{48}$ for each group of $t$ tied ranks.\n",
    "\n",
    "\n",
    "Example:\n",
    "The table below shows the hours of relief provided by two analgesic drugs in $12$ patients\n",
    "suffering from arthritis. Is there any evidence that one drug provides longer relief than\n",
    "the other?"
   ]
  },
  {
   "cell_type": "code",
   "execution_count": 5,
   "metadata": {},
   "outputs": [
    {
     "data": {
      "text/html": [
       "<div>\n",
       "<style scoped>\n",
       "    .dataframe tbody tr th:only-of-type {\n",
       "        vertical-align: middle;\n",
       "    }\n",
       "\n",
       "    .dataframe tbody tr th {\n",
       "        vertical-align: top;\n",
       "    }\n",
       "\n",
       "    .dataframe thead th {\n",
       "        text-align: right;\n",
       "    }\n",
       "</style>\n",
       "<table border=\"1\" class=\"dataframe\">\n",
       "  <thead>\n",
       "    <tr style=\"text-align: right;\">\n",
       "      <th></th>\n",
       "      <th>Drug A</th>\n",
       "      <th>Drug B</th>\n",
       "    </tr>\n",
       "  </thead>\n",
       "  <tbody>\n",
       "    <tr>\n",
       "      <th>0</th>\n",
       "      <td>2.0</td>\n",
       "      <td>3.5</td>\n",
       "    </tr>\n",
       "    <tr>\n",
       "      <th>1</th>\n",
       "      <td>3.6</td>\n",
       "      <td>5.7</td>\n",
       "    </tr>\n",
       "    <tr>\n",
       "      <th>2</th>\n",
       "      <td>2.6</td>\n",
       "      <td>2.9</td>\n",
       "    </tr>\n",
       "    <tr>\n",
       "      <th>3</th>\n",
       "      <td>2.6</td>\n",
       "      <td>2.4</td>\n",
       "    </tr>\n",
       "    <tr>\n",
       "      <th>4</th>\n",
       "      <td>7.3</td>\n",
       "      <td>9.9</td>\n",
       "    </tr>\n",
       "    <tr>\n",
       "      <th>5</th>\n",
       "      <td>3.4</td>\n",
       "      <td>3.3</td>\n",
       "    </tr>\n",
       "    <tr>\n",
       "      <th>6</th>\n",
       "      <td>14.9</td>\n",
       "      <td>16.7</td>\n",
       "    </tr>\n",
       "    <tr>\n",
       "      <th>7</th>\n",
       "      <td>6.6</td>\n",
       "      <td>6.0</td>\n",
       "    </tr>\n",
       "    <tr>\n",
       "      <th>8</th>\n",
       "      <td>2.3</td>\n",
       "      <td>3.8</td>\n",
       "    </tr>\n",
       "    <tr>\n",
       "      <th>9</th>\n",
       "      <td>2.0</td>\n",
       "      <td>4.0</td>\n",
       "    </tr>\n",
       "    <tr>\n",
       "      <th>10</th>\n",
       "      <td>6.8</td>\n",
       "      <td>9.1</td>\n",
       "    </tr>\n",
       "    <tr>\n",
       "      <th>11</th>\n",
       "      <td>8.5</td>\n",
       "      <td>20.9</td>\n",
       "    </tr>\n",
       "  </tbody>\n",
       "</table>\n",
       "</div>"
      ],
      "text/plain": [
       "    Drug A  Drug B\n",
       "0      2.0     3.5\n",
       "1      3.6     5.7\n",
       "2      2.6     2.9\n",
       "3      2.6     2.4\n",
       "4      7.3     9.9\n",
       "5      3.4     3.3\n",
       "6     14.9    16.7\n",
       "7      6.6     6.0\n",
       "8      2.3     3.8\n",
       "9      2.0     4.0\n",
       "10     6.8     9.1\n",
       "11     8.5    20.9"
      ]
     },
     "execution_count": 5,
     "metadata": {},
     "output_type": "execute_result"
    }
   ],
   "source": [
    "import pandas as pd\n",
    "drugs = {'Drug A':[2,3.6,2.6,2.6,7.3,3.4,14.9,6.6,2.3,2,6.8,8.5],\n",
    "         'Drug B':[3.5,5.7,2.9,2.4,9.9,3.3,16.7,6,3.8,4,9.1,20.9] }\n",
    "data = pd.DataFrame(drugs)\n",
    "data"
   ]
  },
  {
   "cell_type": "markdown",
   "metadata": {},
   "source": [
    "Solution:\n",
    "\n",
    "1. In this case our null hypothesis is that the median difference is zero.\n",
    "\n",
    "2. Our actual differnces (Drug B - Drug A) are:"
   ]
  },
  {
   "cell_type": "code",
   "execution_count": 6,
   "metadata": {},
   "outputs": [
    {
     "data": {
      "text/plain": [
       "0      1.5\n",
       "1      2.1\n",
       "2      0.3\n",
       "3     -0.2\n",
       "4      2.6\n",
       "5     -0.1\n",
       "6      1.8\n",
       "7     -0.6\n",
       "8      1.5\n",
       "9      2.0\n",
       "10     2.3\n",
       "11    12.4\n",
       "dtype: float64"
      ]
     },
     "execution_count": 6,
     "metadata": {},
     "output_type": "execute_result"
    }
   ],
   "source": [
    "data['Drug B'] - data['Drug A']"
   ]
  },
  {
   "cell_type": "markdown",
   "metadata": {},
   "source": [
    "3. Ranking the difference and affixing a sign to each rank (steps $3$ and $4$ above):"
   ]
  },
  {
   "cell_type": "markdown",
   "metadata": {},
   "source": []
  },
  {
   "cell_type": "markdown",
   "metadata": {},
   "source": [
    "Calculating $W^{+}$ and $W^{-}$ gives:\n",
    "\n",
    "$W^{-} = 1+2+4 = 7$,\n",
    "\n",
    "$W^{+} = 3 + 5.5 + 5.5 + 7 + 8 + 9 + 10 +11 +12 = 71$.\n",
    "\n",
    "Therefore, we have $n = \\frac{12 \\times 13}{2} = 78W = \\max(W^{-}, W^{+}) = 71$.\n",
    "\n",
    "We can use a normal approximation in this case. We have one group of $2$ tied ranks, so we must reduce the variance by $(8-2)/48 = 0.125$. We get:\n",
    "\n",
    "$$ z = \\frac{71 - \\frac{12 \\times 13}{4} }{ \\sqrt{ \\frac{12 \\times 13 \\times 25}{24} - 0.125} } = 2.511 $$\n",
    "\n",
    "This gives a two-sided $p$-value of $p=0.012$. There is strong evidence that Drug B provides more relief than Drug A."
   ]
  },
  {
   "cell_type": "code",
   "execution_count": 14,
   "metadata": {},
   "outputs": [
    {
     "name": "stdout",
     "output_type": "stream",
     "text": [
      "24.0 0.041259765625\n",
      "96.0 0.0206298828125\n",
      "24.0 0.04088813291185591\n"
     ]
    }
   ],
   "source": [
    "# Examples in python\n",
    "\n",
    "# The differences in height between cross- and self-fertilized corn plants is given as follows:\n",
    "d = [6, 8, 14, 16, 23, 24, 28, 29, 41, -48, 49, 56, 60, -67, 75]\n",
    "\n",
    "#Cross-fertilized plants appear to be be higher. To test the null hypothesis that there is no height difference, we can apply the two-sided test:\n",
    "\n",
    "from scipy.stats import wilcoxon\n",
    "w, p = wilcoxon(d)\n",
    "print(w, p)\n",
    "\n",
    "# Hence, we would reject the null hypothesis at a confidence level of 5%, concluding that there is a difference in height between the groups. To confirm that the median of the differences can be assumed to be positive, we use:\n",
    "\n",
    "w, p = wilcoxon(d, alternative='greater')\n",
    "print(w, p)\n",
    "\n",
    "# This shows that the null hypothesis that the median is negative can be rejected at a confidence level of 5% in favor of the alternative that the median is greater than zero. The p-values above are exact. Using the normal approximation gives very similar values:\n",
    "\n",
    "w, p = wilcoxon(d, mode='approx')\n",
    "\n",
    "print(w, p)\n",
    "\n",
    "# Note that the statistic changed to 96 in the one-sided case (the sum of ranks of positive differences) whereas it is 24 in the two-sided case (the minimum of sum of ranks above and below zero).\n"
   ]
  },
  {
   "cell_type": "code",
   "execution_count": null,
   "metadata": {},
   "outputs": [],
   "source": []
  }
 ],
 "metadata": {
  "kernelspec": {
   "display_name": "Python 3",
   "language": "python",
   "name": "python3"
  },
  "language_info": {
   "codemirror_mode": {
    "name": "ipython",
    "version": 3
   },
   "file_extension": ".py",
   "mimetype": "text/x-python",
   "name": "python",
   "nbconvert_exporter": "python",
   "pygments_lexer": "ipython3",
   "version": "3.8.3"
  }
 },
 "nbformat": 4,
 "nbformat_minor": 4
}
