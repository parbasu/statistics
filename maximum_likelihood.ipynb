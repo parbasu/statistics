{
 "cells": [
  {
   "cell_type": "markdown",
   "metadata": {},
   "source": [
    "### References\n",
    "\n",
    "- Larsen, R. J., & Marx, M. L. (2001). An introduction to mathematical statistics and its applications. Upper Saddle River, NJ: Prentice Hall. (6th ed.)\n",
    "\n",
    "- http://www.randomservices.org/random/point/Likelihood.html"
   ]
  },
  {
   "cell_type": "markdown",
   "metadata": {},
   "source": [
    "## Basic Idea\n",
    "\n",
    "Imagine being handed a coin whose probability, $p$, of coming up heads is unknown. Your assignment is to toss the coin three times and use the resulting sequence of H’s and T’s to suggest a value for $p$. Suppose the sequence of three tosses turns out to\n",
    "be HHT. Based on those outcomes, what can be reasonably inferred about $p$?\n",
    "\n",
    "The common sense (and correct) answer is to “guess” that $p = 2/3$. But what general principle does “$2/3$” represent that could be brought to bear in situations where the appropriate guess is not obvious? Here, start by defining the random variable $X$ to be the number of heads on a given toss. Then\n",
    "\n",
    "$$X = \\begin{cases} 1 \\text{ if a toss comes up heads} \\\\ 0 \\text{ if a toss comes up tails}\\end{cases}$$\n",
    "\n",
    "and the theoretical probability model for $X$ is the function\n",
    "\n",
    "$$p_X (k) = p^k (1-p)^{1-k} = \\begin{cases} p \\ \\ \\ \\ \\ \\ \\ \\text{ for } k =1 \\\\ 1-p \\ \\text{ for } k = 0.\\end{cases}$$\n",
    "\n",
    "Expressed in terms of $X$, the sequence HHT corresponds to a sample of size $n=3$, where $X_1 = 1, X_2 = 1,$ and $X_3 = 0$.\n",
    "\n",
    "Since the $X_i$'s are independent random variables, the probability associated with the sample is $p^2 (1-p)$:\n",
    "\n",
    "$$P(X_1 = 1 \\cap X_2 = 1 \\cap X_3 = 0  ) = p^2 (1-p).$$\n",
    "\n",
    "Knowing that our objective is to identify a plausible value (that is, an estimate) for $p$, it could be argued that a reasonable choice for that parameter would be the value that maximizes the probability of the sample. The below figure shows that the value that maximizes the probability of HHT is $p=2/3$."
   ]
  },
  {
   "cell_type": "code",
   "execution_count": 1,
   "metadata": {},
   "outputs": [],
   "source": [
    "import matplotlib.pyplot as plt\n",
    "import numpy as np"
   ]
  },
  {
   "cell_type": "code",
   "execution_count": 4,
   "metadata": {},
   "outputs": [
    {
     "data": {
      "image/png": "[encoded data removed]",
      "text/plain": [
       "<Figure size 432x288 with 1 Axes>"
      ]
     },
     "metadata": {
      "needs_background": "light"
     },
     "output_type": "display_data"
    }
   ],
   "source": [
    "x = np.linspace(0,1,100)\n",
    "y = (x**2) * (1-x)\n",
    "\n",
    "plt.plot(x,y)\n",
    "pass"
   ]
  },
  {
   "cell_type": "markdown",
   "metadata": {},
   "source": [
    "More generally,  suppose we toss the coin $n$ times and record a set of outcomes $X_1 = k_1, X_2 = k_2, \\dots,$ and $X_n= k_n$. Then\n",
    "\n",
    "$$P(X_1 = k_1, \\dots, X_n = k_n) = p^{\\sum_{i=1}^{n} k_i} (1- p)^{n- \\sum_{i=1}^{n} k_i}.$$\n",
    "\n",
    "The value of $p$ that maximizes $P(X_1 = k_1, \\dots, X_n = k_n)$ is, of course, the value for which the derivative of $p^{\\sum_{i=1}^{n} k_i} (1- p)^{n- \\sum_{i=1}^{n} k_i}$ with respect to $p$ is $0$. But this gives \n",
    "\n",
    "$$p = \\frac{1}{n} \\sum_{i=1}^{n} k_i.$$\n",
    "\n",
    "We call $\\frac{1}{n} \\sum_{i=1}^{n} X_i$ the **maximum likelihood estimator** (for $p$) and its value for the observed sample the **maximum likelihood estimate** (for p)."
   ]
  },
  {
   "cell_type": "markdown",
   "metadata": {},
   "source": [
    "## General Theory"
   ]
  },
  {
   "cell_type": "markdown",
   "metadata": {},
   "source": [
    "Suppose again that we have an observable random variable $X$ for an experiment, that takes values in a set $S$. Suppose also that the distribution of $X$ depends on a unknown parameter $\\theta$, taking values in a parameter space $\\Theta$. All these may be vector-valued. We denote the probability density function of $X$ on $S$ by $f_{\\theta}$ for $\\theta \\in \\Theta$. The distribution of $X$ could be discrete or continuous."
   ]
  },
  {
   "cell_type": "markdown",
   "metadata": {},
   "source": [
    "**Definition** The **likelihood function** at $x \\in S$ is the function $L_x : \\Theta \\rightarrow [0,  \\infty)$ given by\n",
    "\n",
    "$$L_x (\\theta) = f_{\\theta} (x), \\ \\theta \\in \\Theta.$$\n",
    "\n",
    "In the method of **maximum likelihood**, we try to find the value of the parameter that maximizes the likelihood function for each value of the data vector."
   ]
  },
  {
   "cell_type": "markdown",
   "metadata": {},
   "source": [
    "**Definition** Suppose that the maximum value of $L_x$ occurs at $u(x) \\in \\Theta$ for each $x \\in S$. Then the statistic $u(X)$ is a **maximum likelihood estimator** of $\\theta$."
   ]
  },
  {
   "cell_type": "markdown",
   "metadata": {},
   "source": [
    "Since the natural logarithm function is strictly increasing on $(0, \\infty)$, the maximum value of the likelihood function, if it exists, will occur at the same points as maximum value of the logarithm of the likelihood function.\n",
    "\n",
    "**Definition** The **log-likelihood function** at $x \\in S$ is the function $\\ln L_x$:\n",
    "\n",
    "$$\\ln L_x (\\theta) = \\ln f_{\\theta} (x) ,  \\ \\theta \\in \\Theta.$$\n",
    "\n",
    "If the maximum value of $\\ln L_x$ occurs at $u(x) \\in \\Theta$ for each $x \\in S$. The the statistic $u(X)$ is a maximum likelihood estimator of $\\theta$."
   ]
  },
  {
   "cell_type": "markdown",
   "metadata": {},
   "source": [
    "## Random Samples"
   ]
  },
  {
   "cell_type": "markdown",
   "metadata": {},
   "source": [
    "The most important special case is when the data variables form a random sample from a distribution.\n",
    "\n",
    "**Definition** Suppose that $X = (X_1, \\dots, X_n)$ is random sample of size $n$ from the distribution of a random variable $X$ taking values in $R$, with probability density function $g_{\\theta}$ for $\\theta \\in \\Theta$. Then $X$ takes values in $S = R^n$, and the likelihood and log-likelihood functions for $x = (x_1, \\dots,x_n) \\in S$ are \n",
    "\n",
    "\n",
    "$$L_x (\\theta) = \\prod_{i=1}^{n} g_{\\theta} (x_i), \\ \\theta \\in \\Theta$$\n",
    "\n",
    "$$\\ln L_x (\\theta) = \\sum_{i=1}^{n} \\ln g_{\\theta} (x_i), \\  \\theta \\in \\Theta.$$"
   ]
  },
  {
   "cell_type": "markdown",
   "metadata": {},
   "source": []
  }
 ],
 "metadata": {
  "kernelspec": {
   "display_name": "Python 3",
   "language": "python",
   "name": "python3"
  },
  "language_info": {
   "codemirror_mode": {
    "name": "ipython",
    "version": 3
   },
   "file_extension": ".py",
   "mimetype": "text/x-python",
   "name": "python",
   "nbconvert_exporter": "python",
   "pygments_lexer": "ipython3",
   "version": "3.8.3"
  }
 },
 "nbformat": 4,
 "nbformat_minor": 4
}
